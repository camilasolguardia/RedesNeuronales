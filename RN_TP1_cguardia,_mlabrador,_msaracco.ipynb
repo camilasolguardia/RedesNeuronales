{
  "nbformat": 4,
  "nbformat_minor": 0,
  "metadata": {
    "colab": {
      "name": "RN TP1 - cguardia, mlabrador, msaracco.ipynb",
      "provenance": [],
      "collapsed_sections": []
    },
    "kernelspec": {
      "name": "python3",
      "display_name": "Python 3"
    },
    "language_info": {
      "name": "python"
    }
  },
  "cells": [
    {
      "cell_type": "markdown",
      "metadata": {
        "id": "DjGxHWyWoAtK"
      },
      "source": [
        "# **COMPETENCIA**\n",
        "Uno de los datasets más famosos de Natural Language Inference es SNLI. En esta tarea se debe responder, dadas dos frases A y B, si B es implicación de A (\"entailment\"), B es contradictorio con A (\"contradiction\") o si lo que enuncia B es neutral respecto de A (\"neutral\"). Se dice que A es la premisa y B es la hipótesis.\n",
        "\n",
        "En Gururangan et al., 2018 mostraron que este dataset tiene algunos sesgos, provocados por ejemplo por las heurísticas que tienen los humanos para generar estos pares de frases (A, B). Para ello, desarrollaron un modelo que aún sin observar la premisa A pudiera clasificar el par (A, B) en alguna de las tres clases del dataset.\n",
        "\n",
        "En este trabajo práctico intentaremos predecir a qué clase pertenece cada una de las hipótesis sin observar la premisa. La idea es replicar los resultados publicados en Gururangan et al., 2018 y mejorarlos si es posible utilizando clasificadores más complejos."
      ]
    },
    {
      "cell_type": "markdown",
      "metadata": {
        "id": "mGlvcGAFoQjx"
      },
      "source": [
        "## IMPORTO TODO"
      ]
    },
    {
      "cell_type": "code",
      "metadata": {
        "colab": {
          "base_uri": "https://localhost:8080/"
        },
        "id": "UI91oM7Zm3rk",
        "outputId": "820814ec-78a6-4dee-d451-bf806a0c6ffe"
      },
      "source": [
        "import numpy as np # linear algebra\n",
        "import pandas as pd # data processing, CSV file I/O (e.g. pd.read_csv)\n",
        "from sklearn.feature_extraction.text import CountVectorizer, TfidfVectorizer\n",
        "from sklearn.naive_bayes import MultinomialNB\n",
        "import nltk\n",
        "nltk.download('punkt')\n",
        "nltk.download('wordnet')\n",
        "nltk.download('stopwords')\n",
        "nltk.download('averaged_perceptron_tagger')\n",
        "from nltk.tokenize import word_tokenize\n",
        "from nltk.stem import PorterStemmer, WordNetLemmatizer\n",
        "from nltk.corpus import stopwords\n",
        "from string import punctuation"
      ],
      "execution_count": null,
      "outputs": [
        {
          "output_type": "stream",
          "name": "stdout",
          "text": [
            "[nltk_data] Downloading package punkt to /root/nltk_data...\n",
            "[nltk_data]   Unzipping tokenizers/punkt.zip.\n",
            "[nltk_data] Downloading package wordnet to /root/nltk_data...\n",
            "[nltk_data]   Unzipping corpora/wordnet.zip.\n",
            "[nltk_data] Downloading package stopwords to /root/nltk_data...\n",
            "[nltk_data]   Unzipping corpora/stopwords.zip.\n",
            "[nltk_data] Downloading package averaged_perceptron_tagger to\n",
            "[nltk_data]     /root/nltk_data...\n",
            "[nltk_data]   Unzipping taggers/averaged_perceptron_tagger.zip.\n"
          ]
        }
      ]
    },
    {
      "cell_type": "code",
      "metadata": {
        "colab": {
          "resources": {
            "http://localhost:8080/nbextensions/google.colab/files.js": {
              "data": "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",
              "ok": true,
              "headers": [
                [
                  "content-type",
                  "application/javascript"
                ]
              ],
              "status": 200,
              "status_text": ""
            }
          },
          "base_uri": "https://localhost:8080/",
          "height": 92
        },
        "id": "7C1HRKGHlbwF",
        "outputId": "5bb7c36e-a568-49a4-e227-3a30666b23ae"
      },
      "source": [
        "!pip install -U -q kaggle\n",
        "!mkdir -p ~/.kaggle\n",
        "from google.colab import files\n",
        "files.upload()"
      ],
      "execution_count": null,
      "outputs": [
        {
          "output_type": "display_data",
          "data": {
            "text/html": [
              "\n",
              "     <input type=\"file\" id=\"files-ac1f1abb-4320-41c9-a170-353fbb825347\" name=\"files[]\" multiple disabled\n",
              "        style=\"border:none\" />\n",
              "     <output id=\"result-ac1f1abb-4320-41c9-a170-353fbb825347\">\n",
              "      Upload widget is only available when the cell has been executed in the\n",
              "      current browser session. Please rerun this cell to enable.\n",
              "      </output>\n",
              "      <script src=\"/nbextensions/google.colab/files.js\"></script> "
            ],
            "text/plain": [
              "<IPython.core.display.HTML object>"
            ]
          },
          "metadata": {}
        },
        {
          "output_type": "stream",
          "name": "stdout",
          "text": [
            "Saving kaggle.json to kaggle.json\n"
          ]
        },
        {
          "output_type": "execute_result",
          "data": {
            "text/plain": [
              "{'kaggle.json': b'{\"username\":\"camilasolguardia\",\"key\":\"08502a67f702520e8a9c44c2da543bd7\"}'}"
            ]
          },
          "metadata": {},
          "execution_count": 2
        }
      ]
    },
    {
      "cell_type": "code",
      "metadata": {
        "id": "QSV_vIXpmWxj"
      },
      "source": [
        "!cp kaggle.json ~/.kaggle/"
      ],
      "execution_count": null,
      "outputs": []
    },
    {
      "cell_type": "code",
      "metadata": {
        "colab": {
          "base_uri": "https://localhost:8080/"
        },
        "id": "zpEz9kNUmfE5",
        "outputId": "e49eef6d-e5ff-477c-b61c-951dbe861ff5"
      },
      "source": [
        "!kaggle competitions download -c sesgos-en-el-dataset-de-snli"
      ],
      "execution_count": null,
      "outputs": [
        {
          "output_type": "stream",
          "name": "stdout",
          "text": [
            "Warning: Your Kaggle API key is readable by other users on this system! To fix this, you can run 'chmod 600 /root/.kaggle/kaggle.json'\n",
            "Warning: Looks like you're using an outdated API Version, please consider updating (server 1.5.12 / client 1.5.4)\n",
            "Downloading test_data.hdf5.zip to /content\n",
            "  0% 0.00/200k [00:00<?, ?B/s]\n",
            "100% 200k/200k [00:00<00:00, 75.1MB/s]\n",
            "Downloading train_data.hdf5.zip to /content\n",
            " 35% 9.00M/25.6M [00:00<00:00, 34.7MB/s]\n",
            "100% 25.6M/25.6M [00:00<00:00, 73.5MB/s]\n",
            "Downloading valid_data.hdf5.zip to /content\n",
            "  0% 0.00/440k [00:00<?, ?B/s]\n",
            "100% 440k/440k [00:00<00:00, 137MB/s]\n",
            "Downloading submission_sample.csv to /content\n",
            "  0% 0.00/152k [00:00<?, ?B/s]\n",
            "100% 152k/152k [00:00<00:00, 160MB/s]\n"
          ]
        }
      ]
    },
    {
      "cell_type": "code",
      "metadata": {
        "colab": {
          "base_uri": "https://localhost:8080/"
        },
        "id": "i5j13tcqmi9a",
        "outputId": "2a22c734-9b4b-49b7-c8cc-122bec6db1d1"
      },
      "source": [
        "!unzip test_data.hdf5.zip\n",
        "!unzip train_data.hdf5.zip\n",
        "!unzip valid_data.hdf5.zip"
      ],
      "execution_count": null,
      "outputs": [
        {
          "output_type": "stream",
          "name": "stdout",
          "text": [
            "Archive:  test_data.hdf5.zip\n",
            "  inflating: test_data.hdf5          \n",
            "Archive:  train_data.hdf5.zip\n",
            "  inflating: train_data.hdf5         \n",
            "Archive:  valid_data.hdf5.zip\n",
            "  inflating: valid_data.hdf5         \n"
          ]
        }
      ]
    },
    {
      "cell_type": "code",
      "metadata": {
        "id": "OQ-_-Hrxmnio"
      },
      "source": [
        "df_train = pd.read_hdf(\"train_data.hdf5\")\n",
        "df_valid = pd.read_hdf(\"valid_data.hdf5\")\n",
        "df_test = pd.read_hdf(\"test_data.hdf5\")"
      ],
      "execution_count": null,
      "outputs": []
    },
    {
      "cell_type": "code",
      "metadata": {
        "id": "ADF9ydEQnJjm"
      },
      "source": [
        "text_train = df_train[\"text\"].tolist()\n",
        "labels_train = df_train[\"gold_label\"].tolist()\n",
        "\n",
        "text_valid = df_valid[\"text\"].tolist()\n",
        "labels_valid = df_valid[\"gold_label\"].tolist()\n",
        "\n",
        "text_test = df_test[\"text\"].tolist()"
      ],
      "execution_count": null,
      "outputs": []
    },
    {
      "cell_type": "markdown",
      "metadata": {
        "id": "NGKGkKzXoU1p"
      },
      "source": [
        "## PRE PROCESAMIENTO DE DATOS"
      ]
    },
    {
      "cell_type": "code",
      "metadata": {
        "id": "3dKC0ejMJ_4n"
      },
      "source": [
        "def pre_procesamiento(text, lemmatize = 'true', stopWords = 'true', stemming = 'true', filtrado = 'true'):\n",
        "  \n",
        "  procesamiento = []\n",
        "\n",
        "  for i in range(len(text)):\n",
        "\n",
        "    em = text[i]\n",
        "  \n",
        "    tok = word_tokenize(em)\n",
        "\n",
        "    if (lemmatize):\n",
        "      lemmatizer = WordNetLemmatizer()\n",
        "      lem = [lemmatizer.lemmatize(x,pos='v') for x in tok] \n",
        "    else:\n",
        "      lem = tok\n",
        "\n",
        "    if (stopwords):\n",
        "      stop = [x for x in lem if x not in stopwords.words('english')]\n",
        "    else:\n",
        "      stop = lem \n",
        "\n",
        "    if (stemming):\n",
        "      stemmer = PorterStemmer()\n",
        "      stem =[stemmer.stem(x) for x in stop]\n",
        "    else:\n",
        "      stem = stop\n",
        "\n",
        "    if (filtrado):\n",
        "      alpha=[x for x in stem if x.isalpha()]\n",
        "    else:\n",
        "      alpha = stop\n",
        "    \n",
        "    procesamiento.append(\" \".join(alpha))\n",
        "\n",
        "  return procesamiento\n",
        "\n"
      ],
      "execution_count": null,
      "outputs": []
    },
    {
      "cell_type": "code",
      "metadata": {
        "id": "anO6EH6zqrkp"
      },
      "source": [
        "f = 'false'\n",
        "t = 'true'"
      ],
      "execution_count": null,
      "outputs": []
    },
    {
      "cell_type": "markdown",
      "metadata": {
        "id": "fvr-enOM7x5T"
      },
      "source": [
        "Ahora probamos distintos preprocesados"
      ]
    },
    {
      "cell_type": "code",
      "metadata": {
        "colab": {
          "base_uri": "https://localhost:8080/"
        },
        "id": "MP3lR8MuN4xg",
        "outputId": "4fb69c90-27bc-4dfa-97db-15d5c4a8c669"
      },
      "source": [
        "pre_procesado = pre_procesamiento(text_train,t,f,t,f)\n",
        "print(pre_procesado[0:50])"
      ],
      "execution_count": null,
      "outputs": [
        {
          "output_type": "stream",
          "name": "stdout",
          "text": [
            "['insid hous', 'two guy yard', 'they yardwork', 'A man swim', 'two young white men near bush', 'two men outsid', 'A young boy scooter past old woman', 'two young men outsid', 'two young white men talk work bush', 'men stand empti field', 'men outdoor', 'men wait ride pick', 'two femal near bush', 'two white young male near bush', 'two young male cut bush', 'two men hang bu stop', 'two men outsid', 'two men stand bush tri find cat', 'man home alon day', 'two men outsid', 'men talk plan week', 'the man pick appl', 'the man outdoor', 'the man garden', 'the peopl stranger', 'the friend togeth', 'they watch tv', 'sever women oper giant pulley system', 'men wear hard hat', 'these men construct worker', 'stock broker examin market', 'sever men wear protect gear', 'sever men work construct', 'the construct worker enjoy lunch sit truck', 'the construct worker work heavi equip', 'the men hard hat readi demolish condemn build', 'the detect oper tool crime scene', 'worker use simpl machin', 'the teamster work build highway', 'the men sit around tabl', 'men work hard hat', 'the men construct worker', 'worker look piec equip', 'worker look piec equip', 'worker look jackhamm', 'three men sit hat', 'two men work', 'two men wear orang hard hat work', 'ladi drink tea', 'guy build']\n"
          ]
        }
      ]
    },
    {
      "cell_type": "code",
      "metadata": {
        "id": "6y1RJKkjQvPX"
      },
      "source": [
        "pre_procesado_2 = pre_procesamiento(text_train,t,t,f,f)"
      ],
      "execution_count": null,
      "outputs": []
    },
    {
      "cell_type": "code",
      "metadata": {
        "id": "M2D8z6svUp86"
      },
      "source": [
        "pre_procesado_3 = pre_procesamiento(text_train,f,f,f,f)"
      ],
      "execution_count": null,
      "outputs": []
    },
    {
      "cell_type": "code",
      "metadata": {
        "id": "SYSdhcdYVWB-"
      },
      "source": [
        "pre_procesado_4 = pre_procesamiento(text_train,t,t,t,t)"
      ],
      "execution_count": null,
      "outputs": []
    },
    {
      "cell_type": "markdown",
      "metadata": {
        "id": "rJ3_W8E_diL6"
      },
      "source": [
        "Luego de probar con distintos preprocesados, llegamos a la conclusión que el que da mejores resultados es el \"pre_procesado\", que tiene tokenización, lematización y stemming. Al estar fijándonos en frases y no exclusivamente en palabras en particular, no es necesario realizar todos los filtros posibles a cada frase ya que se pierde información valiosa. "
      ]
    },
    {
      "cell_type": "markdown",
      "metadata": {
        "id": "EBCxvV7lYFUg"
      },
      "source": [
        "Para no volver a correr los mismos códigos (tardan mucho) cargamos a drive las listas con los pre procesamientos ya que son datos fijos y luego los importamos. "
      ]
    },
    {
      "cell_type": "code",
      "metadata": {
        "colab": {
          "base_uri": "https://localhost:8080/"
        },
        "id": "pWwpuXWKBgMq",
        "outputId": "bc2f6bfe-55b6-4eef-ba8f-6560267c4602"
      },
      "source": [
        "# Load the Drive helper and mount\n",
        "from google.colab import drive\n",
        "\n",
        "# This will prompt for authorization.\n",
        "drive.mount('/content/drive')\n",
        "\n",
        "%cd drive\n",
        "%cd Shareddrives\n",
        "%cd Redes neuronales"
      ],
      "execution_count": null,
      "outputs": [
        {
          "output_type": "stream",
          "name": "stdout",
          "text": [
            "Mounted at /content/drive\n",
            "/content/drive\n",
            "/content/drive/Shareddrives\n",
            "/content/drive/Shareddrives/Redes neuronales\n"
          ]
        }
      ]
    },
    {
      "cell_type": "markdown",
      "metadata": {
        "id": "5QzZ00Nc8HgV"
      },
      "source": [
        "***DESCOMENTAR***"
      ]
    },
    {
      "cell_type": "code",
      "metadata": {
        "id": "jqj6LhX8YEHC"
      },
      "source": [
        "\n",
        "with open('pre_procesado.txt', 'w') as file: # cambiar nombre del archivo\n",
        "  file_lines = \"\\n\".join(pre_procesado)\n",
        "  file.write(file_lines)\n",
        "\n",
        "# with open('pre_procesado_2.txt', 'w') as file: # cambiar nombre del archivo\n",
        "#   file_lines_2 = \"\\n\".join(pre_procesado_2)\n",
        "#   file.write(file_lines_2)\n",
        "\n",
        "# with open('pre_procesado_3.txt', 'w') as file: # cambiar nombre del archivo\n",
        "#   file_lines_3 = \"\\n\".join(pre_procesado_3)\n",
        "#   file.write(file_lines_3)\n",
        "\n",
        "# with open('pre_procesado_4.txt', 'w') as file: # cambiar nombre del archivo\n",
        "#   file_lines_4 = \"\\n\".join(pre_procesado_4)\n",
        "#   file.write(file_lines_4)  "
      ],
      "execution_count": null,
      "outputs": []
    },
    {
      "cell_type": "markdown",
      "metadata": {
        "id": "rNHLFj3-BV35"
      },
      "source": [
        "Importamos entonces los datos desde drive"
      ]
    },
    {
      "cell_type": "code",
      "metadata": {
        "id": "v6VA_DI-BU9C"
      },
      "source": [
        "file = open(\"pre_procesado.txt\", \"r\")\n",
        "file_lines = file.read()\n",
        "pre_procesado = file_lines.split(\"\\n\")\n",
        "\n",
        "# file = open(\"pre_procesado_2.txt\", \"r\")\n",
        "# file_lines = file.read()\n",
        "# pre_procesado_2 = file_lines.split(\"\\n\")\n",
        "\n",
        "# file = open(\"pre_procesado_3.txt\", \"r\")\n",
        "# file_lines = file.read()\n",
        "# pre_procesado_3 = file_lines.split(\"\\n\")\n",
        "\n",
        "# file = open(\"pre_procesado_4.txt\", \"r\")\n",
        "# file_lines = file.read()\n",
        "# pre_procesado_4 = file_lines.split(\"\\n\")\n",
        "\n"
      ],
      "execution_count": null,
      "outputs": []
    },
    {
      "cell_type": "markdown",
      "metadata": {
        "id": "E6ml4wqoI_R1"
      },
      "source": [
        "## COUNT VECTORIZERS Y VALIDACIÓN DE DATOS"
      ]
    },
    {
      "cell_type": "markdown",
      "metadata": {
        "id": "9Kt6VStbI7rO"
      },
      "source": [
        "Preprocesamos el texto de validación"
      ]
    },
    {
      "cell_type": "code",
      "metadata": {
        "id": "TH3pqyOgCk-r"
      },
      "source": [
        "pre_procesado_valid = pre_procesamiento(text_valid,t,f,t,f)"
      ],
      "execution_count": null,
      "outputs": []
    },
    {
      "cell_type": "markdown",
      "metadata": {
        "id": "NyxkxeNLJOTz"
      },
      "source": [
        "Exportamos e importamos todos los datos hacia y desde drive "
      ]
    },
    {
      "cell_type": "code",
      "metadata": {
        "id": "rseyLoGVI7H_"
      },
      "source": [
        "with open('pre_procesado_valid.txt', 'w') as file: # cambiar nombre del archivo\n",
        "  file_lines_valid = \"\\n\".join(pre_procesado_valid)\n",
        "  file.write(file_lines_valid)"
      ],
      "execution_count": null,
      "outputs": []
    },
    {
      "cell_type": "code",
      "metadata": {
        "id": "Ell-ISODKSt6"
      },
      "source": [
        "file = open(\"pre_procesado_valid.txt\", \"r\")\n",
        "file_lines_valid = file.read()\n",
        "pre_procesado_valid = file_lines_valid.split(\"\\n\")"
      ],
      "execution_count": null,
      "outputs": []
    },
    {
      "cell_type": "markdown",
      "metadata": {
        "id": "m3hdkeTnF2_H"
      },
      "source": [
        "### MODELO NAIVE BAYES"
      ]
    },
    {
      "cell_type": "markdown",
      "metadata": {
        "id": "6JJdQ_2h9Olp"
      },
      "source": [
        "#### VARIANDO ALPHA"
      ]
    },
    {
      "cell_type": "code",
      "metadata": {
        "id": "94XxvffxQdjA"
      },
      "source": [
        "alphas = []\n",
        "score_trains = []\n",
        "score_valids = []\n",
        "\n",
        "for a in range(1,200):\n",
        "  alpha = a/100\n",
        "\n",
        "  clf_prueba = MultinomialNB(alpha)\n",
        "  clf_prueba.fit(cv4_train, labels_train)\n",
        "  score_train = clf_prueba.score(cv4_train, labels_train)\n",
        "\n",
        "  cv_valid_prueba = cv4.transform(pre_procesado_valid)\n",
        "  score_valid = clf4.score(cv_valid, labels_valid)\n",
        "\n",
        "  alphas.append(alpha)\n",
        "  score_trains.append(score_train)\n",
        "  score_valids.append(score_valid)\n"
      ],
      "execution_count": null,
      "outputs": []
    },
    {
      "cell_type": "markdown",
      "metadata": {
        "id": "N55FXtlM4jJi"
      },
      "source": [
        "Se probó realizando un barrido de distintos valores posibles de alpha,  y se eligió aquel que dio el máximo score, el cual es 1e-10. A continuación probabremos variando df_min y df_max "
      ]
    },
    {
      "cell_type": "markdown",
      "metadata": {
        "id": "Tt8ugJI79R3S"
      },
      "source": [
        "#### VARIANDO DFMIN Y DFMAX"
      ]
    },
    {
      "cell_type": "code",
      "metadata": {
        "id": "JvugE0GVt6vD"
      },
      "source": [
        "df_mins = []\n",
        "score_trains_b = []\n",
        "score_valids_b = []\n",
        "\n",
        "for df_min in range(2,20):\n",
        "\n",
        "  df_mins.append(df_min)\n",
        "\n",
        "  cv_prueba2 = CountVectorizer(max_df = 1.0, min_df=df_min, ngram_range = (1,4)) \n",
        "  cv_train_prueba2 = cv_prueba2.fit_transform(pre_procesado)\n",
        "\n",
        "  clf_prueba2 = MultinomialNB(alpha=1e-10)\n",
        "  clf_prueba2.fit(cv_train_prueba2, labels_train)\n",
        "\n",
        "  print(\"Para df_min = \",df_min)\n",
        "  \n",
        "  score1 = clf_prueba2.score(cv_train_prueba2, labels_train)\n",
        "  score_trains_b.append(score1)\n",
        "  print(score1)\n",
        "\n",
        "  cv_valid_prueba2 = cv_prueba2.transform(pre_procesado_valid)\n",
        "\n",
        "  score2 = clf_prueba2.score(cv_valid_prueba2, labels_valid)\n",
        "  score_valids_b.append(score2)\n",
        "  print(score2,\"\\n\")"
      ],
      "execution_count": null,
      "outputs": []
    },
    {
      "cell_type": "code",
      "metadata": {
        "colab": {
          "base_uri": "https://localhost:8080/"
        },
        "id": "d3YnC0K47gm2",
        "outputId": "1d1a62e8-4c66-47fe-d2c0-d6200f8fa205"
      },
      "source": [
        "max = np.max(score_valids_b)\n",
        "idx = score_valids_b.index(max)\n",
        "df_min = df_mins[idx]\n",
        "print(df_min)"
      ],
      "execution_count": null,
      "outputs": [
        {
          "output_type": "stream",
          "name": "stdout",
          "text": [
            "4\n"
          ]
        }
      ]
    },
    {
      "cell_type": "markdown",
      "metadata": {
        "id": "6MlKAQnE4xeI"
      },
      "source": [
        "Se llega entonces a que con df_min = 4 se tiene el máximo score"
      ]
    },
    {
      "cell_type": "markdown",
      "metadata": {
        "id": "HbREtFSF-Q8R"
      },
      "source": [
        "Ahora probamos para distintos df_max"
      ]
    },
    {
      "cell_type": "code",
      "metadata": {
        "id": "3qt9bSik-Wfw"
      },
      "source": [
        "df_maxs = []\n",
        "score_trains_c = []\n",
        "score_valids_c = []\n",
        "\n",
        "for i in range(1,10):\n",
        "\n",
        "  df_max = i/10\n",
        "\n",
        "  df_maxs.append(df_max)\n",
        "\n",
        "  cv_prueba2 = CountVectorizer(max_df = df_max, min_df=4, ngram_range = (1,4)) \n",
        "  cv_train_prueba2 = cv_prueba2.fit_transform(pre_procesado)\n",
        "\n",
        "  clf_prueba2 = MultinomialNB(alpha=1e-10)\n",
        "  clf_prueba2.fit(cv_train_prueba2, labels_train)\n",
        "\n",
        "  print(\"Para df_max = \",df_min)\n",
        "  \n",
        "  score1 = clf_prueba2.score(cv_train_prueba2, labels_train)\n",
        "  score_trains_c.append(score1)\n",
        "  print(score1)\n",
        "\n",
        "  cv_valid_prueba2 = cv_prueba2.transform(pre_procesado_valid)\n",
        "\n",
        "  score2 = clf_prueba2.score(cv_valid_prueba2, labels_valid)\n",
        "  score_valids_c.append(score2)\n",
        "  print(score2,\"\\n\")"
      ],
      "execution_count": null,
      "outputs": []
    },
    {
      "cell_type": "code",
      "metadata": {
        "colab": {
          "base_uri": "https://localhost:8080/"
        },
        "id": "ZHxkQ3s2_p3j",
        "outputId": "792c3b27-1eea-42c7-aa06-a45d846ee6d0"
      },
      "source": [
        "max = np.max(score_valids_c)\n",
        "idx = score_valids_c.index(max)\n",
        "df_max = df_maxs[idx]\n",
        "print(df_max)"
      ],
      "execution_count": null,
      "outputs": [
        {
          "output_type": "stream",
          "name": "stdout",
          "text": [
            "0.3\n"
          ]
        }
      ]
    },
    {
      "cell_type": "markdown",
      "metadata": {
        "id": "F-Qg6ao6_dwE"
      },
      "source": [
        "Tomamos df_max = 0.3"
      ]
    },
    {
      "cell_type": "markdown",
      "metadata": {
        "id": "nNNNIgnJA5aU"
      },
      "source": [
        "#### VARIANDO N_GRAMS"
      ]
    },
    {
      "cell_type": "markdown",
      "metadata": {
        "id": "isuMRUvA4zRq"
      },
      "source": [
        "Ahora probamos para distintos n_grams"
      ]
    },
    {
      "cell_type": "code",
      "metadata": {
        "id": "PDoqfvYS_49J"
      },
      "source": [
        "grams = []\n",
        "score_trains_d = []\n",
        "score_valids_d = []\n",
        "\n",
        "for i in range(1,7):\n",
        "\n",
        "  grams.append(i)\n",
        "\n",
        "  cv_prueba2 = CountVectorizer(max_df = 0.3, min_df=4, ngram_range = (1,i)) \n",
        "  cv_train_prueba2 = cv_prueba2.fit_transform(pre_procesado)\n",
        "\n",
        "  clf_prueba2 = MultinomialNB(alpha=1e-10)\n",
        "  clf_prueba2.fit(cv_train_prueba2, labels_train)\n",
        "\n",
        "  print(\"Para n_grams = \",\"(\",1,\",\",i,\")\")\n",
        "  \n",
        "  score1 = clf_prueba2.score(cv_train_prueba2, labels_train)\n",
        "  score_trains_d.append(score1)\n",
        "  print(score1)\n",
        "\n",
        "  cv_valid_prueba2 = cv_prueba2.transform(pre_procesado_valid)\n",
        "\n",
        "  score2 = clf_prueba2.score(cv_valid_prueba2, labels_valid)\n",
        "  score_valids_d.append(score2)\n",
        "  print(score2,\"\\n\")"
      ],
      "execution_count": null,
      "outputs": []
    },
    {
      "cell_type": "code",
      "metadata": {
        "colab": {
          "base_uri": "https://localhost:8080/"
        },
        "id": "y3gscaBdAoab",
        "outputId": "41f063fa-4070-4749-c71a-70f0259aeb08"
      },
      "source": [
        "max = np.max(score_valids_d)\n",
        "idx = score_valids_d.index(max)\n",
        "gram = grams[idx]\n",
        "print(\"(\",1,\",\",gram,\")\")"
      ],
      "execution_count": null,
      "outputs": [
        {
          "output_type": "stream",
          "name": "stdout",
          "text": [
            "( 1 , 3 )\n"
          ]
        }
      ]
    },
    {
      "cell_type": "markdown",
      "metadata": {
        "id": "0kwO5HTqBNEt"
      },
      "source": [
        "FINALMENTE, QUEDARÍA"
      ]
    },
    {
      "cell_type": "code",
      "metadata": {
        "colab": {
          "base_uri": "https://localhost:8080/"
        },
        "id": "bkpMxDNHBC5-",
        "outputId": "bee29c3f-d175-4558-e8e8-5ec5c0332cc6"
      },
      "source": [
        "  cv = CountVectorizer(max_df = 0.3, min_df=4, ngram_range = (1,3)) \n",
        "  cv_train = cv.fit_transform(pre_procesado)\n",
        "\n",
        "  clf = MultinomialNB(alpha=1e-10)\n",
        "  clf.fit(cv_train, labels_train)\n",
        "  \n",
        "  score_train = clf.score(cv_train, labels_train)\n",
        "  print(\"Score train: \",score_train)\n",
        "\n",
        "  cv_valid = cv.transform(pre_procesado_valid)\n",
        "\n",
        "  score_valid = clf.score(cv_valid, labels_valid)\n",
        "  print(\"Score valid: \",score_valid)"
      ],
      "execution_count": null,
      "outputs": [
        {
          "output_type": "stream",
          "name": "stdout",
          "text": [
            "Score train:  0.6745818369141212\n",
            "Score valid:  0.6333062385693965\n"
          ]
        }
      ]
    },
    {
      "cell_type": "markdown",
      "metadata": {
        "id": "Z0-88BxbDRMo"
      },
      "source": [
        "Como el TFIDF es una alternativa al CountVectorizer, probamos también con esta estructura de datos y los mismos parámetros"
      ]
    },
    {
      "cell_type": "code",
      "metadata": {
        "id": "QZf9uPr2DmBB"
      },
      "source": [
        "  tfidf = TfidfVectorizer(max_df = 0.3, min_df=4, ngram_range = (1,3)) \n",
        "  tfidf_train = tfidf.fit_transform(pre_procesado)\n",
        "\n",
        "  clf_tfidf = MultinomialNB(alpha=1e-10)\n",
        "  clf_tfidf.fit(tfidf_train, labels_train)\n",
        "  \n",
        "  score_train = clf_tfidf.score(tfidf_train, labels_train)\n",
        "  print(\"Score train: \",score_train)\n",
        "\n",
        "  tfidf_valid = tfidf.transform(pre_procesado_valid)\n",
        "\n",
        "  score_valid = clf_tfidf.score(tfidf_valid, labels_valid)\n",
        "  print(\"Score valid: \",score_valid)"
      ],
      "execution_count": null,
      "outputs": []
    },
    {
      "cell_type": "markdown",
      "metadata": {
        "id": "gaYqN69KECn0"
      },
      "source": [
        "Da peor, con lo cual nos quedamos con el cv"
      ]
    },
    {
      "cell_type": "markdown",
      "metadata": {
        "id": "jusMFAAsiouv"
      },
      "source": [
        "#### PREDICCIÓN"
      ]
    },
    {
      "cell_type": "code",
      "metadata": {
        "id": "jvRpuDaHoDTQ"
      },
      "source": [
        "pre_procesado_test = pre_procesamiento(text_test,t,f,t,f)"
      ],
      "execution_count": null,
      "outputs": []
    },
    {
      "cell_type": "code",
      "metadata": {
        "id": "e7TWjlbQoP1P"
      },
      "source": [
        "cv_test = cv.transform(pre_procesado_test)\n",
        "test_labels = clf.predict(cv_test)"
      ],
      "execution_count": null,
      "outputs": []
    },
    {
      "cell_type": "code",
      "metadata": {
        "colab": {
          "base_uri": "https://localhost:8080/"
        },
        "id": "WA54dH-EurfE",
        "outputId": "e5eccf9a-a5aa-4278-e316-bf0e63edb7d4"
      },
      "source": [
        "test_labels"
      ],
      "execution_count": null,
      "outputs": [
        {
          "output_type": "execute_result",
          "data": {
            "text/plain": [
              "array(['neutral', 'neutral', 'neutral', ..., 'contradiction',\n",
              "       'entailment', 'neutral'], dtype='<U13')"
            ]
          },
          "metadata": {},
          "execution_count": 30
        }
      ]
    },
    {
      "cell_type": "markdown",
      "metadata": {
        "id": "hXAobOMOuxlX"
      },
      "source": [
        "Arrancamos el submission"
      ]
    },
    {
      "cell_type": "code",
      "metadata": {
        "id": "NpKr6TSyuzYB"
      },
      "source": [
        "df_test = pd.DataFrame(data=test_labels, columns=[\"pred_labels\"],)\n",
        "df_test.head()\n",
        "df_test.index.names = [\"pairID\"]\n",
        "df_test.to_csv(\"MNB_test_entrega.csv\")"
      ],
      "execution_count": null,
      "outputs": []
    },
    {
      "cell_type": "markdown",
      "metadata": {
        "id": "l9E-QgKjiVjz"
      },
      "source": [
        "#### METRICAS"
      ]
    },
    {
      "cell_type": "markdown",
      "metadata": {
        "id": "8K6IMvaW-0Fi"
      },
      "source": [
        "**Explicación de las métricas**\n",
        "\n",
        "\n",
        "---\n",
        "\n",
        "\n",
        "*   PRECISIÓN: define el porcentaje de predicciones correctas. Es la capacidad de un clasificador de no etiquetar una instancia como positiva que en realidad es negativa. Para cada clase, se define como la relación entre verdaderos positivos y la suma de verdaderos y falsos positivos.\n",
        "\n",
        "\n",
        "\n",
        "> $Precision = \\frac{TP}{TP + FP}$\n",
        "\n",
        "\n",
        "*   RECALL: define el porcentaje de positivos que fueron capturados (de encontrar todas las instancias positivas). Para cada clase, se define como la relación entre verdaderos positivos y la suma de verdaderos positivos y falsos negativos.\n",
        "\n",
        "> $Recall = \\frac{TP}{TP + FN}$\n",
        "\n",
        "\n",
        "*   F1-SCORE: define el porcentaje de predicciones positivas correctas. Es una media armónica ponderada de precisión y recall de manera que la mejor puntuación es 1 y la peor es 0. En términos generales, los puntajes F1 son más bajos que las medidas de precisión, ya que incorporan precisión y recall en su cálculo. Como regla general, el promedio ponderado de F1 debe usarse para comparar modelos de clasificadores, no la precisión global.\n",
        "\n",
        "> $F1-SCORE = \\frac{2 \\cdot (Recall \\cdot Precision)}{Recall + Precision}$\n",
        "\n",
        "\n",
        "*  ACCURACY: es la fracción de muestras predichas correctamente.\n",
        "\n",
        "\n",
        "> $ACCURACY = \\frac{VP + VN}{VP + VN + FP + FN}$\n",
        "\n",
        "\n",
        "\n",
        "\n",
        "\n"
      ]
    },
    {
      "cell_type": "code",
      "metadata": {
        "colab": {
          "base_uri": "https://localhost:8080/"
        },
        "id": "Jjh_KQ1Gnv9N",
        "outputId": "a51116d6-356a-4c95-d593-1afb1d81ee3f"
      },
      "source": [
        "from sklearn.metrics import classification_report\n",
        "\n",
        "cv_metrics = cv.transform(pre_procesado_valid)\n",
        "valid_labels_metrics = clf.predict(cv_metrics)\n",
        "\n",
        "print(classification_report(valid_labels_metrics, labels_valid))"
      ],
      "execution_count": null,
      "outputs": [
        {
          "output_type": "stream",
          "name": "stdout",
          "text": [
            "               precision    recall  f1-score   support\n",
            "\n",
            "contradiction       0.64      0.63      0.64      3363\n",
            "   entailment       0.63      0.65      0.64      3235\n",
            "      neutral       0.63      0.62      0.63      3244\n",
            "\n",
            "     accuracy                           0.63      9842\n",
            "    macro avg       0.63      0.63      0.63      9842\n",
            " weighted avg       0.63      0.63      0.63      9842\n",
            "\n"
          ]
        }
      ]
    },
    {
      "cell_type": "code",
      "metadata": {
        "id": "F723RHoFCZTO"
      },
      "source": [
        "from sklearn.metrics import roc_auc_score\n",
        "\n",
        "roc_auc_score(labels_valid, valid_labels_metrics,multi_class='macro')"
      ],
      "execution_count": null,
      "outputs": []
    },
    {
      "cell_type": "markdown",
      "metadata": {
        "id": "uUbMJ7y0RcKs"
      },
      "source": [
        "### MLP\n",
        "\n",
        "\n",
        "---\n",
        "\n"
      ]
    },
    {
      "cell_type": "code",
      "metadata": {
        "id": "KzLuWqN0Srlj"
      },
      "source": [
        "from sklearn.neural_network import MLPClassifier\n",
        "from sklearn.preprocessing import StandardScaler "
      ],
      "execution_count": null,
      "outputs": []
    },
    {
      "cell_type": "code",
      "metadata": {
        "id": "0jhZ00e6TXwl"
      },
      "source": [
        "pre_procesado_valid = pre_procesamiento(text_valid,t,f,t,f)"
      ],
      "execution_count": null,
      "outputs": []
    },
    {
      "cell_type": "markdown",
      "metadata": {
        "id": "xtOs-OJyeqe-"
      },
      "source": [
        "Basándonos en el count vectorizer empleado en el modelo de Naive Bayes, procederemos a variar el número de neuronas por capa y la cantidad de capas. "
      ]
    },
    {
      "cell_type": "code",
      "metadata": {
        "colab": {
          "base_uri": "https://localhost:8080/"
        },
        "id": "OKCcGfJ2SmH2",
        "outputId": "adb0d41b-f23e-472f-f3a6-a2396c11d278"
      },
      "source": [
        "  cv = CountVectorizer(max_df = 0.3, min_df=4, ngram_range = (1,3)) \n",
        "  cv_train = cv.fit_transform(pre_procesado)\n",
        " \n",
        "  mlp = MLPClassifier(hidden_layer_sizes=(1,), verbose=True)\n",
        "  mlp.fit(cv_train, labels_train)\n",
        "  \n",
        "  score_train = mlp.score(cv_train, labels_train)\n",
        "  print(\"Score train: \",score_train)\n",
        "\n",
        "  cv_valid = cv.transform(pre_procesado_valid)\n",
        "\n",
        "  score_valid = mlp.score(cv_valid, labels_valid)\n",
        "  print(\"Score valid: \",score_valid)"
      ],
      "execution_count": null,
      "outputs": [
        {
          "output_type": "stream",
          "name": "stdout",
          "text": [
            "Iteration 1, loss = 0.99720045\n",
            "Iteration 2, loss = 0.91668726\n",
            "Iteration 3, loss = 0.88696200\n",
            "Iteration 4, loss = 0.86753999\n",
            "Iteration 5, loss = 0.85504816\n",
            "Iteration 6, loss = 0.84659931\n",
            "Iteration 7, loss = 0.84051112\n",
            "Iteration 8, loss = 0.83596831\n",
            "Iteration 9, loss = 0.83241753\n",
            "Iteration 10, loss = 0.82943128\n",
            "Iteration 11, loss = 0.82702101\n",
            "Iteration 12, loss = 0.82506415\n",
            "Iteration 13, loss = 0.82334217\n",
            "Iteration 14, loss = 0.82187562\n",
            "Iteration 15, loss = 0.82059351\n",
            "Iteration 16, loss = 0.81925172\n",
            "Iteration 17, loss = 0.81838219\n",
            "Iteration 18, loss = 0.81739827\n",
            "Iteration 19, loss = 0.81664172\n",
            "Iteration 20, loss = 0.81595356\n",
            "Iteration 21, loss = 0.81531153\n",
            "Iteration 22, loss = 0.81467307\n",
            "Iteration 23, loss = 0.81416435\n",
            "Iteration 24, loss = 0.81368833\n",
            "Iteration 25, loss = 0.81321469\n",
            "Iteration 26, loss = 0.81294278\n",
            "Iteration 27, loss = 0.81250320\n",
            "Iteration 28, loss = 0.81215198\n",
            "Iteration 29, loss = 0.81189985\n",
            "Iteration 30, loss = 0.81162561\n",
            "Iteration 31, loss = 0.81134769\n",
            "Iteration 32, loss = 0.81110689\n",
            "Iteration 33, loss = 0.81088443\n",
            "Iteration 34, loss = 0.81073813\n",
            "Iteration 35, loss = 0.81050254\n",
            "Iteration 36, loss = 0.81039671\n",
            "Iteration 37, loss = 0.81019216\n",
            "Iteration 38, loss = 0.81018966\n",
            "Iteration 39, loss = 0.80996111\n",
            "Iteration 40, loss = 0.80988283\n",
            "Iteration 41, loss = 0.80977698\n",
            "Iteration 42, loss = 0.80963012\n",
            "Iteration 43, loss = 0.80957162\n",
            "Iteration 44, loss = 0.80955917\n",
            "Iteration 45, loss = 0.80948892\n",
            "Iteration 46, loss = 0.80932986\n",
            "Iteration 47, loss = 0.80932753\n",
            "Iteration 48, loss = 0.80922413\n",
            "Iteration 49, loss = 0.80916282\n",
            "Iteration 50, loss = 0.80916052\n",
            "Iteration 51, loss = 0.80914039\n",
            "Iteration 52, loss = 0.80903107\n",
            "Iteration 53, loss = 0.80907597\n",
            "Iteration 54, loss = 0.80898886\n",
            "Iteration 55, loss = 0.80894945\n",
            "Iteration 56, loss = 0.80896173\n",
            "Iteration 57, loss = 0.80894593\n",
            "Iteration 58, loss = 0.80887268\n",
            "Iteration 59, loss = 0.80891268\n",
            "Iteration 60, loss = 0.80878303\n",
            "Iteration 61, loss = 0.80885232\n",
            "Iteration 62, loss = 0.80883472\n",
            "Iteration 63, loss = 0.80881468\n",
            "Training loss did not improve more than tol=0.000100 for 10 consecutive epochs. Stopping.\n",
            "Score train:  0.6484936299413688\n",
            "Score valid:  0.5520219467587889\n"
          ]
        }
      ]
    },
    {
      "cell_type": "code",
      "metadata": {
        "colab": {
          "base_uri": "https://localhost:8080/"
        },
        "id": "UUtakx2v2meH",
        "outputId": "8d5a350d-9eaa-4aca-ad4b-ceac904ea141"
      },
      "source": [
        "\n",
        "cv = CountVectorizer(max_df = 0.3, min_df=4, ngram_range = (1,3)) \n",
        "cv_train = cv.fit_transform(pre_procesado)\n",
        " \n",
        "\n",
        "mlp = MLPClassifier(hidden_layer_sizes=(2,), verbose=True)\n",
        "mlp.fit(cv_train, labels_train)\n",
        "  \n",
        "score_train = mlp.score(cv_train, labels_train)\n",
        "print(\"Score train: \",score_train)\n",
        "\n",
        "cv_valid = cv.transform(pre_procesado_valid)\n",
        "\n",
        "\n",
        "score_valid = mlp.score(cv_valid, labels_valid)\n",
        "print(\"Score valid: \",score_valid)"
      ],
      "execution_count": null,
      "outputs": [
        {
          "output_type": "stream",
          "name": "stdout",
          "text": [
            "Iteration 1, loss = 0.93394752\n",
            "Iteration 2, loss = 0.77869477\n",
            "Iteration 3, loss = 0.72926482\n",
            "Iteration 4, loss = 0.70273332\n",
            "Iteration 5, loss = 0.68574617\n",
            "Iteration 6, loss = 0.67409205\n",
            "Iteration 7, loss = 0.66537279\n",
            "Iteration 8, loss = 0.65848169\n",
            "Iteration 9, loss = 0.65323614\n",
            "Iteration 10, loss = 0.64865416\n",
            "Iteration 11, loss = 0.64497116\n",
            "Iteration 12, loss = 0.64182682\n",
            "Iteration 13, loss = 0.63888522\n",
            "Iteration 14, loss = 0.63663741\n",
            "Iteration 15, loss = 0.63439642\n",
            "Iteration 16, loss = 0.63245626\n",
            "Iteration 17, loss = 0.63075709\n",
            "Iteration 18, loss = 0.62920775\n",
            "Iteration 19, loss = 0.62768400\n",
            "Iteration 20, loss = 0.62646107\n",
            "Iteration 21, loss = 0.62519474\n",
            "Iteration 22, loss = 0.62412709\n",
            "Iteration 23, loss = 0.62319300\n",
            "Iteration 24, loss = 0.62224030\n",
            "Iteration 25, loss = 0.62129759\n",
            "Iteration 26, loss = 0.62046382\n",
            "Iteration 27, loss = 0.61975611\n",
            "Iteration 28, loss = 0.61913543\n",
            "Iteration 29, loss = 0.61842304\n",
            "Iteration 30, loss = 0.61786291\n",
            "Iteration 31, loss = 0.61738518\n",
            "Iteration 32, loss = 0.61677653\n",
            "Iteration 33, loss = 0.61638746\n",
            "Iteration 34, loss = 0.61576967\n",
            "Iteration 35, loss = 0.61542201\n",
            "Iteration 36, loss = 0.61492834\n",
            "Iteration 37, loss = 0.61456218\n",
            "Iteration 38, loss = 0.61419241\n",
            "Iteration 39, loss = 0.61382661\n",
            "Iteration 40, loss = 0.61352239\n",
            "Iteration 41, loss = 0.61323414\n",
            "Iteration 42, loss = 0.61290452\n",
            "Iteration 43, loss = 0.61261917\n",
            "Iteration 44, loss = 0.61242119\n",
            "Iteration 45, loss = 0.61216074\n",
            "Iteration 46, loss = 0.61183509\n",
            "Iteration 47, loss = 0.61166874\n",
            "Iteration 48, loss = 0.61148697\n",
            "Iteration 49, loss = 0.61126196\n",
            "Iteration 50, loss = 0.61099308\n",
            "Iteration 51, loss = 0.61090735\n",
            "Iteration 52, loss = 0.61063032\n",
            "Iteration 53, loss = 0.61051681\n",
            "Iteration 54, loss = 0.61025327\n",
            "Iteration 55, loss = 0.61021995\n",
            "Iteration 56, loss = 0.61012300\n",
            "Iteration 57, loss = 0.60997125\n",
            "Iteration 58, loss = 0.60977566\n",
            "Iteration 59, loss = 0.60967962\n",
            "Iteration 60, loss = 0.60953636\n",
            "Iteration 61, loss = 0.60941234\n",
            "Iteration 62, loss = 0.60926982\n",
            "Iteration 63, loss = 0.60914407\n",
            "Iteration 64, loss = 0.60906549\n",
            "Iteration 65, loss = 0.60894261\n",
            "Iteration 66, loss = 0.60887879\n",
            "Iteration 67, loss = 0.60877004\n",
            "Iteration 68, loss = 0.60865942\n",
            "Iteration 69, loss = 0.60866614\n",
            "Iteration 70, loss = 0.60857446\n",
            "Iteration 71, loss = 0.60841300\n",
            "Iteration 72, loss = 0.60841377\n",
            "Iteration 73, loss = 0.60838535\n",
            "Iteration 74, loss = 0.60828214\n",
            "Iteration 75, loss = 0.60818899\n",
            "Iteration 76, loss = 0.60814134\n",
            "Iteration 77, loss = 0.60808671\n",
            "Iteration 78, loss = 0.60802616\n",
            "Iteration 79, loss = 0.60798629\n",
            "Iteration 80, loss = 0.60802496\n",
            "Iteration 81, loss = 0.60785709\n",
            "Iteration 82, loss = 0.60785167\n",
            "Iteration 83, loss = 0.60782857\n",
            "Iteration 84, loss = 0.60768038\n",
            "Iteration 85, loss = 0.60769850\n",
            "Iteration 86, loss = 0.60766600\n",
            "Iteration 87, loss = 0.60770416\n",
            "Iteration 88, loss = 0.60764207\n",
            "Iteration 89, loss = 0.60750950\n",
            "Iteration 90, loss = 0.60746374\n",
            "Iteration 91, loss = 0.60762260\n",
            "Iteration 92, loss = 0.60754359\n",
            "Iteration 93, loss = 0.60753319\n",
            "Iteration 94, loss = 0.60745232\n",
            "Iteration 95, loss = 0.60744690\n",
            "Iteration 96, loss = 0.60739352\n",
            "Iteration 97, loss = 0.60742710\n",
            "Iteration 98, loss = 0.60730699\n",
            "Iteration 99, loss = 0.60733631\n",
            "Iteration 100, loss = 0.60726276\n",
            "Training loss did not improve more than tol=0.000100 for 10 consecutive epochs. Stopping.\n",
            "Score train:  0.766822543035894\n",
            "Score valid:  0.6333062385693965\n"
          ]
        }
      ]
    },
    {
      "cell_type": "code",
      "metadata": {
        "colab": {
          "base_uri": "https://localhost:8080/"
        },
        "id": "2-5W_SwHQKop",
        "outputId": "cbe876aa-6469-4952-8457-db97281d0059"
      },
      "source": [
        "cv = CountVectorizer(max_df = 0.3, min_df=4, ngram_range = (1,3)) \n",
        "cv_train = cv.fit_transform(pre_procesado_4)\n",
        " \n",
        "\n",
        "mlp = MLPClassifier(hidden_layer_sizes=(5,), verbose=True)\n",
        "mlp.fit(cv_train, labels_train)\n",
        "  \n",
        "score_train = mlp.score(cv_train, labels_train)\n",
        "print(\"Score train: \",score_train)\n",
        "\n",
        "cv_valid = cv.transform(pre_procesado_valid)\n",
        "\n",
        "\n",
        "score_valid = mlp.score(cv_valid, labels_valid)\n",
        "print(\"Score valid: \",score_valid)"
      ],
      "execution_count": null,
      "outputs": [
        {
          "output_type": "stream",
          "name": "stdout",
          "text": [
            "Iteration 1, loss = 0.87009557\n",
            "Iteration 2, loss = 0.75103693\n",
            "Iteration 3, loss = 0.70542984\n",
            "Iteration 4, loss = 0.67629371\n",
            "Iteration 5, loss = 0.65483755\n",
            "Iteration 6, loss = 0.63804874\n",
            "Iteration 7, loss = 0.62372831\n",
            "Iteration 8, loss = 0.61185874\n",
            "Iteration 9, loss = 0.60108433\n",
            "Iteration 10, loss = 0.59144470\n",
            "Iteration 11, loss = 0.58272127\n",
            "Iteration 12, loss = 0.57476244\n",
            "Iteration 13, loss = 0.56754637\n",
            "Iteration 14, loss = 0.56044298\n",
            "Iteration 15, loss = 0.55413458\n",
            "Iteration 16, loss = 0.54790458\n",
            "Iteration 17, loss = 0.54240817\n",
            "Iteration 18, loss = 0.53696733\n",
            "Iteration 19, loss = 0.53181738\n",
            "Iteration 20, loss = 0.52718271\n",
            "Iteration 21, loss = 0.52250006\n",
            "Iteration 22, loss = 0.51824213\n",
            "Iteration 23, loss = 0.51453187\n",
            "Iteration 24, loss = 0.51039556\n",
            "Iteration 25, loss = 0.50677852\n",
            "Iteration 26, loss = 0.50327662\n",
            "Iteration 27, loss = 0.50024362\n",
            "Iteration 28, loss = 0.49689507\n",
            "Iteration 29, loss = 0.49415049\n",
            "Iteration 30, loss = 0.49100060\n",
            "Iteration 31, loss = 0.48831759\n",
            "Iteration 32, loss = 0.48578159\n",
            "Iteration 33, loss = 0.48298160\n",
            "Iteration 34, loss = 0.48093238\n",
            "Iteration 35, loss = 0.47851922\n",
            "Iteration 36, loss = 0.47620479\n",
            "Iteration 37, loss = 0.47431326\n",
            "Iteration 38, loss = 0.47233711\n",
            "Iteration 39, loss = 0.47039952\n",
            "Iteration 40, loss = 0.46852217\n",
            "Iteration 41, loss = 0.46699274\n",
            "Iteration 42, loss = 0.46549476\n",
            "Iteration 43, loss = 0.46370156\n",
            "Iteration 44, loss = 0.46213219\n",
            "Iteration 45, loss = 0.46081326\n",
            "Iteration 46, loss = 0.45937634\n",
            "Iteration 47, loss = 0.45801606\n",
            "Iteration 48, loss = 0.45681532\n",
            "Iteration 49, loss = 0.45541397\n",
            "Iteration 50, loss = 0.45423690\n",
            "Iteration 51, loss = 0.45309477\n",
            "Iteration 52, loss = 0.45158161\n",
            "Iteration 53, loss = 0.45082522\n",
            "Iteration 54, loss = 0.44975601\n",
            "Iteration 55, loss = 0.44858189\n",
            "Iteration 56, loss = 0.44795099\n",
            "Iteration 57, loss = 0.44652716\n",
            "Iteration 58, loss = 0.44585204\n",
            "Iteration 59, loss = 0.44531296\n",
            "Iteration 60, loss = 0.44428001\n",
            "Iteration 61, loss = 0.44367791\n",
            "Iteration 62, loss = 0.44258737\n",
            "Iteration 63, loss = 0.44227405\n",
            "Iteration 64, loss = 0.44142949\n",
            "Iteration 65, loss = 0.44061905\n",
            "Iteration 66, loss = 0.44004241\n",
            "Iteration 67, loss = 0.43906540\n",
            "Iteration 68, loss = 0.43866806\n",
            "Iteration 69, loss = 0.43787526\n",
            "Iteration 70, loss = 0.43758410\n",
            "Iteration 71, loss = 0.43684043\n",
            "Iteration 72, loss = 0.43624267\n",
            "Iteration 73, loss = 0.43583883\n",
            "Iteration 74, loss = 0.43515802\n",
            "Iteration 75, loss = 0.43484846\n",
            "Iteration 76, loss = 0.43418450\n",
            "Iteration 77, loss = 0.43388184\n",
            "Iteration 78, loss = 0.43326593\n",
            "Iteration 79, loss = 0.43294943\n",
            "Iteration 80, loss = 0.43255362\n",
            "Iteration 81, loss = 0.43219816\n",
            "Iteration 82, loss = 0.43147589\n",
            "Iteration 83, loss = 0.43114002\n",
            "Iteration 84, loss = 0.43068728\n",
            "Iteration 85, loss = 0.43069275\n",
            "Iteration 86, loss = 0.43009849\n",
            "Iteration 87, loss = 0.42979224\n",
            "Iteration 88, loss = 0.42940232\n",
            "Iteration 89, loss = 0.42916107\n",
            "Iteration 90, loss = 0.42895873\n",
            "Iteration 91, loss = 0.42835362\n",
            "Iteration 92, loss = 0.42846521\n",
            "Iteration 93, loss = 0.42793956\n",
            "Iteration 94, loss = 0.42800799\n",
            "Iteration 95, loss = 0.42722443\n",
            "Iteration 96, loss = 0.42711783\n",
            "Iteration 97, loss = 0.42707838\n",
            "Iteration 98, loss = 0.42668606\n",
            "Iteration 99, loss = 0.42613091\n",
            "Iteration 100, loss = 0.42596304\n",
            "Iteration 101, loss = 0.42588183\n",
            "Iteration 102, loss = 0.42546767\n",
            "Iteration 103, loss = 0.42559979\n",
            "Iteration 104, loss = 0.42531690\n",
            "Iteration 105, loss = 0.42494860\n",
            "Iteration 106, loss = 0.42464779\n",
            "Iteration 107, loss = 0.42455865\n",
            "Iteration 108, loss = 0.42425244\n",
            "Iteration 109, loss = 0.42402968\n",
            "Iteration 110, loss = 0.42407087\n",
            "Iteration 111, loss = 0.42361338\n",
            "Iteration 112, loss = 0.42361998\n",
            "Iteration 113, loss = 0.42332968\n",
            "Iteration 114, loss = 0.42302369\n",
            "Iteration 115, loss = 0.42301729\n",
            "Iteration 116, loss = 0.42265812\n",
            "Iteration 117, loss = 0.42261296\n",
            "Iteration 118, loss = 0.42230397\n",
            "Iteration 119, loss = 0.42222822\n",
            "Iteration 120, loss = 0.42201288\n",
            "Iteration 121, loss = 0.42212948\n",
            "Iteration 122, loss = 0.42177247\n",
            "Iteration 123, loss = 0.42150428\n",
            "Iteration 124, loss = 0.42142208\n",
            "Iteration 125, loss = 0.42128428\n",
            "Iteration 126, loss = 0.42136032\n",
            "Iteration 127, loss = 0.42102410\n",
            "Iteration 128, loss = 0.42068546\n",
            "Iteration 129, loss = 0.42084994\n",
            "Iteration 130, loss = 0.42056711\n",
            "Iteration 131, loss = 0.42040913\n",
            "Iteration 132, loss = 0.42022188\n",
            "Iteration 133, loss = 0.42029828\n",
            "Iteration 134, loss = 0.41979355\n",
            "Iteration 135, loss = 0.41979034\n",
            "Iteration 136, loss = 0.41985075\n",
            "Iteration 137, loss = 0.41992321\n",
            "Iteration 138, loss = 0.41983931\n",
            "Iteration 139, loss = 0.41961359\n",
            "Iteration 140, loss = 0.41947532\n",
            "Iteration 141, loss = 0.41958180\n",
            "Iteration 142, loss = 0.41936266\n",
            "Iteration 143, loss = 0.41912305\n",
            "Iteration 144, loss = 0.41921071\n",
            "Iteration 145, loss = 0.41923999\n",
            "Iteration 146, loss = 0.41908176\n",
            "Iteration 147, loss = 0.41900460\n",
            "Iteration 148, loss = 0.41876153\n",
            "Iteration 149, loss = 0.41903653\n",
            "Iteration 150, loss = 0.41867251\n",
            "Iteration 151, loss = 0.41856336\n",
            "Iteration 152, loss = 0.41865006\n",
            "Iteration 153, loss = 0.41862789\n",
            "Iteration 154, loss = 0.41838620\n",
            "Iteration 155, loss = 0.41845476\n",
            "Iteration 156, loss = 0.41865693\n",
            "Iteration 157, loss = 0.41826255\n",
            "Iteration 158, loss = 0.41807980\n",
            "Iteration 159, loss = 0.41825896\n",
            "Iteration 160, loss = 0.41788922\n",
            "Iteration 161, loss = 0.41816280\n",
            "Iteration 162, loss = 0.41790385\n",
            "Iteration 163, loss = 0.41801455\n",
            "Iteration 164, loss = 0.41793640\n",
            "Iteration 165, loss = 0.41781536\n",
            "Iteration 166, loss = 0.41792664\n",
            "Iteration 167, loss = 0.41779334\n",
            "Iteration 168, loss = 0.41752150\n",
            "Iteration 169, loss = 0.41781247\n",
            "Iteration 170, loss = 0.41755349\n",
            "Iteration 171, loss = 0.41741366\n",
            "Iteration 172, loss = 0.41762673\n",
            "Iteration 173, loss = 0.41754773\n",
            "Iteration 174, loss = 0.41759207\n",
            "Iteration 175, loss = 0.41737188\n",
            "Iteration 176, loss = 0.41762154\n",
            "Iteration 177, loss = 0.41727865\n",
            "Iteration 178, loss = 0.41743228\n",
            "Iteration 179, loss = 0.41752749\n",
            "Iteration 180, loss = 0.41703808\n",
            "Iteration 181, loss = 0.41728284\n",
            "Iteration 182, loss = 0.41712610\n",
            "Iteration 183, loss = 0.41711504\n",
            "Iteration 184, loss = 0.41719224\n",
            "Iteration 185, loss = 0.41720435\n",
            "Iteration 186, loss = 0.41709322\n",
            "Iteration 187, loss = 0.41708995\n",
            "Iteration 188, loss = 0.41744594\n",
            "Iteration 189, loss = 0.41695211\n",
            "Iteration 190, loss = 0.41691684\n",
            "Iteration 191, loss = 0.41711828\n",
            "Training loss did not improve more than tol=0.000100 for 10 consecutive epochs. Stopping.\n",
            "Score train:  0.8570609446872491\n",
            "Score valid:  0.5814875025401341\n"
          ]
        }
      ]
    },
    {
      "cell_type": "code",
      "metadata": {
        "colab": {
          "base_uri": "https://localhost:8080/"
        },
        "id": "t9MXz1EbFikG",
        "outputId": "13b77a18-12a9-4c7d-f3ed-2912872eee70"
      },
      "source": [
        "cv = CountVectorizer(max_df = 0.3, min_df=5, ngram_range = (1,2)) \n",
        "cv_train = cv.fit_transform(pre_procesado)\n",
        " \n",
        "\n",
        "mlp = MLPClassifier(hidden_layer_sizes=(20, 10, 20), max_iter=50, early_stopping= True, verbose= True)\n",
        "mlp.fit(cv_train, labels_train) \n",
        "  \n",
        "score_train = mlp.score(cv_train, labels_train)\n",
        "print(\"Score train: \",score_train)\n",
        "\n",
        "cv_valid = cv.transform(pre_procesado_valid)\n",
        "\n",
        "\n",
        "score_valid = mlp.score(cv_valid, labels_valid)\n",
        "print(\"Score valid: \",score_valid)"
      ],
      "execution_count": null,
      "outputs": [
        {
          "output_type": "stream",
          "name": "stdout",
          "text": [
            "Iteration 1, loss = 0.85677202\n",
            "Validation score: 0.638804\n",
            "Iteration 2, loss = 0.75636023\n",
            "Validation score: 0.640042\n",
            "Iteration 3, loss = 0.70981105\n",
            "Validation score: 0.636784\n",
            "Iteration 4, loss = 0.66875336\n",
            "Validation score: 0.634854\n",
            "Iteration 5, loss = 0.62816451\n",
            "Validation score: 0.630031\n",
            "Iteration 6, loss = 0.58793373\n",
            "Validation score: 0.625498\n",
            "Iteration 7, loss = 0.55022498\n",
            "Validation score: 0.619055\n",
            "Iteration 8, loss = 0.51650944\n",
            "Validation score: 0.617234\n",
            "Iteration 9, loss = 0.48693911\n",
            "Validation score: 0.615323\n",
            "Iteration 10, loss = 0.46190664\n",
            "Validation score: 0.607987\n",
            "Iteration 11, loss = 0.44145323\n",
            "Validation score: 0.605075\n",
            "Iteration 12, loss = 0.42364999\n",
            "Validation score: 0.604765\n",
            "Iteration 13, loss = 0.40909509\n",
            "Validation score: 0.604165\n",
            "Validation score did not improve more than tol=0.000100 for 10 consecutive epochs. Stopping.\n",
            "Score train:  0.7023829243474763\n",
            "Score valid:  0.6509855720382036\n"
          ]
        }
      ]
    },
    {
      "cell_type": "code",
      "metadata": {
        "colab": {
          "base_uri": "https://localhost:8080/"
        },
        "id": "Q7_A5HKwVK4N",
        "outputId": "b0e8333e-b811-4385-85e4-1d80f3248ce4"
      },
      "source": [
        "cv = CountVectorizer(max_df = 0.3, min_df=3, ngram_range = (1,2)) \n",
        "cv_train = cv.fit_transform(pre_procesado)\n",
        " \n",
        "\n",
        "mlp = MLPClassifier(hidden_layer_sizes=(15, 12, 10), max_iter=50, early_stopping= True, verbose= True)\n",
        "mlp.fit(cv_train, labels_train) \n",
        "  \n",
        "score_train = mlp.score(cv_train, labels_train)\n",
        "print(\"Score train: \",score_train)\n",
        "\n",
        "cv_valid = cv.transform(pre_procesado_valid)\n",
        "\n",
        "\n",
        "score_valid = mlp.score(cv_valid, labels_valid)\n",
        "print(\"Score valid: \",score_valid)"
      ],
      "execution_count": null,
      "outputs": [
        {
          "output_type": "stream",
          "name": "stdout",
          "text": [
            "Iteration 1, loss = 0.85459893\n",
            "Validation score: 0.635983\n",
            "Iteration 2, loss = 0.73622758\n",
            "Validation score: 0.633052\n",
            "Iteration 3, loss = 0.67220727\n",
            "Validation score: 0.629375\n",
            "Iteration 4, loss = 0.61906064\n",
            "Validation score: 0.623623\n",
            "Iteration 5, loss = 0.57228817\n",
            "Validation score: 0.621057\n",
            "Iteration 6, loss = 0.53011223\n",
            "Validation score: 0.617398\n",
            "Iteration 7, loss = 0.49322361\n",
            "Validation score: 0.610317\n",
            "Iteration 8, loss = 0.46115860\n",
            "Validation score: 0.610117\n",
            "Iteration 9, loss = 0.43473492\n",
            "Validation score: 0.606822\n",
            "Iteration 10, loss = 0.41219059\n",
            "Validation score: 0.604092\n",
            "Iteration 11, loss = 0.39342410\n",
            "Validation score: 0.599996\n",
            "Iteration 12, loss = 0.37784673\n",
            "Validation score: 0.600433\n",
            "Validation score did not improve more than tol=0.000100 for 10 consecutive epochs. Stopping.\n",
            "Score train:  0.6924205494687522\n",
            "Score valid:  0.6506807559439138\n"
          ]
        }
      ]
    },
    {
      "cell_type": "code",
      "metadata": {
        "colab": {
          "base_uri": "https://localhost:8080/"
        },
        "id": "Jn45bqTbQ6O8",
        "outputId": "9ca1afc7-7ea0-44c0-b6f4-b159d850fc7a"
      },
      "source": [
        "cv = CountVectorizer(max_df = 0.3, min_df=3, ngram_range = (1,2)) \n",
        "cv_train = cv.fit_transform(pre_procesado)\n",
        " \n",
        "\n",
        "mlp = MLPClassifier(hidden_layer_sizes=(12, 10, 7), max_iter=50, early_stopping= True, verbose= True)\n",
        "mlp.fit(cv_train, labels_train) \n",
        "  \n",
        "score_train = mlp.score(cv_train, labels_train)\n",
        "print(\"Score train: \",score_train)\n",
        "\n",
        "cv_valid = cv.transform(pre_procesado_valid)\n",
        "\n",
        "\n",
        "score_valid = mlp.score(cv_valid, labels_valid)\n",
        "print(\"Score valid: \",score_valid)"
      ],
      "execution_count": null,
      "outputs": [
        {
          "output_type": "stream",
          "name": "stdout",
          "text": [
            "Iteration 1, loss = 0.85805147\n",
            "Validation score: 0.637585\n",
            "Iteration 2, loss = 0.73751656\n",
            "Validation score: 0.638349\n",
            "Iteration 3, loss = 0.67375583\n",
            "Validation score: 0.633507\n",
            "Iteration 4, loss = 0.62347461\n",
            "Validation score: 0.629758\n",
            "Iteration 5, loss = 0.58065443\n",
            "Validation score: 0.625043\n",
            "Iteration 6, loss = 0.54253095\n",
            "Validation score: 0.621312\n",
            "Iteration 7, loss = 0.51026796\n",
            "Validation score: 0.618326\n",
            "Iteration 8, loss = 0.48269056\n",
            "Validation score: 0.614012\n",
            "Iteration 9, loss = 0.45891650\n",
            "Validation score: 0.613339\n",
            "Iteration 10, loss = 0.43905635\n",
            "Validation score: 0.609444\n",
            "Iteration 11, loss = 0.42242319\n",
            "Validation score: 0.606786\n",
            "Iteration 12, loss = 0.40831937\n",
            "Validation score: 0.606677\n",
            "Iteration 13, loss = 0.39584183\n",
            "Validation score: 0.604856\n",
            "Validation score did not improve more than tol=0.000100 for 10 consecutive epochs. Stopping.\n",
            "Score train:  0.7230976742323437\n",
            "Score valid:  0.6540337329811015\n"
          ]
        }
      ]
    },
    {
      "cell_type": "code",
      "metadata": {
        "colab": {
          "base_uri": "https://localhost:8080/"
        },
        "id": "YjxUMKyhNFR7",
        "outputId": "871338d3-23b3-46ea-a905-db74b978dae9"
      },
      "source": [
        "cv = CountVectorizer(max_df = 0.3, min_df=3, ngram_range = (1,2)) \n",
        "cv_train = cv.fit_transform(pre_procesado)\n",
        " \n",
        "\n",
        "mlp = MLPClassifier(hidden_layer_sizes=(12, 12, 12), max_iter=50, early_stopping= True, verbose= True)\n",
        "mlp.fit(cv_train, labels_train) \n",
        "  \n",
        "score_train = mlp.score(cv_train, labels_train)\n",
        "print(\"Score train: \",score_train)\n",
        "\n",
        "cv_valid = cv.transform(pre_procesado_valid)\n",
        "\n",
        "\n",
        "score_valid = mlp.score(cv_valid, labels_valid)\n",
        "print(\"Score valid: \",score_valid)"
      ],
      "execution_count": null,
      "outputs": [
        {
          "output_type": "stream",
          "name": "stdout",
          "text": [
            "Iteration 1, loss = 0.85582369\n",
            "Validation score: 0.636292\n",
            "Iteration 2, loss = 0.73749189\n",
            "Validation score: 0.633380\n",
            "Iteration 3, loss = 0.67719290\n",
            "Validation score: 0.629321\n",
            "Iteration 4, loss = 0.62806858\n",
            "Validation score: 0.622331\n",
            "Iteration 5, loss = 0.58515473\n",
            "Validation score: 0.621293\n",
            "Iteration 6, loss = 0.54709797\n",
            "Validation score: 0.615341\n",
            "Iteration 7, loss = 0.51466848\n",
            "Validation score: 0.610426\n",
            "Iteration 8, loss = 0.48673426\n",
            "Validation score: 0.608697\n",
            "Iteration 9, loss = 0.46320572\n",
            "Validation score: 0.608206\n",
            "Iteration 10, loss = 0.44363388\n",
            "Validation score: 0.605166\n",
            "Iteration 11, loss = 0.42666767\n",
            "Validation score: 0.601544\n",
            "Iteration 12, loss = 0.41280916\n",
            "Validation score: 0.601089\n",
            "Validation score did not improve more than tol=0.000100 for 10 consecutive epochs. Stopping.\n",
            "Score train:  0.6908405492139135\n",
            "Score valid:  0.6501727291200975\n"
          ]
        }
      ]
    },
    {
      "cell_type": "code",
      "metadata": {
        "colab": {
          "base_uri": "https://localhost:8080/"
        },
        "id": "P7jHr_CWKc1t",
        "outputId": "6083de49-f748-4ba1-e233-fffa1943c25e"
      },
      "source": [
        "cv = CountVectorizer(max_df = 0.3, min_df=3, ngram_range = (1,2)) \n",
        "cv_train = cv.fit_transform(pre_procesado)\n",
        " \n",
        "\n",
        "mlp = MLPClassifier(hidden_layer_sizes=(7, 7, 7), max_iter=50, early_stopping= True, verbose= True)\n",
        "mlp.fit(cv_train, labels_train) \n",
        "  \n",
        "score_train = mlp.score(cv_train, labels_train)\n",
        "print(\"Score train: \",score_train)\n",
        "\n",
        "cv_valid = cv.transform(pre_procesado_valid)\n",
        "\n",
        "\n",
        "score_valid = mlp.score(cv_valid, labels_valid)\n",
        "print(\"Score valid: \",score_valid)"
      ],
      "execution_count": null,
      "outputs": [
        {
          "output_type": "stream",
          "name": "stdout",
          "text": [
            "Iteration 1, loss = 0.88866420\n",
            "Validation score: 0.636802\n",
            "Iteration 2, loss = 0.75243579\n",
            "Validation score: 0.638222\n",
            "Iteration 3, loss = 0.70136850\n",
            "Validation score: 0.632761\n",
            "Iteration 4, loss = 0.66515840\n",
            "Validation score: 0.628920\n",
            "Iteration 5, loss = 0.63619114\n",
            "Validation score: 0.625171\n",
            "Iteration 6, loss = 0.61113067\n",
            "Validation score: 0.620929\n",
            "Iteration 7, loss = 0.58926239\n",
            "Validation score: 0.620565\n",
            "Iteration 8, loss = 0.56904794\n",
            "Validation score: 0.616852\n",
            "Iteration 9, loss = 0.55112037\n",
            "Validation score: 0.614395\n",
            "Iteration 10, loss = 0.53461262\n",
            "Validation score: 0.611591\n",
            "Iteration 11, loss = 0.52000365\n",
            "Validation score: 0.612611\n",
            "Iteration 12, loss = 0.50670957\n",
            "Validation score: 0.607878\n",
            "Iteration 13, loss = 0.49442487\n",
            "Validation score: 0.607732\n",
            "Validation score did not improve more than tol=0.000100 for 10 consecutive epochs. Stopping.\n",
            "Score train:  0.7133300689702876\n",
            "Score valid:  0.6501727291200975\n"
          ]
        }
      ]
    },
    {
      "cell_type": "code",
      "metadata": {
        "colab": {
          "base_uri": "https://localhost:8080/"
        },
        "id": "PxKYzpSGr0CQ",
        "outputId": "6439177a-9d1a-4244-d85a-4333f9f3035f"
      },
      "source": [
        "cv = CountVectorizer(max_df = 0.3, min_df=1, ngram_range = (1,2)) \n",
        "cv_train = cv.fit_transform(pre_procesado)\n",
        " \n",
        "\n",
        "mlp = MLPClassifier(hidden_layer_sizes=(5, 10, 15), max_iter=50, early_stopping= True, verbose= True)\n",
        "mlp.fit(cv_train, labels_train) \n",
        "  \n",
        "score_train = mlp.score(cv_train, labels_train)\n",
        "print(\"Score train: \",score_train)\n",
        "\n",
        "cv_valid = cv.transform(pre_procesado_valid)\n",
        "\n",
        "\n",
        "score_valid = mlp.score(cv_valid, labels_valid)\n",
        "print(\"Score valid: \",score_valid)"
      ],
      "execution_count": null,
      "outputs": [
        {
          "output_type": "stream",
          "name": "stdout",
          "text": [
            "Iteration 1, loss = 0.86584154\n",
            "Validation score: 0.635364\n",
            "Iteration 2, loss = 0.67744953\n",
            "Validation score: 0.628902\n",
            "Iteration 3, loss = 0.55013919\n",
            "Validation score: 0.615814\n",
            "Iteration 4, loss = 0.47724106\n",
            "Validation score: 0.606913\n",
            "Iteration 5, loss = 0.43656704\n",
            "Validation score: 0.602345\n",
            "Iteration 6, loss = 0.41071406\n",
            "Validation score: 0.599687\n",
            "Iteration 7, loss = 0.39328619\n",
            "Validation score: 0.599559\n",
            "Iteration 8, loss = 0.38059579\n",
            "Validation score: 0.596210\n",
            "Iteration 9, loss = 0.36997706\n",
            "Validation score: 0.594736\n",
            "Iteration 10, loss = 0.36164675\n",
            "Validation score: 0.591368\n",
            "Iteration 11, loss = 0.35506994\n",
            "Validation score: 0.592606\n",
            "Iteration 12, loss = 0.34993716\n",
            "Validation score: 0.592624\n",
            "Validation score did not improve more than tol=0.000100 for 10 consecutive epochs. Stopping.\n",
            "Score train:  0.7198011529633196\n",
            "Score valid:  0.6509855720382036\n"
          ]
        }
      ]
    },
    {
      "cell_type": "code",
      "metadata": {
        "colab": {
          "base_uri": "https://localhost:8080/"
        },
        "id": "XtMu5TQ_fcF9",
        "outputId": "374dd3f4-1285-49b8-9f4a-f8c974b7528f"
      },
      "source": [
        "cv = CountVectorizer(max_df = 0.3, min_df=4, ngram_range = (1,3)) \n",
        "cv_train = cv.fit_transform(pre_procesado)\n",
        " \n",
        "mlp = MLPClassifier(hidden_layer_sizes=(20, 10, 5), max_iter=50, early_stopping= True, verbose= True)\n",
        "mlp.fit(cv_train, labels_train)\n",
        "  \n",
        "score_train = mlp.score(cv_train, labels_train)\n",
        "print(\"Score train: \",score_train)\n",
        "\n",
        "cv_valid = cv.transform(pre_procesado_valid)\n",
        "\n",
        "score_valid = mlp.score(cv_valid, labels_valid)\n",
        "print(\"Score valid: \",score_valid)"
      ],
      "execution_count": null,
      "outputs": [
        {
          "output_type": "stream",
          "name": "stdout",
          "text": [
            "Iteration 1, loss = 0.93886749\n",
            "Validation score: 0.630941\n",
            "Iteration 2, loss = 0.76159472\n",
            "Validation score: 0.633963\n",
            "Iteration 3, loss = 0.69289265\n",
            "Validation score: 0.628957\n",
            "Iteration 4, loss = 0.63808862\n",
            "Validation score: 0.624261\n",
            "Iteration 5, loss = 0.58653529\n",
            "Validation score: 0.617635\n",
            "Iteration 6, loss = 0.53886322\n",
            "Validation score: 0.611646\n",
            "Iteration 7, loss = 0.49656900\n",
            "Validation score: 0.606331\n",
            "Iteration 8, loss = 0.46017891\n",
            "Validation score: 0.601416\n",
            "Iteration 9, loss = 0.42942408\n",
            "Validation score: 0.602854\n",
            "Iteration 10, loss = 0.40431553\n",
            "Validation score: 0.598285\n",
            "Iteration 11, loss = 0.38430886\n",
            "Validation score: 0.595209\n",
            "Iteration 12, loss = 0.36855369\n",
            "Validation score: 0.593534\n",
            "Iteration 13, loss = 0.35521633\n",
            "Validation score: 0.594299\n",
            "Validation score did not improve more than tol=0.000100 for 10 consecutive epochs. Stopping.\n",
            "Score train:  0.7186998855045899\n",
            "Score valid:  0.6496647022962813\n"
          ]
        }
      ]
    },
    {
      "cell_type": "code",
      "metadata": {
        "colab": {
          "base_uri": "https://localhost:8080/"
        },
        "id": "Hq6zyilKDFx8",
        "outputId": "13e08bb9-4f2f-4ed8-e934-fc03f0447feb"
      },
      "source": [
        "cv = CountVectorizer(max_df = 0.3, min_df=4, ngram_range = (1,3)) \n",
        "cv_train = cv.fit_transform(pre_procesado)\n",
        " \n",
        "mlp = MLPClassifier(hidden_layer_sizes=(5, 10, 5), max_iter=50, early_stopping= True, verbose= True)\n",
        "mlp.fit(cv_train, labels_train)\n",
        "  \n",
        "score_train = mlp.score(cv_train, labels_train)\n",
        "print(\"Score train: \",score_train)\n",
        "\n",
        "cv_valid = cv.transform(pre_procesado_valid)\n",
        "\n",
        "score_valid = mlp.score(cv_valid, labels_valid)\n",
        "print(\"Score valid: \",score_valid)"
      ],
      "execution_count": null,
      "outputs": [
        {
          "output_type": "stream",
          "name": "stdout",
          "text": [
            "Iteration 1, loss = 0.90106436\n",
            "Validation score: 0.632470\n",
            "Iteration 2, loss = 0.75679875\n",
            "Validation score: 0.634927\n",
            "Iteration 3, loss = 0.70413542\n",
            "Validation score: 0.631396\n",
            "Iteration 4, loss = 0.67041190\n",
            "Validation score: 0.627628\n",
            "Iteration 5, loss = 0.64548832\n",
            "Validation score: 0.623168\n",
            "Iteration 6, loss = 0.62460063\n",
            "Validation score: 0.620438\n",
            "Iteration 7, loss = 0.60549756\n",
            "Validation score: 0.616579\n",
            "Iteration 8, loss = 0.58822641\n",
            "Validation score: 0.616524\n",
            "Iteration 9, loss = 0.57202665\n",
            "Validation score: 0.614304\n",
            "Iteration 10, loss = 0.55622245\n",
            "Validation score: 0.612047\n",
            "Iteration 11, loss = 0.54144943\n",
            "Validation score: 0.610226\n",
            "Iteration 12, loss = 0.52791109\n",
            "Validation score: 0.609844\n",
            "Iteration 13, loss = 0.51543155\n",
            "Validation score: 0.607114\n",
            "Validation score did not improve more than tol=0.000100 for 10 consecutive epochs. Stopping.\n",
            "Score train:  0.7126784098790062\n",
            "Score valid:  0.6480390164600691\n"
          ]
        }
      ]
    },
    {
      "cell_type": "code",
      "metadata": {
        "colab": {
          "base_uri": "https://localhost:8080/"
        },
        "id": "Ip0EL-1Zc9aY",
        "outputId": "3e2ef138-ec7e-49b7-a1d3-de1e36c1d2d4"
      },
      "source": [
        "cv = CountVectorizer(max_df = 0.3, min_df=1, ngram_range = (1,2)) \n",
        "cv_train = cv.fit_transform(pre_procesado_4)\n",
        " \n",
        "\n",
        "mlp = MLPClassifier(hidden_layer_sizes=(20, 10, 20), max_iter=50, early_stopping= True, verbose= True)\n",
        "mlp.fit(cv_train, labels_train) \n",
        "  \n",
        "score_train = mlp.score(cv_train, labels_train)\n",
        "print(\"Score train: \",score_train)\n",
        "\n",
        "cv_valid = cv.transform(pre_procesado_valid)\n",
        "\n",
        "\n",
        "score_valid = mlp.score(cv_valid, labels_valid)\n",
        "print(\"Score valid: \",score_valid)"
      ],
      "execution_count": null,
      "outputs": [
        {
          "output_type": "stream",
          "name": "stdout",
          "text": [
            "Iteration 1, loss = 0.85350072\n",
            "Validation score: 0.636129\n",
            "Iteration 2, loss = 0.65649157\n",
            "Validation score: 0.627792\n",
            "Iteration 3, loss = 0.51342125\n",
            "Validation score: 0.616743\n",
            "Iteration 4, loss = 0.42544471\n",
            "Validation score: 0.608679\n",
            "Iteration 5, loss = 0.37131110\n",
            "Validation score: 0.606713\n"
          ]
        }
      ]
    },
    {
      "cell_type": "code",
      "metadata": {
        "colab": {
          "base_uri": "https://localhost:8080/"
        },
        "id": "caPz2VdjfwD0",
        "outputId": "13e08bb9-4f2f-4ed8-e934-fc03f0447feb"
      },
      "source": [
        "cv = CountVectorizer(max_df = 0.3, min_df=4, ngram_range = (1,3)) \n",
        "cv_train = cv.fit_transform(pre_procesado)\n",
        " \n",
        "mlp = MLPClassifier(hidden_layer_sizes=(5, 10, 5), max_iter=50, early_stopping= True, verbose= True)\n",
        "mlp.fit(cv_train, labels_train)\n",
        "  \n",
        "score_train = mlp.score(cv_train, labels_train)\n",
        "print(\"Score train: \",score_train)\n",
        "\n",
        "cv_valid = cv.transform(pre_procesado_valid)\n",
        "\n",
        "score_valid = mlp.score(cv_valid, labels_valid)\n",
        "print(\"Score valid: \",score_valid)"
      ],
      "execution_count": null,
      "outputs": [
        {
          "output_type": "stream",
          "name": "stdout",
          "text": [
            "Iteration 1, loss = 0.90106436\n",
            "Validation score: 0.632470\n",
            "Iteration 2, loss = 0.75679875\n",
            "Validation score: 0.634927\n",
            "Iteration 3, loss = 0.70413542\n",
            "Validation score: 0.631396\n",
            "Iteration 4, loss = 0.67041190\n",
            "Validation score: 0.627628\n",
            "Iteration 5, loss = 0.64548832\n",
            "Validation score: 0.623168\n",
            "Iteration 6, loss = 0.62460063\n",
            "Validation score: 0.620438\n",
            "Iteration 7, loss = 0.60549756\n",
            "Validation score: 0.616579\n",
            "Iteration 8, loss = 0.58822641\n",
            "Validation score: 0.616524\n",
            "Iteration 9, loss = 0.57202665\n",
            "Validation score: 0.614304\n",
            "Iteration 10, loss = 0.55622245\n",
            "Validation score: 0.612047\n",
            "Iteration 11, loss = 0.54144943\n",
            "Validation score: 0.610226\n",
            "Iteration 12, loss = 0.52791109\n",
            "Validation score: 0.609844\n",
            "Iteration 13, loss = 0.51543155\n",
            "Validation score: 0.607114\n",
            "Validation score did not improve more than tol=0.000100 for 10 consecutive epochs. Stopping.\n",
            "Score train:  0.7126784098790062\n",
            "Score valid:  0.6480390164600691\n"
          ]
        }
      ]
    },
    {
      "cell_type": "code",
      "metadata": {
        "colab": {
          "base_uri": "https://localhost:8080/"
        },
        "id": "7wmh8fXlMYRi",
        "outputId": "dcc1f92c-3a6a-4ff2-8c8f-198b7660ede6"
      },
      "source": [
        "cv = CountVectorizer(max_df = 0.3, min_df=4, ngram_range = (1,3)) \n",
        "cv_train = cv.fit_transform(pre_procesado)\n",
        " \n",
        "mlp = MLPClassifier(hidden_layer_sizes=(8, 10, 15), max_iter=50, early_stopping= True, verbose= True)\n",
        "mlp.fit(cv_train, labels_train)\n",
        "  \n",
        "score_train = mlp.score(cv_train, labels_train)\n",
        "print(\"Score train: \",score_train)\n",
        "\n",
        "cv_valid = cv.transform(pre_procesado_valid)\n",
        "\n",
        "score_valid = mlp.score(cv_valid, labels_valid)\n",
        "print(\"Score valid: \",score_valid)"
      ],
      "execution_count": null,
      "outputs": [
        {
          "output_type": "stream",
          "name": "stdout",
          "text": [
            "Iteration 1, loss = 0.86230517\n",
            "Validation score: 0.634345\n",
            "Iteration 2, loss = 0.74182943\n",
            "Validation score: 0.631705\n",
            "Iteration 3, loss = 0.68578117\n",
            "Validation score: 0.627009\n",
            "Iteration 4, loss = 0.64293308\n",
            "Validation score: 0.622677\n",
            "Iteration 5, loss = 0.60524602\n",
            "Validation score: 0.617835\n",
            "Iteration 6, loss = 0.57123795\n",
            "Validation score: 0.613175\n",
            "Iteration 7, loss = 0.54072924\n",
            "Validation score: 0.611246\n",
            "Iteration 8, loss = 0.51279211\n",
            "Validation score: 0.610499\n",
            "Iteration 9, loss = 0.48864524\n",
            "Validation score: 0.603728\n",
            "Iteration 10, loss = 0.46720862\n",
            "Validation score: 0.601234\n",
            "Iteration 11, loss = 0.44841218\n",
            "Validation score: 0.597994\n",
            "Iteration 12, loss = 0.43244022\n",
            "Validation score: 0.597776\n",
            "Validation score did not improve more than tol=0.000100 for 10 consecutive epochs. Stopping.\n",
            "Score train:  0.6913447658851005\n",
            "Score valid:  0.6488518593781751\n"
          ]
        }
      ]
    },
    {
      "cell_type": "code",
      "metadata": {
        "colab": {
          "base_uri": "https://localhost:8080/"
        },
        "id": "ZfMUkhcJQQYp",
        "outputId": "74908688-7d66-4c36-886a-825c79f9d788"
      },
      "source": [
        "cv = CountVectorizer(max_df = 0.3, min_df=4, ngram_range = (1,3)) \n",
        "cv_train = cv.fit_transform(pre_procesado)\n",
        " \n",
        "mlp = MLPClassifier(hidden_layer_sizes=(10, 10, 20), max_iter=50, early_stopping= True, verbose= True)\n",
        "mlp.fit(cv_train, labels_train)\n",
        "  \n",
        "score_train = mlp.score(cv_train, labels_train)\n",
        "print(\"Score train: \",score_train)\n",
        "\n",
        "cv_valid = cv.transform(pre_procesado_valid)\n",
        "\n",
        "score_valid = mlp.score(cv_valid, labels_valid)\n",
        "print(\"Score valid: \",score_valid)"
      ],
      "execution_count": null,
      "outputs": [
        {
          "output_type": "stream",
          "name": "stdout",
          "text": [
            "Iteration 1, loss = 0.85713168\n",
            "Validation score: 0.634964\n",
            "Iteration 2, loss = 0.73754514\n",
            "Validation score: 0.631159\n",
            "Iteration 3, loss = 0.67935475\n",
            "Validation score: 0.628010\n",
            "Iteration 4, loss = 0.63432322\n",
            "Validation score: 0.622823\n",
            "Iteration 5, loss = 0.59394904\n",
            "Validation score: 0.618381\n",
            "Iteration 6, loss = 0.55649041\n",
            "Validation score: 0.615050\n",
            "Iteration 7, loss = 0.52232541\n",
            "Validation score: 0.609425\n",
            "Iteration 8, loss = 0.49157387\n",
            "Validation score: 0.604929\n",
            "Iteration 9, loss = 0.46559709\n",
            "Validation score: 0.603728\n",
            "Iteration 10, loss = 0.44358627\n",
            "Validation score: 0.601453\n",
            "Iteration 11, loss = 0.42464907\n",
            "Validation score: 0.599377\n",
            "Iteration 12, loss = 0.40867284\n",
            "Validation score: 0.598649\n",
            "Validation score did not improve more than tol=0.000100 for 10 consecutive epochs. Stopping.\n",
            "Score train:  0.6919855033156341\n",
            "Score valid:  0.64681975208291\n"
          ]
        }
      ]
    },
    {
      "cell_type": "code",
      "metadata": {
        "colab": {
          "base_uri": "https://localhost:8080/"
        },
        "id": "qMYkCCPBUdD_",
        "outputId": "96a5b8b0-8701-4400-d165-6989c8b898dd"
      },
      "source": [
        "cv = CountVectorizer(max_df = 0.3, min_df=4, ngram_range = (1,3)) \n",
        "cv_train = cv.fit_transform(pre_procesado)\n",
        " \n",
        "mlp = MLPClassifier(hidden_layer_sizes=(10, 5, 10), max_iter=50, early_stopping= True, verbose= True)\n",
        "mlp.fit(cv_train, labels_train)\n",
        "  \n",
        "score_train = mlp.score(cv_train, labels_train)\n",
        "print(\"Score train: \",score_train)\n",
        "\n",
        "cv_valid = cv.transform(pre_procesado_valid)\n",
        "\n",
        "score_valid = mlp.score(cv_valid, labels_valid)\n",
        "print(\"Score valid: \",score_valid)"
      ],
      "execution_count": null,
      "outputs": [
        {
          "output_type": "stream",
          "name": "stdout",
          "text": [
            "Iteration 1, loss = 0.89859313\n",
            "Validation score: 0.633762\n",
            "Iteration 2, loss = 0.75531210\n",
            "Validation score: 0.634636\n",
            "Iteration 3, loss = 0.70000307\n",
            "Validation score: 0.629394\n",
            "Iteration 4, loss = 0.66129434\n",
            "Validation score: 0.625535\n",
            "Iteration 5, loss = 0.62910848\n",
            "Validation score: 0.621803\n",
            "Iteration 6, loss = 0.60040827\n",
            "Validation score: 0.618599\n",
            "Iteration 7, loss = 0.57372504\n",
            "Validation score: 0.614449\n",
            "Iteration 8, loss = 0.54974992\n",
            "Validation score: 0.613321\n",
            "Iteration 9, loss = 0.52708187\n",
            "Validation score: 0.610645\n",
            "Iteration 10, loss = 0.50603912\n",
            "Validation score: 0.605585\n",
            "Iteration 11, loss = 0.48661654\n",
            "Validation score: 0.604711\n",
            "Iteration 12, loss = 0.46846078\n",
            "Validation score: 0.602326\n",
            "Iteration 13, loss = 0.45162919\n",
            "Validation score: 0.599742\n",
            "Validation score did not improve more than tol=0.000100 for 10 consecutive epochs. Stopping.\n",
            "Score train:  0.7140272349813512\n",
            "Score valid:  0.6496647022962813\n"
          ]
        }
      ]
    },
    {
      "cell_type": "code",
      "metadata": {
        "colab": {
          "base_uri": "https://localhost:8080/"
        },
        "id": "dhp1ocMxYkeW",
        "outputId": "aa3b7a48-510e-4996-9cdc-33d8ea76d560"
      },
      "source": [
        "cv = CountVectorizer(max_df = 0.3, min_df=4, ngram_range = (1,3)) \n",
        "cv_train = cv.fit_transform(pre_procesado)\n",
        " \n",
        "mlp = MLPClassifier(hidden_layer_sizes=(5, 10, 5), max_iter=50, early_stopping= True, verbose= True)\n",
        "mlp.fit(cv_train, labels_train)\n",
        "  \n",
        "score_train = mlp.score(cv_train, labels_train)\n",
        "print(\"Score train: \",score_train)\n",
        "\n",
        "cv_valid = cv.transform(pre_procesado_valid)\n",
        "\n",
        "score_valid = mlp.score(cv_valid, labels_valid)\n",
        "print(\"Score valid: \",score_valid)"
      ],
      "execution_count": null,
      "outputs": [
        {
          "output_type": "stream",
          "name": "stdout",
          "text": [
            "Iteration 1, loss = 0.88027813\n",
            "Validation score: 0.632306\n",
            "Iteration 2, loss = 0.75241797\n",
            "Validation score: 0.633562\n",
            "Iteration 3, loss = 0.70125143\n",
            "Validation score: 0.628047\n",
            "Iteration 4, loss = 0.66769703\n",
            "Validation score: 0.623733\n",
            "Iteration 5, loss = 0.64115542\n",
            "Validation score: 0.617780\n",
            "Iteration 6, loss = 0.61887540\n",
            "Validation score: 0.614012\n",
            "Iteration 7, loss = 0.59913632\n",
            "Validation score: 0.612702\n",
            "Iteration 8, loss = 0.58170440\n",
            "Validation score: 0.610026\n",
            "Iteration 9, loss = 0.56534193\n",
            "Validation score: 0.607824\n",
            "Iteration 10, loss = 0.55096908\n",
            "Validation score: 0.607223\n",
            "Iteration 11, loss = 0.53758861\n",
            "Validation score: 0.602035\n",
            "Iteration 12, loss = 0.52571315\n",
            "Validation score: 0.603400\n",
            "Iteration 13, loss = 0.51463179\n",
            "Validation score: 0.601307\n",
            "Validation score did not improve more than tol=0.000100 for 10 consecutive epochs. Stopping.\n",
            "Score train:  0.714637027706433\n",
            "Score valid:  0.6497663076610445\n"
          ]
        }
      ]
    },
    {
      "cell_type": "code",
      "metadata": {
        "colab": {
          "base_uri": "https://localhost:8080/"
        },
        "id": "MHDqNmTiZv4o",
        "outputId": "3a904af5-c992-4366-acec-e224da36bdc5"
      },
      "source": [
        "cv = CountVectorizer(max_df = 0.3, min_df=4, ngram_range = (1,3)) \n",
        "cv_train = cv.fit_transform(pre_procesado)\n",
        " \n",
        "mlp = MLPClassifier(hidden_layer_sizes=(5, 3, 5), max_iter=50, early_stopping= True, verbose= True)\n",
        "mlp.fit(cv_train, labels_train)\n",
        "  \n",
        "score_train = mlp.score(cv_train, labels_train)\n",
        "print(\"Score train: \",score_train)\n",
        "\n",
        "cv_valid = cv.transform(pre_procesado_valid)\n",
        "\n",
        "score_valid = mlp.score(cv_valid, labels_valid)\n",
        "print(\"Score valid: \",score_valid)"
      ],
      "execution_count": null,
      "outputs": [
        {
          "output_type": "stream",
          "name": "stdout",
          "text": [
            "Iteration 1, loss = 0.88786967\n",
            "Validation score: 0.627628\n",
            "Iteration 2, loss = 0.75214470\n",
            "Validation score: 0.630413\n",
            "Iteration 3, loss = 0.69969151\n",
            "Validation score: 0.627391\n",
            "Iteration 4, loss = 0.66631220\n",
            "Validation score: 0.622167\n",
            "Iteration 5, loss = 0.64138466\n",
            "Validation score: 0.619237\n",
            "Iteration 6, loss = 0.62076960\n",
            "Validation score: 0.617926\n",
            "Iteration 7, loss = 0.60309708\n",
            "Validation score: 0.612429\n",
            "Iteration 8, loss = 0.58749642\n",
            "Validation score: 0.612829\n",
            "Iteration 9, loss = 0.57330341\n",
            "Validation score: 0.609262\n",
            "Iteration 10, loss = 0.56070773\n",
            "Validation score: 0.608333\n",
            "Iteration 11, loss = 0.54893362\n",
            "Validation score: 0.606495\n",
            "Iteration 12, loss = 0.53837562\n",
            "Validation score: 0.604092\n",
            "Iteration 13, loss = 0.52840656\n",
            "Validation score: 0.603892\n",
            "Validation score did not improve more than tol=0.000100 for 10 consecutive epochs. Stopping.\n",
            "Score train:  0.7114187783394343\n",
            "Score valid:  0.6478358057305426\n"
          ]
        }
      ]
    },
    {
      "cell_type": "markdown",
      "metadata": {
        "id": "_QoN6XObgsrG"
      },
      "source": [
        "Se llegó a que el mejor score se obtiene con 3 capas de 12, 10 y 7 neuronas. "
      ]
    },
    {
      "cell_type": "code",
      "metadata": {
        "colab": {
          "base_uri": "https://localhost:8080/"
        },
        "id": "iMEl6b7fhcRW",
        "outputId": "6b988501-c8b9-4f9a-bdac-30d543eb516b"
      },
      "source": [
        "cv = CountVectorizer(max_df = 0.3, min_df=4, ngram_range = (1,3)) \n",
        "cv_train = cv.fit_transform(pre_procesado)\n",
        " \n",
        "\n",
        "mlp = MLPClassifier(hidden_layer_sizes=(12, 10, 7), max_iter=50, early_stopping= True, verbose= True)\n",
        "mlp.fit(cv_train, labels_train) \n",
        "  \n",
        "score_train = mlp.score(cv_train, labels_train)\n",
        "print(\"Score train: \",score_train)\n",
        "\n",
        "cv_valid = cv.transform(pre_procesado_valid)\n",
        "\n",
        "\n",
        "score_valid = mlp.score(cv_valid, labels_valid)\n",
        "print(\"Score valid: \",score_valid)"
      ],
      "execution_count": null,
      "outputs": [
        {
          "output_type": "stream",
          "name": "stdout",
          "text": [
            "Iteration 1, loss = 0.86572901\n",
            "Validation score: 0.634381\n",
            "Iteration 2, loss = 0.74197337\n",
            "Validation score: 0.630668\n",
            "Iteration 3, loss = 0.68597138\n",
            "Validation score: 0.628374\n",
            "Iteration 4, loss = 0.64020358\n",
            "Validation score: 0.620693\n",
            "Iteration 5, loss = 0.59852202\n",
            "Validation score: 0.618163\n",
            "Iteration 6, loss = 0.56060213\n",
            "Validation score: 0.613066\n",
            "Iteration 7, loss = 0.52645102\n",
            "Validation score: 0.606986\n",
            "Iteration 8, loss = 0.49667676\n",
            "Validation score: 0.603218\n",
            "Iteration 9, loss = 0.47034844\n",
            "Validation score: 0.601362\n",
            "Iteration 10, loss = 0.44815297\n",
            "Validation score: 0.600269\n",
            "Iteration 11, loss = 0.42904452\n",
            "Validation score: 0.597503\n",
            "Iteration 12, loss = 0.41284684\n",
            "Validation score: 0.595191\n",
            "Validation score did not improve more than tol=0.000100 for 10 consecutive epochs. Stopping.\n",
            "Score train:  0.6921202037981895\n",
            "Score valid:  0.6494614915667547\n"
          ]
        }
      ]
    },
    {
      "cell_type": "code",
      "metadata": {
        "colab": {
          "base_uri": "https://localhost:8080/"
        },
        "id": "ud6z3YAemCiT",
        "outputId": "464393a9-d12d-41ef-e0ea-34d81b314d7c"
      },
      "source": [
        "cv = CountVectorizer(max_df = 0.3, min_df=3, ngram_range = (1,2)) \n",
        "cv_train = cv.fit_transform(pre_procesado)\n",
        " \n",
        "\n",
        "mlp = MLPClassifier(hidden_layer_sizes=(12, 10, 7), max_iter=50, early_stopping= True, verbose= True)\n",
        "mlp.fit(cv_train, labels_train) \n",
        "  \n",
        "score_train = mlp.score(cv_train, labels_train)\n",
        "print(\"Score train: \",score_train)\n",
        "\n",
        "cv_valid = cv.transform(pre_procesado_valid)\n",
        "\n",
        "\n",
        "score_valid = mlp.score(cv_valid, labels_valid)\n",
        "print(\"Score valid: \",score_valid)"
      ],
      "execution_count": null,
      "outputs": [
        {
          "output_type": "stream",
          "name": "stdout",
          "text": [
            "Iteration 1, loss = 0.86537060\n",
            "Validation score: 0.637876\n",
            "Iteration 2, loss = 0.74250840\n",
            "Validation score: 0.636839\n",
            "Iteration 3, loss = 0.68432273\n",
            "Validation score: 0.632069\n",
            "Iteration 4, loss = 0.63800574\n",
            "Validation score: 0.627519\n",
            "Iteration 5, loss = 0.59687667\n",
            "Validation score: 0.622076\n",
            "Iteration 6, loss = 0.55954784\n",
            "Validation score: 0.616433\n",
            "Iteration 7, loss = 0.52600430\n",
            "Validation score: 0.613303\n",
            "Iteration 8, loss = 0.49649077\n",
            "Validation score: 0.609917\n",
            "Iteration 9, loss = 0.47179323\n",
            "Validation score: 0.605330\n",
            "Iteration 10, loss = 0.45031168\n",
            "Validation score: 0.603054\n",
            "Iteration 11, loss = 0.43200108\n",
            "Validation score: 0.603255\n",
            "Iteration 12, loss = 0.41644393\n",
            "Validation score: 0.600397\n",
            "Validation score did not improve more than tol=0.000100 for 10 consecutive epochs. Stopping.\n",
            "Score train:  0.6881920464825881\n",
            "Score valid:  0.6546433651696809\n"
          ]
        }
      ]
    },
    {
      "cell_type": "markdown",
      "metadata": {
        "id": "LpOqFJu7iEN1"
      },
      "source": [
        "#### PREDICCION"
      ]
    },
    {
      "cell_type": "code",
      "metadata": {
        "id": "fVkmFlxUqf9X"
      },
      "source": [
        "pre_procesado_test = pre_procesamiento(text_test,t,f,t,f)"
      ],
      "execution_count": null,
      "outputs": []
    },
    {
      "cell_type": "code",
      "metadata": {
        "id": "e5bH3NIMDQCt"
      },
      "source": [
        "cv = CountVectorizer(max_df = 0.3, min_df=3, ngram_range = (1,2)) \n",
        "cv_train = cv.fit_transform(pre_procesado)"
      ],
      "execution_count": null,
      "outputs": []
    },
    {
      "cell_type": "code",
      "metadata": {
        "id": "kqQv1PVxqe19"
      },
      "source": [
        "cv_test = cv.transform(pre_procesado_test)\n",
        "test_labels = mlp.predict(cv_test)"
      ],
      "execution_count": null,
      "outputs": []
    },
    {
      "cell_type": "code",
      "metadata": {
        "colab": {
          "base_uri": "https://localhost:8080/"
        },
        "id": "mvOTNrZqrD6j",
        "outputId": "8aff967d-ea46-4d65-bbda-4ebfb65412ec"
      },
      "source": [
        "test_labels"
      ],
      "execution_count": null,
      "outputs": [
        {
          "output_type": "execute_result",
          "data": {
            "text/plain": [
              "array(['contradiction', 'neutral', 'neutral', ..., 'contradiction',\n",
              "       'entailment', 'contradiction'], dtype='<U13')"
            ]
          },
          "metadata": {},
          "execution_count": 23
        }
      ]
    },
    {
      "cell_type": "markdown",
      "metadata": {
        "id": "g9nty0KirbDv"
      },
      "source": [
        "Armamos el submission"
      ]
    },
    {
      "cell_type": "code",
      "metadata": {
        "id": "ggnba_V6rc6n"
      },
      "source": [
        "df_test = pd.DataFrame(data=test_labels, columns=[\"pred_labels\"],)\n",
        "df_test.head()\n",
        "df_test.index.names = [\"pairID\"]\n",
        "df_test.to_csv(\"MLP_test_entrega.csv\")"
      ],
      "execution_count": null,
      "outputs": []
    },
    {
      "cell_type": "markdown",
      "metadata": {
        "id": "BuF4ik7XrLAu"
      },
      "source": [
        "#### METRICAS"
      ]
    },
    {
      "cell_type": "code",
      "metadata": {
        "colab": {
          "base_uri": "https://localhost:8080/"
        },
        "id": "IhMQpNmprMih",
        "outputId": "2f9a7988-d6f0-4aa2-a31b-5088156bde5d"
      },
      "source": [
        "from sklearn.metrics import classification_report\n",
        "\n",
        "cv_metrics = cv.transform(pre_procesado_valid)\n",
        "valid_labels_metrics = mlp.predict(cv_metrics)\n",
        "\n",
        "print(classification_report(valid_labels_metrics, labels_valid))"
      ],
      "execution_count": null,
      "outputs": [
        {
          "output_type": "stream",
          "name": "stdout",
          "text": [
            "               precision    recall  f1-score   support\n",
            "\n",
            "contradiction       0.67      0.64      0.66      3388\n",
            "   entailment       0.67      0.67      0.67      3317\n",
            "      neutral       0.63      0.65      0.64      3137\n",
            "\n",
            "     accuracy                           0.65      9842\n",
            "    macro avg       0.65      0.65      0.65      9842\n",
            " weighted avg       0.65      0.65      0.65      9842\n",
            "\n"
          ]
        }
      ]
    },
    {
      "cell_type": "code",
      "metadata": {
        "id": "rVbucUX9G92o"
      },
      "source": [
        "from sklearn.metrics import roc_auc_score\n",
        "\n",
        "roc_auc_score(labels_valid, valid_labels_metrics, multi_class='ovr')"
      ],
      "execution_count": null,
      "outputs": []
    },
    {
      "cell_type": "markdown",
      "metadata": {
        "id": "0xMvIRozH3u3"
      },
      "source": [
        "## CONCLUSIONES"
      ]
    },
    {
      "cell_type": "markdown",
      "metadata": {
        "id": "6-M0jRBEH5fE"
      },
      "source": [
        "Al comparar ambos modelos clasificadores, se llega a que con MLP se obtiene mayor accuracy que en el modelo Multinomial de Naive Bayes. Esto se puede deber a que Naive Bayes es un enfoque puramente probabilístico para la clasificación, donde la idea es usar la probabilidad de la frecuencia con la que ocurren las palabras en las clases para determinar la probabilidad de que una oración pertenezca a una determinada clase. La parte *naive* del método es la suposición de que las características (palabras) son independientes entre sí; con lo cual, al estar trabajando con frases, la relación entre las palabras no es del todo independiente. En cambio, en MLP se trabaja en base a un método de regresión logística, en el cual se mide la relación entre la variable dependiente categórica y una o más variables independientes mediante la estimación de probabilidades utilizando una función de activación no lineal."
      ]
    },
    {
      "cell_type": "markdown",
      "metadata": {
        "id": "fb2JRPWcN2Q3"
      },
      "source": [
        "En cuanto al sesgo de datos del dataset, concluimos que se trata de una muestra que no es lo suficientemente representativa, es decir, que hay sesgos. Esto es porque, al probar con diferentes modelos, variando los parámetros, nunca se llega a una performance mejor que el 70%, con lo cual concluimos que va más allá del clasificador empleado, y pasa a ser un problema del sesgo del dataset. Además, sabemos de clase que test es sesgado, suele estar un poco por debajo de lo obtenido con CV; esto es porque al probar en muchos modelos, al validar siempre con CV, probablemente de todos esos modelos, un par sean bastante buenos, y de ese par se elige al que mejor se ajusta a CV y no a datos desconocidos."
      ]
    }
  ]
}