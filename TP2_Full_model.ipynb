{
  "nbformat": 4,
  "nbformat_minor": 0,
  "metadata": {
    "colab": {
      "name": "TP2 Full model.ipynb",
      "provenance": [],
      "collapsed_sections": [
        "MP0Lhq46mquL",
        "-nist5Uam1OC",
        "VBZwTjFOsuFo",
        "afDThJeOueYs",
        "B_Rscu6Guihm",
        "e5rfivdUx8ib",
        "_xs5shP40s6w",
        "QYZdlroi0jv3",
        "g7TVAo561BuH",
        "sWw1Je4l1oB3",
        "WXscNGTU3MOB",
        "GWFn7dZu8Iae",
        "Daz0yIBE85bu",
        "mSJwsWOu_yyk",
        "NzpyPRrDAFeI",
        "GYeZGHTEAQlj",
        "0H3jLB2sCWxD",
        "eVjr0FejFMhg",
        "WHkpe9HCFYzT",
        "w99ArnqXH2NC",
        "ZHgaVEtBH7Zn",
        "UM8lqUjmJsE0",
        "wECTKjkQMlnF",
        "PqEqF1g4MzX5",
        "kiJR8pX6O2Em",
        "TK4XG0myP5qd",
        "Ytg7sH7PQEGQ",
        "4zju5OnRaAZS"
      ]
    },
    "kernelspec": {
      "display_name": "Python 3",
      "name": "python3"
    },
    "language_info": {
      "name": "python"
    }
  },
  "cells": [
    {
      "cell_type": "markdown",
      "metadata": {
        "id": "MP0Lhq46mquL"
      },
      "source": [
        "#**COMPETENCIA**"
      ]
    },
    {
      "cell_type": "markdown",
      "metadata": {
        "id": "_vC1njm0T0Ef"
      },
      "source": [
        "Rossmann operates over 3,000 drug stores in 7 European countries. Currently, Rossmann store managers are tasked with predicting their daily sales for up to six weeks in advance. Store sales are influenced by many factors, including promotions, competition, school and state holidays, seasonality, and locality. With thousands of individual managers predicting sales based on their unique circumstances, the accuracy of results can be quite varied."
      ]
    },
    {
      "cell_type": "markdown",
      "metadata": {
        "id": "QFLkex0eUJOt"
      },
      "source": [
        "Submissions are evaluated on the Root Mean Square Percentage Error (RMSPE). The RMSPE is calculated as\n",
        "\n",
        "$\\textrm{RMSPE} = \\sqrt{\\frac{1}{n} \\sum_{i=1}^{n} \\left(\\frac{y_i - \\hat{y}_i}{y_i}\\right)^2}$\n",
        "\n",
        "where y_i denotes the sales of a single store on a single day and yhat_i denotes the corresponding prediction. Any day and store with 0 sales is ignored in scoring.\n",
        "\n"
      ]
    },
    {
      "cell_type": "markdown",
      "metadata": {
        "id": "ZjfkL8q-mw3P"
      },
      "source": [
        "#**DESARROLLO**"
      ]
    },
    {
      "cell_type": "markdown",
      "metadata": {
        "id": "-nist5Uam1OC"
      },
      "source": [
        "## IMPORTAMOS LIBRERIAS Y MONTAMOS A DRIVE"
      ]
    },
    {
      "cell_type": "code",
      "metadata": {
        "colab": {
          "base_uri": "https://localhost:8080/"
        },
        "id": "vp1tRd76MaMt",
        "outputId": "01f2e17b-5ca6-468e-c065-9d30a97ab082"
      },
      "source": [
        "#Cargamos el drive para analizar el archivo csv\n",
        "\n",
        "# Load the Drive helper and mount\n",
        "from google.colab import drive\n",
        "\n",
        "# This will prompt for authorization.\n",
        "drive.mount('/content/drive')\n",
        "\n",
        "%cd drive\n",
        "%cd Shareddrives\n",
        "%cd Redes neuronales\n",
        "%cd TP2"
      ],
      "execution_count": null,
      "outputs": [
        {
          "output_type": "stream",
          "name": "stdout",
          "text": [
            "Drive already mounted at /content/drive; to attempt to forcibly remount, call drive.mount(\"/content/drive\", force_remount=True).\n",
            "[Errno 2] No such file or directory: 'drive'\n",
            "/content/drive/Shareddrives/Redes neuronales/TP2\n",
            "[Errno 2] No such file or directory: 'Shareddrives'\n",
            "/content/drive/Shareddrives/Redes neuronales/TP2\n",
            "[Errno 2] No such file or directory: 'Redes neuronales'\n",
            "/content/drive/Shareddrives/Redes neuronales/TP2\n",
            "[Errno 2] No such file or directory: 'TP2'\n",
            "/content/drive/Shareddrives/Redes neuronales/TP2\n"
          ]
        }
      ]
    },
    {
      "cell_type": "code",
      "metadata": {
        "colab": {
          "base_uri": "https://localhost:8080/"
        },
        "id": "XMucxqaUMyiL",
        "outputId": "5fb2b194-beb0-4580-8a87-946640f8b2d2"
      },
      "source": [
        "import pandas as pd\n",
        "!pip install pandas_summary\n",
        "from pandas_summary import DataFrameSummary\n",
        "!pip install isoweek\n",
        "from isoweek import Week\n",
        "import numpy as np\n",
        "import datetime\n",
        "from sklearn.preprocessing import LabelEncoder, StandardScaler\n",
        "from sklearn_pandas import DataFrameMapper\n",
        "from tensorflow.keras.models import Model\n",
        "from tensorflow.keras.callbacks import ModelCheckpoint\n",
        "from tensorflow.keras.optimizers import Adam\n",
        "from tensorflow.keras.layers import Embedding, Input, Flatten, Concatenate, Dense, BatchNormalization, Activation, LeakyReLU, Dropout\n",
        "from tensorflow.keras.regularizers import l2\n",
        "from tensorflow.keras import optimizers\n",
        "from tensorflow.keras import backend as K\n",
        "from tensorflow.keras.utils import to_categorical\n",
        "from tensorflow.keras import callbacks\n",
        "from tensorflow.compat.v1 import ConfigProto\n",
        "from tensorflow.compat.v1 import InteractiveSession\n",
        "config = ConfigProto()\n",
        "config.gpu_options.allow_growth = True\n",
        "session = InteractiveSession(config=config)\n",
        "from tensorflow.keras.models import Model\n",
        "from tensorflow.keras.optimizers import Adam\n",
        "from tensorflow.keras.layers import Embedding, Input, Flatten, Dense, Concatenate\n",
        "from sklearn.manifold import TSNE\n",
        "from sklearn.decomposition import PCA"
      ],
      "execution_count": null,
      "outputs": [
        {
          "output_type": "stream",
          "name": "stdout",
          "text": [
            "Requirement already satisfied: pandas_summary in /usr/local/lib/python3.7/dist-packages (0.0.7)\n",
            "Requirement already satisfied: pandas in /usr/local/lib/python3.7/dist-packages (from pandas_summary) (1.1.5)\n",
            "Requirement already satisfied: numpy in /usr/local/lib/python3.7/dist-packages (from pandas_summary) (1.19.5)\n",
            "Requirement already satisfied: python-dateutil>=2.7.3 in /usr/local/lib/python3.7/dist-packages (from pandas->pandas_summary) (2.8.2)\n",
            "Requirement already satisfied: pytz>=2017.2 in /usr/local/lib/python3.7/dist-packages (from pandas->pandas_summary) (2018.9)\n",
            "Requirement already satisfied: six>=1.5 in /usr/local/lib/python3.7/dist-packages (from python-dateutil>=2.7.3->pandas->pandas_summary) (1.15.0)\n",
            "Requirement already satisfied: isoweek in /usr/local/lib/python3.7/dist-packages (1.3.3)\n"
          ]
        },
        {
          "output_type": "stream",
          "name": "stderr",
          "text": [
            "/usr/local/lib/python3.7/dist-packages/tensorflow/python/client/session.py:1766: UserWarning: An interactive session is already active. This can cause out-of-memory errors in some cases. You must explicitly call `InteractiveSession.close()` to release resources held by the other session(s).\n",
            "  warnings.warn('An interactive session is already active. This can '\n"
          ]
        }
      ]
    },
    {
      "cell_type": "code",
      "metadata": {
        "id": "DoR4ot2iNEUT"
      },
      "source": [
        "PATH = '/content/drive/Shareddrives/Redes neuronales/TP2/kaggle-rossmann-master/rossmann/'"
      ],
      "execution_count": null,
      "outputs": []
    },
    {
      "cell_type": "code",
      "metadata": {
        "id": "d2_80Qy5Mtj-"
      },
      "source": [
        "#importamos archivos\n",
        "table_names = ['train', 'test', 'store', 'store_states', 'state_names', 'googletrend', 'weather']\n",
        "train, test, store, store_states, state_names, googletrend, weather = dfs = [pd.read_csv(PATH + fname+'.csv', \n",
        "                                                                             low_memory=False) for fname in table_names]"
      ],
      "execution_count": null,
      "outputs": []
    },
    {
      "cell_type": "markdown",
      "metadata": {
        "id": "VBZwTjFOsuFo"
      },
      "source": [
        "##PREPROCESAMIENTO"
      ]
    },
    {
      "cell_type": "markdown",
      "metadata": {
        "id": "afDThJeOueYs"
      },
      "source": [
        "###Datos tipo NaN"
      ]
    },
    {
      "cell_type": "markdown",
      "metadata": {
        "id": "hIfT-m5KVVCW"
      },
      "source": [
        "Nos fijamos qué tipos de datos hay en 'Open'"
      ]
    },
    {
      "cell_type": "code",
      "metadata": {
        "colab": {
          "base_uri": "https://localhost:8080/"
        },
        "id": "Y4m2lmbcoj7E",
        "outputId": "bd70ef39-cc61-4aed-9928-59bf6a2e9a95"
      },
      "source": [
        "print(test['Open'].unique())"
      ],
      "execution_count": null,
      "outputs": [
        {
          "output_type": "stream",
          "name": "stdout",
          "text": [
            "[ 1. nan  0.]\n"
          ]
        }
      ]
    },
    {
      "cell_type": "markdown",
      "metadata": {
        "id": "KnP8GyQQVYr9"
      },
      "source": [
        "Como encontramos un NaN, lo vamos a reemplazar"
      ]
    },
    {
      "cell_type": "code",
      "metadata": {
        "colab": {
          "base_uri": "https://localhost:8080/"
        },
        "id": "tUd-vxmvonrH",
        "outputId": "bf79983b-cf83-4811-9f6b-fcfaf861b5e1"
      },
      "source": [
        "aux = test\n",
        "aux.loc[aux['Open'].isna(), 'Open']"
      ],
      "execution_count": null,
      "outputs": [
        {
          "output_type": "execute_result",
          "data": {
            "text/plain": [
              "479     NaN\n",
              "1335    NaN\n",
              "2191    NaN\n",
              "3047    NaN\n",
              "4759    NaN\n",
              "5615    NaN\n",
              "6471    NaN\n",
              "7327    NaN\n",
              "8183    NaN\n",
              "9039    NaN\n",
              "10751   NaN\n",
              "Name: Open, dtype: float64"
            ]
          },
          "metadata": {},
          "execution_count": 408
        }
      ]
    },
    {
      "cell_type": "code",
      "metadata": {
        "colab": {
          "base_uri": "https://localhost:8080/"
        },
        "id": "wSCPXrqnpIfX",
        "outputId": "3c2f215e-8f7d-42c7-c8bd-459192628073"
      },
      "source": [
        "aux[aux['Open'].isna()]['DayOfWeek']"
      ],
      "execution_count": null,
      "outputs": [
        {
          "output_type": "execute_result",
          "data": {
            "text/plain": [
              "479      4\n",
              "1335     3\n",
              "2191     2\n",
              "3047     1\n",
              "4759     6\n",
              "5615     5\n",
              "6471     4\n",
              "7327     3\n",
              "8183     2\n",
              "9039     1\n",
              "10751    6\n",
              "Name: DayOfWeek, dtype: int64"
            ]
          },
          "metadata": {},
          "execution_count": 409
        }
      ]
    },
    {
      "cell_type": "code",
      "metadata": {
        "colab": {
          "base_uri": "https://localhost:8080/"
        },
        "id": "pBu8Vlpsqhkn",
        "outputId": "488cd4ce-6eaf-475c-ce21-6b6d9c999114"
      },
      "source": [
        "(test[test['Open'].isna()]['DayOfWeek'] != 7)*1.0"
      ],
      "execution_count": null,
      "outputs": [
        {
          "output_type": "execute_result",
          "data": {
            "text/plain": [
              "479      1.0\n",
              "1335     1.0\n",
              "2191     1.0\n",
              "3047     1.0\n",
              "4759     1.0\n",
              "5615     1.0\n",
              "6471     1.0\n",
              "7327     1.0\n",
              "8183     1.0\n",
              "9039     1.0\n",
              "10751    1.0\n",
              "Name: DayOfWeek, dtype: float64"
            ]
          },
          "metadata": {},
          "execution_count": 410
        }
      ]
    },
    {
      "cell_type": "markdown",
      "metadata": {
        "id": "ZttFvbZAqmJN"
      },
      "source": [
        "A continuación, teniendo en cuenta que las tiendas abrirán todos los días de la semana salvo los domingos (día nro 7) se transforman los valores NaN de la columna 'Open' a 1 (es decir, que abre la tienda) en los casos que correspondan. Para los días domingos por el momento permanecen como NaN."
      ]
    },
    {
      "cell_type": "code",
      "metadata": {
        "id": "nxVzgFk9O0IN"
      },
      "source": [
        "test.loc[test['Open'].isna(), 'Open'] = (test[test['Open'].isna()]['DayOfWeek'] != 7)*1.0"
      ],
      "execution_count": null,
      "outputs": []
    },
    {
      "cell_type": "markdown",
      "metadata": {
        "id": "Xh5d8O9LV2em"
      },
      "source": [
        "Nos fijamos lo mismo para CompetitionOpenSinceYear"
      ]
    },
    {
      "cell_type": "code",
      "metadata": {
        "colab": {
          "base_uri": "https://localhost:8080/"
        },
        "id": "yaujeYT0rVqI",
        "outputId": "dc02a1a2-958e-4bd8-f8fc-6aa04cfe107e"
      },
      "source": [
        "print(store['CompetitionOpenSinceYear'].unique())"
      ],
      "execution_count": null,
      "outputs": [
        {
          "output_type": "stream",
          "name": "stdout",
          "text": [
            "[2008. 2007. 2006. 2009. 2015. 2013. 2014. 2000. 2011.   nan 2010. 2005.\n",
            " 1999. 2003. 2012. 2004. 2002. 1961. 1995. 2001. 1990. 1994. 1900. 1998.]\n"
          ]
        }
      ]
    },
    {
      "cell_type": "markdown",
      "metadata": {
        "id": "pRwCj5jtrrgP"
      },
      "source": [
        "Además de presentar datos tipo NaN, también notamos que el espectro de años es muy grande. Para evitar entonces outliers  se establece como año mínimo 1990:"
      ]
    },
    {
      "cell_type": "code",
      "metadata": {
        "id": "p4iQMTVQPSDF"
      },
      "source": [
        "store.loc[store['CompetitionOpenSinceYear'].isna() | (store['CompetitionOpenSinceYear']<1990), 'CompetitionOpenSinceYear'] = np.int32(1990)\n",
        "store.loc[store['CompetitionOpenSinceMonth'].isna() | (store['CompetitionOpenSinceYear']<1990), 'CompetitionOpenSinceMonth'] = np.int32(1)"
      ],
      "execution_count": null,
      "outputs": []
    },
    {
      "cell_type": "markdown",
      "metadata": {
        "id": "CQxHRbozryCZ"
      },
      "source": [
        "Checkeamos si hay NaN values en 'CompetitionDistance'"
      ]
    },
    {
      "cell_type": "code",
      "metadata": {
        "colab": {
          "base_uri": "https://localhost:8080/"
        },
        "id": "m320vYgJsKu_",
        "outputId": "75eaa555-1717-48eb-c7e0-1b110f321026"
      },
      "source": [
        "store['CompetitionDistance'].isnull().values.any()"
      ],
      "execution_count": null,
      "outputs": [
        {
          "output_type": "execute_result",
          "data": {
            "text/plain": [
              "True"
            ]
          },
          "metadata": {},
          "execution_count": 414
        }
      ]
    },
    {
      "cell_type": "markdown",
      "metadata": {
        "id": "vGLqsJOuskl1"
      },
      "source": [
        "Efectivamente hay NaN values, con lo cual se procede a reemplazar estos valores por el valor máximo:"
      ]
    },
    {
      "cell_type": "code",
      "metadata": {
        "colab": {
          "base_uri": "https://localhost:8080/"
        },
        "id": "1BoooEAUPcGU",
        "outputId": "07a92098-5c50-48e2-d113-6ed15e68279f"
      },
      "source": [
        "print(store['CompetitionDistance'].max(), store['CompetitionDistance'].mean(), store['CompetitionDistance'].min())\n",
        "store.loc[store['CompetitionDistance'].isna(), 'CompetitionDistance'] = store['CompetitionDistance'].max()"
      ],
      "execution_count": null,
      "outputs": [
        {
          "output_type": "stream",
          "name": "stdout",
          "text": [
            "75860.0 5404.901079136691 20.0\n"
          ]
        }
      ]
    },
    {
      "cell_type": "markdown",
      "metadata": {
        "id": "kGgx9L01s1Ec"
      },
      "source": [
        "Teniendo en cuenta que 'Promo2SinceWeek' describe el año y la semana calendario en que la tienda comenzó a participar en Promo2, reemplazamos los NaN values de 'Promo2SinceWeek': si no tiene Promo2 entonces la semana en donde empezó es cero. Se tendrá de esta forma una variable del tipo categórica"
      ]
    },
    {
      "cell_type": "code",
      "metadata": {
        "id": "JPRUp0ScPgMk"
      },
      "source": [
        "store.loc[store['Promo2SinceWeek'].isna() & (store['Promo2'] == 0), 'Promo2SinceWeek'] = np.int32(1)\n",
        "store.loc[store['Promo2SinceYear'].isna() & (store['Promo2'] == 0), 'Promo2SinceYear'] = np.int32(1990)\n",
        "store.loc[store['PromoInterval'].isna() & (store['Promo2'] == 0), 'PromoInterval'] = '-'"
      ],
      "execution_count": null,
      "outputs": []
    },
    {
      "cell_type": "code",
      "metadata": {
        "colab": {
          "base_uri": "https://localhost:8080/"
        },
        "id": "R7qO3NxgW2wD",
        "outputId": "62bded7e-5cbc-4460-99f6-8c1a8502258e"
      },
      "source": [
        "print(store['Promo2SinceWeek'].unique())\n",
        "print(store['Promo2SinceYear'].unique())\n",
        "print(store['PromoInterval'].unique())\n",
        "print(store['Promo2'].unique())"
      ],
      "execution_count": null,
      "outputs": [
        {
          "output_type": "stream",
          "name": "stdout",
          "text": [
            "[ 1. 13. 14. 45. 40. 26. 22.  5.  6. 10. 31. 37.  9. 39. 27. 18. 35. 23.\n",
            " 48. 36. 50. 44. 49. 28.]\n",
            "[1990. 2010. 2011. 2012. 2009. 2014. 2015. 2013.]\n",
            "['-' 'Jan,Apr,Jul,Oct' 'Feb,May,Aug,Nov' 'Mar,Jun,Sept,Dec']\n",
            "[0 1]\n"
          ]
        }
      ]
    },
    {
      "cell_type": "markdown",
      "metadata": {
        "id": "S9_WDRt7t9OP"
      },
      "source": [
        "Se agregan datos externos del clima. Suponemos para ello que son días tranquilos. Estos podrían mejorar la predicción, sin embargo no se van a utilizar. "
      ]
    },
    {
      "cell_type": "code",
      "metadata": {
        "id": "EtBfxlKoPi-R"
      },
      "source": [
        "weather.loc[weather['Max_VisibilityKm'].isna(), 'Max_VisibilityKm'] = weather['Max_VisibilityKm'].max()\n",
        "weather.loc[weather['Mean_VisibilityKm'].isna(), 'Mean_VisibilityKm'] = weather['Mean_VisibilityKm'].max()\n",
        "weather.loc[weather['Min_VisibilitykM'].isna(), 'Min_VisibilitykM'] = weather['Min_VisibilitykM'].max()\n",
        "weather.loc[weather['Max_Gust_SpeedKm_h'].isna(), 'Max_Gust_SpeedKm_h'] = weather['Max_Gust_SpeedKm_h'].min()\n",
        "weather.loc[weather['CloudCover'].isna(), 'CloudCover'] = weather['CloudCover'].min()\n",
        "weather.loc[weather['Events'].isna(), 'Events'] = 'Sunny'"
      ],
      "execution_count": null,
      "outputs": []
    },
    {
      "cell_type": "markdown",
      "metadata": {
        "id": "B_Rscu6Guihm"
      },
      "source": [
        "###Formato fechas"
      ]
    },
    {
      "cell_type": "code",
      "metadata": {
        "colab": {
          "base_uri": "https://localhost:8080/"
        },
        "id": "B_TsDRUXZW54",
        "outputId": "41a60880-a747-448a-d647-1611b1ae6522"
      },
      "source": [
        "print(store['CompetitionOpenSinceYear'].unique())\n",
        "print(store['CompetitionOpenSinceMonth'].unique())\n",
        "print(store['Promo2SinceWeek'].unique())\n",
        "print(store['Promo2SinceYear'].unique())"
      ],
      "execution_count": null,
      "outputs": [
        {
          "output_type": "stream",
          "name": "stdout",
          "text": [
            "[2008. 2007. 2006. 2009. 2015. 2013. 2014. 2000. 2011. 1990. 2010. 2005.\n",
            " 1999. 2003. 2012. 2004. 2002. 1995. 2001. 1994. 1998.]\n",
            "[ 9. 11. 12.  4. 10.  8.  1.  3.  6.  5.  2.  7.]\n",
            "[ 1. 13. 14. 45. 40. 26. 22.  5.  6. 10. 31. 37.  9. 39. 27. 18. 35. 23.\n",
            " 48. 36. 50. 44. 49. 28.]\n",
            "[1990. 2010. 2011. 2012. 2009. 2014. 2015. 2013.]\n"
          ]
        }
      ]
    },
    {
      "cell_type": "markdown",
      "metadata": {
        "id": "21ZEL45NuqT0"
      },
      "source": [
        "Pasamos a fecha algunas columnas para despues poder ponerla en días respecto a fecha. Primero nos aseguramos que los datos sean tipo int:"
      ]
    },
    {
      "cell_type": "code",
      "metadata": {
        "id": "9LjJSiYGPliC"
      },
      "source": [
        "#Reformateamos\n",
        "store['CompetitionOpenSinceYear'] = store['CompetitionOpenSinceYear'].astype(np.int32)\n",
        "store['CompetitionOpenSinceMonth'] = store['CompetitionOpenSinceMonth'].astype(np.int32)\n",
        "store['Promo2SinceWeek'] = store['Promo2SinceWeek'].astype(np.int32)\n",
        "store['Promo2SinceYear'] = store['Promo2SinceYear'].astype(np.int32)"
      ],
      "execution_count": null,
      "outputs": []
    },
    {
      "cell_type": "markdown",
      "metadata": {
        "id": "guSxULh4xtHo"
      },
      "source": [
        "Creamos una nueva columna con fecha de apertura en formato de fecha (se toma como día inicial de la competencia al día 15, sin embargo no importa el valor inicial que se tome ya que no es relevante)\n"
      ]
    },
    {
      "cell_type": "code",
      "metadata": {
        "id": "NhKcRg-tPouo"
      },
      "source": [
        "store['CompetitionOpenSince'] = pd.to_datetime(store.apply(lambda x: datetime.datetime(\n",
        "    x.CompetitionOpenSinceYear, x.CompetitionOpenSinceMonth, 15), axis=1))"
      ],
      "execution_count": null,
      "outputs": []
    },
    {
      "cell_type": "code",
      "metadata": {
        "id": "CXQyvnGVP2FM"
      },
      "source": [
        "store[\"Promo2Since\"] = pd.to_datetime(store.apply(lambda x: Week(\n",
        "    x.Promo2SinceYear, x.Promo2SinceWeek).monday(), axis=1))"
      ],
      "execution_count": null,
      "outputs": []
    },
    {
      "cell_type": "markdown",
      "metadata": {
        "id": "e5rfivdUx8ib"
      },
      "source": [
        "### Join de tablas"
      ]
    },
    {
      "cell_type": "markdown",
      "metadata": {
        "id": "yCoAJWjdx210"
      },
      "source": [
        "Definimos función de join para unir ambas bases de datos. En la misma 'left' y 'right' corresponden a las tablas que se van a unir, mientras que 'left_on' y 'right_on' corresponden a las columnas que deben coincidir para unir las tablas:"
      ]
    },
    {
      "cell_type": "code",
      "metadata": {
        "id": "_c0J9iOYP35P"
      },
      "source": [
        "def join_df(left, right, left_on, right_on=None):\n",
        "    if right_on is None: right_on = left_on\n",
        "    return left.merge(right, how='left', left_on=left_on, right_on=right_on, \n",
        "                      suffixes=(\"\", \"_y\"))"
      ],
      "execution_count": null,
      "outputs": []
    },
    {
      "cell_type": "markdown",
      "metadata": {
        "id": "HgwnOCyGbBKA"
      },
      "source": [
        "Primero unimos las tablas agregadas: weather y state_names"
      ]
    },
    {
      "cell_type": "code",
      "metadata": {
        "id": "YCzOZnyQP6al"
      },
      "source": [
        "weather = join_df(weather, state_names, \"file\", \"StateName\")"
      ],
      "execution_count": null,
      "outputs": []
    },
    {
      "cell_type": "markdown",
      "metadata": {
        "id": "Ty-OMYunyilY"
      },
      "source": [
        "Para la tabla correspondiente a 'googletrend' se reformatean los datos en los que se presentan caracteres que no son del tipo numérico que pueden afectar al procesamiento de datos ('-','_'). Estos se toman como divisores de datos."
      ]
    },
    {
      "cell_type": "code",
      "metadata": {
        "id": "VakiH1jkP_7Y"
      },
      "source": [
        "googletrend['Date'] = googletrend.week.str.split(' - ', expand=True)[0]"
      ],
      "execution_count": null,
      "outputs": []
    },
    {
      "cell_type": "code",
      "metadata": {
        "id": "TwUVJf8SQDKW"
      },
      "source": [
        "googletrend['State'] = googletrend.file.str.split('_', expand=True)[2]"
      ],
      "execution_count": null,
      "outputs": []
    },
    {
      "cell_type": "markdown",
      "metadata": {
        "id": "k4Ayn2wqbbs_"
      },
      "source": [
        "Se calculan tendencias de google sobre cantidad de visitas por estado:"
      ]
    },
    {
      "cell_type": "code",
      "metadata": {
        "colab": {
          "base_uri": "https://localhost:8080/"
        },
        "id": "tDMjiBXwQFww",
        "outputId": "f5a9a8d8-6527-4c36-b966-c99f13ae8924"
      },
      "source": [
        "googletrend['State'].value_counts()"
      ],
      "execution_count": null,
      "outputs": [
        {
          "output_type": "execute_result",
          "data": {
            "text/plain": [
              "SL    148\n",
              "HH    148\n",
              "NI    148\n",
              "NW    148\n",
              "SN    148\n",
              "SH    148\n",
              "TH    148\n",
              "RP    148\n",
              "BY    148\n",
              "BE    148\n",
              "BW    148\n",
              "HE    148\n",
              "ST    148\n",
              "Name: State, dtype: int64"
            ]
          },
          "metadata": {},
          "execution_count": 427
        }
      ]
    },
    {
      "cell_type": "markdown",
      "metadata": {
        "id": "hLtYEiaPbuUW"
      },
      "source": [
        "Observamos los estados presentes:"
      ]
    },
    {
      "cell_type": "code",
      "metadata": {
        "colab": {
          "base_uri": "https://localhost:8080/"
        },
        "id": "MJnU8nyZQIgH",
        "outputId": "e942c238-5cd0-4c59-b529-42b7cab6383e"
      },
      "source": [
        "state_names['State']"
      ],
      "execution_count": null,
      "outputs": [
        {
          "output_type": "execute_result",
          "data": {
            "text/plain": [
              "0        BW\n",
              "1        BY\n",
              "2        BE\n",
              "3        BB\n",
              "4        HB\n",
              "5        HH\n",
              "6        HE\n",
              "7        MV\n",
              "8     HB,NI\n",
              "9        NW\n",
              "10       RP\n",
              "11       SL\n",
              "12       SN\n",
              "13       ST\n",
              "14       SH\n",
              "15       TH\n",
              "Name: State, dtype: object"
            ]
          },
          "metadata": {},
          "execution_count": 428
        }
      ]
    },
    {
      "cell_type": "markdown",
      "metadata": {
        "id": "Pb-ReRJnb1YM"
      },
      "source": [
        "Notamos que en el índice número 8 hay dos estados presentes, con lo cual se opta por uno de los dos ('NI') para modificarlo en google trend (a 'HB,NI') para que coincida con la otra tabla:"
      ]
    },
    {
      "cell_type": "code",
      "metadata": {
        "id": "0lHpcVvSQLEJ"
      },
      "source": [
        "googletrend.loc[googletrend.State=='NI', \"State\"] = 'HB,NI'"
      ],
      "execution_count": null,
      "outputs": []
    },
    {
      "cell_type": "markdown",
      "metadata": {
        "id": "VtMug8-qcanl"
      },
      "source": [
        "Generamos una función para separar el año del mes y del día dentro de una fecha, ya que las tres variables van a resultar interesantes para analizar individualmente:"
      ]
    },
    {
      "cell_type": "code",
      "metadata": {
        "colab": {
          "base_uri": "https://localhost:8080/"
        },
        "id": "BgeoSxpnQNWv",
        "outputId": "1a60cb18-3ab2-4dea-d75a-393568b53867"
      },
      "source": [
        "#Función para separar fechas en año mes y día\n",
        "def add_datepart(df):\n",
        "    df.Date = pd.to_datetime(df.Date)\n",
        "    df[\"Year\"] = df.Date.dt.year\n",
        "    df[\"Month\"] = df.Date.dt.month\n",
        "    df[\"Week\"] = df.Date.dt.week\n",
        "    df[\"Day\"] = df.Date.dt.day\n",
        "    \n",
        "add_datepart(weather)\n",
        "add_datepart(googletrend)\n",
        "add_datepart(train)\n",
        "add_datepart(test)"
      ],
      "execution_count": null,
      "outputs": [
        {
          "output_type": "stream",
          "name": "stderr",
          "text": [
            "/usr/local/lib/python3.7/dist-packages/ipykernel_launcher.py:6: FutureWarning: Series.dt.weekofyear and Series.dt.week have been deprecated.  Please use Series.dt.isocalendar().week instead.\n",
            "  \n"
          ]
        }
      ]
    },
    {
      "cell_type": "markdown",
      "metadata": {
        "id": "G6MSrV47gzxR"
      },
      "source": [
        "Dentro del archivo googletrend se ven los datos de los distintos estados. Sin embargo se decide optar por la variable global de Alemania, cuyo nombre es 'Rossmann_DE':"
      ]
    },
    {
      "cell_type": "code",
      "metadata": {
        "id": "5dRzTGMxQQYb"
      },
      "source": [
        "trend_de = googletrend[googletrend.file == 'Rossmann_DE']"
      ],
      "execution_count": null,
      "outputs": []
    },
    {
      "cell_type": "markdown",
      "metadata": {
        "id": "kkeciFvHhCzH"
      },
      "source": [
        "Imprimimos dicha tabla para ver qué tipo de información presenta"
      ]
    },
    {
      "cell_type": "code",
      "metadata": {
        "colab": {
          "base_uri": "https://localhost:8080/",
          "height": 417
        },
        "id": "Pk5Owx74cw6-",
        "outputId": "338cabda-6fcc-43b5-c1da-cfacd300363f"
      },
      "source": [
        "trend_de"
      ],
      "execution_count": null,
      "outputs": [
        {
          "output_type": "execute_result",
          "data": {
            "text/html": [
              "<div>\n",
              "<style scoped>\n",
              "    .dataframe tbody tr th:only-of-type {\n",
              "        vertical-align: middle;\n",
              "    }\n",
              "\n",
              "    .dataframe tbody tr th {\n",
              "        vertical-align: top;\n",
              "    }\n",
              "\n",
              "    .dataframe thead th {\n",
              "        text-align: right;\n",
              "    }\n",
              "</style>\n",
              "<table border=\"1\" class=\"dataframe\">\n",
              "  <thead>\n",
              "    <tr style=\"text-align: right;\">\n",
              "      <th></th>\n",
              "      <th>file</th>\n",
              "      <th>week</th>\n",
              "      <th>trend</th>\n",
              "      <th>Date</th>\n",
              "      <th>State</th>\n",
              "      <th>Year</th>\n",
              "      <th>Month</th>\n",
              "      <th>Week</th>\n",
              "      <th>Day</th>\n",
              "    </tr>\n",
              "  </thead>\n",
              "  <tbody>\n",
              "    <tr>\n",
              "      <th>148</th>\n",
              "      <td>Rossmann_DE</td>\n",
              "      <td>2012-12-02 - 2012-12-08</td>\n",
              "      <td>77</td>\n",
              "      <td>2012-12-02</td>\n",
              "      <td>None</td>\n",
              "      <td>2012</td>\n",
              "      <td>12</td>\n",
              "      <td>48</td>\n",
              "      <td>2</td>\n",
              "    </tr>\n",
              "    <tr>\n",
              "      <th>149</th>\n",
              "      <td>Rossmann_DE</td>\n",
              "      <td>2012-12-09 - 2012-12-15</td>\n",
              "      <td>76</td>\n",
              "      <td>2012-12-09</td>\n",
              "      <td>None</td>\n",
              "      <td>2012</td>\n",
              "      <td>12</td>\n",
              "      <td>49</td>\n",
              "      <td>9</td>\n",
              "    </tr>\n",
              "    <tr>\n",
              "      <th>150</th>\n",
              "      <td>Rossmann_DE</td>\n",
              "      <td>2012-12-16 - 2012-12-22</td>\n",
              "      <td>85</td>\n",
              "      <td>2012-12-16</td>\n",
              "      <td>None</td>\n",
              "      <td>2012</td>\n",
              "      <td>12</td>\n",
              "      <td>50</td>\n",
              "      <td>16</td>\n",
              "    </tr>\n",
              "    <tr>\n",
              "      <th>151</th>\n",
              "      <td>Rossmann_DE</td>\n",
              "      <td>2012-12-23 - 2012-12-29</td>\n",
              "      <td>59</td>\n",
              "      <td>2012-12-23</td>\n",
              "      <td>None</td>\n",
              "      <td>2012</td>\n",
              "      <td>12</td>\n",
              "      <td>51</td>\n",
              "      <td>23</td>\n",
              "    </tr>\n",
              "    <tr>\n",
              "      <th>152</th>\n",
              "      <td>Rossmann_DE</td>\n",
              "      <td>2012-12-30 - 2013-01-05</td>\n",
              "      <td>61</td>\n",
              "      <td>2012-12-30</td>\n",
              "      <td>None</td>\n",
              "      <td>2012</td>\n",
              "      <td>12</td>\n",
              "      <td>52</td>\n",
              "      <td>30</td>\n",
              "    </tr>\n",
              "    <tr>\n",
              "      <th>...</th>\n",
              "      <td>...</td>\n",
              "      <td>...</td>\n",
              "      <td>...</td>\n",
              "      <td>...</td>\n",
              "      <td>...</td>\n",
              "      <td>...</td>\n",
              "      <td>...</td>\n",
              "      <td>...</td>\n",
              "      <td>...</td>\n",
              "    </tr>\n",
              "    <tr>\n",
              "      <th>291</th>\n",
              "      <td>Rossmann_DE</td>\n",
              "      <td>2015-08-30 - 2015-09-05</td>\n",
              "      <td>78</td>\n",
              "      <td>2015-08-30</td>\n",
              "      <td>None</td>\n",
              "      <td>2015</td>\n",
              "      <td>8</td>\n",
              "      <td>35</td>\n",
              "      <td>30</td>\n",
              "    </tr>\n",
              "    <tr>\n",
              "      <th>292</th>\n",
              "      <td>Rossmann_DE</td>\n",
              "      <td>2015-09-06 - 2015-09-12</td>\n",
              "      <td>71</td>\n",
              "      <td>2015-09-06</td>\n",
              "      <td>None</td>\n",
              "      <td>2015</td>\n",
              "      <td>9</td>\n",
              "      <td>36</td>\n",
              "      <td>6</td>\n",
              "    </tr>\n",
              "    <tr>\n",
              "      <th>293</th>\n",
              "      <td>Rossmann_DE</td>\n",
              "      <td>2015-09-13 - 2015-09-19</td>\n",
              "      <td>77</td>\n",
              "      <td>2015-09-13</td>\n",
              "      <td>None</td>\n",
              "      <td>2015</td>\n",
              "      <td>9</td>\n",
              "      <td>37</td>\n",
              "      <td>13</td>\n",
              "    </tr>\n",
              "    <tr>\n",
              "      <th>294</th>\n",
              "      <td>Rossmann_DE</td>\n",
              "      <td>2015-09-20 - 2015-09-26</td>\n",
              "      <td>67</td>\n",
              "      <td>2015-09-20</td>\n",
              "      <td>None</td>\n",
              "      <td>2015</td>\n",
              "      <td>9</td>\n",
              "      <td>38</td>\n",
              "      <td>20</td>\n",
              "    </tr>\n",
              "    <tr>\n",
              "      <th>295</th>\n",
              "      <td>Rossmann_DE</td>\n",
              "      <td>2015-09-27 - 2015-10-03</td>\n",
              "      <td>71</td>\n",
              "      <td>2015-09-27</td>\n",
              "      <td>None</td>\n",
              "      <td>2015</td>\n",
              "      <td>9</td>\n",
              "      <td>39</td>\n",
              "      <td>27</td>\n",
              "    </tr>\n",
              "  </tbody>\n",
              "</table>\n",
              "<p>148 rows × 9 columns</p>\n",
              "</div>"
            ],
            "text/plain": [
              "            file                     week  trend  ... Month Week  Day\n",
              "148  Rossmann_DE  2012-12-02 - 2012-12-08     77  ...    12   48    2\n",
              "149  Rossmann_DE  2012-12-09 - 2012-12-15     76  ...    12   49    9\n",
              "150  Rossmann_DE  2012-12-16 - 2012-12-22     85  ...    12   50   16\n",
              "151  Rossmann_DE  2012-12-23 - 2012-12-29     59  ...    12   51   23\n",
              "152  Rossmann_DE  2012-12-30 - 2013-01-05     61  ...    12   52   30\n",
              "..           ...                      ...    ...  ...   ...  ...  ...\n",
              "291  Rossmann_DE  2015-08-30 - 2015-09-05     78  ...     8   35   30\n",
              "292  Rossmann_DE  2015-09-06 - 2015-09-12     71  ...     9   36    6\n",
              "293  Rossmann_DE  2015-09-13 - 2015-09-19     77  ...     9   37   13\n",
              "294  Rossmann_DE  2015-09-20 - 2015-09-26     67  ...     9   38   20\n",
              "295  Rossmann_DE  2015-09-27 - 2015-10-03     71  ...     9   39   27\n",
              "\n",
              "[148 rows x 9 columns]"
            ]
          },
          "metadata": {},
          "execution_count": 432
        }
      ]
    },
    {
      "cell_type": "markdown",
      "metadata": {
        "id": "nwjjYmNIhKaM"
      },
      "source": [
        "Sin embargo, las columnas que nos van a resultar de interés son las correspondientes al año, el mes, la semana y el día por separado"
      ]
    },
    {
      "cell_type": "code",
      "metadata": {
        "colab": {
          "base_uri": "https://localhost:8080/",
          "height": 417
        },
        "id": "FDR61JB7QSlD",
        "outputId": "d1a1bb49-1221-408f-eef3-d3eb0df919a7"
      },
      "source": [
        "trend_de[['Date', 'Year','Month','Week','Day']]"
      ],
      "execution_count": null,
      "outputs": [
        {
          "output_type": "execute_result",
          "data": {
            "text/html": [
              "<div>\n",
              "<style scoped>\n",
              "    .dataframe tbody tr th:only-of-type {\n",
              "        vertical-align: middle;\n",
              "    }\n",
              "\n",
              "    .dataframe tbody tr th {\n",
              "        vertical-align: top;\n",
              "    }\n",
              "\n",
              "    .dataframe thead th {\n",
              "        text-align: right;\n",
              "    }\n",
              "</style>\n",
              "<table border=\"1\" class=\"dataframe\">\n",
              "  <thead>\n",
              "    <tr style=\"text-align: right;\">\n",
              "      <th></th>\n",
              "      <th>Date</th>\n",
              "      <th>Year</th>\n",
              "      <th>Month</th>\n",
              "      <th>Week</th>\n",
              "      <th>Day</th>\n",
              "    </tr>\n",
              "  </thead>\n",
              "  <tbody>\n",
              "    <tr>\n",
              "      <th>148</th>\n",
              "      <td>2012-12-02</td>\n",
              "      <td>2012</td>\n",
              "      <td>12</td>\n",
              "      <td>48</td>\n",
              "      <td>2</td>\n",
              "    </tr>\n",
              "    <tr>\n",
              "      <th>149</th>\n",
              "      <td>2012-12-09</td>\n",
              "      <td>2012</td>\n",
              "      <td>12</td>\n",
              "      <td>49</td>\n",
              "      <td>9</td>\n",
              "    </tr>\n",
              "    <tr>\n",
              "      <th>150</th>\n",
              "      <td>2012-12-16</td>\n",
              "      <td>2012</td>\n",
              "      <td>12</td>\n",
              "      <td>50</td>\n",
              "      <td>16</td>\n",
              "    </tr>\n",
              "    <tr>\n",
              "      <th>151</th>\n",
              "      <td>2012-12-23</td>\n",
              "      <td>2012</td>\n",
              "      <td>12</td>\n",
              "      <td>51</td>\n",
              "      <td>23</td>\n",
              "    </tr>\n",
              "    <tr>\n",
              "      <th>152</th>\n",
              "      <td>2012-12-30</td>\n",
              "      <td>2012</td>\n",
              "      <td>12</td>\n",
              "      <td>52</td>\n",
              "      <td>30</td>\n",
              "    </tr>\n",
              "    <tr>\n",
              "      <th>...</th>\n",
              "      <td>...</td>\n",
              "      <td>...</td>\n",
              "      <td>...</td>\n",
              "      <td>...</td>\n",
              "      <td>...</td>\n",
              "    </tr>\n",
              "    <tr>\n",
              "      <th>291</th>\n",
              "      <td>2015-08-30</td>\n",
              "      <td>2015</td>\n",
              "      <td>8</td>\n",
              "      <td>35</td>\n",
              "      <td>30</td>\n",
              "    </tr>\n",
              "    <tr>\n",
              "      <th>292</th>\n",
              "      <td>2015-09-06</td>\n",
              "      <td>2015</td>\n",
              "      <td>9</td>\n",
              "      <td>36</td>\n",
              "      <td>6</td>\n",
              "    </tr>\n",
              "    <tr>\n",
              "      <th>293</th>\n",
              "      <td>2015-09-13</td>\n",
              "      <td>2015</td>\n",
              "      <td>9</td>\n",
              "      <td>37</td>\n",
              "      <td>13</td>\n",
              "    </tr>\n",
              "    <tr>\n",
              "      <th>294</th>\n",
              "      <td>2015-09-20</td>\n",
              "      <td>2015</td>\n",
              "      <td>9</td>\n",
              "      <td>38</td>\n",
              "      <td>20</td>\n",
              "    </tr>\n",
              "    <tr>\n",
              "      <th>295</th>\n",
              "      <td>2015-09-27</td>\n",
              "      <td>2015</td>\n",
              "      <td>9</td>\n",
              "      <td>39</td>\n",
              "      <td>27</td>\n",
              "    </tr>\n",
              "  </tbody>\n",
              "</table>\n",
              "<p>148 rows × 5 columns</p>\n",
              "</div>"
            ],
            "text/plain": [
              "          Date  Year  Month  Week  Day\n",
              "148 2012-12-02  2012     12    48    2\n",
              "149 2012-12-09  2012     12    49    9\n",
              "150 2012-12-16  2012     12    50   16\n",
              "151 2012-12-23  2012     12    51   23\n",
              "152 2012-12-30  2012     12    52   30\n",
              "..         ...   ...    ...   ...  ...\n",
              "291 2015-08-30  2015      8    35   30\n",
              "292 2015-09-06  2015      9    36    6\n",
              "293 2015-09-13  2015      9    37   13\n",
              "294 2015-09-20  2015      9    38   20\n",
              "295 2015-09-27  2015      9    39   27\n",
              "\n",
              "[148 rows x 5 columns]"
            ]
          },
          "metadata": {},
          "execution_count": 433
        }
      ]
    },
    {
      "cell_type": "markdown",
      "metadata": {
        "id": "A0g_oNsHixV5"
      },
      "source": [
        "Finalmente unimos todas las tablas para train y para test: train original/test original, store, store_states, googletrend, trend_de y weather. De esta forma tenemos dos grandes tablas con todos los datos: joined_train y joined_test"
      ]
    },
    {
      "cell_type": "code",
      "metadata": {
        "id": "N0Qoe-brQVRw"
      },
      "source": [
        "store = join_df(store, store_states, \"Store\")\n",
        "\n",
        "joined_train = join_df(train, store, \"Store\")\n",
        "joined_train = join_df(joined_train, googletrend, [\"State\",\"Year\", \"Week\"])\n",
        "joined_train = joined_train.merge(trend_de, 'left', [\"Year\", \"Week\"], suffixes=('', '_DE'))\n",
        "joined_train = join_df(joined_train, weather, [\"State\",\"Date\"])\n",
        "\n",
        "joined_test = join_df(test, store, \"Store\")\n",
        "joined_test = join_df(joined_test, googletrend, [\"State\",\"Year\", \"Week\"])\n",
        "joined_test = joined_test.merge(trend_de, 'left', [\"Year\", \"Week\"], suffixes=('', '_DE'))\n",
        "joined_test = join_df(joined_test, weather, [\"State\",\"Date\"])"
      ],
      "execution_count": null,
      "outputs": []
    },
    {
      "cell_type": "markdown",
      "metadata": {
        "id": "_xs5shP40s6w"
      },
      "source": [
        "### Reformateamos fechas"
      ]
    },
    {
      "cell_type": "markdown",
      "metadata": {
        "id": "iGTImywdz1wG"
      },
      "source": [
        "Calculamos cuántos días transcurrieron desde la apertura de la competencia haciendo la resta entre la Date y la fecha de  'CompetitionOpenSince'"
      ]
    },
    {
      "cell_type": "code",
      "metadata": {
        "colab": {
          "base_uri": "https://localhost:8080/"
        },
        "id": "xDXk05hVpT4r",
        "outputId": "433448e9-e5a3-4e2a-e928-f1f5aa483852"
      },
      "source": [
        "joined_train[\"CompetitionOpenSince\"]"
      ],
      "execution_count": null,
      "outputs": [
        {
          "output_type": "execute_result",
          "data": {
            "text/plain": [
              "0         2008-09-15\n",
              "1         2007-11-15\n",
              "2         2006-12-15\n",
              "3         2009-09-15\n",
              "4         2015-04-15\n",
              "             ...    \n",
              "1017204   2014-06-15\n",
              "1017205   2006-04-15\n",
              "1017206   1990-01-15\n",
              "1017207   1990-01-15\n",
              "1017208   1990-01-15\n",
              "Name: CompetitionOpenSince, Length: 1017209, dtype: datetime64[ns]"
            ]
          },
          "metadata": {},
          "execution_count": 439
        }
      ]
    },
    {
      "cell_type": "code",
      "metadata": {
        "colab": {
          "base_uri": "https://localhost:8080/"
        },
        "id": "S4_KVePelOaY",
        "outputId": "14925a0d-8c1d-4ea5-d196-fad25a1fafcd"
      },
      "source": [
        "joined_train.Date"
      ],
      "execution_count": null,
      "outputs": [
        {
          "output_type": "execute_result",
          "data": {
            "text/plain": [
              "0         2015-07-31\n",
              "1         2015-07-31\n",
              "2         2015-07-31\n",
              "3         2015-07-31\n",
              "4         2015-07-31\n",
              "             ...    \n",
              "1017204   2013-01-01\n",
              "1017205   2013-01-01\n",
              "1017206   2013-01-01\n",
              "1017207   2013-01-01\n",
              "1017208   2013-01-01\n",
              "Name: Date, Length: 1017209, dtype: datetime64[ns]"
            ]
          },
          "metadata": {},
          "execution_count": 435
        }
      ]
    },
    {
      "cell_type": "code",
      "metadata": {
        "colab": {
          "base_uri": "https://localhost:8080/"
        },
        "id": "czSkhCg4oxuy",
        "outputId": "043ca181-d123-4d66-9f9a-2929dc011494"
      },
      "source": [
        "joined_train.Date.subtract(joined_train[\"CompetitionOpenSince\"]).dt.days"
      ],
      "execution_count": null,
      "outputs": [
        {
          "output_type": "execute_result",
          "data": {
            "text/plain": [
              "0          2510\n",
              "1          2815\n",
              "2          3150\n",
              "3          2145\n",
              "4           107\n",
              "           ... \n",
              "1017204    -530\n",
              "1017205    2453\n",
              "1017206    8387\n",
              "1017207    8387\n",
              "1017208    8387\n",
              "Length: 1017209, dtype: int64"
            ]
          },
          "metadata": {},
          "execution_count": 438
        }
      ]
    },
    {
      "cell_type": "markdown",
      "metadata": {
        "id": "-HaTYp9hpjTL"
      },
      "source": [
        "Para train:"
      ]
    },
    {
      "cell_type": "code",
      "metadata": {
        "id": "DCQbyK5WQ1Lc"
      },
      "source": [
        "joined_train[\"CompetitionDaysOpen\"] = joined_train.Date.subtract(joined_train[\"CompetitionOpenSince\"]).dt.days"
      ],
      "execution_count": null,
      "outputs": []
    },
    {
      "cell_type": "markdown",
      "metadata": {
        "id": "0kZ0Sz5VpkmV"
      },
      "source": [
        "Para test:"
      ]
    },
    {
      "cell_type": "code",
      "metadata": {
        "id": "fR138h8KQ4-u"
      },
      "source": [
        "joined_test[\"CompetitionDaysOpen\"] = joined_test.Date.subtract(joined_test[\"CompetitionOpenSince\"]).dt.days"
      ],
      "execution_count": null,
      "outputs": []
    },
    {
      "cell_type": "markdown",
      "metadata": {
        "id": "xDBgY29Bz96y"
      },
      "source": [
        "Corregimos errores de la fórmula anterior, ya que se observan valores negativos de días y volvemos a establecer como año mínimo 1990"
      ]
    },
    {
      "cell_type": "markdown",
      "metadata": {
        "id": "ug_E2ATjpwCu"
      },
      "source": [
        "Para train:"
      ]
    },
    {
      "cell_type": "code",
      "metadata": {
        "id": "Kp0Z9JdYQ7dC"
      },
      "source": [
        "joined_train.loc[joined_train.CompetitionDaysOpen<0, \"CompetitionDaysOpen\"] = 0\n",
        "joined_train.loc[joined_train.CompetitionOpenSinceYear<1990, \"CompetitionDaysOpen\"] = 0"
      ],
      "execution_count": null,
      "outputs": []
    },
    {
      "cell_type": "markdown",
      "metadata": {
        "id": "1PcxKxhzpxP1"
      },
      "source": [
        "Para test:"
      ]
    },
    {
      "cell_type": "code",
      "metadata": {
        "id": "RvYN066NQ-Nf"
      },
      "source": [
        "joined_test.loc[joined_test.CompetitionDaysOpen<0, \"CompetitionDaysOpen\"] = 0\n",
        "joined_test.loc[joined_test.CompetitionOpenSinceYear<1990, \"CompetitionDaysOpen\"] = 0"
      ],
      "execution_count": null,
      "outputs": []
    },
    {
      "cell_type": "markdown",
      "metadata": {
        "id": "6qv7STkX0MKT"
      },
      "source": [
        "Pasamos los días a meses (asumiendo que un mes tiene 30 días) y lo limitamos a 2 años como máximo"
      ]
    },
    {
      "cell_type": "markdown",
      "metadata": {
        "id": "vn9rsDi5qMXB"
      },
      "source": [
        "Para train:"
      ]
    },
    {
      "cell_type": "code",
      "metadata": {
        "colab": {
          "base_uri": "https://localhost:8080/"
        },
        "id": "pAckqSpIRBFF",
        "outputId": "b1938273-e47c-4cbb-fbb6-5a62a42187f5"
      },
      "source": [
        "joined_train[\"CompetitionMonthsOpen\"] = joined_train[\"CompetitionDaysOpen\"]//30 \n",
        "joined_train.loc[joined_train.CompetitionMonthsOpen>24, \"CompetitionMonthsOpen\"] = 24\n",
        "joined_train.CompetitionMonthsOpen.value_counts()"
      ],
      "execution_count": null,
      "outputs": [
        {
          "output_type": "execute_result",
          "data": {
            "text/plain": [
              "24    790886\n",
              "0      92590\n",
              "6       6356\n",
              "7       6350\n",
              "4       6278\n",
              "5       6261\n",
              "8       6203\n",
              "9       6138\n",
              "10      6118\n",
              "11      5971\n",
              "12      5867\n",
              "3       5850\n",
              "13      5724\n",
              "15      5699\n",
              "14      5655\n",
              "19      5649\n",
              "2       5621\n",
              "18      5619\n",
              "16      5618\n",
              "22      5558\n",
              "17      5549\n",
              "20      5500\n",
              "1       5482\n",
              "21      5398\n",
              "23      5269\n",
              "Name: CompetitionMonthsOpen, dtype: int64"
            ]
          },
          "metadata": {},
          "execution_count": 443
        }
      ]
    },
    {
      "cell_type": "markdown",
      "metadata": {
        "id": "o_cGnox0qOYw"
      },
      "source": [
        "Para test:"
      ]
    },
    {
      "cell_type": "code",
      "metadata": {
        "colab": {
          "base_uri": "https://localhost:8080/"
        },
        "id": "MbTe8bcQREe8",
        "outputId": "37d615fe-359c-426a-fe94-feae2bf03565"
      },
      "source": [
        "joined_test[\"CompetitionMonthsOpen\"] = joined_test[\"CompetitionDaysOpen\"]//30\n",
        "joined_test.loc[joined_test.CompetitionMonthsOpen>24, \"CompetitionMonthsOpen\"] = 24\n",
        "joined_test.CompetitionMonthsOpen.value_counts()"
      ],
      "execution_count": null,
      "outputs": [
        {
          "output_type": "execute_result",
          "data": {
            "text/plain": [
              "24    36782\n",
              "23      346\n",
              "17      292\n",
              "16      287\n",
              "13      260\n",
              "1       257\n",
              "10      247\n",
              "11      246\n",
              "14      197\n",
              "0       179\n",
              "18      169\n",
              "12      164\n",
              "8       161\n",
              "2       161\n",
              "4       152\n",
              "5       151\n",
              "20      149\n",
              "21      148\n",
              "22      146\n",
              "3       141\n",
              "15      126\n",
              "9       125\n",
              "19       84\n",
              "7        60\n",
              "6        58\n",
              "Name: CompetitionMonthsOpen, dtype: int64"
            ]
          },
          "metadata": {},
          "execution_count": 444
        }
      ]
    },
    {
      "cell_type": "markdown",
      "metadata": {
        "id": "DDlZaDE10Zqn"
      },
      "source": [
        "Mismo proceso para PromoDays, tanto para train como para test:"
      ]
    },
    {
      "cell_type": "code",
      "metadata": {
        "colab": {
          "base_uri": "https://localhost:8080/"
        },
        "id": "clo5VDEGRIc2",
        "outputId": "9ae7543c-80ff-4844-cdaf-513e99efe8a2"
      },
      "source": [
        "joined_train[\"Promo2Days\"] = joined_train.Date.subtract(joined_train[\"Promo2Since\"]).dt.days\n",
        "joined_train.loc[joined_train.Promo2Days<0, \"Promo2Days\"] = 0 #sacamos valores negativos\n",
        "joined_train.loc[joined_train.Promo2SinceYear<1990, \"Promo2Days\"] = 0 #año mínimo 1990\n",
        "joined_train[\"Promo2Weeks\"] = joined_train[\"Promo2Days\"]//7 #una semana tiene 7 días\n",
        "joined_train.loc[joined_train.Promo2Weeks<0, \"Promo2Weeks\"] = 0 #sacamos valores negativos\n",
        "joined_train.loc[joined_train.Promo2Weeks>25, \"Promo2Weeks\"] = 25 #dos años máximo\n",
        "joined_train.Promo2Weeks.value_counts()"
      ],
      "execution_count": null,
      "outputs": [
        {
          "output_type": "execute_result",
          "data": {
            "text/plain": [
              "25    911602\n",
              "0      70849\n",
              "23      1659\n",
              "21      1659\n",
              "20      1659\n",
              "19      1659\n",
              "16      1659\n",
              "15      1659\n",
              "14      1659\n",
              "24      1659\n",
              "22      1659\n",
              "18      1652\n",
              "17      1633\n",
              "13      1514\n",
              "7       1267\n",
              "6       1267\n",
              "5       1263\n",
              "8       1261\n",
              "11      1260\n",
              "10      1260\n",
              "12      1260\n",
              "9       1258\n",
              "4       1236\n",
              "3       1232\n",
              "2       1232\n",
              "1       1232\n",
              "Name: Promo2Weeks, dtype: int64"
            ]
          },
          "metadata": {},
          "execution_count": 445
        }
      ]
    },
    {
      "cell_type": "code",
      "metadata": {
        "colab": {
          "base_uri": "https://localhost:8080/"
        },
        "id": "R9ccIRPqRLc-",
        "outputId": "01459b2f-912b-42af-c28f-faf7036babe4"
      },
      "source": [
        "joined_test[\"Promo2Days\"] = joined_test.Date.subtract(joined_test[\"Promo2Since\"]).dt.days\n",
        "joined_test.loc[joined_test.Promo2Days<0, \"Promo2Days\"] = 0\n",
        "joined_test.loc[joined_test.Promo2SinceYear<1990, \"Promo2Days\"] = 0\n",
        "joined_test[\"Promo2Weeks\"] = joined_test[\"Promo2Days\"]//7\n",
        "joined_test.loc[joined_test.Promo2Weeks<0, \"Promo2Weeks\"] = 0\n",
        "joined_test.loc[joined_test.Promo2Weeks>25, \"Promo2Weeks\"] = 25\n",
        "joined_test.Promo2Weeks.value_counts()"
      ],
      "execution_count": null,
      "outputs": [
        {
          "output_type": "execute_result",
          "data": {
            "text/plain": [
              "25    40704\n",
              "19       35\n",
              "18       35\n",
              "20       32\n",
              "23       28\n",
              "22       28\n",
              "21       28\n",
              "14       28\n",
              "13       23\n",
              "9        21\n",
              "12       21\n",
              "11       21\n",
              "10       21\n",
              "15       19\n",
              "24       16\n",
              "17       15\n",
              "16        7\n",
              "8         6\n",
              "Name: Promo2Weeks, dtype: int64"
            ]
          },
          "metadata": {},
          "execution_count": 446
        }
      ]
    },
    {
      "cell_type": "code",
      "metadata": {
        "colab": {
          "base_uri": "https://localhost:8080/"
        },
        "id": "9uz6uAOxROE3",
        "outputId": "66945e6b-6896-4e06-cc76-56f7ad18e401"
      },
      "source": [
        "joined_train.shape, joined_test.shape"
      ],
      "execution_count": null,
      "outputs": [
        {
          "output_type": "execute_result",
          "data": {
            "text/plain": [
              "((1017209, 70), (41088, 69))"
            ]
          },
          "metadata": {},
          "execution_count": 447
        }
      ]
    },
    {
      "cell_type": "markdown",
      "metadata": {
        "id": "QYZdlroi0jv3"
      },
      "source": [
        "### Borramos columnas duplicadas"
      ]
    },
    {
      "cell_type": "code",
      "metadata": {
        "id": "fKxCrQChRRCq"
      },
      "source": [
        "joined_train = joined_train.loc[:,~joined_train.columns.duplicated()]\n",
        "joined_test = joined_test.loc[:,~joined_test.columns.duplicated()]"
      ],
      "execution_count": null,
      "outputs": []
    },
    {
      "cell_type": "code",
      "metadata": {
        "colab": {
          "base_uri": "https://localhost:8080/"
        },
        "id": "UykRt_cCRTgU",
        "outputId": "ceed58e9-5bf5-40bc-e91a-8495fa1cfcc6"
      },
      "source": [
        "joined_train.shape, joined_test.shape"
      ],
      "execution_count": null,
      "outputs": [
        {
          "output_type": "execute_result",
          "data": {
            "text/plain": [
              "((1017209, 68), (41088, 67))"
            ]
          },
          "metadata": {},
          "execution_count": 449
        }
      ]
    },
    {
      "cell_type": "markdown",
      "metadata": {
        "id": "3IO4UO-frHlm"
      },
      "source": [
        "Notamos cómo se reducen la cantidad de columnas"
      ]
    },
    {
      "cell_type": "markdown",
      "metadata": {
        "id": "g7TVAo561BuH"
      },
      "source": [
        "### Guardamos tablas preprocesadas"
      ]
    },
    {
      "cell_type": "code",
      "metadata": {
        "id": "EeI3qfQvRVoo"
      },
      "source": [
        "joined_train.to_feather('joined_train_before_durations.fth')"
      ],
      "execution_count": null,
      "outputs": []
    },
    {
      "cell_type": "code",
      "metadata": {
        "id": "AUBnYY_DRZ-J"
      },
      "source": [
        "joined_test.to_feather('joined_test_before_durations.fth')"
      ],
      "execution_count": null,
      "outputs": []
    },
    {
      "cell_type": "code",
      "metadata": {
        "colab": {
          "base_uri": "https://localhost:8080/"
        },
        "id": "gr_cnT4NRdjr",
        "outputId": "0c08072e-5d3b-498c-b3f3-1146012e1440"
      },
      "source": [
        "set(joined_train.columns) - set(joined_test.columns)"
      ],
      "execution_count": null,
      "outputs": [
        {
          "output_type": "execute_result",
          "data": {
            "text/plain": [
              "{'Customers', 'Sales'}"
            ]
          },
          "metadata": {},
          "execution_count": 452
        }
      ]
    },
    {
      "cell_type": "markdown",
      "metadata": {
        "id": "MRwKx6KPrV-e"
      },
      "source": [
        "Es esperado que estas dos columnas sean la diferencia entre las tablas de train y test ya que son las dos salidas del modelo"
      ]
    },
    {
      "cell_type": "code",
      "metadata": {
        "id": "C0l2EduaRgIA"
      },
      "source": [
        "joined_train = pd.read_feather('joined_train_before_durations.fth')\n",
        "joined_test = pd.read_feather('joined_test_before_durations.fth')"
      ],
      "execution_count": null,
      "outputs": []
    },
    {
      "cell_type": "markdown",
      "metadata": {
        "id": "Bs9DSHRkroB8"
      },
      "source": [
        "Observamos la cantidad de StateHolidays:"
      ]
    },
    {
      "cell_type": "code",
      "metadata": {
        "colab": {
          "base_uri": "https://localhost:8080/"
        },
        "id": "34XuDRRdRsIp",
        "outputId": "c8307913-cd1f-40f8-9c41-dd7826bf6899"
      },
      "source": [
        "joined_train['StateHoliday'].value_counts()"
      ],
      "execution_count": null,
      "outputs": [
        {
          "output_type": "execute_result",
          "data": {
            "text/plain": [
              "0    986159\n",
              "a     20260\n",
              "b      6690\n",
              "c      4100\n",
              "Name: StateHoliday, dtype: int64"
            ]
          },
          "metadata": {},
          "execution_count": 169
        }
      ]
    },
    {
      "cell_type": "markdown",
      "metadata": {
        "id": "98TvDNa21c0z"
      },
      "source": [
        "Pasamos StateHoliday a booleano. Se va a devolver \"true\" cuando se tenga un valor distinto de 0, y \"false\" en caso contrario."
      ]
    },
    {
      "cell_type": "code",
      "metadata": {
        "id": "Odhe59JuRvPP"
      },
      "source": [
        "joined_train['StateHoliday_bool'] = joined_train.StateHoliday!='0'\n",
        "joined_test['StateHoliday_bool'] = joined_test.StateHoliday!='0'"
      ],
      "execution_count": null,
      "outputs": []
    },
    {
      "cell_type": "markdown",
      "metadata": {
        "id": "sWw1Je4l1oB3"
      },
      "source": [
        "### Duraciones"
      ]
    },
    {
      "cell_type": "markdown",
      "metadata": {
        "id": "fthzQMgt2ANV"
      },
      "source": [
        "Agregamos columnas con \"antes\" y \"despues\" de eventos"
      ]
    },
    {
      "cell_type": "code",
      "metadata": {
        "id": "rO8oQLpKRxxb"
      },
      "source": [
        "columns = [\"Date\", \"Store\", \"Promo\", \"StateHoliday_bool\", \"SchoolHoliday\"]"
      ],
      "execution_count": null,
      "outputs": []
    },
    {
      "cell_type": "code",
      "metadata": {
        "id": "kNnqIkdCR0Yc"
      },
      "source": [
        "class elapsed(object):\n",
        "    def __init__(self, fld):\n",
        "        self.fld = fld\n",
        "        self.last = pd.to_datetime(np.nan)\n",
        "        self.last_store = 0\n",
        "        \n",
        "    def get(self, row):\n",
        "        if row.Store != self.last_store:\n",
        "            self.last = pd.to_datetime(np.nan)\n",
        "            self.last_store = row.Store\n",
        "        if (row[self.fld]): self.last = row.Date\n",
        "        return row.Date-self.last"
      ],
      "execution_count": null,
      "outputs": []
    },
    {
      "cell_type": "code",
      "metadata": {
        "colab": {
          "base_uri": "https://localhost:8080/",
          "height": 417
        },
        "id": "ZDx1HnOf2zVK",
        "outputId": "4b5402ec-c7ee-46e9-9f99-58771dc2e304"
      },
      "source": [
        "joined_train[columns]"
      ],
      "execution_count": null,
      "outputs": [
        {
          "output_type": "execute_result",
          "data": {
            "text/html": [
              "<div>\n",
              "<style scoped>\n",
              "    .dataframe tbody tr th:only-of-type {\n",
              "        vertical-align: middle;\n",
              "    }\n",
              "\n",
              "    .dataframe tbody tr th {\n",
              "        vertical-align: top;\n",
              "    }\n",
              "\n",
              "    .dataframe thead th {\n",
              "        text-align: right;\n",
              "    }\n",
              "</style>\n",
              "<table border=\"1\" class=\"dataframe\">\n",
              "  <thead>\n",
              "    <tr style=\"text-align: right;\">\n",
              "      <th></th>\n",
              "      <th>Date</th>\n",
              "      <th>Store</th>\n",
              "      <th>Promo</th>\n",
              "      <th>StateHoliday_bool</th>\n",
              "      <th>SchoolHoliday</th>\n",
              "    </tr>\n",
              "  </thead>\n",
              "  <tbody>\n",
              "    <tr>\n",
              "      <th>0</th>\n",
              "      <td>2015-07-31</td>\n",
              "      <td>1</td>\n",
              "      <td>1</td>\n",
              "      <td>False</td>\n",
              "      <td>1</td>\n",
              "    </tr>\n",
              "    <tr>\n",
              "      <th>1</th>\n",
              "      <td>2015-07-31</td>\n",
              "      <td>2</td>\n",
              "      <td>1</td>\n",
              "      <td>False</td>\n",
              "      <td>1</td>\n",
              "    </tr>\n",
              "    <tr>\n",
              "      <th>2</th>\n",
              "      <td>2015-07-31</td>\n",
              "      <td>3</td>\n",
              "      <td>1</td>\n",
              "      <td>False</td>\n",
              "      <td>1</td>\n",
              "    </tr>\n",
              "    <tr>\n",
              "      <th>3</th>\n",
              "      <td>2015-07-31</td>\n",
              "      <td>4</td>\n",
              "      <td>1</td>\n",
              "      <td>False</td>\n",
              "      <td>1</td>\n",
              "    </tr>\n",
              "    <tr>\n",
              "      <th>4</th>\n",
              "      <td>2015-07-31</td>\n",
              "      <td>5</td>\n",
              "      <td>1</td>\n",
              "      <td>False</td>\n",
              "      <td>1</td>\n",
              "    </tr>\n",
              "    <tr>\n",
              "      <th>...</th>\n",
              "      <td>...</td>\n",
              "      <td>...</td>\n",
              "      <td>...</td>\n",
              "      <td>...</td>\n",
              "      <td>...</td>\n",
              "    </tr>\n",
              "    <tr>\n",
              "      <th>1017204</th>\n",
              "      <td>2013-01-01</td>\n",
              "      <td>1111</td>\n",
              "      <td>0</td>\n",
              "      <td>True</td>\n",
              "      <td>1</td>\n",
              "    </tr>\n",
              "    <tr>\n",
              "      <th>1017205</th>\n",
              "      <td>2013-01-01</td>\n",
              "      <td>1112</td>\n",
              "      <td>0</td>\n",
              "      <td>True</td>\n",
              "      <td>1</td>\n",
              "    </tr>\n",
              "    <tr>\n",
              "      <th>1017206</th>\n",
              "      <td>2013-01-01</td>\n",
              "      <td>1113</td>\n",
              "      <td>0</td>\n",
              "      <td>True</td>\n",
              "      <td>1</td>\n",
              "    </tr>\n",
              "    <tr>\n",
              "      <th>1017207</th>\n",
              "      <td>2013-01-01</td>\n",
              "      <td>1114</td>\n",
              "      <td>0</td>\n",
              "      <td>True</td>\n",
              "      <td>1</td>\n",
              "    </tr>\n",
              "    <tr>\n",
              "      <th>1017208</th>\n",
              "      <td>2013-01-01</td>\n",
              "      <td>1115</td>\n",
              "      <td>0</td>\n",
              "      <td>True</td>\n",
              "      <td>1</td>\n",
              "    </tr>\n",
              "  </tbody>\n",
              "</table>\n",
              "<p>1017209 rows × 5 columns</p>\n",
              "</div>"
            ],
            "text/plain": [
              "              Date  Store  Promo  StateHoliday_bool  SchoolHoliday\n",
              "0       2015-07-31      1      1              False              1\n",
              "1       2015-07-31      2      1              False              1\n",
              "2       2015-07-31      3      1              False              1\n",
              "3       2015-07-31      4      1              False              1\n",
              "4       2015-07-31      5      1              False              1\n",
              "...            ...    ...    ...                ...            ...\n",
              "1017204 2013-01-01   1111      0               True              1\n",
              "1017205 2013-01-01   1112      0               True              1\n",
              "1017206 2013-01-01   1113      0               True              1\n",
              "1017207 2013-01-01   1114      0               True              1\n",
              "1017208 2013-01-01   1115      0               True              1\n",
              "\n",
              "[1017209 rows x 5 columns]"
            ]
          },
          "metadata": {},
          "execution_count": 460
        }
      ]
    },
    {
      "cell_type": "markdown",
      "metadata": {
        "id": "DKRTbnd2w5bN"
      },
      "source": [
        "Creamos dos tablas aparte (df_train y df_test) para poder realizar un preprocesado respecto a estas columnas que se van a agregar, para poder luego agregarlas a la tabla total"
      ]
    },
    {
      "cell_type": "code",
      "metadata": {
        "id": "CU0OKWroR_C7"
      },
      "source": [
        "df_train = joined_train[columns]\n",
        "df_test = joined_test[columns]"
      ],
      "execution_count": null,
      "outputs": []
    },
    {
      "cell_type": "markdown",
      "metadata": {
        "id": "7exHQl53xKL8"
      },
      "source": [
        "Función para agregar la columna que se desee. El prefijo va a ser \"After\" o \"Before\" según se trabaje para el evento que vaya a ocurrir después o antes respectivamente"
      ]
    },
    {
      "cell_type": "code",
      "metadata": {
        "id": "nduPB5IeSBPo"
      },
      "source": [
        "def add_elapsed(df, fld, prefix):\n",
        "    sh_el = elapsed(fld)\n",
        "    df[prefix+fld] = df.apply(sh_el.get, axis=1)"
      ],
      "execution_count": null,
      "outputs": []
    },
    {
      "cell_type": "markdown",
      "metadata": {
        "id": "WXscNGTU3MOB"
      },
      "source": [
        "#### SchoolHoliday"
      ]
    },
    {
      "cell_type": "code",
      "metadata": {
        "colab": {
          "base_uri": "https://localhost:8080/",
          "height": 203
        },
        "id": "xP3GfZwUSDhv",
        "outputId": "56ee7230-b3df-47bb-c8e5-95afdbb841d0"
      },
      "source": [
        "fld = 'SchoolHoliday'\n",
        "df_train = df_train.sort_values(['Store', 'Date'])\n",
        "add_elapsed(df_train, fld, 'After')\n",
        "df_train.head()"
      ],
      "execution_count": null,
      "outputs": [
        {
          "output_type": "execute_result",
          "data": {
            "text/html": [
              "<div>\n",
              "<style scoped>\n",
              "    .dataframe tbody tr th:only-of-type {\n",
              "        vertical-align: middle;\n",
              "    }\n",
              "\n",
              "    .dataframe tbody tr th {\n",
              "        vertical-align: top;\n",
              "    }\n",
              "\n",
              "    .dataframe thead th {\n",
              "        text-align: right;\n",
              "    }\n",
              "</style>\n",
              "<table border=\"1\" class=\"dataframe\">\n",
              "  <thead>\n",
              "    <tr style=\"text-align: right;\">\n",
              "      <th></th>\n",
              "      <th>Date</th>\n",
              "      <th>Store</th>\n",
              "      <th>Promo</th>\n",
              "      <th>StateHoliday_bool</th>\n",
              "      <th>SchoolHoliday</th>\n",
              "      <th>AfterSchoolHoliday</th>\n",
              "    </tr>\n",
              "  </thead>\n",
              "  <tbody>\n",
              "    <tr>\n",
              "      <th>1016095</th>\n",
              "      <td>2013-01-01</td>\n",
              "      <td>1</td>\n",
              "      <td>0</td>\n",
              "      <td>True</td>\n",
              "      <td>1</td>\n",
              "      <td>0 days</td>\n",
              "    </tr>\n",
              "    <tr>\n",
              "      <th>1014980</th>\n",
              "      <td>2013-01-02</td>\n",
              "      <td>1</td>\n",
              "      <td>0</td>\n",
              "      <td>False</td>\n",
              "      <td>1</td>\n",
              "      <td>0 days</td>\n",
              "    </tr>\n",
              "    <tr>\n",
              "      <th>1013865</th>\n",
              "      <td>2013-01-03</td>\n",
              "      <td>1</td>\n",
              "      <td>0</td>\n",
              "      <td>False</td>\n",
              "      <td>1</td>\n",
              "      <td>0 days</td>\n",
              "    </tr>\n",
              "    <tr>\n",
              "      <th>1012750</th>\n",
              "      <td>2013-01-04</td>\n",
              "      <td>1</td>\n",
              "      <td>0</td>\n",
              "      <td>False</td>\n",
              "      <td>1</td>\n",
              "      <td>0 days</td>\n",
              "    </tr>\n",
              "    <tr>\n",
              "      <th>1011635</th>\n",
              "      <td>2013-01-05</td>\n",
              "      <td>1</td>\n",
              "      <td>0</td>\n",
              "      <td>False</td>\n",
              "      <td>1</td>\n",
              "      <td>0 days</td>\n",
              "    </tr>\n",
              "  </tbody>\n",
              "</table>\n",
              "</div>"
            ],
            "text/plain": [
              "              Date  Store  ...  SchoolHoliday  AfterSchoolHoliday\n",
              "1016095 2013-01-01      1  ...              1              0 days\n",
              "1014980 2013-01-02      1  ...              1              0 days\n",
              "1013865 2013-01-03      1  ...              1              0 days\n",
              "1012750 2013-01-04      1  ...              1              0 days\n",
              "1011635 2013-01-05      1  ...              1              0 days\n",
              "\n",
              "[5 rows x 6 columns]"
            ]
          },
          "metadata": {},
          "execution_count": 463
        }
      ]
    },
    {
      "cell_type": "markdown",
      "metadata": {
        "id": "oq9ASluo21t9"
      },
      "source": [
        "Observamos que se agregaron efectivamente. Hacemos lo mismo con test"
      ]
    },
    {
      "cell_type": "code",
      "metadata": {
        "colab": {
          "base_uri": "https://localhost:8080/",
          "height": 203
        },
        "id": "_Y8SG58_SFRJ",
        "outputId": "006c46af-18ed-40ce-ff51-b55236b7e577"
      },
      "source": [
        "df_test = df_test.sort_values(['Store', 'Date'])\n",
        "add_elapsed(df_test, fld, 'After')\n",
        "df_test.head()"
      ],
      "execution_count": null,
      "outputs": [
        {
          "output_type": "execute_result",
          "data": {
            "text/html": [
              "<div>\n",
              "<style scoped>\n",
              "    .dataframe tbody tr th:only-of-type {\n",
              "        vertical-align: middle;\n",
              "    }\n",
              "\n",
              "    .dataframe tbody tr th {\n",
              "        vertical-align: top;\n",
              "    }\n",
              "\n",
              "    .dataframe thead th {\n",
              "        text-align: right;\n",
              "    }\n",
              "</style>\n",
              "<table border=\"1\" class=\"dataframe\">\n",
              "  <thead>\n",
              "    <tr style=\"text-align: right;\">\n",
              "      <th></th>\n",
              "      <th>Date</th>\n",
              "      <th>Store</th>\n",
              "      <th>Promo</th>\n",
              "      <th>StateHoliday_bool</th>\n",
              "      <th>SchoolHoliday</th>\n",
              "      <th>AfterSchoolHoliday</th>\n",
              "    </tr>\n",
              "  </thead>\n",
              "  <tbody>\n",
              "    <tr>\n",
              "      <th>40232</th>\n",
              "      <td>2015-08-01</td>\n",
              "      <td>1</td>\n",
              "      <td>0</td>\n",
              "      <td>False</td>\n",
              "      <td>1</td>\n",
              "      <td>0 days</td>\n",
              "    </tr>\n",
              "    <tr>\n",
              "      <th>39376</th>\n",
              "      <td>2015-08-02</td>\n",
              "      <td>1</td>\n",
              "      <td>0</td>\n",
              "      <td>False</td>\n",
              "      <td>1</td>\n",
              "      <td>0 days</td>\n",
              "    </tr>\n",
              "    <tr>\n",
              "      <th>38520</th>\n",
              "      <td>2015-08-03</td>\n",
              "      <td>1</td>\n",
              "      <td>1</td>\n",
              "      <td>False</td>\n",
              "      <td>1</td>\n",
              "      <td>0 days</td>\n",
              "    </tr>\n",
              "    <tr>\n",
              "      <th>37664</th>\n",
              "      <td>2015-08-04</td>\n",
              "      <td>1</td>\n",
              "      <td>1</td>\n",
              "      <td>False</td>\n",
              "      <td>1</td>\n",
              "      <td>0 days</td>\n",
              "    </tr>\n",
              "    <tr>\n",
              "      <th>36808</th>\n",
              "      <td>2015-08-05</td>\n",
              "      <td>1</td>\n",
              "      <td>1</td>\n",
              "      <td>False</td>\n",
              "      <td>1</td>\n",
              "      <td>0 days</td>\n",
              "    </tr>\n",
              "  </tbody>\n",
              "</table>\n",
              "</div>"
            ],
            "text/plain": [
              "            Date  Store  ...  SchoolHoliday  AfterSchoolHoliday\n",
              "40232 2015-08-01      1  ...              1              0 days\n",
              "39376 2015-08-02      1  ...              1              0 days\n",
              "38520 2015-08-03      1  ...              1              0 days\n",
              "37664 2015-08-04      1  ...              1              0 days\n",
              "36808 2015-08-05      1  ...              1              0 days\n",
              "\n",
              "[5 rows x 6 columns]"
            ]
          },
          "metadata": {},
          "execution_count": 464
        }
      ]
    },
    {
      "cell_type": "code",
      "metadata": {
        "colab": {
          "base_uri": "https://localhost:8080/",
          "height": 203
        },
        "id": "zPT8heRlSHJU",
        "outputId": "0d2d4432-d03e-422e-a7c2-8d99e385e46b"
      },
      "source": [
        "df_train = df_train.sort_values(['Store', 'Date'], ascending=[True, False])\n",
        "add_elapsed(df_train, fld, 'Before')\n",
        "df_train.head()"
      ],
      "execution_count": null,
      "outputs": [
        {
          "output_type": "execute_result",
          "data": {
            "text/html": [
              "<div>\n",
              "<style scoped>\n",
              "    .dataframe tbody tr th:only-of-type {\n",
              "        vertical-align: middle;\n",
              "    }\n",
              "\n",
              "    .dataframe tbody tr th {\n",
              "        vertical-align: top;\n",
              "    }\n",
              "\n",
              "    .dataframe thead th {\n",
              "        text-align: right;\n",
              "    }\n",
              "</style>\n",
              "<table border=\"1\" class=\"dataframe\">\n",
              "  <thead>\n",
              "    <tr style=\"text-align: right;\">\n",
              "      <th></th>\n",
              "      <th>Date</th>\n",
              "      <th>Store</th>\n",
              "      <th>Promo</th>\n",
              "      <th>StateHoliday_bool</th>\n",
              "      <th>SchoolHoliday</th>\n",
              "      <th>AfterSchoolHoliday</th>\n",
              "      <th>BeforeSchoolHoliday</th>\n",
              "    </tr>\n",
              "  </thead>\n",
              "  <tbody>\n",
              "    <tr>\n",
              "      <th>0</th>\n",
              "      <td>2015-07-31</td>\n",
              "      <td>1</td>\n",
              "      <td>1</td>\n",
              "      <td>False</td>\n",
              "      <td>1</td>\n",
              "      <td>0 days</td>\n",
              "      <td>0 days</td>\n",
              "    </tr>\n",
              "    <tr>\n",
              "      <th>1115</th>\n",
              "      <td>2015-07-30</td>\n",
              "      <td>1</td>\n",
              "      <td>1</td>\n",
              "      <td>False</td>\n",
              "      <td>1</td>\n",
              "      <td>0 days</td>\n",
              "      <td>0 days</td>\n",
              "    </tr>\n",
              "    <tr>\n",
              "      <th>2230</th>\n",
              "      <td>2015-07-29</td>\n",
              "      <td>1</td>\n",
              "      <td>1</td>\n",
              "      <td>False</td>\n",
              "      <td>1</td>\n",
              "      <td>0 days</td>\n",
              "      <td>0 days</td>\n",
              "    </tr>\n",
              "    <tr>\n",
              "      <th>3345</th>\n",
              "      <td>2015-07-28</td>\n",
              "      <td>1</td>\n",
              "      <td>1</td>\n",
              "      <td>False</td>\n",
              "      <td>1</td>\n",
              "      <td>0 days</td>\n",
              "      <td>0 days</td>\n",
              "    </tr>\n",
              "    <tr>\n",
              "      <th>4460</th>\n",
              "      <td>2015-07-27</td>\n",
              "      <td>1</td>\n",
              "      <td>1</td>\n",
              "      <td>False</td>\n",
              "      <td>1</td>\n",
              "      <td>0 days</td>\n",
              "      <td>0 days</td>\n",
              "    </tr>\n",
              "  </tbody>\n",
              "</table>\n",
              "</div>"
            ],
            "text/plain": [
              "           Date  Store  ...  AfterSchoolHoliday  BeforeSchoolHoliday\n",
              "0    2015-07-31      1  ...              0 days               0 days\n",
              "1115 2015-07-30      1  ...              0 days               0 days\n",
              "2230 2015-07-29      1  ...              0 days               0 days\n",
              "3345 2015-07-28      1  ...              0 days               0 days\n",
              "4460 2015-07-27      1  ...              0 days               0 days\n",
              "\n",
              "[5 rows x 7 columns]"
            ]
          },
          "metadata": {},
          "execution_count": 465
        }
      ]
    },
    {
      "cell_type": "code",
      "metadata": {
        "colab": {
          "base_uri": "https://localhost:8080/",
          "height": 203
        },
        "id": "r1r6gj9dSI2C",
        "outputId": "1dab8f2f-df94-4d67-8677-66f45417e76e"
      },
      "source": [
        "df_test = df_test.sort_values(['Store', 'Date'], ascending=[True, False])\n",
        "add_elapsed(df_test, fld, 'Before')\n",
        "df_test.head()"
      ],
      "execution_count": null,
      "outputs": [
        {
          "output_type": "execute_result",
          "data": {
            "text/html": [
              "<div>\n",
              "<style scoped>\n",
              "    .dataframe tbody tr th:only-of-type {\n",
              "        vertical-align: middle;\n",
              "    }\n",
              "\n",
              "    .dataframe tbody tr th {\n",
              "        vertical-align: top;\n",
              "    }\n",
              "\n",
              "    .dataframe thead th {\n",
              "        text-align: right;\n",
              "    }\n",
              "</style>\n",
              "<table border=\"1\" class=\"dataframe\">\n",
              "  <thead>\n",
              "    <tr style=\"text-align: right;\">\n",
              "      <th></th>\n",
              "      <th>Date</th>\n",
              "      <th>Store</th>\n",
              "      <th>Promo</th>\n",
              "      <th>StateHoliday_bool</th>\n",
              "      <th>SchoolHoliday</th>\n",
              "      <th>AfterSchoolHoliday</th>\n",
              "      <th>BeforeSchoolHoliday</th>\n",
              "    </tr>\n",
              "  </thead>\n",
              "  <tbody>\n",
              "    <tr>\n",
              "      <th>0</th>\n",
              "      <td>2015-09-17</td>\n",
              "      <td>1</td>\n",
              "      <td>1</td>\n",
              "      <td>False</td>\n",
              "      <td>0</td>\n",
              "      <td>13 days</td>\n",
              "      <td>NaT</td>\n",
              "    </tr>\n",
              "    <tr>\n",
              "      <th>856</th>\n",
              "      <td>2015-09-16</td>\n",
              "      <td>1</td>\n",
              "      <td>1</td>\n",
              "      <td>False</td>\n",
              "      <td>0</td>\n",
              "      <td>12 days</td>\n",
              "      <td>NaT</td>\n",
              "    </tr>\n",
              "    <tr>\n",
              "      <th>1712</th>\n",
              "      <td>2015-09-15</td>\n",
              "      <td>1</td>\n",
              "      <td>1</td>\n",
              "      <td>False</td>\n",
              "      <td>0</td>\n",
              "      <td>11 days</td>\n",
              "      <td>NaT</td>\n",
              "    </tr>\n",
              "    <tr>\n",
              "      <th>2568</th>\n",
              "      <td>2015-09-14</td>\n",
              "      <td>1</td>\n",
              "      <td>1</td>\n",
              "      <td>False</td>\n",
              "      <td>0</td>\n",
              "      <td>10 days</td>\n",
              "      <td>NaT</td>\n",
              "    </tr>\n",
              "    <tr>\n",
              "      <th>3424</th>\n",
              "      <td>2015-09-13</td>\n",
              "      <td>1</td>\n",
              "      <td>0</td>\n",
              "      <td>False</td>\n",
              "      <td>0</td>\n",
              "      <td>9 days</td>\n",
              "      <td>NaT</td>\n",
              "    </tr>\n",
              "  </tbody>\n",
              "</table>\n",
              "</div>"
            ],
            "text/plain": [
              "           Date  Store  ...  AfterSchoolHoliday  BeforeSchoolHoliday\n",
              "0    2015-09-17      1  ...             13 days                  NaT\n",
              "856  2015-09-16      1  ...             12 days                  NaT\n",
              "1712 2015-09-15      1  ...             11 days                  NaT\n",
              "2568 2015-09-14      1  ...             10 days                  NaT\n",
              "3424 2015-09-13      1  ...              9 days                  NaT\n",
              "\n",
              "[5 rows x 7 columns]"
            ]
          },
          "metadata": {},
          "execution_count": 466
        }
      ]
    },
    {
      "cell_type": "markdown",
      "metadata": {
        "id": "GWFn7dZu8Iae"
      },
      "source": [
        "#### StateHoliday"
      ]
    },
    {
      "cell_type": "code",
      "metadata": {
        "id": "XQU3zZF5SLt4"
      },
      "source": [
        "fld = 'StateHoliday_bool'\n",
        "df_train = df_train.sort_values(['Store', 'Date'])\n",
        "add_elapsed(df_train, fld, 'After')\n",
        "df_train = df_train.sort_values(['Store', 'Date'], ascending=[True, False])\n",
        "add_elapsed(df_train, fld, 'Before')"
      ],
      "execution_count": null,
      "outputs": []
    },
    {
      "cell_type": "code",
      "metadata": {
        "id": "JRPMJmH-SP1a"
      },
      "source": [
        "fld = 'StateHoliday_bool'\n",
        "df_test = df_test.sort_values(['Store', 'Date'])\n",
        "add_elapsed(df_test, fld, 'After')\n",
        "df_test = df_test.sort_values(['Store', 'Date'], ascending=[True, False])\n",
        "add_elapsed(df_test, fld, 'Before')"
      ],
      "execution_count": null,
      "outputs": []
    },
    {
      "cell_type": "markdown",
      "metadata": {
        "id": "Daz0yIBE85bu"
      },
      "source": [
        "#### Promo"
      ]
    },
    {
      "cell_type": "code",
      "metadata": {
        "id": "ln0VmmULSULM"
      },
      "source": [
        "fld = 'Promo'\n",
        "df_train = df_train.sort_values(['Store', 'Date'])\n",
        "add_elapsed(df_train, fld, 'After')\n",
        "df_train = df_train.sort_values(['Store', 'Date'], ascending=[True, False])\n",
        "add_elapsed(df_train, fld, 'Before')"
      ],
      "execution_count": null,
      "outputs": []
    },
    {
      "cell_type": "code",
      "metadata": {
        "id": "3dKiObjESWMw"
      },
      "source": [
        "fld = 'Promo'\n",
        "df_test = df_test.sort_values(['Store', 'Date'])\n",
        "add_elapsed(df_test, fld, 'After')\n",
        "df_test = df_test.sort_values(['Store', 'Date'], ascending=[True, False])\n",
        "add_elapsed(df_test, fld, 'Before')"
      ],
      "execution_count": null,
      "outputs": []
    },
    {
      "cell_type": "markdown",
      "metadata": {
        "id": "J3uWRO_89J7r"
      },
      "source": [
        "Vemos resultado final"
      ]
    },
    {
      "cell_type": "code",
      "metadata": {
        "colab": {
          "base_uri": "https://localhost:8080/",
          "height": 545
        },
        "id": "ZjgVTtOvScbm",
        "outputId": "4c6c924f-bd69-4f2d-fa00-3ed9fa2f19b4"
      },
      "source": [
        "df_train.head(10)"
      ],
      "execution_count": null,
      "outputs": [
        {
          "output_type": "execute_result",
          "data": {
            "text/html": [
              "<div>\n",
              "<style scoped>\n",
              "    .dataframe tbody tr th:only-of-type {\n",
              "        vertical-align: middle;\n",
              "    }\n",
              "\n",
              "    .dataframe tbody tr th {\n",
              "        vertical-align: top;\n",
              "    }\n",
              "\n",
              "    .dataframe thead th {\n",
              "        text-align: right;\n",
              "    }\n",
              "</style>\n",
              "<table border=\"1\" class=\"dataframe\">\n",
              "  <thead>\n",
              "    <tr style=\"text-align: right;\">\n",
              "      <th></th>\n",
              "      <th>Date</th>\n",
              "      <th>Store</th>\n",
              "      <th>Promo</th>\n",
              "      <th>StateHoliday_bool</th>\n",
              "      <th>SchoolHoliday</th>\n",
              "      <th>AfterSchoolHoliday</th>\n",
              "      <th>BeforeSchoolHoliday</th>\n",
              "      <th>AfterStateHoliday_bool</th>\n",
              "      <th>BeforeStateHoliday_bool</th>\n",
              "      <th>AfterPromo</th>\n",
              "      <th>BeforePromo</th>\n",
              "    </tr>\n",
              "  </thead>\n",
              "  <tbody>\n",
              "    <tr>\n",
              "      <th>0</th>\n",
              "      <td>2015-07-31</td>\n",
              "      <td>1</td>\n",
              "      <td>1</td>\n",
              "      <td>False</td>\n",
              "      <td>1</td>\n",
              "      <td>0 days</td>\n",
              "      <td>0 days</td>\n",
              "      <td>57 days</td>\n",
              "      <td>NaT</td>\n",
              "      <td>0 days</td>\n",
              "      <td>0 days</td>\n",
              "    </tr>\n",
              "    <tr>\n",
              "      <th>1115</th>\n",
              "      <td>2015-07-30</td>\n",
              "      <td>1</td>\n",
              "      <td>1</td>\n",
              "      <td>False</td>\n",
              "      <td>1</td>\n",
              "      <td>0 days</td>\n",
              "      <td>0 days</td>\n",
              "      <td>56 days</td>\n",
              "      <td>NaT</td>\n",
              "      <td>0 days</td>\n",
              "      <td>0 days</td>\n",
              "    </tr>\n",
              "    <tr>\n",
              "      <th>2230</th>\n",
              "      <td>2015-07-29</td>\n",
              "      <td>1</td>\n",
              "      <td>1</td>\n",
              "      <td>False</td>\n",
              "      <td>1</td>\n",
              "      <td>0 days</td>\n",
              "      <td>0 days</td>\n",
              "      <td>55 days</td>\n",
              "      <td>NaT</td>\n",
              "      <td>0 days</td>\n",
              "      <td>0 days</td>\n",
              "    </tr>\n",
              "    <tr>\n",
              "      <th>3345</th>\n",
              "      <td>2015-07-28</td>\n",
              "      <td>1</td>\n",
              "      <td>1</td>\n",
              "      <td>False</td>\n",
              "      <td>1</td>\n",
              "      <td>0 days</td>\n",
              "      <td>0 days</td>\n",
              "      <td>54 days</td>\n",
              "      <td>NaT</td>\n",
              "      <td>0 days</td>\n",
              "      <td>0 days</td>\n",
              "    </tr>\n",
              "    <tr>\n",
              "      <th>4460</th>\n",
              "      <td>2015-07-27</td>\n",
              "      <td>1</td>\n",
              "      <td>1</td>\n",
              "      <td>False</td>\n",
              "      <td>1</td>\n",
              "      <td>0 days</td>\n",
              "      <td>0 days</td>\n",
              "      <td>53 days</td>\n",
              "      <td>NaT</td>\n",
              "      <td>0 days</td>\n",
              "      <td>0 days</td>\n",
              "    </tr>\n",
              "    <tr>\n",
              "      <th>5575</th>\n",
              "      <td>2015-07-26</td>\n",
              "      <td>1</td>\n",
              "      <td>0</td>\n",
              "      <td>False</td>\n",
              "      <td>0</td>\n",
              "      <td>107 days</td>\n",
              "      <td>-1 days</td>\n",
              "      <td>52 days</td>\n",
              "      <td>NaT</td>\n",
              "      <td>9 days</td>\n",
              "      <td>-1 days</td>\n",
              "    </tr>\n",
              "    <tr>\n",
              "      <th>6690</th>\n",
              "      <td>2015-07-25</td>\n",
              "      <td>1</td>\n",
              "      <td>0</td>\n",
              "      <td>False</td>\n",
              "      <td>0</td>\n",
              "      <td>106 days</td>\n",
              "      <td>-2 days</td>\n",
              "      <td>51 days</td>\n",
              "      <td>NaT</td>\n",
              "      <td>8 days</td>\n",
              "      <td>-2 days</td>\n",
              "    </tr>\n",
              "    <tr>\n",
              "      <th>7805</th>\n",
              "      <td>2015-07-24</td>\n",
              "      <td>1</td>\n",
              "      <td>0</td>\n",
              "      <td>False</td>\n",
              "      <td>0</td>\n",
              "      <td>105 days</td>\n",
              "      <td>-3 days</td>\n",
              "      <td>50 days</td>\n",
              "      <td>NaT</td>\n",
              "      <td>7 days</td>\n",
              "      <td>-3 days</td>\n",
              "    </tr>\n",
              "    <tr>\n",
              "      <th>8920</th>\n",
              "      <td>2015-07-23</td>\n",
              "      <td>1</td>\n",
              "      <td>0</td>\n",
              "      <td>False</td>\n",
              "      <td>0</td>\n",
              "      <td>104 days</td>\n",
              "      <td>-4 days</td>\n",
              "      <td>49 days</td>\n",
              "      <td>NaT</td>\n",
              "      <td>6 days</td>\n",
              "      <td>-4 days</td>\n",
              "    </tr>\n",
              "    <tr>\n",
              "      <th>10035</th>\n",
              "      <td>2015-07-22</td>\n",
              "      <td>1</td>\n",
              "      <td>0</td>\n",
              "      <td>False</td>\n",
              "      <td>0</td>\n",
              "      <td>103 days</td>\n",
              "      <td>-5 days</td>\n",
              "      <td>48 days</td>\n",
              "      <td>NaT</td>\n",
              "      <td>5 days</td>\n",
              "      <td>-5 days</td>\n",
              "    </tr>\n",
              "  </tbody>\n",
              "</table>\n",
              "</div>"
            ],
            "text/plain": [
              "            Date  Store  Promo  ...  BeforeStateHoliday_bool  AfterPromo BeforePromo\n",
              "0     2015-07-31      1      1  ...                      NaT      0 days      0 days\n",
              "1115  2015-07-30      1      1  ...                      NaT      0 days      0 days\n",
              "2230  2015-07-29      1      1  ...                      NaT      0 days      0 days\n",
              "3345  2015-07-28      1      1  ...                      NaT      0 days      0 days\n",
              "4460  2015-07-27      1      1  ...                      NaT      0 days      0 days\n",
              "5575  2015-07-26      1      0  ...                      NaT      9 days     -1 days\n",
              "6690  2015-07-25      1      0  ...                      NaT      8 days     -2 days\n",
              "7805  2015-07-24      1      0  ...                      NaT      7 days     -3 days\n",
              "8920  2015-07-23      1      0  ...                      NaT      6 days     -4 days\n",
              "10035 2015-07-22      1      0  ...                      NaT      5 days     -5 days\n",
              "\n",
              "[10 rows x 11 columns]"
            ]
          },
          "metadata": {},
          "execution_count": 471
        }
      ]
    },
    {
      "cell_type": "markdown",
      "metadata": {
        "id": "d9zUnfd8-FwR"
      },
      "source": [
        "Hacemos que la columna 'Date' sea los índices de la tabla"
      ]
    },
    {
      "cell_type": "code",
      "metadata": {
        "id": "FqD46BhuSg_s"
      },
      "source": [
        "df_train = df_train.set_index(\"Date\")\n",
        "df_test = df_test.set_index(\"Date\")"
      ],
      "execution_count": null,
      "outputs": []
    },
    {
      "cell_type": "code",
      "metadata": {
        "colab": {
          "base_uri": "https://localhost:8080/",
          "height": 338
        },
        "id": "hXMzfV6XShzo",
        "outputId": "79125967-7278-4163-c191-6f18454e2ef9"
      },
      "source": [
        "df_train.sort_values('Date').head(5)"
      ],
      "execution_count": null,
      "outputs": [
        {
          "output_type": "execute_result",
          "data": {
            "text/html": [
              "<div>\n",
              "<style scoped>\n",
              "    .dataframe tbody tr th:only-of-type {\n",
              "        vertical-align: middle;\n",
              "    }\n",
              "\n",
              "    .dataframe tbody tr th {\n",
              "        vertical-align: top;\n",
              "    }\n",
              "\n",
              "    .dataframe thead th {\n",
              "        text-align: right;\n",
              "    }\n",
              "</style>\n",
              "<table border=\"1\" class=\"dataframe\">\n",
              "  <thead>\n",
              "    <tr style=\"text-align: right;\">\n",
              "      <th></th>\n",
              "      <th>Store</th>\n",
              "      <th>Promo</th>\n",
              "      <th>StateHoliday_bool</th>\n",
              "      <th>SchoolHoliday</th>\n",
              "      <th>AfterSchoolHoliday</th>\n",
              "      <th>BeforeSchoolHoliday</th>\n",
              "      <th>AfterStateHoliday_bool</th>\n",
              "      <th>BeforeStateHoliday_bool</th>\n",
              "      <th>AfterPromo</th>\n",
              "      <th>BeforePromo</th>\n",
              "    </tr>\n",
              "    <tr>\n",
              "      <th>Date</th>\n",
              "      <th></th>\n",
              "      <th></th>\n",
              "      <th></th>\n",
              "      <th></th>\n",
              "      <th></th>\n",
              "      <th></th>\n",
              "      <th></th>\n",
              "      <th></th>\n",
              "      <th></th>\n",
              "      <th></th>\n",
              "    </tr>\n",
              "  </thead>\n",
              "  <tbody>\n",
              "    <tr>\n",
              "      <th>2013-01-01</th>\n",
              "      <td>1115</td>\n",
              "      <td>0</td>\n",
              "      <td>True</td>\n",
              "      <td>1</td>\n",
              "      <td>0 days</td>\n",
              "      <td>0 days</td>\n",
              "      <td>0 days</td>\n",
              "      <td>0 days</td>\n",
              "      <td>NaT</td>\n",
              "      <td>-6 days</td>\n",
              "    </tr>\n",
              "    <tr>\n",
              "      <th>2013-01-01</th>\n",
              "      <td>746</td>\n",
              "      <td>0</td>\n",
              "      <td>True</td>\n",
              "      <td>1</td>\n",
              "      <td>0 days</td>\n",
              "      <td>0 days</td>\n",
              "      <td>0 days</td>\n",
              "      <td>0 days</td>\n",
              "      <td>NaT</td>\n",
              "      <td>-6 days</td>\n",
              "    </tr>\n",
              "    <tr>\n",
              "      <th>2013-01-01</th>\n",
              "      <td>171</td>\n",
              "      <td>0</td>\n",
              "      <td>True</td>\n",
              "      <td>1</td>\n",
              "      <td>0 days</td>\n",
              "      <td>0 days</td>\n",
              "      <td>0 days</td>\n",
              "      <td>0 days</td>\n",
              "      <td>NaT</td>\n",
              "      <td>-6 days</td>\n",
              "    </tr>\n",
              "    <tr>\n",
              "      <th>2013-01-01</th>\n",
              "      <td>694</td>\n",
              "      <td>0</td>\n",
              "      <td>True</td>\n",
              "      <td>1</td>\n",
              "      <td>0 days</td>\n",
              "      <td>0 days</td>\n",
              "      <td>0 days</td>\n",
              "      <td>0 days</td>\n",
              "      <td>NaT</td>\n",
              "      <td>-6 days</td>\n",
              "    </tr>\n",
              "    <tr>\n",
              "      <th>2013-01-01</th>\n",
              "      <td>396</td>\n",
              "      <td>0</td>\n",
              "      <td>True</td>\n",
              "      <td>1</td>\n",
              "      <td>0 days</td>\n",
              "      <td>0 days</td>\n",
              "      <td>0 days</td>\n",
              "      <td>0 days</td>\n",
              "      <td>NaT</td>\n",
              "      <td>-6 days</td>\n",
              "    </tr>\n",
              "  </tbody>\n",
              "</table>\n",
              "</div>"
            ],
            "text/plain": [
              "            Store  Promo  ...  AfterPromo  BeforePromo\n",
              "Date                      ...                         \n",
              "2013-01-01   1115      0  ...         NaT      -6 days\n",
              "2013-01-01    746      0  ...         NaT      -6 days\n",
              "2013-01-01    171      0  ...         NaT      -6 days\n",
              "2013-01-01    694      0  ...         NaT      -6 days\n",
              "2013-01-01    396      0  ...         NaT      -6 days\n",
              "\n",
              "[5 rows x 10 columns]"
            ]
          },
          "metadata": {},
          "execution_count": 473
        }
      ]
    },
    {
      "cell_type": "code",
      "metadata": {
        "colab": {
          "base_uri": "https://localhost:8080/",
          "height": 338
        },
        "id": "Z-2NNwTLSj_c",
        "outputId": "f9722d23-d3eb-4c0e-f343-db6948267f12"
      },
      "source": [
        "df_test.sort_values('Date').head(5)"
      ],
      "execution_count": null,
      "outputs": [
        {
          "output_type": "execute_result",
          "data": {
            "text/html": [
              "<div>\n",
              "<style scoped>\n",
              "    .dataframe tbody tr th:only-of-type {\n",
              "        vertical-align: middle;\n",
              "    }\n",
              "\n",
              "    .dataframe tbody tr th {\n",
              "        vertical-align: top;\n",
              "    }\n",
              "\n",
              "    .dataframe thead th {\n",
              "        text-align: right;\n",
              "    }\n",
              "</style>\n",
              "<table border=\"1\" class=\"dataframe\">\n",
              "  <thead>\n",
              "    <tr style=\"text-align: right;\">\n",
              "      <th></th>\n",
              "      <th>Store</th>\n",
              "      <th>Promo</th>\n",
              "      <th>StateHoliday_bool</th>\n",
              "      <th>SchoolHoliday</th>\n",
              "      <th>AfterSchoolHoliday</th>\n",
              "      <th>BeforeSchoolHoliday</th>\n",
              "      <th>AfterStateHoliday_bool</th>\n",
              "      <th>BeforeStateHoliday_bool</th>\n",
              "      <th>AfterPromo</th>\n",
              "      <th>BeforePromo</th>\n",
              "    </tr>\n",
              "    <tr>\n",
              "      <th>Date</th>\n",
              "      <th></th>\n",
              "      <th></th>\n",
              "      <th></th>\n",
              "      <th></th>\n",
              "      <th></th>\n",
              "      <th></th>\n",
              "      <th></th>\n",
              "      <th></th>\n",
              "      <th></th>\n",
              "      <th></th>\n",
              "    </tr>\n",
              "  </thead>\n",
              "  <tbody>\n",
              "    <tr>\n",
              "      <th>2015-08-01</th>\n",
              "      <td>553</td>\n",
              "      <td>0</td>\n",
              "      <td>False</td>\n",
              "      <td>0</td>\n",
              "      <td>NaT</td>\n",
              "      <td>-2 days</td>\n",
              "      <td>NaT</td>\n",
              "      <td>NaT</td>\n",
              "      <td>NaT</td>\n",
              "      <td>-2 days</td>\n",
              "    </tr>\n",
              "    <tr>\n",
              "      <th>2015-08-01</th>\n",
              "      <td>394</td>\n",
              "      <td>0</td>\n",
              "      <td>False</td>\n",
              "      <td>1</td>\n",
              "      <td>0 days</td>\n",
              "      <td>0 days</td>\n",
              "      <td>NaT</td>\n",
              "      <td>NaT</td>\n",
              "      <td>NaT</td>\n",
              "      <td>-2 days</td>\n",
              "    </tr>\n",
              "    <tr>\n",
              "      <th>2015-08-01</th>\n",
              "      <td>393</td>\n",
              "      <td>0</td>\n",
              "      <td>False</td>\n",
              "      <td>0</td>\n",
              "      <td>NaT</td>\n",
              "      <td>-2 days</td>\n",
              "      <td>NaT</td>\n",
              "      <td>NaT</td>\n",
              "      <td>NaT</td>\n",
              "      <td>-2 days</td>\n",
              "    </tr>\n",
              "    <tr>\n",
              "      <th>2015-08-01</th>\n",
              "      <td>392</td>\n",
              "      <td>0</td>\n",
              "      <td>False</td>\n",
              "      <td>0</td>\n",
              "      <td>NaT</td>\n",
              "      <td>-2 days</td>\n",
              "      <td>NaT</td>\n",
              "      <td>NaT</td>\n",
              "      <td>NaT</td>\n",
              "      <td>-2 days</td>\n",
              "    </tr>\n",
              "    <tr>\n",
              "      <th>2015-08-01</th>\n",
              "      <td>391</td>\n",
              "      <td>0</td>\n",
              "      <td>False</td>\n",
              "      <td>0</td>\n",
              "      <td>NaT</td>\n",
              "      <td>-2 days</td>\n",
              "      <td>NaT</td>\n",
              "      <td>NaT</td>\n",
              "      <td>NaT</td>\n",
              "      <td>-2 days</td>\n",
              "    </tr>\n",
              "  </tbody>\n",
              "</table>\n",
              "</div>"
            ],
            "text/plain": [
              "            Store  Promo  ...  AfterPromo  BeforePromo\n",
              "Date                      ...                         \n",
              "2015-08-01    553      0  ...         NaT      -2 days\n",
              "2015-08-01    394      0  ...         NaT      -2 days\n",
              "2015-08-01    393      0  ...         NaT      -2 days\n",
              "2015-08-01    392      0  ...         NaT      -2 days\n",
              "2015-08-01    391      0  ...         NaT      -2 days\n",
              "\n",
              "[5 rows x 10 columns]"
            ]
          },
          "metadata": {},
          "execution_count": 474
        }
      ]
    },
    {
      "cell_type": "markdown",
      "metadata": {
        "id": "mSJwsWOu_yyk"
      },
      "source": [
        "### Eliminamos datos tipo NaT"
      ]
    },
    {
      "cell_type": "markdown",
      "metadata": {
        "id": "CDN_nhZOyFMX"
      },
      "source": [
        "Para las columnas agregadas previamente se corrigen los datos tipo NaT"
      ]
    },
    {
      "cell_type": "code",
      "metadata": {
        "id": "EtaX96sFSl_c"
      },
      "source": [
        "columns = ['SchoolHoliday', 'StateHoliday_bool', 'Promo']"
      ],
      "execution_count": null,
      "outputs": []
    },
    {
      "cell_type": "code",
      "metadata": {
        "id": "jp0_nhjzSoJu"
      },
      "source": [
        "for o in ['Before', 'After']:\n",
        "    for p in columns:\n",
        "        a = o+p\n",
        "        df_train[a] = df_train[a].fillna(pd.Timedelta(0)).dt.days\n",
        "        df_test[a] = df_test[a].fillna(pd.Timedelta(0)).dt.days"
      ],
      "execution_count": null,
      "outputs": []
    },
    {
      "cell_type": "code",
      "metadata": {
        "colab": {
          "base_uri": "https://localhost:8080/",
          "height": 576
        },
        "id": "Bi0tR9u9SqSQ",
        "outputId": "82fe56b3-89eb-43a5-bd4e-0c5daae097bf"
      },
      "source": [
        "df_train.sort_values('Date').head(10)"
      ],
      "execution_count": null,
      "outputs": [
        {
          "output_type": "execute_result",
          "data": {
            "text/html": [
              "<div>\n",
              "<style scoped>\n",
              "    .dataframe tbody tr th:only-of-type {\n",
              "        vertical-align: middle;\n",
              "    }\n",
              "\n",
              "    .dataframe tbody tr th {\n",
              "        vertical-align: top;\n",
              "    }\n",
              "\n",
              "    .dataframe thead th {\n",
              "        text-align: right;\n",
              "    }\n",
              "</style>\n",
              "<table border=\"1\" class=\"dataframe\">\n",
              "  <thead>\n",
              "    <tr style=\"text-align: right;\">\n",
              "      <th></th>\n",
              "      <th>Store</th>\n",
              "      <th>Promo</th>\n",
              "      <th>StateHoliday_bool</th>\n",
              "      <th>SchoolHoliday</th>\n",
              "      <th>AfterSchoolHoliday</th>\n",
              "      <th>BeforeSchoolHoliday</th>\n",
              "      <th>AfterStateHoliday_bool</th>\n",
              "      <th>BeforeStateHoliday_bool</th>\n",
              "      <th>AfterPromo</th>\n",
              "      <th>BeforePromo</th>\n",
              "    </tr>\n",
              "    <tr>\n",
              "      <th>Date</th>\n",
              "      <th></th>\n",
              "      <th></th>\n",
              "      <th></th>\n",
              "      <th></th>\n",
              "      <th></th>\n",
              "      <th></th>\n",
              "      <th></th>\n",
              "      <th></th>\n",
              "      <th></th>\n",
              "      <th></th>\n",
              "    </tr>\n",
              "  </thead>\n",
              "  <tbody>\n",
              "    <tr>\n",
              "      <th>2013-01-01</th>\n",
              "      <td>1115</td>\n",
              "      <td>0</td>\n",
              "      <td>True</td>\n",
              "      <td>1</td>\n",
              "      <td>0</td>\n",
              "      <td>0</td>\n",
              "      <td>0</td>\n",
              "      <td>0</td>\n",
              "      <td>0</td>\n",
              "      <td>-6</td>\n",
              "    </tr>\n",
              "    <tr>\n",
              "      <th>2013-01-01</th>\n",
              "      <td>746</td>\n",
              "      <td>0</td>\n",
              "      <td>True</td>\n",
              "      <td>1</td>\n",
              "      <td>0</td>\n",
              "      <td>0</td>\n",
              "      <td>0</td>\n",
              "      <td>0</td>\n",
              "      <td>0</td>\n",
              "      <td>-6</td>\n",
              "    </tr>\n",
              "    <tr>\n",
              "      <th>2013-01-01</th>\n",
              "      <td>171</td>\n",
              "      <td>0</td>\n",
              "      <td>True</td>\n",
              "      <td>1</td>\n",
              "      <td>0</td>\n",
              "      <td>0</td>\n",
              "      <td>0</td>\n",
              "      <td>0</td>\n",
              "      <td>0</td>\n",
              "      <td>-6</td>\n",
              "    </tr>\n",
              "    <tr>\n",
              "      <th>2013-01-01</th>\n",
              "      <td>694</td>\n",
              "      <td>0</td>\n",
              "      <td>True</td>\n",
              "      <td>1</td>\n",
              "      <td>0</td>\n",
              "      <td>0</td>\n",
              "      <td>0</td>\n",
              "      <td>0</td>\n",
              "      <td>0</td>\n",
              "      <td>-6</td>\n",
              "    </tr>\n",
              "    <tr>\n",
              "      <th>2013-01-01</th>\n",
              "      <td>396</td>\n",
              "      <td>0</td>\n",
              "      <td>True</td>\n",
              "      <td>1</td>\n",
              "      <td>0</td>\n",
              "      <td>0</td>\n",
              "      <td>0</td>\n",
              "      <td>0</td>\n",
              "      <td>0</td>\n",
              "      <td>-6</td>\n",
              "    </tr>\n",
              "    <tr>\n",
              "      <th>2013-01-01</th>\n",
              "      <td>196</td>\n",
              "      <td>0</td>\n",
              "      <td>True</td>\n",
              "      <td>1</td>\n",
              "      <td>0</td>\n",
              "      <td>0</td>\n",
              "      <td>0</td>\n",
              "      <td>0</td>\n",
              "      <td>0</td>\n",
              "      <td>-6</td>\n",
              "    </tr>\n",
              "    <tr>\n",
              "      <th>2013-01-01</th>\n",
              "      <td>271</td>\n",
              "      <td>0</td>\n",
              "      <td>True</td>\n",
              "      <td>1</td>\n",
              "      <td>0</td>\n",
              "      <td>0</td>\n",
              "      <td>0</td>\n",
              "      <td>0</td>\n",
              "      <td>0</td>\n",
              "      <td>-6</td>\n",
              "    </tr>\n",
              "    <tr>\n",
              "      <th>2013-01-01</th>\n",
              "      <td>32</td>\n",
              "      <td>0</td>\n",
              "      <td>True</td>\n",
              "      <td>1</td>\n",
              "      <td>0</td>\n",
              "      <td>0</td>\n",
              "      <td>0</td>\n",
              "      <td>0</td>\n",
              "      <td>0</td>\n",
              "      <td>-6</td>\n",
              "    </tr>\n",
              "    <tr>\n",
              "      <th>2013-01-01</th>\n",
              "      <td>440</td>\n",
              "      <td>0</td>\n",
              "      <td>True</td>\n",
              "      <td>1</td>\n",
              "      <td>0</td>\n",
              "      <td>0</td>\n",
              "      <td>0</td>\n",
              "      <td>0</td>\n",
              "      <td>0</td>\n",
              "      <td>-6</td>\n",
              "    </tr>\n",
              "    <tr>\n",
              "      <th>2013-01-01</th>\n",
              "      <td>1090</td>\n",
              "      <td>0</td>\n",
              "      <td>True</td>\n",
              "      <td>1</td>\n",
              "      <td>0</td>\n",
              "      <td>0</td>\n",
              "      <td>0</td>\n",
              "      <td>0</td>\n",
              "      <td>0</td>\n",
              "      <td>-6</td>\n",
              "    </tr>\n",
              "  </tbody>\n",
              "</table>\n",
              "</div>"
            ],
            "text/plain": [
              "            Store  Promo  ...  AfterPromo  BeforePromo\n",
              "Date                      ...                         \n",
              "2013-01-01   1115      0  ...           0           -6\n",
              "2013-01-01    746      0  ...           0           -6\n",
              "2013-01-01    171      0  ...           0           -6\n",
              "2013-01-01    694      0  ...           0           -6\n",
              "2013-01-01    396      0  ...           0           -6\n",
              "2013-01-01    196      0  ...           0           -6\n",
              "2013-01-01    271      0  ...           0           -6\n",
              "2013-01-01     32      0  ...           0           -6\n",
              "2013-01-01    440      0  ...           0           -6\n",
              "2013-01-01   1090      0  ...           0           -6\n",
              "\n",
              "[10 rows x 10 columns]"
            ]
          },
          "metadata": {},
          "execution_count": 477
        }
      ]
    },
    {
      "cell_type": "code",
      "metadata": {
        "colab": {
          "base_uri": "https://localhost:8080/",
          "height": 576
        },
        "id": "UkNQjKkESr8Z",
        "outputId": "00445276-bc30-485f-8bb9-1da650822947"
      },
      "source": [
        "df_test.sort_values('Date').head(10)"
      ],
      "execution_count": null,
      "outputs": [
        {
          "output_type": "execute_result",
          "data": {
            "text/html": [
              "<div>\n",
              "<style scoped>\n",
              "    .dataframe tbody tr th:only-of-type {\n",
              "        vertical-align: middle;\n",
              "    }\n",
              "\n",
              "    .dataframe tbody tr th {\n",
              "        vertical-align: top;\n",
              "    }\n",
              "\n",
              "    .dataframe thead th {\n",
              "        text-align: right;\n",
              "    }\n",
              "</style>\n",
              "<table border=\"1\" class=\"dataframe\">\n",
              "  <thead>\n",
              "    <tr style=\"text-align: right;\">\n",
              "      <th></th>\n",
              "      <th>Store</th>\n",
              "      <th>Promo</th>\n",
              "      <th>StateHoliday_bool</th>\n",
              "      <th>SchoolHoliday</th>\n",
              "      <th>AfterSchoolHoliday</th>\n",
              "      <th>BeforeSchoolHoliday</th>\n",
              "      <th>AfterStateHoliday_bool</th>\n",
              "      <th>BeforeStateHoliday_bool</th>\n",
              "      <th>AfterPromo</th>\n",
              "      <th>BeforePromo</th>\n",
              "    </tr>\n",
              "    <tr>\n",
              "      <th>Date</th>\n",
              "      <th></th>\n",
              "      <th></th>\n",
              "      <th></th>\n",
              "      <th></th>\n",
              "      <th></th>\n",
              "      <th></th>\n",
              "      <th></th>\n",
              "      <th></th>\n",
              "      <th></th>\n",
              "      <th></th>\n",
              "    </tr>\n",
              "  </thead>\n",
              "  <tbody>\n",
              "    <tr>\n",
              "      <th>2015-08-01</th>\n",
              "      <td>553</td>\n",
              "      <td>0</td>\n",
              "      <td>False</td>\n",
              "      <td>0</td>\n",
              "      <td>0</td>\n",
              "      <td>-2</td>\n",
              "      <td>0</td>\n",
              "      <td>0</td>\n",
              "      <td>0</td>\n",
              "      <td>-2</td>\n",
              "    </tr>\n",
              "    <tr>\n",
              "      <th>2015-08-01</th>\n",
              "      <td>394</td>\n",
              "      <td>0</td>\n",
              "      <td>False</td>\n",
              "      <td>1</td>\n",
              "      <td>0</td>\n",
              "      <td>0</td>\n",
              "      <td>0</td>\n",
              "      <td>0</td>\n",
              "      <td>0</td>\n",
              "      <td>-2</td>\n",
              "    </tr>\n",
              "    <tr>\n",
              "      <th>2015-08-01</th>\n",
              "      <td>393</td>\n",
              "      <td>0</td>\n",
              "      <td>False</td>\n",
              "      <td>0</td>\n",
              "      <td>0</td>\n",
              "      <td>-2</td>\n",
              "      <td>0</td>\n",
              "      <td>0</td>\n",
              "      <td>0</td>\n",
              "      <td>-2</td>\n",
              "    </tr>\n",
              "    <tr>\n",
              "      <th>2015-08-01</th>\n",
              "      <td>392</td>\n",
              "      <td>0</td>\n",
              "      <td>False</td>\n",
              "      <td>0</td>\n",
              "      <td>0</td>\n",
              "      <td>-2</td>\n",
              "      <td>0</td>\n",
              "      <td>0</td>\n",
              "      <td>0</td>\n",
              "      <td>-2</td>\n",
              "    </tr>\n",
              "    <tr>\n",
              "      <th>2015-08-01</th>\n",
              "      <td>391</td>\n",
              "      <td>0</td>\n",
              "      <td>False</td>\n",
              "      <td>0</td>\n",
              "      <td>0</td>\n",
              "      <td>-2</td>\n",
              "      <td>0</td>\n",
              "      <td>0</td>\n",
              "      <td>0</td>\n",
              "      <td>-2</td>\n",
              "    </tr>\n",
              "    <tr>\n",
              "      <th>2015-08-01</th>\n",
              "      <td>389</td>\n",
              "      <td>0</td>\n",
              "      <td>False</td>\n",
              "      <td>0</td>\n",
              "      <td>0</td>\n",
              "      <td>-2</td>\n",
              "      <td>0</td>\n",
              "      <td>0</td>\n",
              "      <td>0</td>\n",
              "      <td>-2</td>\n",
              "    </tr>\n",
              "    <tr>\n",
              "      <th>2015-08-01</th>\n",
              "      <td>388</td>\n",
              "      <td>0</td>\n",
              "      <td>False</td>\n",
              "      <td>0</td>\n",
              "      <td>0</td>\n",
              "      <td>-2</td>\n",
              "      <td>0</td>\n",
              "      <td>0</td>\n",
              "      <td>0</td>\n",
              "      <td>-2</td>\n",
              "    </tr>\n",
              "    <tr>\n",
              "      <th>2015-08-01</th>\n",
              "      <td>387</td>\n",
              "      <td>0</td>\n",
              "      <td>False</td>\n",
              "      <td>0</td>\n",
              "      <td>0</td>\n",
              "      <td>-2</td>\n",
              "      <td>0</td>\n",
              "      <td>0</td>\n",
              "      <td>0</td>\n",
              "      <td>-2</td>\n",
              "    </tr>\n",
              "    <tr>\n",
              "      <th>2015-08-01</th>\n",
              "      <td>386</td>\n",
              "      <td>0</td>\n",
              "      <td>False</td>\n",
              "      <td>0</td>\n",
              "      <td>0</td>\n",
              "      <td>-2</td>\n",
              "      <td>0</td>\n",
              "      <td>0</td>\n",
              "      <td>0</td>\n",
              "      <td>-2</td>\n",
              "    </tr>\n",
              "    <tr>\n",
              "      <th>2015-08-01</th>\n",
              "      <td>385</td>\n",
              "      <td>0</td>\n",
              "      <td>False</td>\n",
              "      <td>0</td>\n",
              "      <td>0</td>\n",
              "      <td>-2</td>\n",
              "      <td>0</td>\n",
              "      <td>-14</td>\n",
              "      <td>0</td>\n",
              "      <td>-2</td>\n",
              "    </tr>\n",
              "  </tbody>\n",
              "</table>\n",
              "</div>"
            ],
            "text/plain": [
              "            Store  Promo  ...  AfterPromo  BeforePromo\n",
              "Date                      ...                         \n",
              "2015-08-01    553      0  ...           0           -2\n",
              "2015-08-01    394      0  ...           0           -2\n",
              "2015-08-01    393      0  ...           0           -2\n",
              "2015-08-01    392      0  ...           0           -2\n",
              "2015-08-01    391      0  ...           0           -2\n",
              "2015-08-01    389      0  ...           0           -2\n",
              "2015-08-01    388      0  ...           0           -2\n",
              "2015-08-01    387      0  ...           0           -2\n",
              "2015-08-01    386      0  ...           0           -2\n",
              "2015-08-01    385      0  ...           0           -2\n",
              "\n",
              "[10 rows x 10 columns]"
            ]
          },
          "metadata": {},
          "execution_count": 478
        }
      ]
    },
    {
      "cell_type": "markdown",
      "metadata": {
        "id": "NzpyPRrDAFeI"
      },
      "source": [
        "### Visualización de datos agregados"
      ]
    },
    {
      "cell_type": "code",
      "metadata": {
        "id": "4XAjHUCOSuGS"
      },
      "source": [
        "from matplotlib import pyplot as plt"
      ],
      "execution_count": null,
      "outputs": []
    },
    {
      "cell_type": "markdown",
      "metadata": {
        "id": "m9MZE6vXzkdF"
      },
      "source": [
        "Se visualizan los datos de uno de los stores. Se elige para este caso el store 280"
      ]
    },
    {
      "cell_type": "code",
      "metadata": {
        "colab": {
          "base_uri": "https://localhost:8080/",
          "height": 386
        },
        "id": "Ai_wqldTSzsM",
        "outputId": "c43b93e0-4dda-43d4-ce26-b00ae5992530"
      },
      "source": [
        "plt.figure(figsize=(20,3))\n",
        "df_train[df_train['Store'] == 280]['BeforeSchoolHoliday'].plot()\n",
        "df_train[df_train['Store'] == 280]['BeforeStateHoliday_bool'].plot()\n",
        "df_train[df_train['Store'] == 280]['BeforePromo'].plot()\n",
        "plt.legend()\n",
        "plt.show()\n",
        "\n",
        "plt.figure(figsize=(20,3))\n",
        "df_train[df_train['Store'] == 280]['AfterSchoolHoliday'].plot()\n",
        "df_train[df_train['Store'] == 280]['AfterStateHoliday_bool'].plot()\n",
        "df_train[df_train['Store'] == 280]['AfterPromo'].plot()\n",
        "plt.legend()\n",
        "plt.show()"
      ],
      "execution_count": null,
      "outputs": [
        {
          "output_type": "display_data",
          "data": {
            "image/png": "[encoded data removed]",
            "text/plain": [
              "<Figure size 1440x216 with 1 Axes>"
            ]
          },
          "metadata": {
            "needs_background": "light"
          }
        },
        {
          "output_type": "display_data",
          "data": {
            "image/png": "[encoded data removed]",
            "text/plain": [
              "<Figure size 1440x216 with 1 Axes>"
            ]
          },
          "metadata": {
            "needs_background": "light"
          }
        }
      ]
    },
    {
      "cell_type": "markdown",
      "metadata": {
        "id": "GYeZGHTEAQlj"
      },
      "source": [
        "### \"Suavizado\" de columnas temporales"
      ]
    },
    {
      "cell_type": "markdown",
      "metadata": {
        "id": "EwERzV52CLr8"
      },
      "source": [
        "Para el suavizado agarramos una ventana de 7 días y nos fijamos lo que ocurre dentro de esos 7 días, es decir, la cantidad de eventos. Esto se hace recorriendo los datos en forma \"backward\" (bw) y \"forward\" (fw)."
      ]
    },
    {
      "cell_type": "markdown",
      "metadata": {
        "id": "4EJmmxXN2B--"
      },
      "source": [
        "Se elige para analizar el store nro 1. A continuación vemos sus datos agrupados por fecha"
      ]
    },
    {
      "cell_type": "code",
      "metadata": {
        "colab": {
          "base_uri": "https://localhost:8080/",
          "height": 1000
        },
        "id": "1TP1cYhJS1cC",
        "outputId": "d60b1c4a-ab66-4855-abcf-4125094ed5dc"
      },
      "source": [
        "df_train[df_train[['Store']+columns]['Store'] == 1].sort_values('Date').head(20)"
      ],
      "execution_count": null,
      "outputs": [
        {
          "output_type": "execute_result",
          "data": {
            "text/html": [
              "<div>\n",
              "<style scoped>\n",
              "    .dataframe tbody tr th:only-of-type {\n",
              "        vertical-align: middle;\n",
              "    }\n",
              "\n",
              "    .dataframe tbody tr th {\n",
              "        vertical-align: top;\n",
              "    }\n",
              "\n",
              "    .dataframe thead th {\n",
              "        text-align: right;\n",
              "    }\n",
              "</style>\n",
              "<table border=\"1\" class=\"dataframe\">\n",
              "  <thead>\n",
              "    <tr style=\"text-align: right;\">\n",
              "      <th></th>\n",
              "      <th>Store</th>\n",
              "      <th>Promo</th>\n",
              "      <th>StateHoliday_bool</th>\n",
              "      <th>SchoolHoliday</th>\n",
              "      <th>AfterSchoolHoliday</th>\n",
              "      <th>BeforeSchoolHoliday</th>\n",
              "      <th>AfterStateHoliday_bool</th>\n",
              "      <th>BeforeStateHoliday_bool</th>\n",
              "      <th>AfterPromo</th>\n",
              "      <th>BeforePromo</th>\n",
              "    </tr>\n",
              "    <tr>\n",
              "      <th>Date</th>\n",
              "      <th></th>\n",
              "      <th></th>\n",
              "      <th></th>\n",
              "      <th></th>\n",
              "      <th></th>\n",
              "      <th></th>\n",
              "      <th></th>\n",
              "      <th></th>\n",
              "      <th></th>\n",
              "      <th></th>\n",
              "    </tr>\n",
              "  </thead>\n",
              "  <tbody>\n",
              "    <tr>\n",
              "      <th>2013-01-01</th>\n",
              "      <td>1</td>\n",
              "      <td>0</td>\n",
              "      <td>True</td>\n",
              "      <td>1</td>\n",
              "      <td>0</td>\n",
              "      <td>0</td>\n",
              "      <td>0</td>\n",
              "      <td>0</td>\n",
              "      <td>0</td>\n",
              "      <td>-6</td>\n",
              "    </tr>\n",
              "    <tr>\n",
              "      <th>2013-01-02</th>\n",
              "      <td>1</td>\n",
              "      <td>0</td>\n",
              "      <td>False</td>\n",
              "      <td>1</td>\n",
              "      <td>0</td>\n",
              "      <td>0</td>\n",
              "      <td>1</td>\n",
              "      <td>-86</td>\n",
              "      <td>0</td>\n",
              "      <td>-5</td>\n",
              "    </tr>\n",
              "    <tr>\n",
              "      <th>2013-01-03</th>\n",
              "      <td>1</td>\n",
              "      <td>0</td>\n",
              "      <td>False</td>\n",
              "      <td>1</td>\n",
              "      <td>0</td>\n",
              "      <td>0</td>\n",
              "      <td>2</td>\n",
              "      <td>-85</td>\n",
              "      <td>0</td>\n",
              "      <td>-4</td>\n",
              "    </tr>\n",
              "    <tr>\n",
              "      <th>2013-01-04</th>\n",
              "      <td>1</td>\n",
              "      <td>0</td>\n",
              "      <td>False</td>\n",
              "      <td>1</td>\n",
              "      <td>0</td>\n",
              "      <td>0</td>\n",
              "      <td>3</td>\n",
              "      <td>-84</td>\n",
              "      <td>0</td>\n",
              "      <td>-3</td>\n",
              "    </tr>\n",
              "    <tr>\n",
              "      <th>2013-01-05</th>\n",
              "      <td>1</td>\n",
              "      <td>0</td>\n",
              "      <td>False</td>\n",
              "      <td>1</td>\n",
              "      <td>0</td>\n",
              "      <td>0</td>\n",
              "      <td>4</td>\n",
              "      <td>-83</td>\n",
              "      <td>0</td>\n",
              "      <td>-2</td>\n",
              "    </tr>\n",
              "    <tr>\n",
              "      <th>2013-01-06</th>\n",
              "      <td>1</td>\n",
              "      <td>0</td>\n",
              "      <td>False</td>\n",
              "      <td>1</td>\n",
              "      <td>0</td>\n",
              "      <td>0</td>\n",
              "      <td>5</td>\n",
              "      <td>-82</td>\n",
              "      <td>0</td>\n",
              "      <td>-1</td>\n",
              "    </tr>\n",
              "    <tr>\n",
              "      <th>2013-01-07</th>\n",
              "      <td>1</td>\n",
              "      <td>1</td>\n",
              "      <td>False</td>\n",
              "      <td>1</td>\n",
              "      <td>0</td>\n",
              "      <td>0</td>\n",
              "      <td>6</td>\n",
              "      <td>-81</td>\n",
              "      <td>0</td>\n",
              "      <td>0</td>\n",
              "    </tr>\n",
              "    <tr>\n",
              "      <th>2013-01-08</th>\n",
              "      <td>1</td>\n",
              "      <td>1</td>\n",
              "      <td>False</td>\n",
              "      <td>1</td>\n",
              "      <td>0</td>\n",
              "      <td>0</td>\n",
              "      <td>7</td>\n",
              "      <td>-80</td>\n",
              "      <td>0</td>\n",
              "      <td>0</td>\n",
              "    </tr>\n",
              "    <tr>\n",
              "      <th>2013-01-09</th>\n",
              "      <td>1</td>\n",
              "      <td>1</td>\n",
              "      <td>False</td>\n",
              "      <td>1</td>\n",
              "      <td>0</td>\n",
              "      <td>0</td>\n",
              "      <td>8</td>\n",
              "      <td>-79</td>\n",
              "      <td>0</td>\n",
              "      <td>0</td>\n",
              "    </tr>\n",
              "    <tr>\n",
              "      <th>2013-01-10</th>\n",
              "      <td>1</td>\n",
              "      <td>1</td>\n",
              "      <td>False</td>\n",
              "      <td>1</td>\n",
              "      <td>0</td>\n",
              "      <td>0</td>\n",
              "      <td>9</td>\n",
              "      <td>-78</td>\n",
              "      <td>0</td>\n",
              "      <td>0</td>\n",
              "    </tr>\n",
              "    <tr>\n",
              "      <th>2013-01-11</th>\n",
              "      <td>1</td>\n",
              "      <td>1</td>\n",
              "      <td>False</td>\n",
              "      <td>1</td>\n",
              "      <td>0</td>\n",
              "      <td>0</td>\n",
              "      <td>10</td>\n",
              "      <td>-77</td>\n",
              "      <td>0</td>\n",
              "      <td>0</td>\n",
              "    </tr>\n",
              "    <tr>\n",
              "      <th>2013-01-12</th>\n",
              "      <td>1</td>\n",
              "      <td>0</td>\n",
              "      <td>False</td>\n",
              "      <td>0</td>\n",
              "      <td>1</td>\n",
              "      <td>-72</td>\n",
              "      <td>11</td>\n",
              "      <td>-76</td>\n",
              "      <td>1</td>\n",
              "      <td>-9</td>\n",
              "    </tr>\n",
              "    <tr>\n",
              "      <th>2013-01-13</th>\n",
              "      <td>1</td>\n",
              "      <td>0</td>\n",
              "      <td>False</td>\n",
              "      <td>0</td>\n",
              "      <td>2</td>\n",
              "      <td>-71</td>\n",
              "      <td>12</td>\n",
              "      <td>-75</td>\n",
              "      <td>2</td>\n",
              "      <td>-8</td>\n",
              "    </tr>\n",
              "    <tr>\n",
              "      <th>2013-01-14</th>\n",
              "      <td>1</td>\n",
              "      <td>0</td>\n",
              "      <td>False</td>\n",
              "      <td>0</td>\n",
              "      <td>3</td>\n",
              "      <td>-70</td>\n",
              "      <td>13</td>\n",
              "      <td>-74</td>\n",
              "      <td>3</td>\n",
              "      <td>-7</td>\n",
              "    </tr>\n",
              "    <tr>\n",
              "      <th>2013-01-15</th>\n",
              "      <td>1</td>\n",
              "      <td>0</td>\n",
              "      <td>False</td>\n",
              "      <td>0</td>\n",
              "      <td>4</td>\n",
              "      <td>-69</td>\n",
              "      <td>14</td>\n",
              "      <td>-73</td>\n",
              "      <td>4</td>\n",
              "      <td>-6</td>\n",
              "    </tr>\n",
              "    <tr>\n",
              "      <th>2013-01-16</th>\n",
              "      <td>1</td>\n",
              "      <td>0</td>\n",
              "      <td>False</td>\n",
              "      <td>0</td>\n",
              "      <td>5</td>\n",
              "      <td>-68</td>\n",
              "      <td>15</td>\n",
              "      <td>-72</td>\n",
              "      <td>5</td>\n",
              "      <td>-5</td>\n",
              "    </tr>\n",
              "    <tr>\n",
              "      <th>2013-01-17</th>\n",
              "      <td>1</td>\n",
              "      <td>0</td>\n",
              "      <td>False</td>\n",
              "      <td>0</td>\n",
              "      <td>6</td>\n",
              "      <td>-67</td>\n",
              "      <td>16</td>\n",
              "      <td>-71</td>\n",
              "      <td>6</td>\n",
              "      <td>-4</td>\n",
              "    </tr>\n",
              "    <tr>\n",
              "      <th>2013-01-18</th>\n",
              "      <td>1</td>\n",
              "      <td>0</td>\n",
              "      <td>False</td>\n",
              "      <td>0</td>\n",
              "      <td>7</td>\n",
              "      <td>-66</td>\n",
              "      <td>17</td>\n",
              "      <td>-70</td>\n",
              "      <td>7</td>\n",
              "      <td>-3</td>\n",
              "    </tr>\n",
              "    <tr>\n",
              "      <th>2013-01-19</th>\n",
              "      <td>1</td>\n",
              "      <td>0</td>\n",
              "      <td>False</td>\n",
              "      <td>0</td>\n",
              "      <td>8</td>\n",
              "      <td>-65</td>\n",
              "      <td>18</td>\n",
              "      <td>-69</td>\n",
              "      <td>8</td>\n",
              "      <td>-2</td>\n",
              "    </tr>\n",
              "    <tr>\n",
              "      <th>2013-01-20</th>\n",
              "      <td>1</td>\n",
              "      <td>0</td>\n",
              "      <td>False</td>\n",
              "      <td>0</td>\n",
              "      <td>9</td>\n",
              "      <td>-64</td>\n",
              "      <td>19</td>\n",
              "      <td>-68</td>\n",
              "      <td>9</td>\n",
              "      <td>-1</td>\n",
              "    </tr>\n",
              "  </tbody>\n",
              "</table>\n",
              "</div>"
            ],
            "text/plain": [
              "            Store  Promo  ...  AfterPromo  BeforePromo\n",
              "Date                      ...                         \n",
              "2013-01-01      1      0  ...           0           -6\n",
              "2013-01-02      1      0  ...           0           -5\n",
              "2013-01-03      1      0  ...           0           -4\n",
              "2013-01-04      1      0  ...           0           -3\n",
              "2013-01-05      1      0  ...           0           -2\n",
              "2013-01-06      1      0  ...           0           -1\n",
              "2013-01-07      1      1  ...           0            0\n",
              "2013-01-08      1      1  ...           0            0\n",
              "2013-01-09      1      1  ...           0            0\n",
              "2013-01-10      1      1  ...           0            0\n",
              "2013-01-11      1      1  ...           0            0\n",
              "2013-01-12      1      0  ...           1           -9\n",
              "2013-01-13      1      0  ...           2           -8\n",
              "2013-01-14      1      0  ...           3           -7\n",
              "2013-01-15      1      0  ...           4           -6\n",
              "2013-01-16      1      0  ...           5           -5\n",
              "2013-01-17      1      0  ...           6           -4\n",
              "2013-01-18      1      0  ...           7           -3\n",
              "2013-01-19      1      0  ...           8           -2\n",
              "2013-01-20      1      0  ...           9           -1\n",
              "\n",
              "[20 rows x 10 columns]"
            ]
          },
          "metadata": {},
          "execution_count": 483
        }
      ]
    },
    {
      "cell_type": "markdown",
      "metadata": {
        "id": "ZZAaTo-K1TfQ"
      },
      "source": [
        "Para esto se implementa la función \"rolling\", la cual recibe como paráemtros los días de la ventana, y la mínima cantidad de tiempo para dicha ventana."
      ]
    },
    {
      "cell_type": "code",
      "metadata": {
        "colab": {
          "base_uri": "https://localhost:8080/",
          "height": 696
        },
        "id": "iItYHW_lS3os",
        "outputId": "c4bdf105-4841-4416-d6c5-35e8678ad551"
      },
      "source": [
        "bwd_train = df_train[['Store']+columns].sort_index().groupby(\"Store\").rolling(7, min_periods=1).sum()\n",
        "bwd_test = df_test[['Store']+columns].sort_index().groupby(\"Store\").rolling(7, min_periods=1).sum()\n",
        "bwd_train.head(20)"
      ],
      "execution_count": null,
      "outputs": [
        {
          "output_type": "execute_result",
          "data": {
            "text/html": [
              "<div>\n",
              "<style scoped>\n",
              "    .dataframe tbody tr th:only-of-type {\n",
              "        vertical-align: middle;\n",
              "    }\n",
              "\n",
              "    .dataframe tbody tr th {\n",
              "        vertical-align: top;\n",
              "    }\n",
              "\n",
              "    .dataframe thead th {\n",
              "        text-align: right;\n",
              "    }\n",
              "</style>\n",
              "<table border=\"1\" class=\"dataframe\">\n",
              "  <thead>\n",
              "    <tr style=\"text-align: right;\">\n",
              "      <th></th>\n",
              "      <th></th>\n",
              "      <th>Store</th>\n",
              "      <th>SchoolHoliday</th>\n",
              "      <th>StateHoliday_bool</th>\n",
              "      <th>Promo</th>\n",
              "    </tr>\n",
              "    <tr>\n",
              "      <th>Store</th>\n",
              "      <th>Date</th>\n",
              "      <th></th>\n",
              "      <th></th>\n",
              "      <th></th>\n",
              "      <th></th>\n",
              "    </tr>\n",
              "  </thead>\n",
              "  <tbody>\n",
              "    <tr>\n",
              "      <th rowspan=\"20\" valign=\"top\">1</th>\n",
              "      <th>2013-01-01</th>\n",
              "      <td>1.0</td>\n",
              "      <td>1.0</td>\n",
              "      <td>1.0</td>\n",
              "      <td>0.0</td>\n",
              "    </tr>\n",
              "    <tr>\n",
              "      <th>2013-01-02</th>\n",
              "      <td>2.0</td>\n",
              "      <td>2.0</td>\n",
              "      <td>1.0</td>\n",
              "      <td>0.0</td>\n",
              "    </tr>\n",
              "    <tr>\n",
              "      <th>2013-01-03</th>\n",
              "      <td>3.0</td>\n",
              "      <td>3.0</td>\n",
              "      <td>1.0</td>\n",
              "      <td>0.0</td>\n",
              "    </tr>\n",
              "    <tr>\n",
              "      <th>2013-01-04</th>\n",
              "      <td>4.0</td>\n",
              "      <td>4.0</td>\n",
              "      <td>1.0</td>\n",
              "      <td>0.0</td>\n",
              "    </tr>\n",
              "    <tr>\n",
              "      <th>2013-01-05</th>\n",
              "      <td>5.0</td>\n",
              "      <td>5.0</td>\n",
              "      <td>1.0</td>\n",
              "      <td>0.0</td>\n",
              "    </tr>\n",
              "    <tr>\n",
              "      <th>2013-01-06</th>\n",
              "      <td>6.0</td>\n",
              "      <td>6.0</td>\n",
              "      <td>1.0</td>\n",
              "      <td>0.0</td>\n",
              "    </tr>\n",
              "    <tr>\n",
              "      <th>2013-01-07</th>\n",
              "      <td>7.0</td>\n",
              "      <td>7.0</td>\n",
              "      <td>1.0</td>\n",
              "      <td>1.0</td>\n",
              "    </tr>\n",
              "    <tr>\n",
              "      <th>2013-01-08</th>\n",
              "      <td>7.0</td>\n",
              "      <td>7.0</td>\n",
              "      <td>0.0</td>\n",
              "      <td>2.0</td>\n",
              "    </tr>\n",
              "    <tr>\n",
              "      <th>2013-01-09</th>\n",
              "      <td>7.0</td>\n",
              "      <td>7.0</td>\n",
              "      <td>0.0</td>\n",
              "      <td>3.0</td>\n",
              "    </tr>\n",
              "    <tr>\n",
              "      <th>2013-01-10</th>\n",
              "      <td>7.0</td>\n",
              "      <td>7.0</td>\n",
              "      <td>0.0</td>\n",
              "      <td>4.0</td>\n",
              "    </tr>\n",
              "    <tr>\n",
              "      <th>2013-01-11</th>\n",
              "      <td>7.0</td>\n",
              "      <td>7.0</td>\n",
              "      <td>0.0</td>\n",
              "      <td>5.0</td>\n",
              "    </tr>\n",
              "    <tr>\n",
              "      <th>2013-01-12</th>\n",
              "      <td>7.0</td>\n",
              "      <td>6.0</td>\n",
              "      <td>0.0</td>\n",
              "      <td>5.0</td>\n",
              "    </tr>\n",
              "    <tr>\n",
              "      <th>2013-01-13</th>\n",
              "      <td>7.0</td>\n",
              "      <td>5.0</td>\n",
              "      <td>0.0</td>\n",
              "      <td>5.0</td>\n",
              "    </tr>\n",
              "    <tr>\n",
              "      <th>2013-01-14</th>\n",
              "      <td>7.0</td>\n",
              "      <td>4.0</td>\n",
              "      <td>0.0</td>\n",
              "      <td>4.0</td>\n",
              "    </tr>\n",
              "    <tr>\n",
              "      <th>2013-01-15</th>\n",
              "      <td>7.0</td>\n",
              "      <td>3.0</td>\n",
              "      <td>0.0</td>\n",
              "      <td>3.0</td>\n",
              "    </tr>\n",
              "    <tr>\n",
              "      <th>2013-01-16</th>\n",
              "      <td>7.0</td>\n",
              "      <td>2.0</td>\n",
              "      <td>0.0</td>\n",
              "      <td>2.0</td>\n",
              "    </tr>\n",
              "    <tr>\n",
              "      <th>2013-01-17</th>\n",
              "      <td>7.0</td>\n",
              "      <td>1.0</td>\n",
              "      <td>0.0</td>\n",
              "      <td>1.0</td>\n",
              "    </tr>\n",
              "    <tr>\n",
              "      <th>2013-01-18</th>\n",
              "      <td>7.0</td>\n",
              "      <td>0.0</td>\n",
              "      <td>0.0</td>\n",
              "      <td>0.0</td>\n",
              "    </tr>\n",
              "    <tr>\n",
              "      <th>2013-01-19</th>\n",
              "      <td>7.0</td>\n",
              "      <td>0.0</td>\n",
              "      <td>0.0</td>\n",
              "      <td>0.0</td>\n",
              "    </tr>\n",
              "    <tr>\n",
              "      <th>2013-01-20</th>\n",
              "      <td>7.0</td>\n",
              "      <td>0.0</td>\n",
              "      <td>0.0</td>\n",
              "      <td>0.0</td>\n",
              "    </tr>\n",
              "  </tbody>\n",
              "</table>\n",
              "</div>"
            ],
            "text/plain": [
              "                  Store  SchoolHoliday  StateHoliday_bool  Promo\n",
              "Store Date                                                      \n",
              "1     2013-01-01    1.0            1.0                1.0    0.0\n",
              "      2013-01-02    2.0            2.0                1.0    0.0\n",
              "      2013-01-03    3.0            3.0                1.0    0.0\n",
              "      2013-01-04    4.0            4.0                1.0    0.0\n",
              "      2013-01-05    5.0            5.0                1.0    0.0\n",
              "      2013-01-06    6.0            6.0                1.0    0.0\n",
              "      2013-01-07    7.0            7.0                1.0    1.0\n",
              "      2013-01-08    7.0            7.0                0.0    2.0\n",
              "      2013-01-09    7.0            7.0                0.0    3.0\n",
              "      2013-01-10    7.0            7.0                0.0    4.0\n",
              "      2013-01-11    7.0            7.0                0.0    5.0\n",
              "      2013-01-12    7.0            6.0                0.0    5.0\n",
              "      2013-01-13    7.0            5.0                0.0    5.0\n",
              "      2013-01-14    7.0            4.0                0.0    4.0\n",
              "      2013-01-15    7.0            3.0                0.0    3.0\n",
              "      2013-01-16    7.0            2.0                0.0    2.0\n",
              "      2013-01-17    7.0            1.0                0.0    1.0\n",
              "      2013-01-18    7.0            0.0                0.0    0.0\n",
              "      2013-01-19    7.0            0.0                0.0    0.0\n",
              "      2013-01-20    7.0            0.0                0.0    0.0"
            ]
          },
          "metadata": {},
          "execution_count": 484
        }
      ]
    },
    {
      "cell_type": "code",
      "metadata": {
        "id": "J1vTjRIVS5Y7"
      },
      "source": [
        "bwd_train.drop('Store',1,inplace=True)\n",
        "bwd_train.reset_index(inplace=True)\n",
        "bwd_test.drop('Store',1,inplace=True)\n",
        "bwd_test.reset_index(inplace=True)"
      ],
      "execution_count": null,
      "outputs": []
    },
    {
      "cell_type": "code",
      "metadata": {
        "colab": {
          "base_uri": "https://localhost:8080/",
          "height": 665
        },
        "id": "IFa8_d01S8UI",
        "outputId": "328a53a1-c77d-45cb-b282-0c427b68f7cb"
      },
      "source": [
        "bwd_train.head(20)"
      ],
      "execution_count": null,
      "outputs": [
        {
          "output_type": "execute_result",
          "data": {
            "text/html": [
              "<div>\n",
              "<style scoped>\n",
              "    .dataframe tbody tr th:only-of-type {\n",
              "        vertical-align: middle;\n",
              "    }\n",
              "\n",
              "    .dataframe tbody tr th {\n",
              "        vertical-align: top;\n",
              "    }\n",
              "\n",
              "    .dataframe thead th {\n",
              "        text-align: right;\n",
              "    }\n",
              "</style>\n",
              "<table border=\"1\" class=\"dataframe\">\n",
              "  <thead>\n",
              "    <tr style=\"text-align: right;\">\n",
              "      <th></th>\n",
              "      <th>Store</th>\n",
              "      <th>Date</th>\n",
              "      <th>SchoolHoliday</th>\n",
              "      <th>StateHoliday_bool</th>\n",
              "      <th>Promo</th>\n",
              "    </tr>\n",
              "  </thead>\n",
              "  <tbody>\n",
              "    <tr>\n",
              "      <th>0</th>\n",
              "      <td>1</td>\n",
              "      <td>2013-01-01</td>\n",
              "      <td>1.0</td>\n",
              "      <td>1.0</td>\n",
              "      <td>0.0</td>\n",
              "    </tr>\n",
              "    <tr>\n",
              "      <th>1</th>\n",
              "      <td>1</td>\n",
              "      <td>2013-01-02</td>\n",
              "      <td>2.0</td>\n",
              "      <td>1.0</td>\n",
              "      <td>0.0</td>\n",
              "    </tr>\n",
              "    <tr>\n",
              "      <th>2</th>\n",
              "      <td>1</td>\n",
              "      <td>2013-01-03</td>\n",
              "      <td>3.0</td>\n",
              "      <td>1.0</td>\n",
              "      <td>0.0</td>\n",
              "    </tr>\n",
              "    <tr>\n",
              "      <th>3</th>\n",
              "      <td>1</td>\n",
              "      <td>2013-01-04</td>\n",
              "      <td>4.0</td>\n",
              "      <td>1.0</td>\n",
              "      <td>0.0</td>\n",
              "    </tr>\n",
              "    <tr>\n",
              "      <th>4</th>\n",
              "      <td>1</td>\n",
              "      <td>2013-01-05</td>\n",
              "      <td>5.0</td>\n",
              "      <td>1.0</td>\n",
              "      <td>0.0</td>\n",
              "    </tr>\n",
              "    <tr>\n",
              "      <th>5</th>\n",
              "      <td>1</td>\n",
              "      <td>2013-01-06</td>\n",
              "      <td>6.0</td>\n",
              "      <td>1.0</td>\n",
              "      <td>0.0</td>\n",
              "    </tr>\n",
              "    <tr>\n",
              "      <th>6</th>\n",
              "      <td>1</td>\n",
              "      <td>2013-01-07</td>\n",
              "      <td>7.0</td>\n",
              "      <td>1.0</td>\n",
              "      <td>1.0</td>\n",
              "    </tr>\n",
              "    <tr>\n",
              "      <th>7</th>\n",
              "      <td>1</td>\n",
              "      <td>2013-01-08</td>\n",
              "      <td>7.0</td>\n",
              "      <td>0.0</td>\n",
              "      <td>2.0</td>\n",
              "    </tr>\n",
              "    <tr>\n",
              "      <th>8</th>\n",
              "      <td>1</td>\n",
              "      <td>2013-01-09</td>\n",
              "      <td>7.0</td>\n",
              "      <td>0.0</td>\n",
              "      <td>3.0</td>\n",
              "    </tr>\n",
              "    <tr>\n",
              "      <th>9</th>\n",
              "      <td>1</td>\n",
              "      <td>2013-01-10</td>\n",
              "      <td>7.0</td>\n",
              "      <td>0.0</td>\n",
              "      <td>4.0</td>\n",
              "    </tr>\n",
              "    <tr>\n",
              "      <th>10</th>\n",
              "      <td>1</td>\n",
              "      <td>2013-01-11</td>\n",
              "      <td>7.0</td>\n",
              "      <td>0.0</td>\n",
              "      <td>5.0</td>\n",
              "    </tr>\n",
              "    <tr>\n",
              "      <th>11</th>\n",
              "      <td>1</td>\n",
              "      <td>2013-01-12</td>\n",
              "      <td>6.0</td>\n",
              "      <td>0.0</td>\n",
              "      <td>5.0</td>\n",
              "    </tr>\n",
              "    <tr>\n",
              "      <th>12</th>\n",
              "      <td>1</td>\n",
              "      <td>2013-01-13</td>\n",
              "      <td>5.0</td>\n",
              "      <td>0.0</td>\n",
              "      <td>5.0</td>\n",
              "    </tr>\n",
              "    <tr>\n",
              "      <th>13</th>\n",
              "      <td>1</td>\n",
              "      <td>2013-01-14</td>\n",
              "      <td>4.0</td>\n",
              "      <td>0.0</td>\n",
              "      <td>4.0</td>\n",
              "    </tr>\n",
              "    <tr>\n",
              "      <th>14</th>\n",
              "      <td>1</td>\n",
              "      <td>2013-01-15</td>\n",
              "      <td>3.0</td>\n",
              "      <td>0.0</td>\n",
              "      <td>3.0</td>\n",
              "    </tr>\n",
              "    <tr>\n",
              "      <th>15</th>\n",
              "      <td>1</td>\n",
              "      <td>2013-01-16</td>\n",
              "      <td>2.0</td>\n",
              "      <td>0.0</td>\n",
              "      <td>2.0</td>\n",
              "    </tr>\n",
              "    <tr>\n",
              "      <th>16</th>\n",
              "      <td>1</td>\n",
              "      <td>2013-01-17</td>\n",
              "      <td>1.0</td>\n",
              "      <td>0.0</td>\n",
              "      <td>1.0</td>\n",
              "    </tr>\n",
              "    <tr>\n",
              "      <th>17</th>\n",
              "      <td>1</td>\n",
              "      <td>2013-01-18</td>\n",
              "      <td>0.0</td>\n",
              "      <td>0.0</td>\n",
              "      <td>0.0</td>\n",
              "    </tr>\n",
              "    <tr>\n",
              "      <th>18</th>\n",
              "      <td>1</td>\n",
              "      <td>2013-01-19</td>\n",
              "      <td>0.0</td>\n",
              "      <td>0.0</td>\n",
              "      <td>0.0</td>\n",
              "    </tr>\n",
              "    <tr>\n",
              "      <th>19</th>\n",
              "      <td>1</td>\n",
              "      <td>2013-01-20</td>\n",
              "      <td>0.0</td>\n",
              "      <td>0.0</td>\n",
              "      <td>0.0</td>\n",
              "    </tr>\n",
              "  </tbody>\n",
              "</table>\n",
              "</div>"
            ],
            "text/plain": [
              "    Store       Date  SchoolHoliday  StateHoliday_bool  Promo\n",
              "0       1 2013-01-01            1.0                1.0    0.0\n",
              "1       1 2013-01-02            2.0                1.0    0.0\n",
              "2       1 2013-01-03            3.0                1.0    0.0\n",
              "3       1 2013-01-04            4.0                1.0    0.0\n",
              "4       1 2013-01-05            5.0                1.0    0.0\n",
              "5       1 2013-01-06            6.0                1.0    0.0\n",
              "6       1 2013-01-07            7.0                1.0    1.0\n",
              "7       1 2013-01-08            7.0                0.0    2.0\n",
              "8       1 2013-01-09            7.0                0.0    3.0\n",
              "9       1 2013-01-10            7.0                0.0    4.0\n",
              "10      1 2013-01-11            7.0                0.0    5.0\n",
              "11      1 2013-01-12            6.0                0.0    5.0\n",
              "12      1 2013-01-13            5.0                0.0    5.0\n",
              "13      1 2013-01-14            4.0                0.0    4.0\n",
              "14      1 2013-01-15            3.0                0.0    3.0\n",
              "15      1 2013-01-16            2.0                0.0    2.0\n",
              "16      1 2013-01-17            1.0                0.0    1.0\n",
              "17      1 2013-01-18            0.0                0.0    0.0\n",
              "18      1 2013-01-19            0.0                0.0    0.0\n",
              "19      1 2013-01-20            0.0                0.0    0.0"
            ]
          },
          "metadata": {},
          "execution_count": 486
        }
      ]
    },
    {
      "cell_type": "code",
      "metadata": {
        "id": "IsniBdsXS-Pb"
      },
      "source": [
        "fwd_train = df_train[['Store']+columns].sort_index(ascending=False).groupby(\"Store\").rolling(7, min_periods=1).sum()\n",
        "fwd_test = df_test[['Store']+columns].sort_index(ascending=False).groupby(\"Store\").rolling(7, min_periods=1).sum()"
      ],
      "execution_count": null,
      "outputs": []
    },
    {
      "cell_type": "code",
      "metadata": {
        "colab": {
          "base_uri": "https://localhost:8080/",
          "height": 696
        },
        "id": "Du1jZnfDTAm0",
        "outputId": "04f1a764-e9e0-4f2c-f5a1-3e716097ed59"
      },
      "source": [
        "fwd_train.head(20)"
      ],
      "execution_count": null,
      "outputs": [
        {
          "output_type": "execute_result",
          "data": {
            "text/html": [
              "<div>\n",
              "<style scoped>\n",
              "    .dataframe tbody tr th:only-of-type {\n",
              "        vertical-align: middle;\n",
              "    }\n",
              "\n",
              "    .dataframe tbody tr th {\n",
              "        vertical-align: top;\n",
              "    }\n",
              "\n",
              "    .dataframe thead th {\n",
              "        text-align: right;\n",
              "    }\n",
              "</style>\n",
              "<table border=\"1\" class=\"dataframe\">\n",
              "  <thead>\n",
              "    <tr style=\"text-align: right;\">\n",
              "      <th></th>\n",
              "      <th></th>\n",
              "      <th>Store</th>\n",
              "      <th>SchoolHoliday</th>\n",
              "      <th>StateHoliday_bool</th>\n",
              "      <th>Promo</th>\n",
              "    </tr>\n",
              "    <tr>\n",
              "      <th>Store</th>\n",
              "      <th>Date</th>\n",
              "      <th></th>\n",
              "      <th></th>\n",
              "      <th></th>\n",
              "      <th></th>\n",
              "    </tr>\n",
              "  </thead>\n",
              "  <tbody>\n",
              "    <tr>\n",
              "      <th rowspan=\"20\" valign=\"top\">1</th>\n",
              "      <th>2015-07-31</th>\n",
              "      <td>1.0</td>\n",
              "      <td>1.0</td>\n",
              "      <td>0.0</td>\n",
              "      <td>1.0</td>\n",
              "    </tr>\n",
              "    <tr>\n",
              "      <th>2015-07-30</th>\n",
              "      <td>2.0</td>\n",
              "      <td>2.0</td>\n",
              "      <td>0.0</td>\n",
              "      <td>2.0</td>\n",
              "    </tr>\n",
              "    <tr>\n",
              "      <th>2015-07-29</th>\n",
              "      <td>3.0</td>\n",
              "      <td>3.0</td>\n",
              "      <td>0.0</td>\n",
              "      <td>3.0</td>\n",
              "    </tr>\n",
              "    <tr>\n",
              "      <th>2015-07-28</th>\n",
              "      <td>4.0</td>\n",
              "      <td>4.0</td>\n",
              "      <td>0.0</td>\n",
              "      <td>4.0</td>\n",
              "    </tr>\n",
              "    <tr>\n",
              "      <th>2015-07-27</th>\n",
              "      <td>5.0</td>\n",
              "      <td>5.0</td>\n",
              "      <td>0.0</td>\n",
              "      <td>5.0</td>\n",
              "    </tr>\n",
              "    <tr>\n",
              "      <th>2015-07-26</th>\n",
              "      <td>6.0</td>\n",
              "      <td>5.0</td>\n",
              "      <td>0.0</td>\n",
              "      <td>5.0</td>\n",
              "    </tr>\n",
              "    <tr>\n",
              "      <th>2015-07-25</th>\n",
              "      <td>7.0</td>\n",
              "      <td>5.0</td>\n",
              "      <td>0.0</td>\n",
              "      <td>5.0</td>\n",
              "    </tr>\n",
              "    <tr>\n",
              "      <th>2015-07-24</th>\n",
              "      <td>7.0</td>\n",
              "      <td>4.0</td>\n",
              "      <td>0.0</td>\n",
              "      <td>4.0</td>\n",
              "    </tr>\n",
              "    <tr>\n",
              "      <th>2015-07-23</th>\n",
              "      <td>7.0</td>\n",
              "      <td>3.0</td>\n",
              "      <td>0.0</td>\n",
              "      <td>3.0</td>\n",
              "    </tr>\n",
              "    <tr>\n",
              "      <th>2015-07-22</th>\n",
              "      <td>7.0</td>\n",
              "      <td>2.0</td>\n",
              "      <td>0.0</td>\n",
              "      <td>2.0</td>\n",
              "    </tr>\n",
              "    <tr>\n",
              "      <th>2015-07-21</th>\n",
              "      <td>7.0</td>\n",
              "      <td>1.0</td>\n",
              "      <td>0.0</td>\n",
              "      <td>1.0</td>\n",
              "    </tr>\n",
              "    <tr>\n",
              "      <th>2015-07-20</th>\n",
              "      <td>7.0</td>\n",
              "      <td>0.0</td>\n",
              "      <td>0.0</td>\n",
              "      <td>0.0</td>\n",
              "    </tr>\n",
              "    <tr>\n",
              "      <th>2015-07-19</th>\n",
              "      <td>7.0</td>\n",
              "      <td>0.0</td>\n",
              "      <td>0.0</td>\n",
              "      <td>0.0</td>\n",
              "    </tr>\n",
              "    <tr>\n",
              "      <th>2015-07-18</th>\n",
              "      <td>7.0</td>\n",
              "      <td>0.0</td>\n",
              "      <td>0.0</td>\n",
              "      <td>0.0</td>\n",
              "    </tr>\n",
              "    <tr>\n",
              "      <th>2015-07-17</th>\n",
              "      <td>7.0</td>\n",
              "      <td>0.0</td>\n",
              "      <td>0.0</td>\n",
              "      <td>1.0</td>\n",
              "    </tr>\n",
              "    <tr>\n",
              "      <th>2015-07-16</th>\n",
              "      <td>7.0</td>\n",
              "      <td>0.0</td>\n",
              "      <td>0.0</td>\n",
              "      <td>2.0</td>\n",
              "    </tr>\n",
              "    <tr>\n",
              "      <th>2015-07-15</th>\n",
              "      <td>7.0</td>\n",
              "      <td>0.0</td>\n",
              "      <td>0.0</td>\n",
              "      <td>3.0</td>\n",
              "    </tr>\n",
              "    <tr>\n",
              "      <th>2015-07-14</th>\n",
              "      <td>7.0</td>\n",
              "      <td>0.0</td>\n",
              "      <td>0.0</td>\n",
              "      <td>4.0</td>\n",
              "    </tr>\n",
              "    <tr>\n",
              "      <th>2015-07-13</th>\n",
              "      <td>7.0</td>\n",
              "      <td>0.0</td>\n",
              "      <td>0.0</td>\n",
              "      <td>5.0</td>\n",
              "    </tr>\n",
              "    <tr>\n",
              "      <th>2015-07-12</th>\n",
              "      <td>7.0</td>\n",
              "      <td>0.0</td>\n",
              "      <td>0.0</td>\n",
              "      <td>5.0</td>\n",
              "    </tr>\n",
              "  </tbody>\n",
              "</table>\n",
              "</div>"
            ],
            "text/plain": [
              "                  Store  SchoolHoliday  StateHoliday_bool  Promo\n",
              "Store Date                                                      \n",
              "1     2015-07-31    1.0            1.0                0.0    1.0\n",
              "      2015-07-30    2.0            2.0                0.0    2.0\n",
              "      2015-07-29    3.0            3.0                0.0    3.0\n",
              "      2015-07-28    4.0            4.0                0.0    4.0\n",
              "      2015-07-27    5.0            5.0                0.0    5.0\n",
              "      2015-07-26    6.0            5.0                0.0    5.0\n",
              "      2015-07-25    7.0            5.0                0.0    5.0\n",
              "      2015-07-24    7.0            4.0                0.0    4.0\n",
              "      2015-07-23    7.0            3.0                0.0    3.0\n",
              "      2015-07-22    7.0            2.0                0.0    2.0\n",
              "      2015-07-21    7.0            1.0                0.0    1.0\n",
              "      2015-07-20    7.0            0.0                0.0    0.0\n",
              "      2015-07-19    7.0            0.0                0.0    0.0\n",
              "      2015-07-18    7.0            0.0                0.0    0.0\n",
              "      2015-07-17    7.0            0.0                0.0    1.0\n",
              "      2015-07-16    7.0            0.0                0.0    2.0\n",
              "      2015-07-15    7.0            0.0                0.0    3.0\n",
              "      2015-07-14    7.0            0.0                0.0    4.0\n",
              "      2015-07-13    7.0            0.0                0.0    5.0\n",
              "      2015-07-12    7.0            0.0                0.0    5.0"
            ]
          },
          "metadata": {},
          "execution_count": 488
        }
      ]
    },
    {
      "cell_type": "code",
      "metadata": {
        "id": "RvKn6Uh6TFzy"
      },
      "source": [
        "fwd_train.drop('Store',1,inplace=True)\n",
        "fwd_train.reset_index(inplace=True)\n",
        "fwd_test.drop('Store',1,inplace=True)\n",
        "fwd_test.reset_index(inplace=True)"
      ],
      "execution_count": null,
      "outputs": []
    },
    {
      "cell_type": "code",
      "metadata": {
        "id": "ZwJdWYhvTIG-"
      },
      "source": [
        "df_train.reset_index(inplace=True)\n",
        "df_test.reset_index(inplace=True)"
      ],
      "execution_count": null,
      "outputs": []
    },
    {
      "cell_type": "code",
      "metadata": {
        "id": "gdErmUMETJqw"
      },
      "source": [
        "df_train = df_train.merge(bwd_train, 'left', ['Date', 'Store'], suffixes=['', '_bw'])\n",
        "df_train = df_train.merge(fwd_train, 'left', ['Date', 'Store'], suffixes=['', '_fw'])\n",
        "df_test = df_test.merge(bwd_test, 'left', ['Date', 'Store'], suffixes=['', '_bw'])\n",
        "df_test = df_test.merge(fwd_test, 'left', ['Date', 'Store'], suffixes=['', '_fw'])"
      ],
      "execution_count": null,
      "outputs": []
    },
    {
      "cell_type": "code",
      "metadata": {
        "id": "sQSERA9lTLcp"
      },
      "source": [
        "df_train.drop(columns,1,inplace=True)\n",
        "df_test.drop(columns,1,inplace=True)"
      ],
      "execution_count": null,
      "outputs": []
    },
    {
      "cell_type": "code",
      "metadata": {
        "colab": {
          "base_uri": "https://localhost:8080/",
          "height": 307
        },
        "id": "o81nXKf-TNe8",
        "outputId": "7c69822f-a534-41cb-88ca-5218acc3485e"
      },
      "source": [
        "df_train.head()"
      ],
      "execution_count": null,
      "outputs": [
        {
          "output_type": "execute_result",
          "data": {
            "text/html": [
              "<div>\n",
              "<style scoped>\n",
              "    .dataframe tbody tr th:only-of-type {\n",
              "        vertical-align: middle;\n",
              "    }\n",
              "\n",
              "    .dataframe tbody tr th {\n",
              "        vertical-align: top;\n",
              "    }\n",
              "\n",
              "    .dataframe thead th {\n",
              "        text-align: right;\n",
              "    }\n",
              "</style>\n",
              "<table border=\"1\" class=\"dataframe\">\n",
              "  <thead>\n",
              "    <tr style=\"text-align: right;\">\n",
              "      <th></th>\n",
              "      <th>Date</th>\n",
              "      <th>Store</th>\n",
              "      <th>AfterSchoolHoliday</th>\n",
              "      <th>BeforeSchoolHoliday</th>\n",
              "      <th>AfterStateHoliday_bool</th>\n",
              "      <th>BeforeStateHoliday_bool</th>\n",
              "      <th>AfterPromo</th>\n",
              "      <th>BeforePromo</th>\n",
              "      <th>SchoolHoliday_bw</th>\n",
              "      <th>StateHoliday_bool_bw</th>\n",
              "      <th>Promo_bw</th>\n",
              "      <th>SchoolHoliday_fw</th>\n",
              "      <th>StateHoliday_bool_fw</th>\n",
              "      <th>Promo_fw</th>\n",
              "    </tr>\n",
              "  </thead>\n",
              "  <tbody>\n",
              "    <tr>\n",
              "      <th>0</th>\n",
              "      <td>2015-07-31</td>\n",
              "      <td>1</td>\n",
              "      <td>0</td>\n",
              "      <td>0</td>\n",
              "      <td>57</td>\n",
              "      <td>0</td>\n",
              "      <td>0</td>\n",
              "      <td>0</td>\n",
              "      <td>5.0</td>\n",
              "      <td>0.0</td>\n",
              "      <td>5.0</td>\n",
              "      <td>1.0</td>\n",
              "      <td>0.0</td>\n",
              "      <td>1.0</td>\n",
              "    </tr>\n",
              "    <tr>\n",
              "      <th>1</th>\n",
              "      <td>2015-07-30</td>\n",
              "      <td>1</td>\n",
              "      <td>0</td>\n",
              "      <td>0</td>\n",
              "      <td>56</td>\n",
              "      <td>0</td>\n",
              "      <td>0</td>\n",
              "      <td>0</td>\n",
              "      <td>4.0</td>\n",
              "      <td>0.0</td>\n",
              "      <td>4.0</td>\n",
              "      <td>2.0</td>\n",
              "      <td>0.0</td>\n",
              "      <td>2.0</td>\n",
              "    </tr>\n",
              "    <tr>\n",
              "      <th>2</th>\n",
              "      <td>2015-07-29</td>\n",
              "      <td>1</td>\n",
              "      <td>0</td>\n",
              "      <td>0</td>\n",
              "      <td>55</td>\n",
              "      <td>0</td>\n",
              "      <td>0</td>\n",
              "      <td>0</td>\n",
              "      <td>3.0</td>\n",
              "      <td>0.0</td>\n",
              "      <td>3.0</td>\n",
              "      <td>3.0</td>\n",
              "      <td>0.0</td>\n",
              "      <td>3.0</td>\n",
              "    </tr>\n",
              "    <tr>\n",
              "      <th>3</th>\n",
              "      <td>2015-07-28</td>\n",
              "      <td>1</td>\n",
              "      <td>0</td>\n",
              "      <td>0</td>\n",
              "      <td>54</td>\n",
              "      <td>0</td>\n",
              "      <td>0</td>\n",
              "      <td>0</td>\n",
              "      <td>2.0</td>\n",
              "      <td>0.0</td>\n",
              "      <td>2.0</td>\n",
              "      <td>4.0</td>\n",
              "      <td>0.0</td>\n",
              "      <td>4.0</td>\n",
              "    </tr>\n",
              "    <tr>\n",
              "      <th>4</th>\n",
              "      <td>2015-07-27</td>\n",
              "      <td>1</td>\n",
              "      <td>0</td>\n",
              "      <td>0</td>\n",
              "      <td>53</td>\n",
              "      <td>0</td>\n",
              "      <td>0</td>\n",
              "      <td>0</td>\n",
              "      <td>1.0</td>\n",
              "      <td>0.0</td>\n",
              "      <td>1.0</td>\n",
              "      <td>5.0</td>\n",
              "      <td>0.0</td>\n",
              "      <td>5.0</td>\n",
              "    </tr>\n",
              "  </tbody>\n",
              "</table>\n",
              "</div>"
            ],
            "text/plain": [
              "        Date  Store  ...  StateHoliday_bool_fw  Promo_fw\n",
              "0 2015-07-31      1  ...                   0.0       1.0\n",
              "1 2015-07-30      1  ...                   0.0       2.0\n",
              "2 2015-07-29      1  ...                   0.0       3.0\n",
              "3 2015-07-28      1  ...                   0.0       4.0\n",
              "4 2015-07-27      1  ...                   0.0       5.0\n",
              "\n",
              "[5 rows x 14 columns]"
            ]
          },
          "metadata": {},
          "execution_count": 493
        }
      ]
    },
    {
      "cell_type": "code",
      "metadata": {
        "id": "Ms_WvrxfTO7q"
      },
      "source": [
        "df_train[\"Date\"] = pd.to_datetime(df_train.Date)\n",
        "df_test[\"Date\"] = pd.to_datetime(df_test.Date)"
      ],
      "execution_count": null,
      "outputs": []
    },
    {
      "cell_type": "code",
      "metadata": {
        "colab": {
          "base_uri": "https://localhost:8080/",
          "height": 307
        },
        "id": "ukqDjLG5TQvj",
        "outputId": "db79033f-7a92-4acb-a9f2-3bbe3c181313"
      },
      "source": [
        "df_train.head()"
      ],
      "execution_count": null,
      "outputs": [
        {
          "output_type": "execute_result",
          "data": {
            "text/html": [
              "<div>\n",
              "<style scoped>\n",
              "    .dataframe tbody tr th:only-of-type {\n",
              "        vertical-align: middle;\n",
              "    }\n",
              "\n",
              "    .dataframe tbody tr th {\n",
              "        vertical-align: top;\n",
              "    }\n",
              "\n",
              "    .dataframe thead th {\n",
              "        text-align: right;\n",
              "    }\n",
              "</style>\n",
              "<table border=\"1\" class=\"dataframe\">\n",
              "  <thead>\n",
              "    <tr style=\"text-align: right;\">\n",
              "      <th></th>\n",
              "      <th>Date</th>\n",
              "      <th>Store</th>\n",
              "      <th>AfterSchoolHoliday</th>\n",
              "      <th>BeforeSchoolHoliday</th>\n",
              "      <th>AfterStateHoliday_bool</th>\n",
              "      <th>BeforeStateHoliday_bool</th>\n",
              "      <th>AfterPromo</th>\n",
              "      <th>BeforePromo</th>\n",
              "      <th>SchoolHoliday_bw</th>\n",
              "      <th>StateHoliday_bool_bw</th>\n",
              "      <th>Promo_bw</th>\n",
              "      <th>SchoolHoliday_fw</th>\n",
              "      <th>StateHoliday_bool_fw</th>\n",
              "      <th>Promo_fw</th>\n",
              "    </tr>\n",
              "  </thead>\n",
              "  <tbody>\n",
              "    <tr>\n",
              "      <th>0</th>\n",
              "      <td>2015-07-31</td>\n",
              "      <td>1</td>\n",
              "      <td>0</td>\n",
              "      <td>0</td>\n",
              "      <td>57</td>\n",
              "      <td>0</td>\n",
              "      <td>0</td>\n",
              "      <td>0</td>\n",
              "      <td>5.0</td>\n",
              "      <td>0.0</td>\n",
              "      <td>5.0</td>\n",
              "      <td>1.0</td>\n",
              "      <td>0.0</td>\n",
              "      <td>1.0</td>\n",
              "    </tr>\n",
              "    <tr>\n",
              "      <th>1</th>\n",
              "      <td>2015-07-30</td>\n",
              "      <td>1</td>\n",
              "      <td>0</td>\n",
              "      <td>0</td>\n",
              "      <td>56</td>\n",
              "      <td>0</td>\n",
              "      <td>0</td>\n",
              "      <td>0</td>\n",
              "      <td>4.0</td>\n",
              "      <td>0.0</td>\n",
              "      <td>4.0</td>\n",
              "      <td>2.0</td>\n",
              "      <td>0.0</td>\n",
              "      <td>2.0</td>\n",
              "    </tr>\n",
              "    <tr>\n",
              "      <th>2</th>\n",
              "      <td>2015-07-29</td>\n",
              "      <td>1</td>\n",
              "      <td>0</td>\n",
              "      <td>0</td>\n",
              "      <td>55</td>\n",
              "      <td>0</td>\n",
              "      <td>0</td>\n",
              "      <td>0</td>\n",
              "      <td>3.0</td>\n",
              "      <td>0.0</td>\n",
              "      <td>3.0</td>\n",
              "      <td>3.0</td>\n",
              "      <td>0.0</td>\n",
              "      <td>3.0</td>\n",
              "    </tr>\n",
              "    <tr>\n",
              "      <th>3</th>\n",
              "      <td>2015-07-28</td>\n",
              "      <td>1</td>\n",
              "      <td>0</td>\n",
              "      <td>0</td>\n",
              "      <td>54</td>\n",
              "      <td>0</td>\n",
              "      <td>0</td>\n",
              "      <td>0</td>\n",
              "      <td>2.0</td>\n",
              "      <td>0.0</td>\n",
              "      <td>2.0</td>\n",
              "      <td>4.0</td>\n",
              "      <td>0.0</td>\n",
              "      <td>4.0</td>\n",
              "    </tr>\n",
              "    <tr>\n",
              "      <th>4</th>\n",
              "      <td>2015-07-27</td>\n",
              "      <td>1</td>\n",
              "      <td>0</td>\n",
              "      <td>0</td>\n",
              "      <td>53</td>\n",
              "      <td>0</td>\n",
              "      <td>0</td>\n",
              "      <td>0</td>\n",
              "      <td>1.0</td>\n",
              "      <td>0.0</td>\n",
              "      <td>1.0</td>\n",
              "      <td>5.0</td>\n",
              "      <td>0.0</td>\n",
              "      <td>5.0</td>\n",
              "    </tr>\n",
              "  </tbody>\n",
              "</table>\n",
              "</div>"
            ],
            "text/plain": [
              "        Date  Store  ...  StateHoliday_bool_fw  Promo_fw\n",
              "0 2015-07-31      1  ...                   0.0       1.0\n",
              "1 2015-07-30      1  ...                   0.0       2.0\n",
              "2 2015-07-29      1  ...                   0.0       3.0\n",
              "3 2015-07-28      1  ...                   0.0       4.0\n",
              "4 2015-07-27      1  ...                   0.0       5.0\n",
              "\n",
              "[5 rows x 14 columns]"
            ]
          },
          "metadata": {},
          "execution_count": 495
        }
      ]
    },
    {
      "cell_type": "markdown",
      "metadata": {
        "id": "PcBZ3xtS2XoS"
      },
      "source": [
        "Visualizamos los datos nuevamente"
      ]
    },
    {
      "cell_type": "code",
      "metadata": {
        "colab": {
          "base_uri": "https://localhost:8080/",
          "height": 338
        },
        "id": "tPLSF6JTTSTb",
        "outputId": "bec13620-d5de-4fa4-817b-5765768d502c"
      },
      "source": [
        "plt.figure(figsize=(20,3))\n",
        "df_train[df_train['Store'] == 280]['BeforeSchoolHoliday'].plot()\n",
        "df_train[df_train['Store'] == 280]['BeforeStateHoliday_bool'].plot()\n",
        "df_train[df_train['Store'] == 280]['BeforePromo'].plot()\n",
        "plt.legend()\n",
        "plt.show()\n",
        "\n",
        "plt.figure(figsize=(20,3))\n",
        "df_train[df_train['Store'] == 280]['AfterSchoolHoliday'].plot()\n",
        "df_train[df_train['Store'] == 280]['AfterStateHoliday_bool'].plot()\n",
        "df_train[df_train['Store'] == 280]['AfterPromo'].plot()\n",
        "plt.legend()\n",
        "plt.show()"
      ],
      "execution_count": null,
      "outputs": [
        {
          "output_type": "display_data",
          "data": {
            "image/png": "[encoded data removed]",
            "text/plain": [
              "<Figure size 1440x216 with 1 Axes>"
            ]
          },
          "metadata": {
            "needs_background": "light"
          }
        },
        {
          "output_type": "display_data",
          "data": {
            "image/png": "[encoded data removed]",
            "text/plain": [
              "<Figure size 1440x216 with 1 Axes>"
            ]
          },
          "metadata": {
            "needs_background": "light"
          }
        }
      ]
    },
    {
      "cell_type": "markdown",
      "metadata": {
        "id": "0H3jLB2sCWxD"
      },
      "source": [
        "### Unimos df preprocesados con joined_test y joined_train"
      ]
    },
    {
      "cell_type": "code",
      "metadata": {
        "id": "5jnNpt-0TW4b"
      },
      "source": [
        "joined_train = join_df(joined_train, df_train, ['Store', 'Date'])\n",
        "joined_test = join_df(joined_test, df_test, ['Store', 'Date'])"
      ],
      "execution_count": null,
      "outputs": []
    },
    {
      "cell_type": "code",
      "metadata": {
        "colab": {
          "base_uri": "https://localhost:8080/"
        },
        "id": "RD8UG9rQTYoc",
        "outputId": "a35044e9-526e-46d5-ef35-43406d79ad51"
      },
      "source": [
        "joined_train.shape"
      ],
      "execution_count": null,
      "outputs": [
        {
          "output_type": "execute_result",
          "data": {
            "text/plain": [
              "(1017209, 81)"
            ]
          },
          "metadata": {},
          "execution_count": 498
        }
      ]
    },
    {
      "cell_type": "markdown",
      "metadata": {
        "id": "eVjr0FejFMhg"
      },
      "source": [
        "### Guardamos preprocesado final"
      ]
    },
    {
      "cell_type": "code",
      "metadata": {
        "id": "fBIDq0IVTaBx"
      },
      "source": [
        "joined_train.to_feather('all_preprocessed_train.fth')"
      ],
      "execution_count": null,
      "outputs": []
    },
    {
      "cell_type": "code",
      "metadata": {
        "id": "XbmWSV7ITcEK"
      },
      "source": [
        "joined_test.to_feather('all_preprocessed_test.fth')"
      ],
      "execution_count": null,
      "outputs": []
    },
    {
      "cell_type": "markdown",
      "metadata": {
        "id": "WHkpe9HCFYzT"
      },
      "source": [
        "### Visualización de datos"
      ]
    },
    {
      "cell_type": "markdown",
      "metadata": {
        "id": "USoYuHcy2uCq"
      },
      "source": [
        "Observamos los datos agregados pero esta vez en la tabla total. Nuevamente se toma el store 280 para analizar"
      ]
    },
    {
      "cell_type": "code",
      "metadata": {
        "colab": {
          "base_uri": "https://localhost:8080/",
          "height": 389
        },
        "id": "eiZDtup7Td3Z",
        "outputId": "b343bd6b-fa94-4a92-d07d-a233bf081834"
      },
      "source": [
        "plt.figure(figsize=(20,3))\n",
        "plt.plot(joined_train[joined_train['Store']==280]['StateHoliday_bool'].values[100:310]*1.0, c='b', marker='.', linestyle='None')\n",
        "plt.plot(joined_train[joined_train['Store']==280]['StateHoliday_bool_bw'].values[100:310]*1.0, c='r', label='backward')\n",
        "plt.plot(joined_train[joined_train['Store']==280]['StateHoliday_bool_fw'].values[100:310]*1.0, c='g', label='forward')\n",
        "plt.legend()\n",
        "plt.title('State Holidays')\n",
        "plt.figure(figsize=(20,3))\n",
        "plt.plot(joined_train[joined_train['Store']==280]['Promo'].values[100:310]*1.0, c='b', marker='.', linestyle='None')\n",
        "plt.plot(joined_train[joined_train['Store']==280]['Promo_bw'].values[100:310]*1.0, c='r', label='backward')\n",
        "plt.plot(joined_train[joined_train['Store']==280]['Promo_fw'].values[100:310]*1.0, c='g', label='forward')\n",
        "plt.legend()\n",
        "plt.title('Promo')"
      ],
      "execution_count": null,
      "outputs": [
        {
          "output_type": "execute_result",
          "data": {
            "text/plain": [
              "Text(0.5, 1.0, 'Promo')"
            ]
          },
          "metadata": {},
          "execution_count": 501
        },
        {
          "output_type": "display_data",
          "data": {
            "image/png": "[encoded data removed]",
            "text/plain": [
              "<Figure size 1440x216 with 1 Axes>"
            ]
          },
          "metadata": {
            "needs_background": "light"
          }
        },
        {
          "output_type": "display_data",
          "data": {
            "image/png": "[encoded data removed]",
            "text/plain": [
              "<Figure size 1440x216 with 1 Axes>"
            ]
          },
          "metadata": {
            "needs_background": "light"
          }
        }
      ]
    },
    {
      "cell_type": "code",
      "metadata": {
        "colab": {
          "base_uri": "https://localhost:8080/",
          "height": 1000
        },
        "id": "3R7oQbpUTgDd",
        "outputId": "eb793d1b-dbdd-45e4-9b6a-9d68b858e9d6"
      },
      "source": [
        "joined_train"
      ],
      "execution_count": null,
      "outputs": [
        {
          "output_type": "execute_result",
          "data": {
            "text/html": [
              "<div>\n",
              "<style scoped>\n",
              "    .dataframe tbody tr th:only-of-type {\n",
              "        vertical-align: middle;\n",
              "    }\n",
              "\n",
              "    .dataframe tbody tr th {\n",
              "        vertical-align: top;\n",
              "    }\n",
              "\n",
              "    .dataframe thead th {\n",
              "        text-align: right;\n",
              "    }\n",
              "</style>\n",
              "<table border=\"1\" class=\"dataframe\">\n",
              "  <thead>\n",
              "    <tr style=\"text-align: right;\">\n",
              "      <th></th>\n",
              "      <th>Store</th>\n",
              "      <th>DayOfWeek</th>\n",
              "      <th>Date</th>\n",
              "      <th>Sales</th>\n",
              "      <th>Customers</th>\n",
              "      <th>Open</th>\n",
              "      <th>Promo</th>\n",
              "      <th>StateHoliday</th>\n",
              "      <th>SchoolHoliday</th>\n",
              "      <th>Year</th>\n",
              "      <th>Month</th>\n",
              "      <th>Week</th>\n",
              "      <th>Day</th>\n",
              "      <th>StoreType</th>\n",
              "      <th>Assortment</th>\n",
              "      <th>CompetitionDistance</th>\n",
              "      <th>CompetitionOpenSinceMonth</th>\n",
              "      <th>CompetitionOpenSinceYear</th>\n",
              "      <th>Promo2</th>\n",
              "      <th>Promo2SinceWeek</th>\n",
              "      <th>Promo2SinceYear</th>\n",
              "      <th>PromoInterval</th>\n",
              "      <th>CompetitionOpenSince</th>\n",
              "      <th>Promo2Since</th>\n",
              "      <th>State</th>\n",
              "      <th>file</th>\n",
              "      <th>week</th>\n",
              "      <th>trend</th>\n",
              "      <th>Date_y</th>\n",
              "      <th>Month_y</th>\n",
              "      <th>Day_y</th>\n",
              "      <th>file_DE</th>\n",
              "      <th>week_DE</th>\n",
              "      <th>trend_DE</th>\n",
              "      <th>Date_DE</th>\n",
              "      <th>State_DE</th>\n",
              "      <th>Month_DE</th>\n",
              "      <th>Day_DE</th>\n",
              "      <th>file_y</th>\n",
              "      <th>Max_TemperatureC</th>\n",
              "      <th>...</th>\n",
              "      <th>Min_TemperatureC</th>\n",
              "      <th>Dew_PointC</th>\n",
              "      <th>MeanDew_PointC</th>\n",
              "      <th>Min_DewpointC</th>\n",
              "      <th>Max_Humidity</th>\n",
              "      <th>Mean_Humidity</th>\n",
              "      <th>Min_Humidity</th>\n",
              "      <th>Max_Sea_Level_PressurehPa</th>\n",
              "      <th>Mean_Sea_Level_PressurehPa</th>\n",
              "      <th>Min_Sea_Level_PressurehPa</th>\n",
              "      <th>Max_VisibilityKm</th>\n",
              "      <th>Mean_VisibilityKm</th>\n",
              "      <th>Min_VisibilitykM</th>\n",
              "      <th>Max_Wind_SpeedKm_h</th>\n",
              "      <th>Mean_Wind_SpeedKm_h</th>\n",
              "      <th>Max_Gust_SpeedKm_h</th>\n",
              "      <th>Precipitationmm</th>\n",
              "      <th>CloudCover</th>\n",
              "      <th>Events</th>\n",
              "      <th>WindDirDegrees</th>\n",
              "      <th>StateName</th>\n",
              "      <th>Year_y</th>\n",
              "      <th>Week_y</th>\n",
              "      <th>CompetitionDaysOpen</th>\n",
              "      <th>CompetitionMonthsOpen</th>\n",
              "      <th>Promo2Days</th>\n",
              "      <th>Promo2Weeks</th>\n",
              "      <th>StateHoliday_bool</th>\n",
              "      <th>AfterSchoolHoliday</th>\n",
              "      <th>BeforeSchoolHoliday</th>\n",
              "      <th>AfterStateHoliday_bool</th>\n",
              "      <th>BeforeStateHoliday_bool</th>\n",
              "      <th>AfterPromo</th>\n",
              "      <th>BeforePromo</th>\n",
              "      <th>SchoolHoliday_bw</th>\n",
              "      <th>StateHoliday_bool_bw</th>\n",
              "      <th>Promo_bw</th>\n",
              "      <th>SchoolHoliday_fw</th>\n",
              "      <th>StateHoliday_bool_fw</th>\n",
              "      <th>Promo_fw</th>\n",
              "    </tr>\n",
              "  </thead>\n",
              "  <tbody>\n",
              "    <tr>\n",
              "      <th>0</th>\n",
              "      <td>1</td>\n",
              "      <td>5</td>\n",
              "      <td>2015-07-31</td>\n",
              "      <td>5263</td>\n",
              "      <td>555</td>\n",
              "      <td>1</td>\n",
              "      <td>1</td>\n",
              "      <td>0</td>\n",
              "      <td>1</td>\n",
              "      <td>2015</td>\n",
              "      <td>7</td>\n",
              "      <td>31</td>\n",
              "      <td>31</td>\n",
              "      <td>c</td>\n",
              "      <td>a</td>\n",
              "      <td>1270.0</td>\n",
              "      <td>9</td>\n",
              "      <td>2008</td>\n",
              "      <td>0</td>\n",
              "      <td>1</td>\n",
              "      <td>1990</td>\n",
              "      <td>-</td>\n",
              "      <td>2008-09-15</td>\n",
              "      <td>1990-01-01</td>\n",
              "      <td>HE</td>\n",
              "      <td>Rossmann_DE_HE</td>\n",
              "      <td>2015-08-02 - 2015-08-08</td>\n",
              "      <td>85</td>\n",
              "      <td>2015-08-02</td>\n",
              "      <td>8</td>\n",
              "      <td>2</td>\n",
              "      <td>Rossmann_DE</td>\n",
              "      <td>2015-08-02 - 2015-08-08</td>\n",
              "      <td>83</td>\n",
              "      <td>2015-08-02</td>\n",
              "      <td>None</td>\n",
              "      <td>8</td>\n",
              "      <td>2</td>\n",
              "      <td>Hessen</td>\n",
              "      <td>23</td>\n",
              "      <td>...</td>\n",
              "      <td>8</td>\n",
              "      <td>9</td>\n",
              "      <td>6</td>\n",
              "      <td>3</td>\n",
              "      <td>98</td>\n",
              "      <td>54</td>\n",
              "      <td>18</td>\n",
              "      <td>1021</td>\n",
              "      <td>1018</td>\n",
              "      <td>1015</td>\n",
              "      <td>31.0</td>\n",
              "      <td>15.0</td>\n",
              "      <td>10.0</td>\n",
              "      <td>24</td>\n",
              "      <td>11</td>\n",
              "      <td>21.0</td>\n",
              "      <td>0.00</td>\n",
              "      <td>1.0</td>\n",
              "      <td>Fog</td>\n",
              "      <td>13</td>\n",
              "      <td>Hessen</td>\n",
              "      <td>2015</td>\n",
              "      <td>31</td>\n",
              "      <td>2510</td>\n",
              "      <td>24</td>\n",
              "      <td>9342</td>\n",
              "      <td>25</td>\n",
              "      <td>False</td>\n",
              "      <td>0</td>\n",
              "      <td>0</td>\n",
              "      <td>57</td>\n",
              "      <td>0</td>\n",
              "      <td>0</td>\n",
              "      <td>0</td>\n",
              "      <td>5.0</td>\n",
              "      <td>0.0</td>\n",
              "      <td>5.0</td>\n",
              "      <td>1.0</td>\n",
              "      <td>0.0</td>\n",
              "      <td>1.0</td>\n",
              "    </tr>\n",
              "    <tr>\n",
              "      <th>1</th>\n",
              "      <td>2</td>\n",
              "      <td>5</td>\n",
              "      <td>2015-07-31</td>\n",
              "      <td>6064</td>\n",
              "      <td>625</td>\n",
              "      <td>1</td>\n",
              "      <td>1</td>\n",
              "      <td>0</td>\n",
              "      <td>1</td>\n",
              "      <td>2015</td>\n",
              "      <td>7</td>\n",
              "      <td>31</td>\n",
              "      <td>31</td>\n",
              "      <td>a</td>\n",
              "      <td>a</td>\n",
              "      <td>570.0</td>\n",
              "      <td>11</td>\n",
              "      <td>2007</td>\n",
              "      <td>1</td>\n",
              "      <td>13</td>\n",
              "      <td>2010</td>\n",
              "      <td>Jan,Apr,Jul,Oct</td>\n",
              "      <td>2007-11-15</td>\n",
              "      <td>2010-03-29</td>\n",
              "      <td>TH</td>\n",
              "      <td>Rossmann_DE_TH</td>\n",
              "      <td>2015-08-02 - 2015-08-08</td>\n",
              "      <td>80</td>\n",
              "      <td>2015-08-02</td>\n",
              "      <td>8</td>\n",
              "      <td>2</td>\n",
              "      <td>Rossmann_DE</td>\n",
              "      <td>2015-08-02 - 2015-08-08</td>\n",
              "      <td>83</td>\n",
              "      <td>2015-08-02</td>\n",
              "      <td>None</td>\n",
              "      <td>8</td>\n",
              "      <td>2</td>\n",
              "      <td>Thueringen</td>\n",
              "      <td>19</td>\n",
              "      <td>...</td>\n",
              "      <td>7</td>\n",
              "      <td>9</td>\n",
              "      <td>6</td>\n",
              "      <td>3</td>\n",
              "      <td>100</td>\n",
              "      <td>62</td>\n",
              "      <td>25</td>\n",
              "      <td>1021</td>\n",
              "      <td>1019</td>\n",
              "      <td>1017</td>\n",
              "      <td>10.0</td>\n",
              "      <td>10.0</td>\n",
              "      <td>10.0</td>\n",
              "      <td>14</td>\n",
              "      <td>11</td>\n",
              "      <td>21.0</td>\n",
              "      <td>0.00</td>\n",
              "      <td>4.0</td>\n",
              "      <td>Fog</td>\n",
              "      <td>309</td>\n",
              "      <td>Thueringen</td>\n",
              "      <td>2015</td>\n",
              "      <td>31</td>\n",
              "      <td>2815</td>\n",
              "      <td>24</td>\n",
              "      <td>1950</td>\n",
              "      <td>25</td>\n",
              "      <td>False</td>\n",
              "      <td>0</td>\n",
              "      <td>0</td>\n",
              "      <td>67</td>\n",
              "      <td>0</td>\n",
              "      <td>0</td>\n",
              "      <td>0</td>\n",
              "      <td>5.0</td>\n",
              "      <td>0.0</td>\n",
              "      <td>5.0</td>\n",
              "      <td>1.0</td>\n",
              "      <td>0.0</td>\n",
              "      <td>1.0</td>\n",
              "    </tr>\n",
              "    <tr>\n",
              "      <th>2</th>\n",
              "      <td>3</td>\n",
              "      <td>5</td>\n",
              "      <td>2015-07-31</td>\n",
              "      <td>8314</td>\n",
              "      <td>821</td>\n",
              "      <td>1</td>\n",
              "      <td>1</td>\n",
              "      <td>0</td>\n",
              "      <td>1</td>\n",
              "      <td>2015</td>\n",
              "      <td>7</td>\n",
              "      <td>31</td>\n",
              "      <td>31</td>\n",
              "      <td>a</td>\n",
              "      <td>a</td>\n",
              "      <td>14130.0</td>\n",
              "      <td>12</td>\n",
              "      <td>2006</td>\n",
              "      <td>1</td>\n",
              "      <td>14</td>\n",
              "      <td>2011</td>\n",
              "      <td>Jan,Apr,Jul,Oct</td>\n",
              "      <td>2006-12-15</td>\n",
              "      <td>2011-04-04</td>\n",
              "      <td>NW</td>\n",
              "      <td>Rossmann_DE_NW</td>\n",
              "      <td>2015-08-02 - 2015-08-08</td>\n",
              "      <td>86</td>\n",
              "      <td>2015-08-02</td>\n",
              "      <td>8</td>\n",
              "      <td>2</td>\n",
              "      <td>Rossmann_DE</td>\n",
              "      <td>2015-08-02 - 2015-08-08</td>\n",
              "      <td>83</td>\n",
              "      <td>2015-08-02</td>\n",
              "      <td>None</td>\n",
              "      <td>8</td>\n",
              "      <td>2</td>\n",
              "      <td>NordrheinWestfalen</td>\n",
              "      <td>21</td>\n",
              "      <td>...</td>\n",
              "      <td>6</td>\n",
              "      <td>10</td>\n",
              "      <td>7</td>\n",
              "      <td>4</td>\n",
              "      <td>100</td>\n",
              "      <td>61</td>\n",
              "      <td>24</td>\n",
              "      <td>1022</td>\n",
              "      <td>1019</td>\n",
              "      <td>1017</td>\n",
              "      <td>31.0</td>\n",
              "      <td>14.0</td>\n",
              "      <td>10.0</td>\n",
              "      <td>14</td>\n",
              "      <td>5</td>\n",
              "      <td>21.0</td>\n",
              "      <td>0.00</td>\n",
              "      <td>2.0</td>\n",
              "      <td>Fog</td>\n",
              "      <td>354</td>\n",
              "      <td>NordrheinWestfalen</td>\n",
              "      <td>2015</td>\n",
              "      <td>31</td>\n",
              "      <td>3150</td>\n",
              "      <td>24</td>\n",
              "      <td>1579</td>\n",
              "      <td>25</td>\n",
              "      <td>False</td>\n",
              "      <td>0</td>\n",
              "      <td>0</td>\n",
              "      <td>57</td>\n",
              "      <td>0</td>\n",
              "      <td>0</td>\n",
              "      <td>0</td>\n",
              "      <td>5.0</td>\n",
              "      <td>0.0</td>\n",
              "      <td>5.0</td>\n",
              "      <td>1.0</td>\n",
              "      <td>0.0</td>\n",
              "      <td>1.0</td>\n",
              "    </tr>\n",
              "    <tr>\n",
              "      <th>3</th>\n",
              "      <td>4</td>\n",
              "      <td>5</td>\n",
              "      <td>2015-07-31</td>\n",
              "      <td>13995</td>\n",
              "      <td>1498</td>\n",
              "      <td>1</td>\n",
              "      <td>1</td>\n",
              "      <td>0</td>\n",
              "      <td>1</td>\n",
              "      <td>2015</td>\n",
              "      <td>7</td>\n",
              "      <td>31</td>\n",
              "      <td>31</td>\n",
              "      <td>c</td>\n",
              "      <td>c</td>\n",
              "      <td>620.0</td>\n",
              "      <td>9</td>\n",
              "      <td>2009</td>\n",
              "      <td>0</td>\n",
              "      <td>1</td>\n",
              "      <td>1990</td>\n",
              "      <td>-</td>\n",
              "      <td>2009-09-15</td>\n",
              "      <td>1990-01-01</td>\n",
              "      <td>BE</td>\n",
              "      <td>Rossmann_DE_BE</td>\n",
              "      <td>2015-08-02 - 2015-08-08</td>\n",
              "      <td>74</td>\n",
              "      <td>2015-08-02</td>\n",
              "      <td>8</td>\n",
              "      <td>2</td>\n",
              "      <td>Rossmann_DE</td>\n",
              "      <td>2015-08-02 - 2015-08-08</td>\n",
              "      <td>83</td>\n",
              "      <td>2015-08-02</td>\n",
              "      <td>None</td>\n",
              "      <td>8</td>\n",
              "      <td>2</td>\n",
              "      <td>Berlin</td>\n",
              "      <td>19</td>\n",
              "      <td>...</td>\n",
              "      <td>9</td>\n",
              "      <td>9</td>\n",
              "      <td>7</td>\n",
              "      <td>4</td>\n",
              "      <td>94</td>\n",
              "      <td>61</td>\n",
              "      <td>30</td>\n",
              "      <td>1019</td>\n",
              "      <td>1017</td>\n",
              "      <td>1014</td>\n",
              "      <td>10.0</td>\n",
              "      <td>10.0</td>\n",
              "      <td>10.0</td>\n",
              "      <td>23</td>\n",
              "      <td>16</td>\n",
              "      <td>21.0</td>\n",
              "      <td>0.00</td>\n",
              "      <td>6.0</td>\n",
              "      <td>Sunny</td>\n",
              "      <td>282</td>\n",
              "      <td>Berlin</td>\n",
              "      <td>2015</td>\n",
              "      <td>31</td>\n",
              "      <td>2145</td>\n",
              "      <td>24</td>\n",
              "      <td>9342</td>\n",
              "      <td>25</td>\n",
              "      <td>False</td>\n",
              "      <td>0</td>\n",
              "      <td>0</td>\n",
              "      <td>67</td>\n",
              "      <td>0</td>\n",
              "      <td>0</td>\n",
              "      <td>0</td>\n",
              "      <td>5.0</td>\n",
              "      <td>0.0</td>\n",
              "      <td>5.0</td>\n",
              "      <td>1.0</td>\n",
              "      <td>0.0</td>\n",
              "      <td>1.0</td>\n",
              "    </tr>\n",
              "    <tr>\n",
              "      <th>4</th>\n",
              "      <td>5</td>\n",
              "      <td>5</td>\n",
              "      <td>2015-07-31</td>\n",
              "      <td>4822</td>\n",
              "      <td>559</td>\n",
              "      <td>1</td>\n",
              "      <td>1</td>\n",
              "      <td>0</td>\n",
              "      <td>1</td>\n",
              "      <td>2015</td>\n",
              "      <td>7</td>\n",
              "      <td>31</td>\n",
              "      <td>31</td>\n",
              "      <td>a</td>\n",
              "      <td>a</td>\n",
              "      <td>29910.0</td>\n",
              "      <td>4</td>\n",
              "      <td>2015</td>\n",
              "      <td>0</td>\n",
              "      <td>1</td>\n",
              "      <td>1990</td>\n",
              "      <td>-</td>\n",
              "      <td>2015-04-15</td>\n",
              "      <td>1990-01-01</td>\n",
              "      <td>SN</td>\n",
              "      <td>Rossmann_DE_SN</td>\n",
              "      <td>2015-08-02 - 2015-08-08</td>\n",
              "      <td>82</td>\n",
              "      <td>2015-08-02</td>\n",
              "      <td>8</td>\n",
              "      <td>2</td>\n",
              "      <td>Rossmann_DE</td>\n",
              "      <td>2015-08-02 - 2015-08-08</td>\n",
              "      <td>83</td>\n",
              "      <td>2015-08-02</td>\n",
              "      <td>None</td>\n",
              "      <td>8</td>\n",
              "      <td>2</td>\n",
              "      <td>Sachsen</td>\n",
              "      <td>20</td>\n",
              "      <td>...</td>\n",
              "      <td>10</td>\n",
              "      <td>8</td>\n",
              "      <td>6</td>\n",
              "      <td>5</td>\n",
              "      <td>82</td>\n",
              "      <td>55</td>\n",
              "      <td>26</td>\n",
              "      <td>1020</td>\n",
              "      <td>1018</td>\n",
              "      <td>1016</td>\n",
              "      <td>10.0</td>\n",
              "      <td>10.0</td>\n",
              "      <td>10.0</td>\n",
              "      <td>14</td>\n",
              "      <td>11</td>\n",
              "      <td>21.0</td>\n",
              "      <td>0.00</td>\n",
              "      <td>4.0</td>\n",
              "      <td>Sunny</td>\n",
              "      <td>290</td>\n",
              "      <td>Sachsen</td>\n",
              "      <td>2015</td>\n",
              "      <td>31</td>\n",
              "      <td>107</td>\n",
              "      <td>3</td>\n",
              "      <td>9342</td>\n",
              "      <td>25</td>\n",
              "      <td>False</td>\n",
              "      <td>0</td>\n",
              "      <td>0</td>\n",
              "      <td>57</td>\n",
              "      <td>0</td>\n",
              "      <td>0</td>\n",
              "      <td>0</td>\n",
              "      <td>5.0</td>\n",
              "      <td>0.0</td>\n",
              "      <td>5.0</td>\n",
              "      <td>1.0</td>\n",
              "      <td>0.0</td>\n",
              "      <td>1.0</td>\n",
              "    </tr>\n",
              "    <tr>\n",
              "      <th>...</th>\n",
              "      <td>...</td>\n",
              "      <td>...</td>\n",
              "      <td>...</td>\n",
              "      <td>...</td>\n",
              "      <td>...</td>\n",
              "      <td>...</td>\n",
              "      <td>...</td>\n",
              "      <td>...</td>\n",
              "      <td>...</td>\n",
              "      <td>...</td>\n",
              "      <td>...</td>\n",
              "      <td>...</td>\n",
              "      <td>...</td>\n",
              "      <td>...</td>\n",
              "      <td>...</td>\n",
              "      <td>...</td>\n",
              "      <td>...</td>\n",
              "      <td>...</td>\n",
              "      <td>...</td>\n",
              "      <td>...</td>\n",
              "      <td>...</td>\n",
              "      <td>...</td>\n",
              "      <td>...</td>\n",
              "      <td>...</td>\n",
              "      <td>...</td>\n",
              "      <td>...</td>\n",
              "      <td>...</td>\n",
              "      <td>...</td>\n",
              "      <td>...</td>\n",
              "      <td>...</td>\n",
              "      <td>...</td>\n",
              "      <td>...</td>\n",
              "      <td>...</td>\n",
              "      <td>...</td>\n",
              "      <td>...</td>\n",
              "      <td>...</td>\n",
              "      <td>...</td>\n",
              "      <td>...</td>\n",
              "      <td>...</td>\n",
              "      <td>...</td>\n",
              "      <td>...</td>\n",
              "      <td>...</td>\n",
              "      <td>...</td>\n",
              "      <td>...</td>\n",
              "      <td>...</td>\n",
              "      <td>...</td>\n",
              "      <td>...</td>\n",
              "      <td>...</td>\n",
              "      <td>...</td>\n",
              "      <td>...</td>\n",
              "      <td>...</td>\n",
              "      <td>...</td>\n",
              "      <td>...</td>\n",
              "      <td>...</td>\n",
              "      <td>...</td>\n",
              "      <td>...</td>\n",
              "      <td>...</td>\n",
              "      <td>...</td>\n",
              "      <td>...</td>\n",
              "      <td>...</td>\n",
              "      <td>...</td>\n",
              "      <td>...</td>\n",
              "      <td>...</td>\n",
              "      <td>...</td>\n",
              "      <td>...</td>\n",
              "      <td>...</td>\n",
              "      <td>...</td>\n",
              "      <td>...</td>\n",
              "      <td>...</td>\n",
              "      <td>...</td>\n",
              "      <td>...</td>\n",
              "      <td>...</td>\n",
              "      <td>...</td>\n",
              "      <td>...</td>\n",
              "      <td>...</td>\n",
              "      <td>...</td>\n",
              "      <td>...</td>\n",
              "      <td>...</td>\n",
              "      <td>...</td>\n",
              "      <td>...</td>\n",
              "      <td>...</td>\n",
              "    </tr>\n",
              "    <tr>\n",
              "      <th>1017204</th>\n",
              "      <td>1111</td>\n",
              "      <td>2</td>\n",
              "      <td>2013-01-01</td>\n",
              "      <td>0</td>\n",
              "      <td>0</td>\n",
              "      <td>0</td>\n",
              "      <td>0</td>\n",
              "      <td>a</td>\n",
              "      <td>1</td>\n",
              "      <td>2013</td>\n",
              "      <td>1</td>\n",
              "      <td>1</td>\n",
              "      <td>1</td>\n",
              "      <td>a</td>\n",
              "      <td>a</td>\n",
              "      <td>1900.0</td>\n",
              "      <td>6</td>\n",
              "      <td>2014</td>\n",
              "      <td>1</td>\n",
              "      <td>31</td>\n",
              "      <td>2013</td>\n",
              "      <td>Jan,Apr,Jul,Oct</td>\n",
              "      <td>2014-06-15</td>\n",
              "      <td>2013-07-29</td>\n",
              "      <td>NW</td>\n",
              "      <td>Rossmann_DE_NW</td>\n",
              "      <td>2013-01-06 - 2013-01-12</td>\n",
              "      <td>63</td>\n",
              "      <td>2013-01-06</td>\n",
              "      <td>1</td>\n",
              "      <td>6</td>\n",
              "      <td>Rossmann_DE</td>\n",
              "      <td>2013-01-06 - 2013-01-12</td>\n",
              "      <td>62</td>\n",
              "      <td>2013-01-06</td>\n",
              "      <td>None</td>\n",
              "      <td>1</td>\n",
              "      <td>6</td>\n",
              "      <td>NordrheinWestfalen</td>\n",
              "      <td>8</td>\n",
              "      <td>...</td>\n",
              "      <td>2</td>\n",
              "      <td>7</td>\n",
              "      <td>5</td>\n",
              "      <td>1</td>\n",
              "      <td>94</td>\n",
              "      <td>87</td>\n",
              "      <td>65</td>\n",
              "      <td>1013</td>\n",
              "      <td>1005</td>\n",
              "      <td>1001</td>\n",
              "      <td>31.0</td>\n",
              "      <td>12.0</td>\n",
              "      <td>4.0</td>\n",
              "      <td>39</td>\n",
              "      <td>26</td>\n",
              "      <td>58.0</td>\n",
              "      <td>5.08</td>\n",
              "      <td>6.0</td>\n",
              "      <td>Rain</td>\n",
              "      <td>215</td>\n",
              "      <td>NordrheinWestfalen</td>\n",
              "      <td>2013</td>\n",
              "      <td>1</td>\n",
              "      <td>0</td>\n",
              "      <td>0</td>\n",
              "      <td>0</td>\n",
              "      <td>0</td>\n",
              "      <td>True</td>\n",
              "      <td>0</td>\n",
              "      <td>0</td>\n",
              "      <td>0</td>\n",
              "      <td>0</td>\n",
              "      <td>0</td>\n",
              "      <td>-6</td>\n",
              "      <td>1.0</td>\n",
              "      <td>1.0</td>\n",
              "      <td>0.0</td>\n",
              "      <td>4.0</td>\n",
              "      <td>1.0</td>\n",
              "      <td>1.0</td>\n",
              "    </tr>\n",
              "    <tr>\n",
              "      <th>1017205</th>\n",
              "      <td>1112</td>\n",
              "      <td>2</td>\n",
              "      <td>2013-01-01</td>\n",
              "      <td>0</td>\n",
              "      <td>0</td>\n",
              "      <td>0</td>\n",
              "      <td>0</td>\n",
              "      <td>a</td>\n",
              "      <td>1</td>\n",
              "      <td>2013</td>\n",
              "      <td>1</td>\n",
              "      <td>1</td>\n",
              "      <td>1</td>\n",
              "      <td>c</td>\n",
              "      <td>c</td>\n",
              "      <td>1880.0</td>\n",
              "      <td>4</td>\n",
              "      <td>2006</td>\n",
              "      <td>0</td>\n",
              "      <td>1</td>\n",
              "      <td>1990</td>\n",
              "      <td>-</td>\n",
              "      <td>2006-04-15</td>\n",
              "      <td>1990-01-01</td>\n",
              "      <td>NW</td>\n",
              "      <td>Rossmann_DE_NW</td>\n",
              "      <td>2013-01-06 - 2013-01-12</td>\n",
              "      <td>63</td>\n",
              "      <td>2013-01-06</td>\n",
              "      <td>1</td>\n",
              "      <td>6</td>\n",
              "      <td>Rossmann_DE</td>\n",
              "      <td>2013-01-06 - 2013-01-12</td>\n",
              "      <td>62</td>\n",
              "      <td>2013-01-06</td>\n",
              "      <td>None</td>\n",
              "      <td>1</td>\n",
              "      <td>6</td>\n",
              "      <td>NordrheinWestfalen</td>\n",
              "      <td>8</td>\n",
              "      <td>...</td>\n",
              "      <td>2</td>\n",
              "      <td>7</td>\n",
              "      <td>5</td>\n",
              "      <td>1</td>\n",
              "      <td>94</td>\n",
              "      <td>87</td>\n",
              "      <td>65</td>\n",
              "      <td>1013</td>\n",
              "      <td>1005</td>\n",
              "      <td>1001</td>\n",
              "      <td>31.0</td>\n",
              "      <td>12.0</td>\n",
              "      <td>4.0</td>\n",
              "      <td>39</td>\n",
              "      <td>26</td>\n",
              "      <td>58.0</td>\n",
              "      <td>5.08</td>\n",
              "      <td>6.0</td>\n",
              "      <td>Rain</td>\n",
              "      <td>215</td>\n",
              "      <td>NordrheinWestfalen</td>\n",
              "      <td>2013</td>\n",
              "      <td>1</td>\n",
              "      <td>2453</td>\n",
              "      <td>24</td>\n",
              "      <td>8401</td>\n",
              "      <td>25</td>\n",
              "      <td>True</td>\n",
              "      <td>0</td>\n",
              "      <td>0</td>\n",
              "      <td>0</td>\n",
              "      <td>0</td>\n",
              "      <td>0</td>\n",
              "      <td>-6</td>\n",
              "      <td>1.0</td>\n",
              "      <td>1.0</td>\n",
              "      <td>0.0</td>\n",
              "      <td>4.0</td>\n",
              "      <td>1.0</td>\n",
              "      <td>1.0</td>\n",
              "    </tr>\n",
              "    <tr>\n",
              "      <th>1017206</th>\n",
              "      <td>1113</td>\n",
              "      <td>2</td>\n",
              "      <td>2013-01-01</td>\n",
              "      <td>0</td>\n",
              "      <td>0</td>\n",
              "      <td>0</td>\n",
              "      <td>0</td>\n",
              "      <td>a</td>\n",
              "      <td>1</td>\n",
              "      <td>2013</td>\n",
              "      <td>1</td>\n",
              "      <td>1</td>\n",
              "      <td>1</td>\n",
              "      <td>a</td>\n",
              "      <td>c</td>\n",
              "      <td>9260.0</td>\n",
              "      <td>1</td>\n",
              "      <td>1990</td>\n",
              "      <td>0</td>\n",
              "      <td>1</td>\n",
              "      <td>1990</td>\n",
              "      <td>-</td>\n",
              "      <td>1990-01-15</td>\n",
              "      <td>1990-01-01</td>\n",
              "      <td>SH</td>\n",
              "      <td>Rossmann_DE_SH</td>\n",
              "      <td>2013-01-06 - 2013-01-12</td>\n",
              "      <td>72</td>\n",
              "      <td>2013-01-06</td>\n",
              "      <td>1</td>\n",
              "      <td>6</td>\n",
              "      <td>Rossmann_DE</td>\n",
              "      <td>2013-01-06 - 2013-01-12</td>\n",
              "      <td>62</td>\n",
              "      <td>2013-01-06</td>\n",
              "      <td>None</td>\n",
              "      <td>1</td>\n",
              "      <td>6</td>\n",
              "      <td>SchleswigHolstein</td>\n",
              "      <td>8</td>\n",
              "      <td>...</td>\n",
              "      <td>6</td>\n",
              "      <td>7</td>\n",
              "      <td>7</td>\n",
              "      <td>5</td>\n",
              "      <td>100</td>\n",
              "      <td>95</td>\n",
              "      <td>93</td>\n",
              "      <td>1002</td>\n",
              "      <td>1000</td>\n",
              "      <td>999</td>\n",
              "      <td>10.0</td>\n",
              "      <td>8.0</td>\n",
              "      <td>5.0</td>\n",
              "      <td>23</td>\n",
              "      <td>16</td>\n",
              "      <td>21.0</td>\n",
              "      <td>0.00</td>\n",
              "      <td>6.0</td>\n",
              "      <td>Rain</td>\n",
              "      <td>251</td>\n",
              "      <td>SchleswigHolstein</td>\n",
              "      <td>2013</td>\n",
              "      <td>1</td>\n",
              "      <td>8387</td>\n",
              "      <td>24</td>\n",
              "      <td>8401</td>\n",
              "      <td>25</td>\n",
              "      <td>True</td>\n",
              "      <td>0</td>\n",
              "      <td>0</td>\n",
              "      <td>0</td>\n",
              "      <td>0</td>\n",
              "      <td>0</td>\n",
              "      <td>-6</td>\n",
              "      <td>1.0</td>\n",
              "      <td>1.0</td>\n",
              "      <td>0.0</td>\n",
              "      <td>4.0</td>\n",
              "      <td>1.0</td>\n",
              "      <td>1.0</td>\n",
              "    </tr>\n",
              "    <tr>\n",
              "      <th>1017207</th>\n",
              "      <td>1114</td>\n",
              "      <td>2</td>\n",
              "      <td>2013-01-01</td>\n",
              "      <td>0</td>\n",
              "      <td>0</td>\n",
              "      <td>0</td>\n",
              "      <td>0</td>\n",
              "      <td>a</td>\n",
              "      <td>1</td>\n",
              "      <td>2013</td>\n",
              "      <td>1</td>\n",
              "      <td>1</td>\n",
              "      <td>1</td>\n",
              "      <td>a</td>\n",
              "      <td>c</td>\n",
              "      <td>870.0</td>\n",
              "      <td>1</td>\n",
              "      <td>1990</td>\n",
              "      <td>0</td>\n",
              "      <td>1</td>\n",
              "      <td>1990</td>\n",
              "      <td>-</td>\n",
              "      <td>1990-01-15</td>\n",
              "      <td>1990-01-01</td>\n",
              "      <td>HH</td>\n",
              "      <td>Rossmann_DE_HH</td>\n",
              "      <td>2013-01-06 - 2013-01-12</td>\n",
              "      <td>63</td>\n",
              "      <td>2013-01-06</td>\n",
              "      <td>1</td>\n",
              "      <td>6</td>\n",
              "      <td>Rossmann_DE</td>\n",
              "      <td>2013-01-06 - 2013-01-12</td>\n",
              "      <td>62</td>\n",
              "      <td>2013-01-06</td>\n",
              "      <td>None</td>\n",
              "      <td>1</td>\n",
              "      <td>6</td>\n",
              "      <td>Hamburg</td>\n",
              "      <td>8</td>\n",
              "      <td>...</td>\n",
              "      <td>4</td>\n",
              "      <td>8</td>\n",
              "      <td>6</td>\n",
              "      <td>3</td>\n",
              "      <td>100</td>\n",
              "      <td>92</td>\n",
              "      <td>70</td>\n",
              "      <td>1007</td>\n",
              "      <td>1001</td>\n",
              "      <td>997</td>\n",
              "      <td>31.0</td>\n",
              "      <td>11.0</td>\n",
              "      <td>6.0</td>\n",
              "      <td>40</td>\n",
              "      <td>23</td>\n",
              "      <td>63.0</td>\n",
              "      <td>6.10</td>\n",
              "      <td>6.0</td>\n",
              "      <td>Rain</td>\n",
              "      <td>234</td>\n",
              "      <td>Hamburg</td>\n",
              "      <td>2013</td>\n",
              "      <td>1</td>\n",
              "      <td>8387</td>\n",
              "      <td>24</td>\n",
              "      <td>8401</td>\n",
              "      <td>25</td>\n",
              "      <td>True</td>\n",
              "      <td>0</td>\n",
              "      <td>0</td>\n",
              "      <td>0</td>\n",
              "      <td>0</td>\n",
              "      <td>0</td>\n",
              "      <td>-6</td>\n",
              "      <td>1.0</td>\n",
              "      <td>1.0</td>\n",
              "      <td>0.0</td>\n",
              "      <td>4.0</td>\n",
              "      <td>1.0</td>\n",
              "      <td>1.0</td>\n",
              "    </tr>\n",
              "    <tr>\n",
              "      <th>1017208</th>\n",
              "      <td>1115</td>\n",
              "      <td>2</td>\n",
              "      <td>2013-01-01</td>\n",
              "      <td>0</td>\n",
              "      <td>0</td>\n",
              "      <td>0</td>\n",
              "      <td>0</td>\n",
              "      <td>a</td>\n",
              "      <td>1</td>\n",
              "      <td>2013</td>\n",
              "      <td>1</td>\n",
              "      <td>1</td>\n",
              "      <td>1</td>\n",
              "      <td>d</td>\n",
              "      <td>c</td>\n",
              "      <td>5350.0</td>\n",
              "      <td>1</td>\n",
              "      <td>1990</td>\n",
              "      <td>1</td>\n",
              "      <td>22</td>\n",
              "      <td>2012</td>\n",
              "      <td>Mar,Jun,Sept,Dec</td>\n",
              "      <td>1990-01-15</td>\n",
              "      <td>2012-05-28</td>\n",
              "      <td>HE</td>\n",
              "      <td>Rossmann_DE_HE</td>\n",
              "      <td>2013-01-06 - 2013-01-12</td>\n",
              "      <td>73</td>\n",
              "      <td>2013-01-06</td>\n",
              "      <td>1</td>\n",
              "      <td>6</td>\n",
              "      <td>Rossmann_DE</td>\n",
              "      <td>2013-01-06 - 2013-01-12</td>\n",
              "      <td>62</td>\n",
              "      <td>2013-01-06</td>\n",
              "      <td>None</td>\n",
              "      <td>1</td>\n",
              "      <td>6</td>\n",
              "      <td>Hessen</td>\n",
              "      <td>8</td>\n",
              "      <td>...</td>\n",
              "      <td>3</td>\n",
              "      <td>6</td>\n",
              "      <td>3</td>\n",
              "      <td>1</td>\n",
              "      <td>93</td>\n",
              "      <td>80</td>\n",
              "      <td>59</td>\n",
              "      <td>1015</td>\n",
              "      <td>1008</td>\n",
              "      <td>1006</td>\n",
              "      <td>31.0</td>\n",
              "      <td>12.0</td>\n",
              "      <td>10.0</td>\n",
              "      <td>23</td>\n",
              "      <td>14</td>\n",
              "      <td>39.0</td>\n",
              "      <td>2.03</td>\n",
              "      <td>6.0</td>\n",
              "      <td>Rain</td>\n",
              "      <td>206</td>\n",
              "      <td>Hessen</td>\n",
              "      <td>2013</td>\n",
              "      <td>1</td>\n",
              "      <td>8387</td>\n",
              "      <td>24</td>\n",
              "      <td>218</td>\n",
              "      <td>25</td>\n",
              "      <td>True</td>\n",
              "      <td>0</td>\n",
              "      <td>0</td>\n",
              "      <td>0</td>\n",
              "      <td>0</td>\n",
              "      <td>0</td>\n",
              "      <td>-6</td>\n",
              "      <td>1.0</td>\n",
              "      <td>1.0</td>\n",
              "      <td>0.0</td>\n",
              "      <td>7.0</td>\n",
              "      <td>1.0</td>\n",
              "      <td>1.0</td>\n",
              "    </tr>\n",
              "  </tbody>\n",
              "</table>\n",
              "<p>1017209 rows × 81 columns</p>\n",
              "</div>"
            ],
            "text/plain": [
              "         Store  DayOfWeek  ... StateHoliday_bool_fw  Promo_fw\n",
              "0            1          5  ...                  0.0       1.0\n",
              "1            2          5  ...                  0.0       1.0\n",
              "2            3          5  ...                  0.0       1.0\n",
              "3            4          5  ...                  0.0       1.0\n",
              "4            5          5  ...                  0.0       1.0\n",
              "...        ...        ...  ...                  ...       ...\n",
              "1017204   1111          2  ...                  1.0       1.0\n",
              "1017205   1112          2  ...                  1.0       1.0\n",
              "1017206   1113          2  ...                  1.0       1.0\n",
              "1017207   1114          2  ...                  1.0       1.0\n",
              "1017208   1115          2  ...                  1.0       1.0\n",
              "\n",
              "[1017209 rows x 81 columns]"
            ]
          },
          "metadata": {},
          "execution_count": 502
        }
      ]
    },
    {
      "cell_type": "markdown",
      "metadata": {
        "id": "OgSopkjM23RW"
      },
      "source": [
        "Abrimos los datos guardados"
      ]
    },
    {
      "cell_type": "code",
      "metadata": {
        "id": "XGl5htyQTjgh"
      },
      "source": [
        "df_train = pd.read_feather('all_preprocessed_train.fth')\n",
        "df_test = pd.read_feather('all_preprocessed_test.fth')"
      ],
      "execution_count": null,
      "outputs": []
    },
    {
      "cell_type": "code",
      "metadata": {
        "colab": {
          "base_uri": "https://localhost:8080/"
        },
        "id": "H6TBknCGUd74",
        "outputId": "bce15e7e-897e-4510-df50-fe0c8d0fb1dc"
      },
      "source": [
        "df_train.shape, df_test.shape"
      ],
      "execution_count": null,
      "outputs": [
        {
          "output_type": "execute_result",
          "data": {
            "text/plain": [
              "((1017209, 81), (41088, 80))"
            ]
          },
          "metadata": {},
          "execution_count": 504
        }
      ]
    },
    {
      "cell_type": "code",
      "metadata": {
        "colab": {
          "base_uri": "https://localhost:8080/"
        },
        "id": "aR5S2vEDUgoO",
        "outputId": "1da9ce5e-d477-4b02-a0e7-4fe63f627118"
      },
      "source": [
        "set(df_train.columns) - set(df_test.columns)"
      ],
      "execution_count": null,
      "outputs": [
        {
          "output_type": "execute_result",
          "data": {
            "text/plain": [
              "{'Customers', 'Sales'}"
            ]
          },
          "metadata": {},
          "execution_count": 505
        }
      ]
    },
    {
      "cell_type": "markdown",
      "metadata": {
        "id": "OG_yHVSWFpfl"
      },
      "source": [
        "Corroboramos que no queden NaN"
      ]
    },
    {
      "cell_type": "code",
      "metadata": {
        "colab": {
          "base_uri": "https://localhost:8080/"
        },
        "id": "kQnhIwBRUjSk",
        "outputId": "b2e8dd23-4a39-4d9c-df1f-6565d14d30c0"
      },
      "source": [
        "(df_train['CompetitionDistance'].isna()).sum()"
      ],
      "execution_count": null,
      "outputs": [
        {
          "output_type": "execute_result",
          "data": {
            "text/plain": [
              "0"
            ]
          },
          "metadata": {},
          "execution_count": 506
        }
      ]
    },
    {
      "cell_type": "markdown",
      "metadata": {
        "id": "w99ArnqXH2NC"
      },
      "source": [
        "### Variables categóricas y contínuas"
      ]
    },
    {
      "cell_type": "markdown",
      "metadata": {
        "id": "8YLFNWEdFxo2"
      },
      "source": [
        "A continuación definimos las variables categóricas"
      ]
    },
    {
      "cell_type": "code",
      "metadata": {
        "id": "KNMA6lEhUlxb"
      },
      "source": [
        "cat_vars = ['Store', 'DayOfWeek', 'Year', 'Month', 'Day', 'StateHoliday', \n",
        "            'CompetitionMonthsOpen', 'Promo2Weeks', \n",
        "            'StoreType', 'Assortment', 'PromoInterval', \n",
        "            'CompetitionOpenSinceYear', 'Promo2SinceYear', \n",
        "            'State', 'Week', 'Events', 'Promo_fw', 'Promo_bw', \n",
        "            'StateHoliday_bool_fw', 'StateHoliday_bool_bw', 'SchoolHoliday_fw', \n",
        "            'SchoolHoliday_bw']"
      ],
      "execution_count": null,
      "outputs": []
    },
    {
      "cell_type": "code",
      "metadata": {
        "colab": {
          "base_uri": "https://localhost:8080/",
          "height": 726
        },
        "id": "1mwc2g5_Un0i",
        "outputId": "47d44693-efd2-4caf-b615-fa6d178602c8"
      },
      "source": [
        "DataFrameSummary(df_train[cat_vars]).summary().loc[['uniques', 'types', 'missing']].T"
      ],
      "execution_count": null,
      "outputs": [
        {
          "output_type": "execute_result",
          "data": {
            "text/html": [
              "<div>\n",
              "<style scoped>\n",
              "    .dataframe tbody tr th:only-of-type {\n",
              "        vertical-align: middle;\n",
              "    }\n",
              "\n",
              "    .dataframe tbody tr th {\n",
              "        vertical-align: top;\n",
              "    }\n",
              "\n",
              "    .dataframe thead th {\n",
              "        text-align: right;\n",
              "    }\n",
              "</style>\n",
              "<table border=\"1\" class=\"dataframe\">\n",
              "  <thead>\n",
              "    <tr style=\"text-align: right;\">\n",
              "      <th></th>\n",
              "      <th>uniques</th>\n",
              "      <th>types</th>\n",
              "      <th>missing</th>\n",
              "    </tr>\n",
              "  </thead>\n",
              "  <tbody>\n",
              "    <tr>\n",
              "      <th>Store</th>\n",
              "      <td>1115</td>\n",
              "      <td>numeric</td>\n",
              "      <td>0</td>\n",
              "    </tr>\n",
              "    <tr>\n",
              "      <th>DayOfWeek</th>\n",
              "      <td>7</td>\n",
              "      <td>numeric</td>\n",
              "      <td>0</td>\n",
              "    </tr>\n",
              "    <tr>\n",
              "      <th>Year</th>\n",
              "      <td>3</td>\n",
              "      <td>numeric</td>\n",
              "      <td>0</td>\n",
              "    </tr>\n",
              "    <tr>\n",
              "      <th>Month</th>\n",
              "      <td>12</td>\n",
              "      <td>numeric</td>\n",
              "      <td>0</td>\n",
              "    </tr>\n",
              "    <tr>\n",
              "      <th>Day</th>\n",
              "      <td>31</td>\n",
              "      <td>numeric</td>\n",
              "      <td>0</td>\n",
              "    </tr>\n",
              "    <tr>\n",
              "      <th>StateHoliday</th>\n",
              "      <td>4</td>\n",
              "      <td>categorical</td>\n",
              "      <td>0</td>\n",
              "    </tr>\n",
              "    <tr>\n",
              "      <th>CompetitionMonthsOpen</th>\n",
              "      <td>25</td>\n",
              "      <td>numeric</td>\n",
              "      <td>0</td>\n",
              "    </tr>\n",
              "    <tr>\n",
              "      <th>Promo2Weeks</th>\n",
              "      <td>26</td>\n",
              "      <td>numeric</td>\n",
              "      <td>0</td>\n",
              "    </tr>\n",
              "    <tr>\n",
              "      <th>StoreType</th>\n",
              "      <td>4</td>\n",
              "      <td>categorical</td>\n",
              "      <td>0</td>\n",
              "    </tr>\n",
              "    <tr>\n",
              "      <th>Assortment</th>\n",
              "      <td>3</td>\n",
              "      <td>categorical</td>\n",
              "      <td>0</td>\n",
              "    </tr>\n",
              "    <tr>\n",
              "      <th>PromoInterval</th>\n",
              "      <td>4</td>\n",
              "      <td>categorical</td>\n",
              "      <td>0</td>\n",
              "    </tr>\n",
              "    <tr>\n",
              "      <th>CompetitionOpenSinceYear</th>\n",
              "      <td>21</td>\n",
              "      <td>numeric</td>\n",
              "      <td>0</td>\n",
              "    </tr>\n",
              "    <tr>\n",
              "      <th>Promo2SinceYear</th>\n",
              "      <td>8</td>\n",
              "      <td>numeric</td>\n",
              "      <td>0</td>\n",
              "    </tr>\n",
              "    <tr>\n",
              "      <th>State</th>\n",
              "      <td>12</td>\n",
              "      <td>categorical</td>\n",
              "      <td>0</td>\n",
              "    </tr>\n",
              "    <tr>\n",
              "      <th>Week</th>\n",
              "      <td>52</td>\n",
              "      <td>numeric</td>\n",
              "      <td>0</td>\n",
              "    </tr>\n",
              "    <tr>\n",
              "      <th>Events</th>\n",
              "      <td>22</td>\n",
              "      <td>categorical</td>\n",
              "      <td>0</td>\n",
              "    </tr>\n",
              "    <tr>\n",
              "      <th>Promo_fw</th>\n",
              "      <td>6</td>\n",
              "      <td>numeric</td>\n",
              "      <td>0</td>\n",
              "    </tr>\n",
              "    <tr>\n",
              "      <th>Promo_bw</th>\n",
              "      <td>6</td>\n",
              "      <td>numeric</td>\n",
              "      <td>0</td>\n",
              "    </tr>\n",
              "    <tr>\n",
              "      <th>StateHoliday_bool_fw</th>\n",
              "      <td>3</td>\n",
              "      <td>numeric</td>\n",
              "      <td>0</td>\n",
              "    </tr>\n",
              "    <tr>\n",
              "      <th>StateHoliday_bool_bw</th>\n",
              "      <td>3</td>\n",
              "      <td>numeric</td>\n",
              "      <td>0</td>\n",
              "    </tr>\n",
              "    <tr>\n",
              "      <th>SchoolHoliday_fw</th>\n",
              "      <td>8</td>\n",
              "      <td>numeric</td>\n",
              "      <td>0</td>\n",
              "    </tr>\n",
              "    <tr>\n",
              "      <th>SchoolHoliday_bw</th>\n",
              "      <td>8</td>\n",
              "      <td>numeric</td>\n",
              "      <td>0</td>\n",
              "    </tr>\n",
              "  </tbody>\n",
              "</table>\n",
              "</div>"
            ],
            "text/plain": [
              "                         uniques        types missing\n",
              "Store                       1115      numeric       0\n",
              "DayOfWeek                      7      numeric       0\n",
              "Year                           3      numeric       0\n",
              "Month                         12      numeric       0\n",
              "Day                           31      numeric       0\n",
              "StateHoliday                   4  categorical       0\n",
              "CompetitionMonthsOpen         25      numeric       0\n",
              "Promo2Weeks                   26      numeric       0\n",
              "StoreType                      4  categorical       0\n",
              "Assortment                     3  categorical       0\n",
              "PromoInterval                  4  categorical       0\n",
              "CompetitionOpenSinceYear      21      numeric       0\n",
              "Promo2SinceYear                8      numeric       0\n",
              "State                         12  categorical       0\n",
              "Week                          52      numeric       0\n",
              "Events                        22  categorical       0\n",
              "Promo_fw                       6      numeric       0\n",
              "Promo_bw                       6      numeric       0\n",
              "StateHoliday_bool_fw           3      numeric       0\n",
              "StateHoliday_bool_bw           3      numeric       0\n",
              "SchoolHoliday_fw               8      numeric       0\n",
              "SchoolHoliday_bw               8      numeric       0"
            ]
          },
          "metadata": {},
          "execution_count": 510
        }
      ]
    },
    {
      "cell_type": "markdown",
      "metadata": {
        "id": "FZ1nIq_nHbId"
      },
      "source": [
        "Reemplazamos nulls por \"  \" en categoricas\n"
      ]
    },
    {
      "cell_type": "code",
      "metadata": {
        "id": "2PX_qzsIHXc2"
      },
      "source": [
        "for v in cat_vars: df_train.loc[df_train[v].isnull(), v] = \"\"\n",
        "for v in cat_vars: df_test.loc[df_test[v].isnull(), v] = \"\""
      ],
      "execution_count": null,
      "outputs": []
    },
    {
      "cell_type": "markdown",
      "metadata": {
        "id": "dDrNdE1CGwLT"
      },
      "source": [
        "Definimos variables continuas"
      ]
    },
    {
      "cell_type": "code",
      "metadata": {
        "id": "sIEpb3vUUs3o"
      },
      "source": [
        "contin_vars = ['CompetitionDistance', \n",
        "               'Max_TemperatureC', 'Mean_TemperatureC', 'Min_TemperatureC', \n",
        "               'Precipitationmm', 'Max_Humidity', 'Mean_Humidity', 'Min_Humidity', \n",
        "               'Max_Wind_SpeedKm_h', 'Mean_Wind_SpeedKm_h', 'CloudCover', 'trend', \n",
        "               'trend_DE', 'AfterStateHoliday_bool', 'BeforeStateHoliday_bool', \n",
        "               'Promo', 'SchoolHoliday', 'StateHoliday_bool']"
      ],
      "execution_count": null,
      "outputs": []
    },
    {
      "cell_type": "code",
      "metadata": {
        "colab": {
          "base_uri": "https://localhost:8080/"
        },
        "id": "6nxF0k4rUvXY",
        "outputId": "6bb9330d-eada-434d-ae25-34760d45349a"
      },
      "source": [
        "DataFrameSummary(df_train[contin_vars]).summary().loc[['uniques', 'types', 'missing']].T"
      ],
      "execution_count": null,
      "outputs": [
        {
          "output_type": "execute_result",
          "data": {
            "text/html": [
              "<div>\n",
              "<style scoped>\n",
              "    .dataframe tbody tr th:only-of-type {\n",
              "        vertical-align: middle;\n",
              "    }\n",
              "\n",
              "    .dataframe tbody tr th {\n",
              "        vertical-align: top;\n",
              "    }\n",
              "\n",
              "    .dataframe thead th {\n",
              "        text-align: right;\n",
              "    }\n",
              "</style>\n",
              "<table border=\"1\" class=\"dataframe\">\n",
              "  <thead>\n",
              "    <tr style=\"text-align: right;\">\n",
              "      <th></th>\n",
              "      <th>uniques</th>\n",
              "      <th>types</th>\n",
              "      <th>missing</th>\n",
              "    </tr>\n",
              "  </thead>\n",
              "  <tbody>\n",
              "    <tr>\n",
              "      <th>CompetitionDistance</th>\n",
              "      <td>654</td>\n",
              "      <td>numeric</td>\n",
              "      <td>0</td>\n",
              "    </tr>\n",
              "    <tr>\n",
              "      <th>Max_TemperatureC</th>\n",
              "      <td>50</td>\n",
              "      <td>numeric</td>\n",
              "      <td>0</td>\n",
              "    </tr>\n",
              "    <tr>\n",
              "      <th>Mean_TemperatureC</th>\n",
              "      <td>45</td>\n",
              "      <td>numeric</td>\n",
              "      <td>0</td>\n",
              "    </tr>\n",
              "    <tr>\n",
              "      <th>Min_TemperatureC</th>\n",
              "      <td>40</td>\n",
              "      <td>numeric</td>\n",
              "      <td>0</td>\n",
              "    </tr>\n",
              "    <tr>\n",
              "      <th>Precipitationmm</th>\n",
              "      <td>40</td>\n",
              "      <td>numeric</td>\n",
              "      <td>0</td>\n",
              "    </tr>\n",
              "    <tr>\n",
              "      <th>Max_Humidity</th>\n",
              "      <td>52</td>\n",
              "      <td>numeric</td>\n",
              "      <td>0</td>\n",
              "    </tr>\n",
              "    <tr>\n",
              "      <th>Mean_Humidity</th>\n",
              "      <td>71</td>\n",
              "      <td>numeric</td>\n",
              "      <td>0</td>\n",
              "    </tr>\n",
              "    <tr>\n",
              "      <th>Min_Humidity</th>\n",
              "      <td>93</td>\n",
              "      <td>numeric</td>\n",
              "      <td>0</td>\n",
              "    </tr>\n",
              "    <tr>\n",
              "      <th>Max_Wind_SpeedKm_h</th>\n",
              "      <td>42</td>\n",
              "      <td>numeric</td>\n",
              "      <td>0</td>\n",
              "    </tr>\n",
              "    <tr>\n",
              "      <th>Mean_Wind_SpeedKm_h</th>\n",
              "      <td>27</td>\n",
              "      <td>numeric</td>\n",
              "      <td>0</td>\n",
              "    </tr>\n",
              "    <tr>\n",
              "      <th>CloudCover</th>\n",
              "      <td>9</td>\n",
              "      <td>numeric</td>\n",
              "      <td>0</td>\n",
              "    </tr>\n",
              "    <tr>\n",
              "      <th>trend</th>\n",
              "      <td>67</td>\n",
              "      <td>numeric</td>\n",
              "      <td>0</td>\n",
              "    </tr>\n",
              "    <tr>\n",
              "      <th>trend_DE</th>\n",
              "      <td>38</td>\n",
              "      <td>numeric</td>\n",
              "      <td>0</td>\n",
              "    </tr>\n",
              "    <tr>\n",
              "      <th>AfterStateHoliday_bool</th>\n",
              "      <td>136</td>\n",
              "      <td>numeric</td>\n",
              "      <td>0</td>\n",
              "    </tr>\n",
              "    <tr>\n",
              "      <th>BeforeStateHoliday_bool</th>\n",
              "      <td>147</td>\n",
              "      <td>numeric</td>\n",
              "      <td>0</td>\n",
              "    </tr>\n",
              "    <tr>\n",
              "      <th>Promo</th>\n",
              "      <td>2</td>\n",
              "      <td>bool</td>\n",
              "      <td>0</td>\n",
              "    </tr>\n",
              "    <tr>\n",
              "      <th>SchoolHoliday</th>\n",
              "      <td>2</td>\n",
              "      <td>bool</td>\n",
              "      <td>0</td>\n",
              "    </tr>\n",
              "    <tr>\n",
              "      <th>StateHoliday_bool</th>\n",
              "      <td>2</td>\n",
              "      <td>bool</td>\n",
              "      <td>0</td>\n",
              "    </tr>\n",
              "  </tbody>\n",
              "</table>\n",
              "</div>"
            ],
            "text/plain": [
              "                        uniques    types missing\n",
              "CompetitionDistance         654  numeric       0\n",
              "Max_TemperatureC             50  numeric       0\n",
              "Mean_TemperatureC            45  numeric       0\n",
              "Min_TemperatureC             40  numeric       0\n",
              "Precipitationmm              40  numeric       0\n",
              "Max_Humidity                 52  numeric       0\n",
              "Mean_Humidity                71  numeric       0\n",
              "Min_Humidity                 93  numeric       0\n",
              "Max_Wind_SpeedKm_h           42  numeric       0\n",
              "Mean_Wind_SpeedKm_h          27  numeric       0\n",
              "CloudCover                    9  numeric       0\n",
              "trend                        67  numeric       0\n",
              "trend_DE                     38  numeric       0\n",
              "AfterStateHoliday_bool      136  numeric       0\n",
              "BeforeStateHoliday_bool     147  numeric       0\n",
              "Promo                         2     bool       0\n",
              "SchoolHoliday                 2     bool       0\n",
              "StateHoliday_bool             2     bool       0"
            ]
          },
          "metadata": {},
          "execution_count": 220
        }
      ]
    },
    {
      "cell_type": "markdown",
      "metadata": {
        "id": "7LHUDqqFHiH8"
      },
      "source": [
        "Reemplazamos nulls por 0 en continuas"
      ]
    },
    {
      "cell_type": "code",
      "metadata": {
        "id": "ba1oXsy9Hu-0"
      },
      "source": [
        "for v in contin_vars: df_train.loc[df_train[v].isnull(), v] = 0\n",
        "for v in contin_vars: df_test.loc[df_test[v].isnull(), v] = 0"
      ],
      "execution_count": null,
      "outputs": []
    },
    {
      "cell_type": "markdown",
      "metadata": {
        "id": "ZHgaVEtBH7Zn"
      },
      "source": [
        "### Normalización en continuas y LabelEncode en Categoricas"
      ]
    },
    {
      "cell_type": "code",
      "metadata": {
        "id": "hhQO7GJ5Uw26"
      },
      "source": [
        "cat_maps = [(o, LabelEncoder()) for o in cat_vars]\n",
        "contin_maps = [([o], StandardScaler()) for o in contin_vars]"
      ],
      "execution_count": null,
      "outputs": []
    },
    {
      "cell_type": "code",
      "metadata": {
        "id": "JozU64TuU4q0"
      },
      "source": [
        "mapper_cat = DataFrameMapper(cat_maps)\n",
        "_ = mapper_cat.fit(df_train)"
      ],
      "execution_count": null,
      "outputs": []
    },
    {
      "cell_type": "code",
      "metadata": {
        "colab": {
          "base_uri": "https://localhost:8080/"
        },
        "id": "VbTzyM4SU6Mc",
        "outputId": "5d0632b6-960a-4c94-df21-595710e404a6"
      },
      "source": [
        "# Assortment es la novena posición en cat_maps\n",
        "N = 10\n",
        "print(list(zip(df_train['Assortment'].values[:N], mapper_cat.transform(df_train)[:,9][:N])))\n",
        "print(list(zip(df_train['Events'].values[:N], mapper_cat.transform(df_train)[:,15][:N])))\n",
        "print(list(zip(df_train['Year'].values[:N], mapper_cat.transform(df_train)[:,2][:N])))"
      ],
      "execution_count": null,
      "outputs": [
        {
          "output_type": "stream",
          "name": "stdout",
          "text": [
            "[('a', 0), ('a', 0), ('a', 0), ('c', 2), ('a', 0), ('a', 0), ('c', 2), ('a', 0), ('c', 2), ('a', 0)]\n",
            "[('Fog', 0), ('Fog', 0), ('Fog', 0), ('Sunny', 20), ('Sunny', 20), ('Sunny', 20), ('Rain', 10), ('Rain', 10), ('Fog', 0), ('Sunny', 20)]\n",
            "[(2015, 2), (2015, 2), (2015, 2), (2015, 2), (2015, 2), (2015, 2), (2015, 2), (2015, 2), (2015, 2), (2015, 2)]\n"
          ]
        }
      ]
    },
    {
      "cell_type": "code",
      "metadata": {
        "id": "qGjp4D73U9Ey"
      },
      "source": [
        "mapper_cont = DataFrameMapper(contin_maps)\n",
        "_ = mapper_cont.fit(df_train)"
      ],
      "execution_count": null,
      "outputs": []
    },
    {
      "cell_type": "code",
      "metadata": {
        "colab": {
          "base_uri": "https://localhost:8080/"
        },
        "id": "NJfiOPZcVAPI",
        "outputId": "1b4ced9c-295f-4572-b9a7-464f0012fd97"
      },
      "source": [
        "N = 10\n",
        "print(df_train['CompetitionDistance'].values[:N])\n",
        "print(mapper_cont.transform(df_train)[:, 0][:N])"
      ],
      "execution_count": null,
      "outputs": [
        {
          "output_type": "stream",
          "name": "stdout",
          "text": [
            "[ 1270.   570. 14130.   620. 29910.   310. 24000.  7520.  2030.  3160.]\n",
            "[-0.51104292 -0.59341201  1.00219483 -0.5875285   2.85902934 -0.62400624\n",
            "  2.16359893  0.22439533 -0.42161363 -0.28864639]\n"
          ]
        }
      ]
    },
    {
      "cell_type": "markdown",
      "metadata": {
        "id": "daVDd8Cm4RNh"
      },
      "source": [
        "La hacemos con todas ahora"
      ]
    },
    {
      "cell_type": "code",
      "metadata": {
        "id": "PJ8yldUsVBby"
      },
      "source": [
        "df_train[cat_vars] = mapper_cat.transform(df_train)\n",
        "df_test[cat_vars] = mapper_cat.transform(df_test)"
      ],
      "execution_count": null,
      "outputs": []
    },
    {
      "cell_type": "code",
      "metadata": {
        "id": "7Yh397teVDxH"
      },
      "source": [
        "df_train[contin_vars] = mapper_cont.transform(df_train)\n",
        "df_test[contin_vars] = mapper_cont.transform(df_test)"
      ],
      "execution_count": null,
      "outputs": []
    },
    {
      "cell_type": "code",
      "metadata": {
        "colab": {
          "base_uri": "https://localhost:8080/",
          "height": 588
        },
        "id": "CoFVU0u-VFZs",
        "outputId": "6ecf49fb-ec2b-4792-feac-0ffa10ba3043"
      },
      "source": [
        "df_train.head()"
      ],
      "execution_count": null,
      "outputs": [
        {
          "output_type": "execute_result",
          "data": {
            "text/html": [
              "<div>\n",
              "<style scoped>\n",
              "    .dataframe tbody tr th:only-of-type {\n",
              "        vertical-align: middle;\n",
              "    }\n",
              "\n",
              "    .dataframe tbody tr th {\n",
              "        vertical-align: top;\n",
              "    }\n",
              "\n",
              "    .dataframe thead th {\n",
              "        text-align: right;\n",
              "    }\n",
              "</style>\n",
              "<table border=\"1\" class=\"dataframe\">\n",
              "  <thead>\n",
              "    <tr style=\"text-align: right;\">\n",
              "      <th></th>\n",
              "      <th>Store</th>\n",
              "      <th>DayOfWeek</th>\n",
              "      <th>Date</th>\n",
              "      <th>Sales</th>\n",
              "      <th>Customers</th>\n",
              "      <th>Open</th>\n",
              "      <th>Promo</th>\n",
              "      <th>StateHoliday</th>\n",
              "      <th>SchoolHoliday</th>\n",
              "      <th>Year</th>\n",
              "      <th>Month</th>\n",
              "      <th>Week</th>\n",
              "      <th>Day</th>\n",
              "      <th>StoreType</th>\n",
              "      <th>Assortment</th>\n",
              "      <th>CompetitionDistance</th>\n",
              "      <th>CompetitionOpenSinceMonth</th>\n",
              "      <th>CompetitionOpenSinceYear</th>\n",
              "      <th>Promo2</th>\n",
              "      <th>Promo2SinceWeek</th>\n",
              "      <th>Promo2SinceYear</th>\n",
              "      <th>PromoInterval</th>\n",
              "      <th>CompetitionOpenSince</th>\n",
              "      <th>Promo2Since</th>\n",
              "      <th>State</th>\n",
              "      <th>file</th>\n",
              "      <th>week</th>\n",
              "      <th>trend</th>\n",
              "      <th>Date_y</th>\n",
              "      <th>Month_y</th>\n",
              "      <th>Day_y</th>\n",
              "      <th>file_DE</th>\n",
              "      <th>week_DE</th>\n",
              "      <th>trend_DE</th>\n",
              "      <th>Date_DE</th>\n",
              "      <th>State_DE</th>\n",
              "      <th>Month_DE</th>\n",
              "      <th>Day_DE</th>\n",
              "      <th>file_y</th>\n",
              "      <th>Max_TemperatureC</th>\n",
              "      <th>...</th>\n",
              "      <th>Min_TemperatureC</th>\n",
              "      <th>Dew_PointC</th>\n",
              "      <th>MeanDew_PointC</th>\n",
              "      <th>Min_DewpointC</th>\n",
              "      <th>Max_Humidity</th>\n",
              "      <th>Mean_Humidity</th>\n",
              "      <th>Min_Humidity</th>\n",
              "      <th>Max_Sea_Level_PressurehPa</th>\n",
              "      <th>Mean_Sea_Level_PressurehPa</th>\n",
              "      <th>Min_Sea_Level_PressurehPa</th>\n",
              "      <th>Max_VisibilityKm</th>\n",
              "      <th>Mean_VisibilityKm</th>\n",
              "      <th>Min_VisibilitykM</th>\n",
              "      <th>Max_Wind_SpeedKm_h</th>\n",
              "      <th>Mean_Wind_SpeedKm_h</th>\n",
              "      <th>Max_Gust_SpeedKm_h</th>\n",
              "      <th>Precipitationmm</th>\n",
              "      <th>CloudCover</th>\n",
              "      <th>Events</th>\n",
              "      <th>WindDirDegrees</th>\n",
              "      <th>StateName</th>\n",
              "      <th>Year_y</th>\n",
              "      <th>Week_y</th>\n",
              "      <th>CompetitionDaysOpen</th>\n",
              "      <th>CompetitionMonthsOpen</th>\n",
              "      <th>Promo2Days</th>\n",
              "      <th>Promo2Weeks</th>\n",
              "      <th>StateHoliday_bool</th>\n",
              "      <th>AfterSchoolHoliday</th>\n",
              "      <th>BeforeSchoolHoliday</th>\n",
              "      <th>AfterStateHoliday_bool</th>\n",
              "      <th>BeforeStateHoliday_bool</th>\n",
              "      <th>AfterPromo</th>\n",
              "      <th>BeforePromo</th>\n",
              "      <th>SchoolHoliday_bw</th>\n",
              "      <th>StateHoliday_bool_bw</th>\n",
              "      <th>Promo_bw</th>\n",
              "      <th>SchoolHoliday_fw</th>\n",
              "      <th>StateHoliday_bool_fw</th>\n",
              "      <th>Promo_fw</th>\n",
              "    </tr>\n",
              "  </thead>\n",
              "  <tbody>\n",
              "    <tr>\n",
              "      <th>0</th>\n",
              "      <td>0</td>\n",
              "      <td>4</td>\n",
              "      <td>2015-07-31</td>\n",
              "      <td>5263</td>\n",
              "      <td>555</td>\n",
              "      <td>1</td>\n",
              "      <td>1.273237</td>\n",
              "      <td>0</td>\n",
              "      <td>2.144211</td>\n",
              "      <td>2</td>\n",
              "      <td>6</td>\n",
              "      <td>30</td>\n",
              "      <td>30</td>\n",
              "      <td>2</td>\n",
              "      <td>0</td>\n",
              "      <td>-0.511043</td>\n",
              "      <td>9</td>\n",
              "      <td>13</td>\n",
              "      <td>0</td>\n",
              "      <td>1</td>\n",
              "      <td>0</td>\n",
              "      <td>0</td>\n",
              "      <td>2008-09-15</td>\n",
              "      <td>1990-01-01</td>\n",
              "      <td>4</td>\n",
              "      <td>Rossmann_DE_HE</td>\n",
              "      <td>2015-08-02 - 2015-08-08</td>\n",
              "      <td>1.744361</td>\n",
              "      <td>2015-08-02</td>\n",
              "      <td>8</td>\n",
              "      <td>2</td>\n",
              "      <td>Rossmann_DE</td>\n",
              "      <td>2015-08-02 - 2015-08-08</td>\n",
              "      <td>1.743049</td>\n",
              "      <td>2015-08-02</td>\n",
              "      <td>None</td>\n",
              "      <td>8</td>\n",
              "      <td>2</td>\n",
              "      <td>Hessen</td>\n",
              "      <td>1.024446</td>\n",
              "      <td>...</td>\n",
              "      <td>0.325047</td>\n",
              "      <td>9</td>\n",
              "      <td>6</td>\n",
              "      <td>3</td>\n",
              "      <td>0.611120</td>\n",
              "      <td>-1.510789</td>\n",
              "      <td>-1.626560</td>\n",
              "      <td>1021</td>\n",
              "      <td>1018</td>\n",
              "      <td>1015</td>\n",
              "      <td>31.0</td>\n",
              "      <td>15.0</td>\n",
              "      <td>10.0</td>\n",
              "      <td>0.148437</td>\n",
              "      <td>-0.147662</td>\n",
              "      <td>21.0</td>\n",
              "      <td>-0.315778</td>\n",
              "      <td>-1.859165</td>\n",
              "      <td>0</td>\n",
              "      <td>13</td>\n",
              "      <td>Hessen</td>\n",
              "      <td>2015</td>\n",
              "      <td>31</td>\n",
              "      <td>2510</td>\n",
              "      <td>24</td>\n",
              "      <td>9342</td>\n",
              "      <td>25</td>\n",
              "      <td>-0.177442</td>\n",
              "      <td>0</td>\n",
              "      <td>0</td>\n",
              "      <td>0.644376</td>\n",
              "      <td>1.072424</td>\n",
              "      <td>0</td>\n",
              "      <td>0</td>\n",
              "      <td>5</td>\n",
              "      <td>0</td>\n",
              "      <td>5</td>\n",
              "      <td>1</td>\n",
              "      <td>0</td>\n",
              "      <td>1</td>\n",
              "    </tr>\n",
              "    <tr>\n",
              "      <th>1</th>\n",
              "      <td>1</td>\n",
              "      <td>4</td>\n",
              "      <td>2015-07-31</td>\n",
              "      <td>6064</td>\n",
              "      <td>625</td>\n",
              "      <td>1</td>\n",
              "      <td>1.273237</td>\n",
              "      <td>0</td>\n",
              "      <td>2.144211</td>\n",
              "      <td>2</td>\n",
              "      <td>6</td>\n",
              "      <td>30</td>\n",
              "      <td>30</td>\n",
              "      <td>0</td>\n",
              "      <td>0</td>\n",
              "      <td>-0.593412</td>\n",
              "      <td>11</td>\n",
              "      <td>12</td>\n",
              "      <td>1</td>\n",
              "      <td>13</td>\n",
              "      <td>2</td>\n",
              "      <td>2</td>\n",
              "      <td>2007-11-15</td>\n",
              "      <td>2010-03-29</td>\n",
              "      <td>11</td>\n",
              "      <td>Rossmann_DE_TH</td>\n",
              "      <td>2015-08-02 - 2015-08-08</td>\n",
              "      <td>1.303439</td>\n",
              "      <td>2015-08-02</td>\n",
              "      <td>8</td>\n",
              "      <td>2</td>\n",
              "      <td>Rossmann_DE</td>\n",
              "      <td>2015-08-02 - 2015-08-08</td>\n",
              "      <td>1.743049</td>\n",
              "      <td>2015-08-02</td>\n",
              "      <td>None</td>\n",
              "      <td>8</td>\n",
              "      <td>2</td>\n",
              "      <td>Thueringen</td>\n",
              "      <td>0.551899</td>\n",
              "      <td>...</td>\n",
              "      <td>0.170242</td>\n",
              "      <td>9</td>\n",
              "      <td>6</td>\n",
              "      <td>3</td>\n",
              "      <td>0.870277</td>\n",
              "      <td>-0.905024</td>\n",
              "      <td>-1.269897</td>\n",
              "      <td>1021</td>\n",
              "      <td>1019</td>\n",
              "      <td>1017</td>\n",
              "      <td>10.0</td>\n",
              "      <td>10.0</td>\n",
              "      <td>10.0</td>\n",
              "      <td>-0.970080</td>\n",
              "      <td>-0.147662</td>\n",
              "      <td>21.0</td>\n",
              "      <td>-0.315778</td>\n",
              "      <td>-0.493858</td>\n",
              "      <td>0</td>\n",
              "      <td>309</td>\n",
              "      <td>Thueringen</td>\n",
              "      <td>2015</td>\n",
              "      <td>31</td>\n",
              "      <td>2815</td>\n",
              "      <td>24</td>\n",
              "      <td>1950</td>\n",
              "      <td>25</td>\n",
              "      <td>-0.177442</td>\n",
              "      <td>0</td>\n",
              "      <td>0</td>\n",
              "      <td>0.965073</td>\n",
              "      <td>1.072424</td>\n",
              "      <td>0</td>\n",
              "      <td>0</td>\n",
              "      <td>5</td>\n",
              "      <td>0</td>\n",
              "      <td>5</td>\n",
              "      <td>1</td>\n",
              "      <td>0</td>\n",
              "      <td>1</td>\n",
              "    </tr>\n",
              "    <tr>\n",
              "      <th>2</th>\n",
              "      <td>2</td>\n",
              "      <td>4</td>\n",
              "      <td>2015-07-31</td>\n",
              "      <td>8314</td>\n",
              "      <td>821</td>\n",
              "      <td>1</td>\n",
              "      <td>1.273237</td>\n",
              "      <td>0</td>\n",
              "      <td>2.144211</td>\n",
              "      <td>2</td>\n",
              "      <td>6</td>\n",
              "      <td>30</td>\n",
              "      <td>30</td>\n",
              "      <td>0</td>\n",
              "      <td>0</td>\n",
              "      <td>1.002195</td>\n",
              "      <td>12</td>\n",
              "      <td>11</td>\n",
              "      <td>1</td>\n",
              "      <td>14</td>\n",
              "      <td>3</td>\n",
              "      <td>2</td>\n",
              "      <td>2006-12-15</td>\n",
              "      <td>2011-04-04</td>\n",
              "      <td>6</td>\n",
              "      <td>Rossmann_DE_NW</td>\n",
              "      <td>2015-08-02 - 2015-08-08</td>\n",
              "      <td>1.832546</td>\n",
              "      <td>2015-08-02</td>\n",
              "      <td>8</td>\n",
              "      <td>2</td>\n",
              "      <td>Rossmann_DE</td>\n",
              "      <td>2015-08-02 - 2015-08-08</td>\n",
              "      <td>1.743049</td>\n",
              "      <td>2015-08-02</td>\n",
              "      <td>None</td>\n",
              "      <td>8</td>\n",
              "      <td>2</td>\n",
              "      <td>NordrheinWestfalen</td>\n",
              "      <td>0.788172</td>\n",
              "      <td>...</td>\n",
              "      <td>0.015437</td>\n",
              "      <td>10</td>\n",
              "      <td>7</td>\n",
              "      <td>4</td>\n",
              "      <td>0.870277</td>\n",
              "      <td>-0.980745</td>\n",
              "      <td>-1.320848</td>\n",
              "      <td>1022</td>\n",
              "      <td>1019</td>\n",
              "      <td>1017</td>\n",
              "      <td>31.0</td>\n",
              "      <td>14.0</td>\n",
              "      <td>10.0</td>\n",
              "      <td>-0.970080</td>\n",
              "      <td>-1.165096</td>\n",
              "      <td>21.0</td>\n",
              "      <td>-0.315778</td>\n",
              "      <td>-1.404063</td>\n",
              "      <td>0</td>\n",
              "      <td>354</td>\n",
              "      <td>NordrheinWestfalen</td>\n",
              "      <td>2015</td>\n",
              "      <td>31</td>\n",
              "      <td>3150</td>\n",
              "      <td>24</td>\n",
              "      <td>1579</td>\n",
              "      <td>25</td>\n",
              "      <td>-0.177442</td>\n",
              "      <td>0</td>\n",
              "      <td>0</td>\n",
              "      <td>0.644376</td>\n",
              "      <td>1.072424</td>\n",
              "      <td>0</td>\n",
              "      <td>0</td>\n",
              "      <td>5</td>\n",
              "      <td>0</td>\n",
              "      <td>5</td>\n",
              "      <td>1</td>\n",
              "      <td>0</td>\n",
              "      <td>1</td>\n",
              "    </tr>\n",
              "    <tr>\n",
              "      <th>3</th>\n",
              "      <td>3</td>\n",
              "      <td>4</td>\n",
              "      <td>2015-07-31</td>\n",
              "      <td>13995</td>\n",
              "      <td>1498</td>\n",
              "      <td>1</td>\n",
              "      <td>1.273237</td>\n",
              "      <td>0</td>\n",
              "      <td>2.144211</td>\n",
              "      <td>2</td>\n",
              "      <td>6</td>\n",
              "      <td>30</td>\n",
              "      <td>30</td>\n",
              "      <td>2</td>\n",
              "      <td>2</td>\n",
              "      <td>-0.587528</td>\n",
              "      <td>9</td>\n",
              "      <td>14</td>\n",
              "      <td>0</td>\n",
              "      <td>1</td>\n",
              "      <td>0</td>\n",
              "      <td>0</td>\n",
              "      <td>2009-09-15</td>\n",
              "      <td>1990-01-01</td>\n",
              "      <td>0</td>\n",
              "      <td>Rossmann_DE_BE</td>\n",
              "      <td>2015-08-02 - 2015-08-08</td>\n",
              "      <td>0.774331</td>\n",
              "      <td>2015-08-02</td>\n",
              "      <td>8</td>\n",
              "      <td>2</td>\n",
              "      <td>Rossmann_DE</td>\n",
              "      <td>2015-08-02 - 2015-08-08</td>\n",
              "      <td>1.743049</td>\n",
              "      <td>2015-08-02</td>\n",
              "      <td>None</td>\n",
              "      <td>8</td>\n",
              "      <td>2</td>\n",
              "      <td>Berlin</td>\n",
              "      <td>0.551899</td>\n",
              "      <td>...</td>\n",
              "      <td>0.479853</td>\n",
              "      <td>9</td>\n",
              "      <td>7</td>\n",
              "      <td>4</td>\n",
              "      <td>0.092806</td>\n",
              "      <td>-0.980745</td>\n",
              "      <td>-1.015137</td>\n",
              "      <td>1019</td>\n",
              "      <td>1017</td>\n",
              "      <td>1014</td>\n",
              "      <td>10.0</td>\n",
              "      <td>10.0</td>\n",
              "      <td>10.0</td>\n",
              "      <td>0.036585</td>\n",
              "      <td>0.700200</td>\n",
              "      <td>21.0</td>\n",
              "      <td>-0.315778</td>\n",
              "      <td>0.416347</td>\n",
              "      <td>20</td>\n",
              "      <td>282</td>\n",
              "      <td>Berlin</td>\n",
              "      <td>2015</td>\n",
              "      <td>31</td>\n",
              "      <td>2145</td>\n",
              "      <td>24</td>\n",
              "      <td>9342</td>\n",
              "      <td>25</td>\n",
              "      <td>-0.177442</td>\n",
              "      <td>0</td>\n",
              "      <td>0</td>\n",
              "      <td>0.965073</td>\n",
              "      <td>1.072424</td>\n",
              "      <td>0</td>\n",
              "      <td>0</td>\n",
              "      <td>5</td>\n",
              "      <td>0</td>\n",
              "      <td>5</td>\n",
              "      <td>1</td>\n",
              "      <td>0</td>\n",
              "      <td>1</td>\n",
              "    </tr>\n",
              "    <tr>\n",
              "      <th>4</th>\n",
              "      <td>4</td>\n",
              "      <td>4</td>\n",
              "      <td>2015-07-31</td>\n",
              "      <td>4822</td>\n",
              "      <td>559</td>\n",
              "      <td>1</td>\n",
              "      <td>1.273237</td>\n",
              "      <td>0</td>\n",
              "      <td>2.144211</td>\n",
              "      <td>2</td>\n",
              "      <td>6</td>\n",
              "      <td>30</td>\n",
              "      <td>30</td>\n",
              "      <td>0</td>\n",
              "      <td>0</td>\n",
              "      <td>2.859029</td>\n",
              "      <td>4</td>\n",
              "      <td>20</td>\n",
              "      <td>0</td>\n",
              "      <td>1</td>\n",
              "      <td>0</td>\n",
              "      <td>0</td>\n",
              "      <td>2015-04-15</td>\n",
              "      <td>1990-01-01</td>\n",
              "      <td>9</td>\n",
              "      <td>Rossmann_DE_SN</td>\n",
              "      <td>2015-08-02 - 2015-08-08</td>\n",
              "      <td>1.479808</td>\n",
              "      <td>2015-08-02</td>\n",
              "      <td>8</td>\n",
              "      <td>2</td>\n",
              "      <td>Rossmann_DE</td>\n",
              "      <td>2015-08-02 - 2015-08-08</td>\n",
              "      <td>1.743049</td>\n",
              "      <td>2015-08-02</td>\n",
              "      <td>None</td>\n",
              "      <td>8</td>\n",
              "      <td>2</td>\n",
              "      <td>Sachsen</td>\n",
              "      <td>0.670036</td>\n",
              "      <td>...</td>\n",
              "      <td>0.634658</td>\n",
              "      <td>8</td>\n",
              "      <td>6</td>\n",
              "      <td>5</td>\n",
              "      <td>-1.462136</td>\n",
              "      <td>-1.435069</td>\n",
              "      <td>-1.218945</td>\n",
              "      <td>1020</td>\n",
              "      <td>1018</td>\n",
              "      <td>1016</td>\n",
              "      <td>10.0</td>\n",
              "      <td>10.0</td>\n",
              "      <td>10.0</td>\n",
              "      <td>-0.970080</td>\n",
              "      <td>-0.147662</td>\n",
              "      <td>21.0</td>\n",
              "      <td>-0.315778</td>\n",
              "      <td>-0.493858</td>\n",
              "      <td>20</td>\n",
              "      <td>290</td>\n",
              "      <td>Sachsen</td>\n",
              "      <td>2015</td>\n",
              "      <td>31</td>\n",
              "      <td>107</td>\n",
              "      <td>3</td>\n",
              "      <td>9342</td>\n",
              "      <td>25</td>\n",
              "      <td>-0.177442</td>\n",
              "      <td>0</td>\n",
              "      <td>0</td>\n",
              "      <td>0.644376</td>\n",
              "      <td>1.072424</td>\n",
              "      <td>0</td>\n",
              "      <td>0</td>\n",
              "      <td>5</td>\n",
              "      <td>0</td>\n",
              "      <td>5</td>\n",
              "      <td>1</td>\n",
              "      <td>0</td>\n",
              "      <td>1</td>\n",
              "    </tr>\n",
              "  </tbody>\n",
              "</table>\n",
              "<p>5 rows × 81 columns</p>\n",
              "</div>"
            ],
            "text/plain": [
              "   Store  DayOfWeek  ... StateHoliday_bool_fw  Promo_fw\n",
              "0      0          4  ...                    0         1\n",
              "1      1          4  ...                    0         1\n",
              "2      2          4  ...                    0         1\n",
              "3      3          4  ...                    0         1\n",
              "4      4          4  ...                    0         1\n",
              "\n",
              "[5 rows x 81 columns]"
            ]
          },
          "metadata": {},
          "execution_count": 521
        }
      ]
    },
    {
      "cell_type": "code",
      "metadata": {
        "colab": {
          "base_uri": "https://localhost:8080/",
          "height": 130
        },
        "id": "mGSeQeyAVHLi",
        "outputId": "35beea3f-4664-49d0-d52d-31c66aeed105"
      },
      "source": [
        "DataFrameSummary(df_train[cat_vars]).summary().loc[['uniques', 'types']]"
      ],
      "execution_count": null,
      "outputs": [
        {
          "output_type": "execute_result",
          "data": {
            "text/html": [
              "<div>\n",
              "<style scoped>\n",
              "    .dataframe tbody tr th:only-of-type {\n",
              "        vertical-align: middle;\n",
              "    }\n",
              "\n",
              "    .dataframe tbody tr th {\n",
              "        vertical-align: top;\n",
              "    }\n",
              "\n",
              "    .dataframe thead th {\n",
              "        text-align: right;\n",
              "    }\n",
              "</style>\n",
              "<table border=\"1\" class=\"dataframe\">\n",
              "  <thead>\n",
              "    <tr style=\"text-align: right;\">\n",
              "      <th></th>\n",
              "      <th>Store</th>\n",
              "      <th>DayOfWeek</th>\n",
              "      <th>Year</th>\n",
              "      <th>Month</th>\n",
              "      <th>Day</th>\n",
              "      <th>StateHoliday</th>\n",
              "      <th>CompetitionMonthsOpen</th>\n",
              "      <th>Promo2Weeks</th>\n",
              "      <th>StoreType</th>\n",
              "      <th>Assortment</th>\n",
              "      <th>PromoInterval</th>\n",
              "      <th>CompetitionOpenSinceYear</th>\n",
              "      <th>Promo2SinceYear</th>\n",
              "      <th>State</th>\n",
              "      <th>Week</th>\n",
              "      <th>Events</th>\n",
              "      <th>Promo_fw</th>\n",
              "      <th>Promo_bw</th>\n",
              "      <th>StateHoliday_bool_fw</th>\n",
              "      <th>StateHoliday_bool_bw</th>\n",
              "      <th>SchoolHoliday_fw</th>\n",
              "      <th>SchoolHoliday_bw</th>\n",
              "    </tr>\n",
              "  </thead>\n",
              "  <tbody>\n",
              "    <tr>\n",
              "      <th>uniques</th>\n",
              "      <td>1115</td>\n",
              "      <td>7</td>\n",
              "      <td>3</td>\n",
              "      <td>12</td>\n",
              "      <td>31</td>\n",
              "      <td>4</td>\n",
              "      <td>25</td>\n",
              "      <td>26</td>\n",
              "      <td>4</td>\n",
              "      <td>3</td>\n",
              "      <td>4</td>\n",
              "      <td>21</td>\n",
              "      <td>8</td>\n",
              "      <td>12</td>\n",
              "      <td>52</td>\n",
              "      <td>22</td>\n",
              "      <td>6</td>\n",
              "      <td>6</td>\n",
              "      <td>3</td>\n",
              "      <td>3</td>\n",
              "      <td>8</td>\n",
              "      <td>8</td>\n",
              "    </tr>\n",
              "    <tr>\n",
              "      <th>types</th>\n",
              "      <td>numeric</td>\n",
              "      <td>numeric</td>\n",
              "      <td>numeric</td>\n",
              "      <td>numeric</td>\n",
              "      <td>numeric</td>\n",
              "      <td>numeric</td>\n",
              "      <td>numeric</td>\n",
              "      <td>numeric</td>\n",
              "      <td>numeric</td>\n",
              "      <td>numeric</td>\n",
              "      <td>numeric</td>\n",
              "      <td>numeric</td>\n",
              "      <td>numeric</td>\n",
              "      <td>numeric</td>\n",
              "      <td>numeric</td>\n",
              "      <td>numeric</td>\n",
              "      <td>numeric</td>\n",
              "      <td>numeric</td>\n",
              "      <td>numeric</td>\n",
              "      <td>numeric</td>\n",
              "      <td>numeric</td>\n",
              "      <td>numeric</td>\n",
              "    </tr>\n",
              "  </tbody>\n",
              "</table>\n",
              "</div>"
            ],
            "text/plain": [
              "           Store DayOfWeek  ... SchoolHoliday_fw SchoolHoliday_bw\n",
              "uniques     1115         7  ...                8                8\n",
              "types    numeric   numeric  ...          numeric          numeric\n",
              "\n",
              "[2 rows x 22 columns]"
            ]
          },
          "metadata": {},
          "execution_count": 522
        }
      ]
    },
    {
      "cell_type": "code",
      "metadata": {
        "colab": {
          "base_uri": "https://localhost:8080/"
        },
        "id": "ymkm90zvVJgz",
        "outputId": "ddbd0a49-cf13-4063-c31f-9cc911b97fba"
      },
      "source": [
        "df_train.shape"
      ],
      "execution_count": null,
      "outputs": [
        {
          "output_type": "execute_result",
          "data": {
            "text/plain": [
              "(1017209, 81)"
            ]
          },
          "metadata": {},
          "execution_count": 523
        }
      ]
    },
    {
      "cell_type": "markdown",
      "metadata": {
        "id": "eniPuYdpJDPf"
      },
      "source": [
        "Nos deshacemos de aquellos datos en los que no haya habido ventas"
      ]
    },
    {
      "cell_type": "code",
      "metadata": {
        "id": "lV3zlXbDVMFz"
      },
      "source": [
        "df_sales = df_train[df_train.Sales!=0]"
      ],
      "execution_count": null,
      "outputs": []
    },
    {
      "cell_type": "code",
      "metadata": {
        "colab": {
          "base_uri": "https://localhost:8080/"
        },
        "id": "4pNzlztlVOHU",
        "outputId": "07c2f73a-849a-467b-cbb2-ba44b95829f8"
      },
      "source": [
        "df_sales.shape"
      ],
      "execution_count": null,
      "outputs": [
        {
          "output_type": "execute_result",
          "data": {
            "text/plain": [
              "(844338, 81)"
            ]
          },
          "metadata": {},
          "execution_count": 525
        }
      ]
    },
    {
      "cell_type": "code",
      "metadata": {
        "id": "VX6k2xFHVQfg"
      },
      "source": [
        "df_test.reset_index(inplace=True)"
      ],
      "execution_count": null,
      "outputs": []
    },
    {
      "cell_type": "code",
      "metadata": {
        "id": "bEknF4NKVSll"
      },
      "source": [
        "df_sales.reset_index(inplace=True)"
      ],
      "execution_count": null,
      "outputs": []
    },
    {
      "cell_type": "markdown",
      "metadata": {
        "id": "L9cTCosDJdpy"
      },
      "source": [
        "### Guardamos datos"
      ]
    },
    {
      "cell_type": "code",
      "metadata": {
        "id": "Y2eDezZ_VUjV"
      },
      "source": [
        "df_sales.to_feather('train_normalized_data.fth')"
      ],
      "execution_count": null,
      "outputs": []
    },
    {
      "cell_type": "code",
      "metadata": {
        "id": "bMy87eCdVXEi"
      },
      "source": [
        "df_test.to_feather('test_normalized_data.fth')"
      ],
      "execution_count": null,
      "outputs": []
    },
    {
      "cell_type": "markdown",
      "metadata": {
        "id": "-FCxEIoi4nVF"
      },
      "source": [
        "Contamos la cantidad de tiendas cerradas"
      ]
    },
    {
      "cell_type": "code",
      "metadata": {
        "colab": {
          "base_uri": "https://localhost:8080/"
        },
        "id": "MQ-U8lgNVZNY",
        "outputId": "f1abbd1c-cee2-4f9c-e69e-20ee9f08359d"
      },
      "source": [
        "(df_test['Open'] == 0).sum()"
      ],
      "execution_count": null,
      "outputs": [
        {
          "output_type": "execute_result",
          "data": {
            "text/plain": [
              "5984"
            ]
          },
          "metadata": {},
          "execution_count": 530
        }
      ]
    },
    {
      "cell_type": "code",
      "metadata": {
        "colab": {
          "base_uri": "https://localhost:8080/"
        },
        "id": "9ccPiJh8VbFv",
        "outputId": "34631351-1aaf-45cf-b7f4-faee03dbed75"
      },
      "source": [
        "(df_sales['Open'] == 0).sum()"
      ],
      "execution_count": null,
      "outputs": [
        {
          "output_type": "execute_result",
          "data": {
            "text/plain": [
              "0"
            ]
          },
          "metadata": {},
          "execution_count": 531
        }
      ]
    },
    {
      "cell_type": "code",
      "metadata": {
        "colab": {
          "base_uri": "https://localhost:8080/"
        },
        "id": "52ZuHIJtVd4H",
        "outputId": "09954428-587f-420f-c25a-037c8328d03f"
      },
      "source": [
        "(df_train['CompetitionDistance'].isna()).sum()"
      ],
      "execution_count": null,
      "outputs": [
        {
          "output_type": "execute_result",
          "data": {
            "text/plain": [
              "0"
            ]
          },
          "metadata": {},
          "execution_count": 532
        }
      ]
    },
    {
      "cell_type": "markdown",
      "metadata": {
        "id": "UM8lqUjmJsE0"
      },
      "source": [
        "## Embedding"
      ]
    },
    {
      "cell_type": "markdown",
      "metadata": {
        "id": "1MrWND4j5Z19"
      },
      "source": [
        "Así como existe la capa densa, la capa de BatchNormalization, la capa de DropOut… también existe la capa de embedding.\n",
        "Esta capa de embedding va a la entrada del modelo, y se trata de una matriz cuyo objetivo es simplificar los inputs del modelo. De esta forma se ingresa a la capa de embedding con un idx, la capa selecciona la columna correspondiente, y devuelve el vector correcto.\n",
        "\n",
        "La gracia de este procedimiento es que al tener varias variables (categoricas, de bernoulli, algunas continuas normalizada, etc.), nos quedan todas las entradas conectadas completamente y simplificadas ya que se baja la dimensionalidad.\n"
      ]
    },
    {
      "cell_type": "markdown",
      "metadata": {
        "id": "eTY_slrG4xDn"
      },
      "source": [
        "Abrimos los archivos preprocesados"
      ]
    },
    {
      "cell_type": "code",
      "metadata": {
        "id": "zCnykdaGVfwK"
      },
      "source": [
        "df = pd.read_feather('train_normalized_data.fth')\n",
        "df_test = pd.read_feather('test_normalized_data.fth')"
      ],
      "execution_count": null,
      "outputs": []
    },
    {
      "cell_type": "code",
      "metadata": {
        "id": "gf85w9jdLgEY"
      },
      "source": [
        "uniques = DataFrameSummary(df[cat_vars]).summary().loc[['uniques']]"
      ],
      "execution_count": null,
      "outputs": []
    },
    {
      "cell_type": "code",
      "metadata": {
        "colab": {
          "base_uri": "https://localhost:8080/",
          "height": 100
        },
        "id": "XTQGgN4r409L",
        "outputId": "4e3786d9-47b3-45d2-a9cf-7a9ff066d9ce"
      },
      "source": [
        "uniques"
      ],
      "execution_count": null,
      "outputs": [
        {
          "output_type": "execute_result",
          "data": {
            "text/html": [
              "<div>\n",
              "<style scoped>\n",
              "    .dataframe tbody tr th:only-of-type {\n",
              "        vertical-align: middle;\n",
              "    }\n",
              "\n",
              "    .dataframe tbody tr th {\n",
              "        vertical-align: top;\n",
              "    }\n",
              "\n",
              "    .dataframe thead th {\n",
              "        text-align: right;\n",
              "    }\n",
              "</style>\n",
              "<table border=\"1\" class=\"dataframe\">\n",
              "  <thead>\n",
              "    <tr style=\"text-align: right;\">\n",
              "      <th></th>\n",
              "      <th>Store</th>\n",
              "      <th>DayOfWeek</th>\n",
              "      <th>Year</th>\n",
              "      <th>Month</th>\n",
              "      <th>Day</th>\n",
              "      <th>StateHoliday</th>\n",
              "      <th>CompetitionMonthsOpen</th>\n",
              "      <th>Promo2Weeks</th>\n",
              "      <th>StoreType</th>\n",
              "      <th>Assortment</th>\n",
              "      <th>PromoInterval</th>\n",
              "      <th>CompetitionOpenSinceYear</th>\n",
              "      <th>Promo2SinceYear</th>\n",
              "      <th>State</th>\n",
              "      <th>Week</th>\n",
              "      <th>Events</th>\n",
              "      <th>Promo_fw</th>\n",
              "      <th>Promo_bw</th>\n",
              "      <th>StateHoliday_bool_fw</th>\n",
              "      <th>StateHoliday_bool_bw</th>\n",
              "      <th>SchoolHoliday_fw</th>\n",
              "      <th>SchoolHoliday_bw</th>\n",
              "    </tr>\n",
              "  </thead>\n",
              "  <tbody>\n",
              "    <tr>\n",
              "      <th>uniques</th>\n",
              "      <td>1115</td>\n",
              "      <td>7</td>\n",
              "      <td>3</td>\n",
              "      <td>12</td>\n",
              "      <td>31</td>\n",
              "      <td>4</td>\n",
              "      <td>25</td>\n",
              "      <td>26</td>\n",
              "      <td>4</td>\n",
              "      <td>3</td>\n",
              "      <td>4</td>\n",
              "      <td>21</td>\n",
              "      <td>8</td>\n",
              "      <td>12</td>\n",
              "      <td>52</td>\n",
              "      <td>22</td>\n",
              "      <td>6</td>\n",
              "      <td>6</td>\n",
              "      <td>3</td>\n",
              "      <td>3</td>\n",
              "      <td>8</td>\n",
              "      <td>8</td>\n",
              "    </tr>\n",
              "  </tbody>\n",
              "</table>\n",
              "</div>"
            ],
            "text/plain": [
              "        Store DayOfWeek  ... SchoolHoliday_fw SchoolHoliday_bw\n",
              "uniques  1115         7  ...                8                8\n",
              "\n",
              "[1 rows x 22 columns]"
            ]
          },
          "metadata": {},
          "execution_count": 535
        }
      ]
    },
    {
      "cell_type": "markdown",
      "metadata": {
        "id": "2GOYwCaM43KR"
      },
      "source": [
        "Definimos un diccionario en el cual se establecen las dimensiones de que va a tener cada embedding de cada variable"
      ]
    },
    {
      "cell_type": "code",
      "metadata": {
        "id": "gt6B9U7CLjq1"
      },
      "source": [
        "cat_var_dict = {'Store': 50, 'DayOfWeek': 2, 'Year': 2, 'Month': 2,\n",
        "'Day': 10, 'StateHoliday': 2, 'CompetitionMonthsOpen': 2,\n",
        "'Promo2Weeks': 1, 'StoreType': 2, 'Assortment': 3, 'PromoInterval': 3,\n",
        "'CompetitionOpenSinceYear': 4, 'Promo2SinceYear': 4, 'State': 6,\n",
        "'Week': 25, 'Events': 4, 'Promo_fw': 1,\n",
        "'Promo_bw': 1, 'StateHoliday_bool_fw': 1,\n",
        "'StateHoliday_bool_bw': 1, 'SchoolHoliday_fw': 1,\n",
        "'SchoolHoliday_bw': 1}"
      ],
      "execution_count": null,
      "outputs": []
    },
    {
      "cell_type": "code",
      "metadata": {
        "colab": {
          "base_uri": "https://localhost:8080/"
        },
        "id": "uJ1-sTRWMGCz",
        "outputId": "91b936cb-bbc2-4898-cfee-9d91ab5746b1"
      },
      "source": [
        "for v in cat_vars:\n",
        "    uniques_ = df[v].unique()\n",
        "    uniques_.sort()\n",
        "    print(v, cat_var_dict[v], len(uniques_), uniques_)\n",
        "    print()"
      ],
      "execution_count": null,
      "outputs": [
        {
          "output_type": "stream",
          "name": "stdout",
          "text": [
            "Store 50 1115 [   0    1    2 ... 1112 1113 1114]\n",
            "\n",
            "DayOfWeek 2 7 [0 1 2 3 4 5 6]\n",
            "\n",
            "Year 2 3 [0 1 2]\n",
            "\n",
            "Month 2 12 [ 0  1  2  3  4  5  6  7  8  9 10 11]\n",
            "\n",
            "Day 10 31 [ 0  1  2  3  4  5  6  7  8  9 10 11 12 13 14 15 16 17 18 19 20 21 22 23\n",
            " 24 25 26 27 28 29 30]\n",
            "\n",
            "StateHoliday 2 4 [0 1 2 3]\n",
            "\n",
            "CompetitionMonthsOpen 2 25 [ 0  1  2  3  4  5  6  7  8  9 10 11 12 13 14 15 16 17 18 19 20 21 22 23\n",
            " 24]\n",
            "\n",
            "Promo2Weeks 1 26 [ 0  1  2  3  4  5  6  7  8  9 10 11 12 13 14 15 16 17 18 19 20 21 22 23\n",
            " 24 25]\n",
            "\n",
            "StoreType 2 4 [0 1 2 3]\n",
            "\n",
            "Assortment 3 3 [0 1 2]\n",
            "\n",
            "PromoInterval 3 4 [0 1 2 3]\n",
            "\n",
            "CompetitionOpenSinceYear 4 21 [ 0  1  2  3  4  5  6  7  8  9 10 11 12 13 14 15 16 17 18 19 20]\n",
            "\n",
            "Promo2SinceYear 4 8 [0 1 2 3 4 5 6 7]\n",
            "\n",
            "State 6 12 [ 0  1  2  3  4  5  6  7  8  9 10 11]\n",
            "\n",
            "Week 25 52 [ 0  1  2  3  4  5  6  7  8  9 10 11 12 13 14 15 16 17 18 19 20 21 22 23\n",
            " 24 25 26 27 28 29 30 31 32 33 34 35 36 37 38 39 40 41 42 43 44 45 46 47\n",
            " 48 49 50 51]\n",
            "\n",
            "Events 4 22 [ 0  1  2  3  4  5  6  7  8  9 10 11 12 13 14 15 16 17 18 19 20 21]\n",
            "\n",
            "Promo_fw 1 6 [0 1 2 3 4 5]\n",
            "\n",
            "Promo_bw 1 6 [0 1 2 3 4 5]\n",
            "\n",
            "StateHoliday_bool_fw 1 3 [0 1 2]\n",
            "\n",
            "StateHoliday_bool_bw 1 3 [0 1 2]\n",
            "\n",
            "SchoolHoliday_fw 1 8 [0 1 2 3 4 5 6 7]\n",
            "\n",
            "SchoolHoliday_bw 1 8 [0 1 2 3 4 5 6 7]\n",
            "\n"
          ]
        }
      ]
    },
    {
      "cell_type": "markdown",
      "metadata": {
        "id": "wECTKjkQMlnF"
      },
      "source": [
        "### Variables opcionales"
      ]
    },
    {
      "cell_type": "code",
      "metadata": {
        "id": "dDa49GcdMnTL"
      },
      "source": [
        "add_customers = True\n",
        "log_output = False\n",
        "output_activation = 'linear'"
      ],
      "execution_count": null,
      "outputs": []
    },
    {
      "cell_type": "markdown",
      "metadata": {
        "id": "PqEqF1g4MzX5"
      },
      "source": [
        "### Funciones de embedding e inputs para modelo"
      ]
    },
    {
      "cell_type": "markdown",
      "metadata": {
        "id": "DKlBTpUg67ZU"
      },
      "source": [
        "A continuación se definen dos funciones:     \n",
        "\n",
        "Por un lado se tiene *get_cat_vars_model*  que recibe como parámetros las variables categóricas, los uniques y el diccionario de las categóricas que se explicó anteriormente. \n",
        "\n",
        "Por otro lado se tiene *get_cont_vars_input* que recibe como parámetros lo que concierne a las variables contínuas.\n",
        "\n",
        "Ambas funciones tienen como objetivo definir los inputs y los outputs de cada layer de embedding que va a tener el modelo, teniendo en cuenta que la salida de una layer va a ser la entrada del siguiente. "
      ]
    },
    {
      "cell_type": "code",
      "metadata": {
        "id": "pya9ETG-MS_Y"
      },
      "source": [
        "def get_cat_vars_model(cat_vars, uniques, cat_var_dict):\n",
        "    cat_vars_embed_outs = []\n",
        "    cat_var_inputs = []\n",
        "    for cat_var in cat_vars:\n",
        "        cat_var_in = Input(shape=(1,), name=f\"{cat_var}_input\")\n",
        "        cat_var_inputs.append(cat_var_in)\n",
        "        embed_out = Embedding(uniques[cat_var][0], cat_var_dict[cat_var], name=f'{cat_var}_Embed')(cat_var_in)\n",
        "        flatten_out = Flatten(name=f\"{cat_var}_flat\")(embed_out)\n",
        "        cat_vars_embed_outs.append(flatten_out)\n",
        "    return cat_var_inputs, cat_vars_embed_outs\n",
        "\n",
        "def get_cont_vars_input(contin_vars, dense_layer=False):\n",
        "    cont_vars_inputs = []\n",
        "    cont_vars_outputs = []\n",
        "    for cont_var in contin_vars:\n",
        "        cont_var_in = Input(shape=(1,), name=f\"{cont_var}_input\")\n",
        "        cont_vars_inputs.append(cont_var_in)\n",
        "        if dense_layer:\n",
        "            cont_var_out = Dense(1, name=f\"{cont_var}_input\", activation = 'linear')(cont_var_in)\n",
        "            cont_vars_outputs.append(cont_var_out)\n",
        "        else:\n",
        "            cont_vars_outputs.append(cont_var_in)\n",
        "    return cont_vars_inputs, cont_vars_outputs"
      ],
      "execution_count": null,
      "outputs": []
    },
    {
      "cell_type": "code",
      "metadata": {
        "id": "KAzIMO4IM4ix"
      },
      "source": [
        "cat_var_inputs, cat_vars_embed_outs = get_cat_vars_model(cat_vars, uniques, cat_var_dict)\n",
        "cont_vars_inputs,  cont_vars_outs= get_cont_vars_input(contin_vars)"
      ],
      "execution_count": null,
      "outputs": []
    },
    {
      "cell_type": "markdown",
      "metadata": {
        "id": "kiJR8pX6O2Em"
      },
      "source": [
        "## Configuración de modelo"
      ]
    },
    {
      "cell_type": "markdown",
      "metadata": {
        "id": "Sym7OwYW7-Kl"
      },
      "source": [
        "Se configura un modelo con dos capas densas: una de 1000 neuronas y otra de 500 neuronas. Ambas capas trabajan con una función de activación del tipo 'relu'. Al final se tiene dos outputs (uno de ellos es opcional: customers) que corresponden a una salida lineal. \n",
        "\n",
        "Además se establece el factor de regularización L2 que es lambda. Este tiene un valor de 1e-3."
      ]
    },
    {
      "cell_type": "code",
      "metadata": {
        "id": "CGDi-OEhNFCQ"
      },
      "source": [
        "first_hidden_units = 1000\n",
        "second_hidden_units = 500\n",
        "l2_lambda = 1e-3\n",
        "merged = Concatenate(name='All_Concatenate')(cat_vars_embed_outs + cont_vars_inputs)\n",
        "x = Dense(first_hidden_units, kernel_initializer=\"uniform\", kernel_regularizer=l2(l2_lambda))(merged)\n",
        "# x = BatchNormalization()(x)\n",
        "x = Activation('relu')(x)\n",
        "# x = LeakyReLU()(x)\n",
        "x = Dense(second_hidden_units, kernel_initializer=\"uniform\", kernel_regularizer=l2(l2_lambda))(x)\n",
        "# x = BatchNormalization()(x)\n",
        "x = Activation('relu')(x)\n",
        "# x = LeakyReLU()(x)\n",
        "\n",
        "output_1 = Dense(1, name='Sales', activation=output_activation)(x)\n",
        "output_2 = Dense(1, name='Customers', activation=output_activation)(x)"
      ],
      "execution_count": null,
      "outputs": []
    },
    {
      "cell_type": "markdown",
      "metadata": {
        "id": "aVlDcBzYPEFR"
      },
      "source": [
        "Dado que se puso como variable opcional la segunda salida del modelo, definimos entonces los outputs con un if:"
      ]
    },
    {
      "cell_type": "code",
      "metadata": {
        "id": "J2SnzDpoPLUh"
      },
      "source": [
        "if add_customers:\n",
        "    model = Model(cat_var_inputs + cont_vars_inputs, [output_1, output_2])\n",
        "else: \n",
        "    model = Model(cat_var_inputs + cont_vars_inputs, [output_1])"
      ],
      "execution_count": null,
      "outputs": []
    },
    {
      "cell_type": "markdown",
      "metadata": {
        "id": "7RgTSIQkPVjR"
      },
      "source": [
        "Separamos las muestras de la base de datos en train y valid, definiendo como punto de corte la fecha 01/07/2015"
      ]
    },
    {
      "cell_type": "code",
      "metadata": {
        "colab": {
          "base_uri": "https://localhost:8080/"
        },
        "id": "cWLXBu8tPVD0",
        "outputId": "51da341b-d86b-4384-e183-3cfa38e80b2e"
      },
      "source": [
        "df_train = df[df.Date < datetime.datetime(2015, 7, 1)]  \n",
        "df_val = df[df.Date >= datetime.datetime(2015, 7, 1)]\n",
        "print(f'Cantidad en val: {len(df_val)}, porcentaje: {len(df_train)/(len(df_train) + len(df_val))}')"
      ],
      "execution_count": null,
      "outputs": [
        {
          "output_type": "stream",
          "name": "stdout",
          "text": [
            "Cantidad en val: 30188, porcentaje: 0.9642465458145908\n"
          ]
        }
      ]
    },
    {
      "cell_type": "markdown",
      "metadata": {
        "id": "OShASdOlPiGI"
      },
      "source": [
        "El 96% del dataframe es para entrenamiento y el 4% restante queda para validación"
      ]
    },
    {
      "cell_type": "markdown",
      "metadata": {
        "id": "TK4XG0myP5qd"
      },
      "source": [
        "### Agrupamientos finales al dataframe"
      ]
    },
    {
      "cell_type": "markdown",
      "metadata": {
        "id": "Z4rMM6k887M2"
      },
      "source": [
        "Agrupamos por la media de los stores"
      ]
    },
    {
      "cell_type": "code",
      "metadata": {
        "id": "eBIqlByxPtIn"
      },
      "source": [
        "stores_mean = {}\n",
        "for store, g_df in df_train.groupby('Store'):\n",
        "    stores_mean[store] = g_df[g_df['Sales'] > 0]['Sales'].mean()"
      ],
      "execution_count": null,
      "outputs": []
    },
    {
      "cell_type": "code",
      "metadata": {
        "colab": {
          "base_uri": "https://localhost:8080/"
        },
        "id": "v0uMbFO6P0l7",
        "outputId": "c3c3fb0c-9ed6-4ccb-a5d3-5b61cf76a427"
      },
      "source": [
        "df_train.loc[:, 'mean_by_store'] = df_train['Store'].apply(stores_mean.get)\n",
        "df_val.loc[:, 'mean_by_store'] = df_val['Store'].apply(stores_mean.get)\n",
        "\n",
        "df_train.loc[:, 'Sales_store'] = df_train['Sales'] - df_train['mean_by_store']\n",
        "df_val.loc[:, 'Sales_store'] = df_val['Sales'] - df_val['mean_by_store']"
      ],
      "execution_count": null,
      "outputs": [
        {
          "output_type": "stream",
          "name": "stderr",
          "text": [
            "/usr/local/lib/python3.7/dist-packages/pandas/core/indexing.py:1596: SettingWithCopyWarning: \n",
            "A value is trying to be set on a copy of a slice from a DataFrame.\n",
            "Try using .loc[row_indexer,col_indexer] = value instead\n",
            "\n",
            "See the caveats in the documentation: https://pandas.pydata.org/pandas-docs/stable/user_guide/indexing.html#returning-a-view-versus-a-copy\n",
            "  self.obj[key] = _infer_fill_value(value)\n",
            "/usr/local/lib/python3.7/dist-packages/pandas/core/indexing.py:1743: SettingWithCopyWarning: \n",
            "A value is trying to be set on a copy of a slice from a DataFrame.\n",
            "Try using .loc[row_indexer,col_indexer] = value instead\n",
            "\n",
            "See the caveats in the documentation: https://pandas.pydata.org/pandas-docs/stable/user_guide/indexing.html#returning-a-view-versus-a-copy\n",
            "  isetter(ilocs[0], value)\n"
          ]
        }
      ]
    },
    {
      "cell_type": "markdown",
      "metadata": {
        "id": "SOvqXq1d9ADq"
      },
      "source": [
        "Definimos la función sobre la que se va a evaluar la performance del modelo: *root mean square percentage error*"
      ]
    },
    {
      "cell_type": "code",
      "metadata": {
        "id": "px4ysft5P0l8"
      },
      "source": [
        "def rmspe(y_true, y_pred):\n",
        "    return K.sqrt(K.mean(K.square((y_true - y_pred)/y_true)))"
      ],
      "execution_count": null,
      "outputs": []
    },
    {
      "cell_type": "markdown",
      "metadata": {
        "id": "Fsa_PAgv9Jp-"
      },
      "source": [
        "Se define una métrica"
      ]
    },
    {
      "cell_type": "code",
      "metadata": {
        "id": "xl5QMtWAP0l9"
      },
      "source": [
        "def get_metric(df, sales_):\n",
        "    return np.sqrt((((df['Sales'] - sales_)/df['Sales'])**2).mean())"
      ],
      "execution_count": null,
      "outputs": []
    },
    {
      "cell_type": "code",
      "metadata": {
        "colab": {
          "base_uri": "https://localhost:8080/"
        },
        "id": "yz0Sc0A9P0l9",
        "outputId": "9ed476f7-3314-4da8-9597-473315f2227f"
      },
      "source": [
        "get_metric(df_val, df_val['mean_by_store'])\n"
      ],
      "execution_count": null,
      "outputs": [
        {
          "output_type": "execute_result",
          "data": {
            "text/plain": [
              "0.30717460853388645"
            ]
          },
          "metadata": {},
          "execution_count": 256
        }
      ]
    },
    {
      "cell_type": "markdown",
      "metadata": {
        "id": "7p9RBZt-9L6-"
      },
      "source": [
        "Juntamos las variables categóricas con las contínuas para definir las entradas de train, valid y test"
      ]
    },
    {
      "cell_type": "code",
      "metadata": {
        "id": "1fF95E5fP0l9"
      },
      "source": [
        "all_vars = cat_vars + contin_vars\n",
        "X_train = np.hsplit(df_train[all_vars].values, len(all_vars))\n",
        "X_val = np.hsplit(df_val[all_vars].values, len(all_vars))\n",
        "X_test = np.hsplit(df_test[all_vars].values, len(all_vars))"
      ],
      "execution_count": null,
      "outputs": []
    },
    {
      "cell_type": "markdown",
      "metadata": {
        "id": "M3mAdzwU9Tec"
      },
      "source": [
        "Nuevamente, como hay variables opcionales (customers y log_output) se trabaja con un if para definir la señal de salida"
      ]
    },
    {
      "cell_type": "code",
      "metadata": {
        "id": "7kE5zVndP0l9"
      },
      "source": [
        "if add_customers:\n",
        "    y_out_columns = ['Sales', 'Customers']\n",
        "else:\n",
        "    y_out_columns = ['Sales_store']\n",
        "    \n",
        "if log_output:\n",
        "    # Escala logaritmica\n",
        "    max_log_y = np.max(np.log(df[y_out_columns])).values\n",
        "    y_train = np.log(df_train[y_out_columns].values)/max_log_y\n",
        "    y_val = np.log(df_val[y_out_columns].values)/max_log_y\n",
        "else:\n",
        "    # Normalización\n",
        "    y_mean = df_train[y_out_columns].mean().values\n",
        "    y_std = df_train[y_out_columns].std().values\n",
        "#     y_train = (df_train[y_out_columns].values - y_mean)/y_std\n",
        "#     y_val = (df_val[y_out_columns].values - y_mean)/y_std\n",
        "    y_max = df_train[y_out_columns].max().values\n",
        "    y_train = df_train[y_out_columns].values/y_max\n",
        "    y_val = df_val[y_out_columns].values/y_max\n",
        "y_train = np.hsplit(y_train, y_train.shape[1])\n",
        "y_val = np.hsplit(y_val, y_val.shape[1])"
      ],
      "execution_count": null,
      "outputs": []
    },
    {
      "cell_type": "markdown",
      "metadata": {
        "id": "Ytg7sH7PQEGQ"
      },
      "source": [
        "### Prueba de modelo"
      ]
    },
    {
      "cell_type": "markdown",
      "metadata": {
        "id": "md_AbZjT9dMe"
      },
      "source": [
        "Compilamos el modelo. Para ello se introducen hiperparámetros y métricas para evaluar el modelo"
      ]
    },
    {
      "cell_type": "code",
      "metadata": {
        "colab": {
          "base_uri": "https://localhost:8080/"
        },
        "id": "eEfHWGwrP0l9",
        "outputId": "e514842f-b8e3-413b-c90e-b735fe353dc2"
      },
      "source": [
        "lr = 0.001\n",
        "model.compile(optimizer=Adam(lr=lr), metrics=['mse', rmspe], loss='mse')"
      ],
      "execution_count": null,
      "outputs": [
        {
          "output_type": "stream",
          "name": "stderr",
          "text": [
            "/usr/local/lib/python3.7/dist-packages/keras/optimizer_v2/optimizer_v2.py:356: UserWarning: The `lr` argument is deprecated, use `learning_rate` instead.\n",
            "  \"The `lr` argument is deprecated, use `learning_rate` instead.\")\n"
          ]
        }
      ]
    },
    {
      "cell_type": "markdown",
      "metadata": {
        "id": "zvnM1Wsu9q1E"
      },
      "source": [
        "Se define el mejor modelo"
      ]
    },
    {
      "cell_type": "code",
      "metadata": {
        "id": "L_NI7cxqP0l9"
      },
      "source": [
        "if add_customers:\n",
        "    checkpoint = ModelCheckpoint('bestmodel.hdf5', monitor='val_Sales_mse', verbose=1, save_best_only=True)\n",
        "else:\n",
        "    checkpoint = ModelCheckpoint('bestmodel.hdf5', monitor='val_loss', verbose=1, save_best_only=True)"
      ],
      "execution_count": null,
      "outputs": []
    },
    {
      "cell_type": "markdown",
      "metadata": {
        "id": "-B-5vVbH9sdw"
      },
      "source": [
        "Se realiza un fit"
      ]
    },
    {
      "cell_type": "code",
      "metadata": {
        "colab": {
          "base_uri": "https://localhost:8080/"
        },
        "id": "wWLLkMiBP0l-",
        "outputId": "812e1ad8-7862-41b6-9207-05e87b7c1586"
      },
      "source": [
        "epochs = 20\n",
        "batch_size = 256\n",
        "history = model.fit(X_train, y_train, validation_data=(X_val, y_val),  epochs=epochs, batch_size=batch_size, callbacks=[checkpoint], verbose=2)"
      ],
      "execution_count": null,
      "outputs": [
        {
          "output_type": "stream",
          "name": "stdout",
          "text": [
            "Epoch 1/20\n",
            "3181/3181 - 140s - loss: 0.0111 - Sales_loss: 0.0014 - Customers_loss: 5.4044e-04 - Sales_mse: 0.0014 - Sales_rmspe: 0.2665 - Customers_mse: 5.4044e-04 - Customers_rmspe: 0.2645 - val_loss: 0.0017 - val_Sales_loss: 0.0010 - val_Customers_loss: 4.0833e-04 - val_Sales_mse: 0.0010 - val_Sales_rmspe: 0.2370 - val_Customers_mse: 4.0833e-04 - val_Customers_rmspe: 0.2383\n",
            "\n",
            "Epoch 00001: val_Sales_mse improved from inf to 0.00101, saving model to bestmodel.hdf5\n",
            "Epoch 2/20\n",
            "3181/3181 - 119s - loss: 0.0014 - Sales_loss: 8.0567e-04 - Customers_loss: 2.8339e-04 - Sales_mse: 8.0567e-04 - Sales_rmspe: 0.2178 - Customers_mse: 2.8339e-04 - Customers_rmspe: 0.2048 - val_loss: 0.0015 - val_Sales_loss: 8.3947e-04 - val_Customers_loss: 3.6506e-04 - val_Sales_mse: 8.3947e-04 - val_Sales_rmspe: 0.1924 - val_Customers_mse: 3.6506e-04 - val_Customers_rmspe: 0.2039\n",
            "\n",
            "Epoch 00002: val_Sales_mse improved from 0.00101 to 0.00084, saving model to bestmodel.hdf5\n",
            "Epoch 3/20\n",
            "3181/3181 - 120s - loss: 0.0011 - Sales_loss: 6.6162e-04 - Customers_loss: 2.2852e-04 - Sales_mse: 6.6162e-04 - Sales_rmspe: 0.1881 - Customers_mse: 2.2852e-04 - Customers_rmspe: 0.1730 - val_loss: 0.0012 - val_Sales_loss: 7.1412e-04 - val_Customers_loss: 2.5268e-04 - val_Sales_mse: 7.1412e-04 - val_Sales_rmspe: 0.1497 - val_Customers_mse: 2.5268e-04 - val_Customers_rmspe: 0.1374\n",
            "\n",
            "Epoch 00003: val_Sales_mse improved from 0.00084 to 0.00071, saving model to bestmodel.hdf5\n",
            "Epoch 4/20\n",
            "3181/3181 - 117s - loss: 0.0010 - Sales_loss: 6.2320e-04 - Customers_loss: 2.1351e-04 - Sales_mse: 6.2320e-04 - Sales_rmspe: 0.1812 - Customers_mse: 2.1351e-04 - Customers_rmspe: 0.1662 - val_loss: 0.0012 - val_Sales_loss: 7.6901e-04 - val_Customers_loss: 2.5640e-04 - val_Sales_mse: 7.6901e-04 - val_Sales_rmspe: 0.1591 - val_Customers_mse: 2.5640e-04 - val_Customers_rmspe: 0.1454\n",
            "\n",
            "Epoch 00004: val_Sales_mse did not improve from 0.00071\n",
            "Epoch 5/20\n",
            "3181/3181 - 99s - loss: 9.7664e-04 - Sales_loss: 5.9924e-04 - Customers_loss: 2.0578e-04 - Sales_mse: 5.9924e-04 - Sales_rmspe: 0.1771 - Customers_mse: 2.0578e-04 - Customers_rmspe: 0.1621 - val_loss: 0.0012 - val_Sales_loss: 7.8479e-04 - val_Customers_loss: 2.4972e-04 - val_Sales_mse: 7.8479e-04 - val_Sales_rmspe: 0.1702 - val_Customers_mse: 2.4972e-04 - val_Customers_rmspe: 0.1469\n",
            "\n",
            "Epoch 00005: val_Sales_mse did not improve from 0.00071\n",
            "Epoch 6/20\n",
            "3181/3181 - 93s - loss: 9.4388e-04 - Sales_loss: 5.8839e-04 - Customers_loss: 2.0018e-04 - Sales_mse: 5.8839e-04 - Sales_rmspe: 0.1758 - Customers_mse: 2.0018e-04 - Customers_rmspe: 0.1602 - val_loss: 0.0012 - val_Sales_loss: 7.9620e-04 - val_Customers_loss: 2.4345e-04 - val_Sales_mse: 7.9620e-04 - val_Sales_rmspe: 0.1482 - val_Customers_mse: 2.4345e-04 - val_Customers_rmspe: 0.1343\n",
            "\n",
            "Epoch 00006: val_Sales_mse did not improve from 0.00071\n",
            "Epoch 7/20\n",
            "3181/3181 - 91s - loss: 9.1937e-04 - Sales_loss: 5.7876e-04 - Customers_loss: 1.9751e-04 - Sales_mse: 5.7876e-04 - Sales_rmspe: 0.1734 - Customers_mse: 1.9751e-04 - Customers_rmspe: 0.1578 - val_loss: 0.0011 - val_Sales_loss: 7.2530e-04 - val_Customers_loss: 2.4757e-04 - val_Sales_mse: 7.2530e-04 - val_Sales_rmspe: 0.1576 - val_Customers_mse: 2.4757e-04 - val_Customers_rmspe: 0.1379\n",
            "\n",
            "Epoch 00007: val_Sales_mse did not improve from 0.00071\n",
            "Epoch 8/20\n",
            "3181/3181 - 90s - loss: 9.0614e-04 - Sales_loss: 5.7615e-04 - Customers_loss: 1.9500e-04 - Sales_mse: 5.7615e-04 - Sales_rmspe: 0.1735 - Customers_mse: 1.9500e-04 - Customers_rmspe: 0.1566 - val_loss: 0.0011 - val_Sales_loss: 7.1760e-04 - val_Customers_loss: 2.4765e-04 - val_Sales_mse: 7.1760e-04 - val_Sales_rmspe: 0.1688 - val_Customers_mse: 2.4765e-04 - val_Customers_rmspe: 0.1608\n",
            "\n",
            "Epoch 00008: val_Sales_mse did not improve from 0.00071\n",
            "Epoch 9/20\n",
            "3181/3181 - 90s - loss: 8.9346e-04 - Sales_loss: 5.7244e-04 - Customers_loss: 1.9274e-04 - Sales_mse: 5.7244e-04 - Sales_rmspe: 0.1723 - Customers_mse: 1.9274e-04 - Customers_rmspe: 0.1553 - val_loss: 0.0010 - val_Sales_loss: 6.8088e-04 - val_Customers_loss: 2.3844e-04 - val_Sales_mse: 6.8088e-04 - val_Sales_rmspe: 0.1561 - val_Customers_mse: 2.3844e-04 - val_Customers_rmspe: 0.1366\n",
            "\n",
            "Epoch 00009: val_Sales_mse improved from 0.00071 to 0.00068, saving model to bestmodel.hdf5\n",
            "Epoch 10/20\n",
            "3181/3181 - 90s - loss: 8.8185e-04 - Sales_loss: 5.6855e-04 - Customers_loss: 1.9040e-04 - Sales_mse: 5.6855e-04 - Sales_rmspe: 0.1718 - Customers_mse: 1.9040e-04 - Customers_rmspe: 0.1543 - val_loss: 0.0011 - val_Sales_loss: 6.9094e-04 - val_Customers_loss: 2.3966e-04 - val_Sales_mse: 6.9094e-04 - val_Sales_rmspe: 0.1631 - val_Customers_mse: 2.3966e-04 - val_Customers_rmspe: 0.1501\n",
            "\n",
            "Epoch 00010: val_Sales_mse did not improve from 0.00068\n",
            "Epoch 11/20\n",
            "3181/3181 - 90s - loss: 8.7605e-04 - Sales_loss: 5.6682e-04 - Customers_loss: 1.9030e-04 - Sales_mse: 5.6682e-04 - Sales_rmspe: 0.1718 - Customers_mse: 1.9030e-04 - Customers_rmspe: 0.1545 - val_loss: 0.0010 - val_Sales_loss: 6.9772e-04 - val_Customers_loss: 2.2577e-04 - val_Sales_mse: 6.9772e-04 - val_Sales_rmspe: 0.1723 - val_Customers_mse: 2.2577e-04 - val_Customers_rmspe: 0.1415\n",
            "\n",
            "Epoch 00011: val_Sales_mse did not improve from 0.00068\n",
            "Epoch 12/20\n",
            "3181/3181 - 91s - loss: 8.6695e-04 - Sales_loss: 5.6226e-04 - Customers_loss: 1.8900e-04 - Sales_mse: 5.6226e-04 - Sales_rmspe: 0.1703 - Customers_mse: 1.8900e-04 - Customers_rmspe: 0.1535 - val_loss: 0.0011 - val_Sales_loss: 7.0899e-04 - val_Customers_loss: 2.2859e-04 - val_Sales_mse: 7.0899e-04 - val_Sales_rmspe: 0.1650 - val_Customers_mse: 2.2859e-04 - val_Customers_rmspe: 0.1352\n",
            "\n",
            "Epoch 00012: val_Sales_mse did not improve from 0.00068\n",
            "Epoch 13/20\n",
            "3181/3181 - 92s - loss: 8.6561e-04 - Sales_loss: 5.6365e-04 - Customers_loss: 1.8872e-04 - Sales_mse: 5.6365e-04 - Sales_rmspe: 0.1709 - Customers_mse: 1.8872e-04 - Customers_rmspe: 0.1540 - val_loss: 0.0010 - val_Sales_loss: 6.8466e-04 - val_Customers_loss: 2.2670e-04 - val_Sales_mse: 6.8466e-04 - val_Sales_rmspe: 0.1486 - val_Customers_mse: 2.2670e-04 - val_Customers_rmspe: 0.1335\n",
            "\n",
            "Epoch 00013: val_Sales_mse did not improve from 0.00068\n",
            "Epoch 14/20\n",
            "3181/3181 - 89s - loss: 8.5873e-04 - Sales_loss: 5.6000e-04 - Customers_loss: 1.8773e-04 - Sales_mse: 5.6000e-04 - Sales_rmspe: 0.1712 - Customers_mse: 1.8773e-04 - Customers_rmspe: 0.1542 - val_loss: 9.9662e-04 - val_Sales_loss: 6.6921e-04 - val_Customers_loss: 2.2055e-04 - val_Sales_mse: 6.6921e-04 - val_Sales_rmspe: 0.1542 - val_Customers_mse: 2.2055e-04 - val_Customers_rmspe: 0.1384\n",
            "\n",
            "Epoch 00014: val_Sales_mse improved from 0.00068 to 0.00067, saving model to bestmodel.hdf5\n",
            "Epoch 15/20\n",
            "3181/3181 - 88s - loss: 8.5382e-04 - Sales_loss: 5.5822e-04 - Customers_loss: 1.8700e-04 - Sales_mse: 5.5822e-04 - Sales_rmspe: 0.1699 - Customers_mse: 1.8700e-04 - Customers_rmspe: 0.1532 - val_loss: 0.0010 - val_Sales_loss: 7.1948e-04 - val_Customers_loss: 2.2300e-04 - val_Sales_mse: 7.1948e-04 - val_Sales_rmspe: 0.1784 - val_Customers_mse: 2.2300e-04 - val_Customers_rmspe: 0.1426\n",
            "\n",
            "Epoch 00015: val_Sales_mse did not improve from 0.00067\n",
            "Epoch 16/20\n",
            "3181/3181 - 90s - loss: 8.5030e-04 - Sales_loss: 5.5657e-04 - Customers_loss: 1.8677e-04 - Sales_mse: 5.5657e-04 - Sales_rmspe: 0.1698 - Customers_mse: 1.8677e-04 - Customers_rmspe: 0.1529 - val_loss: 9.9609e-04 - val_Sales_loss: 6.7200e-04 - val_Customers_loss: 2.1676e-04 - val_Sales_mse: 6.7200e-04 - val_Sales_rmspe: 0.1456 - val_Customers_mse: 2.1676e-04 - val_Customers_rmspe: 0.1323\n",
            "\n",
            "Epoch 00016: val_Sales_mse did not improve from 0.00067\n",
            "Epoch 17/20\n",
            "3181/3181 - 90s - loss: 8.4802e-04 - Sales_loss: 5.5619e-04 - Customers_loss: 1.8648e-04 - Sales_mse: 5.5619e-04 - Sales_rmspe: 0.1700 - Customers_mse: 1.8648e-04 - Customers_rmspe: 0.1531 - val_loss: 0.0011 - val_Sales_loss: 7.3143e-04 - val_Customers_loss: 2.2409e-04 - val_Sales_mse: 7.3143e-04 - val_Sales_rmspe: 0.1462 - val_Customers_mse: 2.2409e-04 - val_Customers_rmspe: 0.1273\n",
            "\n",
            "Epoch 00017: val_Sales_mse did not improve from 0.00067\n",
            "Epoch 18/20\n",
            "3181/3181 - 89s - loss: 8.4246e-04 - Sales_loss: 5.5330e-04 - Customers_loss: 1.8528e-04 - Sales_mse: 5.5330e-04 - Sales_rmspe: 0.1691 - Customers_mse: 1.8528e-04 - Customers_rmspe: 0.1523 - val_loss: 0.0010 - val_Sales_loss: 7.0132e-04 - val_Customers_loss: 2.2866e-04 - val_Sales_mse: 7.0132e-04 - val_Sales_rmspe: 0.1625 - val_Customers_mse: 2.2866e-04 - val_Customers_rmspe: 0.1420\n",
            "\n",
            "Epoch 00018: val_Sales_mse did not improve from 0.00067\n",
            "Epoch 19/20\n",
            "3181/3181 - 90s - loss: 8.4263e-04 - Sales_loss: 5.5405e-04 - Customers_loss: 1.8567e-04 - Sales_mse: 5.5405e-04 - Sales_rmspe: 0.1696 - Customers_mse: 1.8567e-04 - Customers_rmspe: 0.1527 - val_loss: 0.0011 - val_Sales_loss: 7.4800e-04 - val_Customers_loss: 2.6235e-04 - val_Sales_mse: 7.4800e-04 - val_Sales_rmspe: 0.1775 - val_Customers_mse: 2.6235e-04 - val_Customers_rmspe: 0.1774\n",
            "\n",
            "Epoch 00019: val_Sales_mse did not improve from 0.00067\n",
            "Epoch 20/20\n",
            "3181/3181 - 87s - loss: 8.3420e-04 - Sales_loss: 5.4818e-04 - Customers_loss: 1.8468e-04 - Sales_mse: 5.4818e-04 - Sales_rmspe: 0.1687 - Customers_mse: 1.8468e-04 - Customers_rmspe: 0.1525 - val_loss: 0.0010 - val_Sales_loss: 7.0644e-04 - val_Customers_loss: 2.2338e-04 - val_Sales_mse: 7.0644e-04 - val_Sales_rmspe: 0.1524 - val_Customers_mse: 2.2338e-04 - val_Customers_rmspe: 0.1375\n",
            "\n",
            "Epoch 00020: val_Sales_mse did not improve from 0.00067\n"
          ]
        }
      ]
    },
    {
      "cell_type": "markdown",
      "metadata": {
        "id": "rn5lX7oO9vcY"
      },
      "source": [
        "Ploteamos las métricas para ver el comportamiento"
      ]
    },
    {
      "cell_type": "code",
      "metadata": {
        "colab": {
          "base_uri": "https://localhost:8080/",
          "height": 530
        },
        "id": "8nPklfatYdGA",
        "outputId": "b7660877-c27b-437a-aff7-f23b92a4ff9c"
      },
      "source": [
        "plt.plot(history.history['val_loss'])\n",
        "plt.plot(history.history['val_Customers_mse'])\n",
        "plt.plot(history.history['val_Sales_mse'])\n",
        "plt.show()\n",
        "plt.plot(history.history['loss'])\n",
        "plt.plot(history.history['Customers_mse'])\n",
        "plt.plot(history.history['Sales_mse'])"
      ],
      "execution_count": null,
      "outputs": [
        {
          "output_type": "display_data",
          "data": {
            "image/png": "[encoded data removed]",
            "text/plain": [
              "<Figure size 432x288 with 1 Axes>"
            ]
          },
          "metadata": {
            "needs_background": "light"
          }
        },
        {
          "output_type": "execute_result",
          "data": {
            "text/plain": [
              "[<matplotlib.lines.Line2D at 0x7fe4b9c9fdd0>]"
            ]
          },
          "metadata": {},
          "execution_count": 264
        },
        {
          "output_type": "display_data",
          "data": {
            "image/png": "[encoded data removed]",
            "text/plain": [
              "<Figure size 432x288 with 1 Axes>"
            ]
          },
          "metadata": {
            "needs_background": "light"
          }
        }
      ]
    },
    {
      "cell_type": "markdown",
      "metadata": {
        "id": "aCZMRmpa91Ao"
      },
      "source": [
        "Podemos observar que a medida que aumentan las epochs (veces que se muestran los datos) el error va disminuyendo. Esto es porque se aumenta la cantidad de pasos. "
      ]
    },
    {
      "cell_type": "markdown",
      "metadata": {
        "id": "LxqfnPbdZPD5"
      },
      "source": [
        "## Métricas"
      ]
    },
    {
      "cell_type": "markdown",
      "metadata": {
        "id": "4zju5OnRaAZS"
      },
      "source": [
        "### Evaluamos modelo"
      ]
    },
    {
      "cell_type": "code",
      "metadata": {
        "colab": {
          "base_uri": "https://localhost:8080/"
        },
        "id": "fH_VTxl8ZQ_h",
        "outputId": "59232712-1977-454b-cbba-61d47faf0b75"
      },
      "source": [
        "model.evaluate(X_val, y_val)"
      ],
      "execution_count": null,
      "outputs": [
        {
          "output_type": "stream",
          "name": "stdout",
          "text": [
            "944/944 [==============================] - 5s 5ms/step - loss: 0.0010 - Sales_loss: 7.0644e-04 - Customers_loss: 2.2338e-04 - Sales_mse: 7.0644e-04 - Sales_rmspe: 0.1481 - Customers_mse: 2.2338e-04 - Customers_rmspe: 0.1333\n"
          ]
        },
        {
          "output_type": "execute_result",
          "data": {
            "text/plain": [
              "[0.0010317288106307387,\n",
              " 0.0007064368692226708,\n",
              " 0.00022337937843985856,\n",
              " 0.0007064368692226708,\n",
              " 0.14813071489334106,\n",
              " 0.00022337937843985856,\n",
              " 0.13331161439418793]"
            ]
          },
          "metadata": {},
          "execution_count": 265
        }
      ]
    },
    {
      "cell_type": "code",
      "metadata": {
        "colab": {
          "base_uri": "https://localhost:8080/"
        },
        "id": "aawedURuZwIk",
        "outputId": "f6a11c2b-2d10-4b0a-eec3-6c2dc4bbf299"
      },
      "source": [
        "model.load_weights('bestmodel.hdf5')\n",
        "model.evaluate(X_val, y_val)"
      ],
      "execution_count": null,
      "outputs": [
        {
          "output_type": "stream",
          "name": "stdout",
          "text": [
            "944/944 [==============================] - 6s 6ms/step - loss: 9.9662e-04 - Sales_loss: 6.6921e-04 - Customers_loss: 2.2055e-04 - Sales_mse: 6.6921e-04 - Sales_rmspe: 0.1495 - Customers_mse: 2.2055e-04 - Customers_rmspe: 0.1340\n"
          ]
        },
        {
          "output_type": "execute_result",
          "data": {
            "text/plain": [
              "[0.0009966244688257575,\n",
              " 0.0006692077149637043,\n",
              " 0.00022054693545214832,\n",
              " 0.0006692077149637043,\n",
              " 0.14945514500141144,\n",
              " 0.00022054693545214832,\n",
              " 0.13402022421360016]"
            ]
          },
          "metadata": {},
          "execution_count": 266
        }
      ]
    },
    {
      "cell_type": "markdown",
      "metadata": {
        "id": "TPDgGL7daD1f"
      },
      "source": [
        "### Hacemos predicts"
      ]
    },
    {
      "cell_type": "markdown",
      "metadata": {
        "id": "Mtn-nAIH-umu"
      },
      "source": [
        "Nuevamente se trabaja con ifs ya que disponemos de variables que son opcionales (la escala logarítmica y los customers)"
      ]
    },
    {
      "cell_type": "code",
      "metadata": {
        "colab": {
          "base_uri": "https://localhost:8080/"
        },
        "id": "KxsiX06MZ-UC",
        "outputId": "4180c6e1-bb8d-41aa-c64c-f4c9ee3d0964"
      },
      "source": [
        "if log_output:\n",
        "    if add_customers:\n",
        "        y_pred = np.exp(model.predict(X_val, verbose=1)[0][:, 0]*max_log_y[0])\n",
        "        y_pred_test = np.exp(model.predict(X_test, verbose=1)[0][:, 0]*max_log_y[0])\n",
        "    else:\n",
        "        y_pred = np.exp(model.predict(X_val, verbose=1)*max_log_y)[:,0]\n",
        "        y_pred_test = np.exp(model.predict(X_test, verbose=1)*max_log_y)[:,0]\n",
        "else:\n",
        "    if add_customers:\n",
        "        y_pred = (model.predict(X_val, verbose=1)[0]*y_std + y_mean)[:,0]\n",
        "        y_pred_test = (model.predict(X_test, verbose=1)[0]*y_std + y_mean)[:,0]\n",
        "    else:\n",
        "#         y_pred = model.predict(X_val, verbose=1)[:,0]*y_std + y_mean\n",
        "#         y_pred_test = model.predict(X_test, verbose=1)[:,0]*y_std + y_mean\n",
        "        y_pred = model.predict(X_val, verbose=1)[:,0]*y_max\n",
        "        y_pred_test = model.predict(X_test, verbose=1)[:,0]*y_max\n",
        "y_pred_test[df_test['Open'] == 0] = 0"
      ],
      "execution_count": null,
      "outputs": [
        {
          "output_type": "stream",
          "name": "stdout",
          "text": [
            "944/944 [==============================] - 4s 4ms/step\n",
            "1284/1284 [==============================] - 10s 8ms/step\n"
          ]
        }
      ]
    },
    {
      "cell_type": "code",
      "metadata": {
        "colab": {
          "base_uri": "https://localhost:8080/"
        },
        "id": "Cof3QlPzbLo7",
        "outputId": "dc217c7d-bff3-45f6-eb0f-00345db67535"
      },
      "source": [
        "np.sqrt((((df_val['Sales'].values - y_pred)/df_val['Sales'].values)**2).sum()/len(y_pred))"
      ],
      "execution_count": null,
      "outputs": [
        {
          "output_type": "execute_result",
          "data": {
            "text/plain": [
              "0.5828611588895133"
            ]
          },
          "metadata": {},
          "execution_count": 272
        }
      ]
    },
    {
      "cell_type": "markdown",
      "metadata": {
        "id": "jWXJU6ax_Djh"
      },
      "source": [
        "Nuevamente sacamos la media de ventas de cada Store"
      ]
    },
    {
      "cell_type": "code",
      "metadata": {
        "id": "hcUGGLziczCF"
      },
      "source": [
        "stores_mean = {}\n",
        "for store, g_df in df.groupby('Store'):\n",
        "    stores_mean[store] = g_df[g_df['Sales'] > 0]['Sales'].mean()"
      ],
      "execution_count": null,
      "outputs": []
    },
    {
      "cell_type": "markdown",
      "metadata": {
        "id": "3MfWbi4e_K_V"
      },
      "source": [
        "Se agrega la media entonces como predicción de test. Nuevamente se ponen ventas nulas para las tiendas que se encuentran cerradas."
      ]
    },
    {
      "cell_type": "code",
      "metadata": {
        "id": "OyZV1jpjc3SZ"
      },
      "source": [
        "df_test['Sales'] = df_test['Store'].apply(stores_mean.get)\n",
        "df_test.loc[df_test['Open'] == 0, 'Sales'] = 0"
      ],
      "execution_count": null,
      "outputs": []
    },
    {
      "cell_type": "code",
      "metadata": {
        "id": "7KxkQFnygRfj"
      },
      "source": [
        "sample_csv['Sales'] = df_test['Sales']"
      ],
      "execution_count": null,
      "outputs": []
    },
    {
      "cell_type": "markdown",
      "metadata": {
        "id": "9wVZTk7t_TzI"
      },
      "source": [
        "Se sube la submision"
      ]
    },
    {
      "cell_type": "code",
      "metadata": {
        "id": "lGMEn2X1gRfq"
      },
      "source": [
        "sample_csv.to_csv(f'submision_baseline.csv', index=False)"
      ],
      "execution_count": null,
      "outputs": []
    },
    {
      "cell_type": "markdown",
      "metadata": {
        "id": "n-AFlQCnh_L7"
      },
      "source": [
        "## Submission"
      ]
    },
    {
      "cell_type": "markdown",
      "metadata": {
        "id": "5SBqMOZv_ZOp"
      },
      "source": [
        "Ahora realizamos las predicciones con test y se sube lo obtenido"
      ]
    },
    {
      "cell_type": "code",
      "metadata": {
        "id": "QZSR2b0pgRfq"
      },
      "source": [
        "sample_csv = pd.read_csv('sample_submission.csv')\n",
        "sample_csv['Sales'] = y_pred_test\n",
        "sample_csv.head()\n",
        "\n",
        "sample_csv.to_csv(f'submision_{add_customers}-{log_output}-{output_activation}-{l2_lambda}-{first_hidden_units}-{epochs}-{batch_size}-{lr}.csv', index=False)"
      ],
      "execution_count": null,
      "outputs": []
    },
    {
      "cell_type": "markdown",
      "metadata": {
        "id": "pCw8BjAM_gnT"
      },
      "source": [
        "## Analisis de embedding"
      ]
    },
    {
      "cell_type": "markdown",
      "metadata": {
        "id": "qd6bKRb6AIVI"
      },
      "source": [
        "Dado que el embedding muestra relación entre datos, se procede a graficar."
      ]
    },
    {
      "cell_type": "markdown",
      "metadata": {
        "id": "Ht36aZS__lhJ"
      },
      "source": [
        "A continuación se grafican los pesos de los embeddings para analizar aquellos casos en los que se encuentran pocas variables"
      ]
    },
    {
      "cell_type": "code",
      "metadata": {
        "id": "w0_10K3gh5OE"
      },
      "source": [
        "def plot_embed(layer_name, cat_names):\n",
        "    Y = model.get_layer(layer_name).get_weights()[0]\n",
        "    print(Y.shape)\n",
        "    plt.figure(figsize=(8,8))\n",
        "    plt.scatter(-Y[:, 0], -Y[:, 1])\n",
        "    for i, txt in enumerate(cat_names):\n",
        "        plt.annotate(txt, (-Y[i, 0],-Y[i, 1]), xytext = (-5, 8), textcoords = 'offset points')"
      ],
      "execution_count": null,
      "outputs": []
    },
    {
      "cell_type": "code",
      "metadata": {
        "colab": {
          "base_uri": "https://localhost:8080/",
          "height": 500
        },
        "id": "TdlMJfRah5OF",
        "outputId": "7a7cb687-eb61-4244-cfa8-1a0c248cd1ed"
      },
      "source": [
        "model.load_weights('bestmodel.hdf5')\n",
        "plot_embed('DayOfWeek_Embed', ['Mon', 'Tue', 'Wed', 'Thu', 'Fri', 'Sat','Sun'])"
      ],
      "execution_count": null,
      "outputs": [
        {
          "output_type": "stream",
          "name": "stdout",
          "text": [
            "(7, 2)\n"
          ]
        },
        {
          "output_type": "display_data",
          "data": {
            "image/png": "[encoded data removed]",
            "text/plain": [
              "<Figure size 576x576 with 1 Axes>"
            ]
          },
          "metadata": {
            "needs_background": "light"
          }
        }
      ]
    },
    {
      "cell_type": "markdown",
      "metadata": {
        "id": "u9kXxqAR_6c4"
      },
      "source": [
        "Si graficamos los embeddings de los días de la semana vemos que los días hábiles se encuentran bastante cerca, y el resto de los días tienen otro tipo de comportamiento."
      ]
    },
    {
      "cell_type": "code",
      "metadata": {
        "colab": {
          "base_uri": "https://localhost:8080/",
          "height": 500
        },
        "id": "E3-MD6uyh5OG",
        "outputId": "a0d005d2-c6d9-4ecd-e96b-eebcddf331f4"
      },
      "source": [
        "plot_embed('Month_Embed', list(range(12)))"
      ],
      "execution_count": null,
      "outputs": [
        {
          "output_type": "stream",
          "name": "stdout",
          "text": [
            "(12, 2)\n"
          ]
        },
        {
          "output_type": "display_data",
          "data": {
            "image/png": "[encoded data removed]",
            "text/plain": [
              "<Figure size 576x576 with 1 Axes>"
            ]
          },
          "metadata": {
            "needs_background": "light"
          }
        }
      ]
    },
    {
      "cell_type": "code",
      "metadata": {
        "colab": {
          "base_uri": "https://localhost:8080/"
        },
        "id": "JkPGAlJ5h5OG",
        "outputId": "b70f9c0f-058e-458b-efb3-442d60f63f04"
      },
      "source": [
        "cat_vars_embed_outs[2].shape"
      ],
      "execution_count": null,
      "outputs": [
        {
          "output_type": "execute_result",
          "data": {
            "text/plain": [
              "TensorShape([None, 2])"
            ]
          },
          "metadata": {},
          "execution_count": 297
        }
      ]
    },
    {
      "cell_type": "code",
      "metadata": {
        "colab": {
          "base_uri": "https://localhost:8080/"
        },
        "id": "BzXU0BHtrWiQ",
        "outputId": "d97606fd-6acb-45ef-c1e9-94c0a2cc9def"
      },
      "source": [
        "model.summary()"
      ],
      "execution_count": null,
      "outputs": [
        {
          "output_type": "stream",
          "name": "stdout",
          "text": [
            "Model: \"model\"\n",
            "__________________________________________________________________________________________________\n",
            "Layer (type)                    Output Shape         Param #     Connected to                     \n",
            "==================================================================================================\n",
            "Store_input (InputLayer)        [(None, 1)]          0                                            \n",
            "__________________________________________________________________________________________________\n",
            "DayOfWeek_input (InputLayer)    [(None, 1)]          0                                            \n",
            "__________________________________________________________________________________________________\n",
            "Year_input (InputLayer)         [(None, 1)]          0                                            \n",
            "__________________________________________________________________________________________________\n",
            "Month_input (InputLayer)        [(None, 1)]          0                                            \n",
            "__________________________________________________________________________________________________\n",
            "Day_input (InputLayer)          [(None, 1)]          0                                            \n",
            "__________________________________________________________________________________________________\n",
            "StateHoliday_input (InputLayer) [(None, 1)]          0                                            \n",
            "__________________________________________________________________________________________________\n",
            "CompetitionMonthsOpen_input (In [(None, 1)]          0                                            \n",
            "__________________________________________________________________________________________________\n",
            "Promo2Weeks_input (InputLayer)  [(None, 1)]          0                                            \n",
            "__________________________________________________________________________________________________\n",
            "StoreType_input (InputLayer)    [(None, 1)]          0                                            \n",
            "__________________________________________________________________________________________________\n",
            "Assortment_input (InputLayer)   [(None, 1)]          0                                            \n",
            "__________________________________________________________________________________________________\n",
            "PromoInterval_input (InputLayer [(None, 1)]          0                                            \n",
            "__________________________________________________________________________________________________\n",
            "CompetitionOpenSinceYear_input  [(None, 1)]          0                                            \n",
            "__________________________________________________________________________________________________\n",
            "Promo2SinceYear_input (InputLay [(None, 1)]          0                                            \n",
            "__________________________________________________________________________________________________\n",
            "State_input (InputLayer)        [(None, 1)]          0                                            \n",
            "__________________________________________________________________________________________________\n",
            "Week_input (InputLayer)         [(None, 1)]          0                                            \n",
            "__________________________________________________________________________________________________\n",
            "Events_input (InputLayer)       [(None, 1)]          0                                            \n",
            "__________________________________________________________________________________________________\n",
            "Promo_fw_input (InputLayer)     [(None, 1)]          0                                            \n",
            "__________________________________________________________________________________________________\n",
            "Promo_bw_input (InputLayer)     [(None, 1)]          0                                            \n",
            "__________________________________________________________________________________________________\n",
            "StateHoliday_bool_fw_input (Inp [(None, 1)]          0                                            \n",
            "__________________________________________________________________________________________________\n",
            "StateHoliday_bool_bw_input (Inp [(None, 1)]          0                                            \n",
            "__________________________________________________________________________________________________\n",
            "SchoolHoliday_fw_input (InputLa [(None, 1)]          0                                            \n",
            "__________________________________________________________________________________________________\n",
            "SchoolHoliday_bw_input (InputLa [(None, 1)]          0                                            \n",
            "__________________________________________________________________________________________________\n",
            "Store_Embed (Embedding)         (None, 1, 50)        55750       Store_input[0][0]                \n",
            "__________________________________________________________________________________________________\n",
            "DayOfWeek_Embed (Embedding)     (None, 1, 2)         14          DayOfWeek_input[0][0]            \n",
            "__________________________________________________________________________________________________\n",
            "Year_Embed (Embedding)          (None, 1, 2)         6           Year_input[0][0]                 \n",
            "__________________________________________________________________________________________________\n",
            "Month_Embed (Embedding)         (None, 1, 2)         24          Month_input[0][0]                \n",
            "__________________________________________________________________________________________________\n",
            "Day_Embed (Embedding)           (None, 1, 10)        310         Day_input[0][0]                  \n",
            "__________________________________________________________________________________________________\n",
            "StateHoliday_Embed (Embedding)  (None, 1, 2)         8           StateHoliday_input[0][0]         \n",
            "__________________________________________________________________________________________________\n",
            "CompetitionMonthsOpen_Embed (Em (None, 1, 2)         50          CompetitionMonthsOpen_input[0][0]\n",
            "__________________________________________________________________________________________________\n",
            "Promo2Weeks_Embed (Embedding)   (None, 1, 1)         26          Promo2Weeks_input[0][0]          \n",
            "__________________________________________________________________________________________________\n",
            "StoreType_Embed (Embedding)     (None, 1, 2)         8           StoreType_input[0][0]            \n",
            "__________________________________________________________________________________________________\n",
            "Assortment_Embed (Embedding)    (None, 1, 3)         9           Assortment_input[0][0]           \n",
            "__________________________________________________________________________________________________\n",
            "PromoInterval_Embed (Embedding) (None, 1, 3)         12          PromoInterval_input[0][0]        \n",
            "__________________________________________________________________________________________________\n",
            "CompetitionOpenSinceYear_Embed  (None, 1, 4)         84          CompetitionOpenSinceYear_input[0]\n",
            "__________________________________________________________________________________________________\n",
            "Promo2SinceYear_Embed (Embeddin (None, 1, 4)         32          Promo2SinceYear_input[0][0]      \n",
            "__________________________________________________________________________________________________\n",
            "State_Embed (Embedding)         (None, 1, 6)         72          State_input[0][0]                \n",
            "__________________________________________________________________________________________________\n",
            "Week_Embed (Embedding)          (None, 1, 25)        1300        Week_input[0][0]                 \n",
            "__________________________________________________________________________________________________\n",
            "Events_Embed (Embedding)        (None, 1, 4)         88          Events_input[0][0]               \n",
            "__________________________________________________________________________________________________\n",
            "Promo_fw_Embed (Embedding)      (None, 1, 1)         6           Promo_fw_input[0][0]             \n",
            "__________________________________________________________________________________________________\n",
            "Promo_bw_Embed (Embedding)      (None, 1, 1)         6           Promo_bw_input[0][0]             \n",
            "__________________________________________________________________________________________________\n",
            "StateHoliday_bool_fw_Embed (Emb (None, 1, 1)         3           StateHoliday_bool_fw_input[0][0] \n",
            "__________________________________________________________________________________________________\n",
            "StateHoliday_bool_bw_Embed (Emb (None, 1, 1)         3           StateHoliday_bool_bw_input[0][0] \n",
            "__________________________________________________________________________________________________\n",
            "SchoolHoliday_fw_Embed (Embeddi (None, 1, 1)         8           SchoolHoliday_fw_input[0][0]     \n",
            "__________________________________________________________________________________________________\n",
            "SchoolHoliday_bw_Embed (Embeddi (None, 1, 1)         8           SchoolHoliday_bw_input[0][0]     \n",
            "__________________________________________________________________________________________________\n",
            "Store_flat (Flatten)            (None, 50)           0           Store_Embed[0][0]                \n",
            "__________________________________________________________________________________________________\n",
            "DayOfWeek_flat (Flatten)        (None, 2)            0           DayOfWeek_Embed[0][0]            \n",
            "__________________________________________________________________________________________________\n",
            "Year_flat (Flatten)             (None, 2)            0           Year_Embed[0][0]                 \n",
            "__________________________________________________________________________________________________\n",
            "Month_flat (Flatten)            (None, 2)            0           Month_Embed[0][0]                \n",
            "__________________________________________________________________________________________________\n",
            "Day_flat (Flatten)              (None, 10)           0           Day_Embed[0][0]                  \n",
            "__________________________________________________________________________________________________\n",
            "StateHoliday_flat (Flatten)     (None, 2)            0           StateHoliday_Embed[0][0]         \n",
            "__________________________________________________________________________________________________\n",
            "CompetitionMonthsOpen_flat (Fla (None, 2)            0           CompetitionMonthsOpen_Embed[0][0]\n",
            "__________________________________________________________________________________________________\n",
            "Promo2Weeks_flat (Flatten)      (None, 1)            0           Promo2Weeks_Embed[0][0]          \n",
            "__________________________________________________________________________________________________\n",
            "StoreType_flat (Flatten)        (None, 2)            0           StoreType_Embed[0][0]            \n",
            "__________________________________________________________________________________________________\n",
            "Assortment_flat (Flatten)       (None, 3)            0           Assortment_Embed[0][0]           \n",
            "__________________________________________________________________________________________________\n",
            "PromoInterval_flat (Flatten)    (None, 3)            0           PromoInterval_Embed[0][0]        \n",
            "__________________________________________________________________________________________________\n",
            "CompetitionOpenSinceYear_flat ( (None, 4)            0           CompetitionOpenSinceYear_Embed[0]\n",
            "__________________________________________________________________________________________________\n",
            "Promo2SinceYear_flat (Flatten)  (None, 4)            0           Promo2SinceYear_Embed[0][0]      \n",
            "__________________________________________________________________________________________________\n",
            "State_flat (Flatten)            (None, 6)            0           State_Embed[0][0]                \n",
            "__________________________________________________________________________________________________\n",
            "Week_flat (Flatten)             (None, 25)           0           Week_Embed[0][0]                 \n",
            "__________________________________________________________________________________________________\n",
            "Events_flat (Flatten)           (None, 4)            0           Events_Embed[0][0]               \n",
            "__________________________________________________________________________________________________\n",
            "Promo_fw_flat (Flatten)         (None, 1)            0           Promo_fw_Embed[0][0]             \n",
            "__________________________________________________________________________________________________\n",
            "Promo_bw_flat (Flatten)         (None, 1)            0           Promo_bw_Embed[0][0]             \n",
            "__________________________________________________________________________________________________\n",
            "StateHoliday_bool_fw_flat (Flat (None, 1)            0           StateHoliday_bool_fw_Embed[0][0] \n",
            "__________________________________________________________________________________________________\n",
            "StateHoliday_bool_bw_flat (Flat (None, 1)            0           StateHoliday_bool_bw_Embed[0][0] \n",
            "__________________________________________________________________________________________________\n",
            "SchoolHoliday_fw_flat (Flatten) (None, 1)            0           SchoolHoliday_fw_Embed[0][0]     \n",
            "__________________________________________________________________________________________________\n",
            "SchoolHoliday_bw_flat (Flatten) (None, 1)            0           SchoolHoliday_bw_Embed[0][0]     \n",
            "__________________________________________________________________________________________________\n",
            "CompetitionDistance_input (Inpu [(None, 1)]          0                                            \n",
            "__________________________________________________________________________________________________\n",
            "Max_TemperatureC_input (InputLa [(None, 1)]          0                                            \n",
            "__________________________________________________________________________________________________\n",
            "Mean_TemperatureC_input (InputL [(None, 1)]          0                                            \n",
            "__________________________________________________________________________________________________\n",
            "Min_TemperatureC_input (InputLa [(None, 1)]          0                                            \n",
            "__________________________________________________________________________________________________\n",
            "Precipitationmm_input (InputLay [(None, 1)]          0                                            \n",
            "__________________________________________________________________________________________________\n",
            "Max_Humidity_input (InputLayer) [(None, 1)]          0                                            \n",
            "__________________________________________________________________________________________________\n",
            "Mean_Humidity_input (InputLayer [(None, 1)]          0                                            \n",
            "__________________________________________________________________________________________________\n",
            "Min_Humidity_input (InputLayer) [(None, 1)]          0                                            \n",
            "__________________________________________________________________________________________________\n",
            "Max_Wind_SpeedKm_h_input (Input [(None, 1)]          0                                            \n",
            "__________________________________________________________________________________________________\n",
            "Mean_Wind_SpeedKm_h_input (Inpu [(None, 1)]          0                                            \n",
            "__________________________________________________________________________________________________\n",
            "CloudCover_input (InputLayer)   [(None, 1)]          0                                            \n",
            "__________________________________________________________________________________________________\n",
            "trend_input (InputLayer)        [(None, 1)]          0                                            \n",
            "__________________________________________________________________________________________________\n",
            "trend_DE_input (InputLayer)     [(None, 1)]          0                                            \n",
            "__________________________________________________________________________________________________\n",
            "AfterStateHoliday_bool_input (I [(None, 1)]          0                                            \n",
            "__________________________________________________________________________________________________\n",
            "BeforeStateHoliday_bool_input ( [(None, 1)]          0                                            \n",
            "__________________________________________________________________________________________________\n",
            "Promo_input (InputLayer)        [(None, 1)]          0                                            \n",
            "__________________________________________________________________________________________________\n",
            "SchoolHoliday_input (InputLayer [(None, 1)]          0                                            \n",
            "__________________________________________________________________________________________________\n",
            "StateHoliday_bool_input (InputL [(None, 1)]          0                                            \n",
            "__________________________________________________________________________________________________\n",
            "All_Concatenate (Concatenate)   (None, 146)          0           Store_flat[0][0]                 \n",
            "                                                                 DayOfWeek_flat[0][0]             \n",
            "                                                                 Year_flat[0][0]                  \n",
            "                                                                 Month_flat[0][0]                 \n",
            "                                                                 Day_flat[0][0]                   \n",
            "                                                                 StateHoliday_flat[0][0]          \n",
            "                                                                 CompetitionMonthsOpen_flat[0][0] \n",
            "                                                                 Promo2Weeks_flat[0][0]           \n",
            "                                                                 StoreType_flat[0][0]             \n",
            "                                                                 Assortment_flat[0][0]            \n",
            "                                                                 PromoInterval_flat[0][0]         \n",
            "                                                                 CompetitionOpenSinceYear_flat[0][\n",
            "                                                                 Promo2SinceYear_flat[0][0]       \n",
            "                                                                 State_flat[0][0]                 \n",
            "                                                                 Week_flat[0][0]                  \n",
            "                                                                 Events_flat[0][0]                \n",
            "                                                                 Promo_fw_flat[0][0]              \n",
            "                                                                 Promo_bw_flat[0][0]              \n",
            "                                                                 StateHoliday_bool_fw_flat[0][0]  \n",
            "                                                                 StateHoliday_bool_bw_flat[0][0]  \n",
            "                                                                 SchoolHoliday_fw_flat[0][0]      \n",
            "                                                                 SchoolHoliday_bw_flat[0][0]      \n",
            "                                                                 CompetitionDistance_input[0][0]  \n",
            "                                                                 Max_TemperatureC_input[0][0]     \n",
            "                                                                 Mean_TemperatureC_input[0][0]    \n",
            "                                                                 Min_TemperatureC_input[0][0]     \n",
            "                                                                 Precipitationmm_input[0][0]      \n",
            "                                                                 Max_Humidity_input[0][0]         \n",
            "                                                                 Mean_Humidity_input[0][0]        \n",
            "                                                                 Min_Humidity_input[0][0]         \n",
            "                                                                 Max_Wind_SpeedKm_h_input[0][0]   \n",
            "                                                                 Mean_Wind_SpeedKm_h_input[0][0]  \n",
            "                                                                 CloudCover_input[0][0]           \n",
            "                                                                 trend_input[0][0]                \n",
            "                                                                 trend_DE_input[0][0]             \n",
            "                                                                 AfterStateHoliday_bool_input[0][0\n",
            "                                                                 BeforeStateHoliday_bool_input[0][\n",
            "                                                                 Promo_input[0][0]                \n",
            "                                                                 SchoolHoliday_input[0][0]        \n",
            "                                                                 StateHoliday_bool_input[0][0]    \n",
            "__________________________________________________________________________________________________\n",
            "dense (Dense)                   (None, 1000)         147000      All_Concatenate[0][0]            \n",
            "__________________________________________________________________________________________________\n",
            "activation (Activation)         (None, 1000)         0           dense[0][0]                      \n",
            "__________________________________________________________________________________________________\n",
            "dense_1 (Dense)                 (None, 500)          500500      activation[0][0]                 \n",
            "__________________________________________________________________________________________________\n",
            "activation_1 (Activation)       (None, 500)          0           dense_1[0][0]                    \n",
            "__________________________________________________________________________________________________\n",
            "Sales (Dense)                   (None, 1)            501         activation_1[0][0]               \n",
            "__________________________________________________________________________________________________\n",
            "Customers (Dense)               (None, 1)            501         activation_1[0][0]               \n",
            "==================================================================================================\n",
            "Total params: 706,329\n",
            "Trainable params: 706,329\n",
            "Non-trainable params: 0\n",
            "__________________________________________________________________________________________________\n"
          ]
        }
      ]
    },
    {
      "cell_type": "code",
      "metadata": {
        "colab": {
          "base_uri": "https://localhost:8080/"
        },
        "id": "MD9mQ-9ctcfd",
        "outputId": "1cece3c9-6064-4f3b-e580-667ca588cdd0"
      },
      "source": [
        "layer = model.get_layer('DayOfWeek_Embed')\n",
        "print(layer.input_shape)\n",
        "print(layer.output_shape)\n",
        "print(layer.variables)\n",
        "day_of_week_embedding = layer.get_weights()[0]\n",
        "day_of_week_embedding\n",
        "print(day_of_week_embedding.shape)"
      ],
      "execution_count": null,
      "outputs": [
        {
          "output_type": "stream",
          "name": "stdout",
          "text": [
            "(None, 1)\n",
            "(None, 1, 2)\n",
            "[<tf.Variable 'DayOfWeek_Embed/embeddings:0' shape=(7, 2) dtype=float32, numpy=\n",
            "array([[-0.06131281,  1.9153717 ],\n",
            "       [ 1.3029325 ,  0.03428087],\n",
            "       [ 1.5004903 , -0.4065249 ],\n",
            "       [ 1.618711  , -0.26259708],\n",
            "       [ 1.1575167 ,  0.6741691 ],\n",
            "       [-2.957564  , -4.7286053 ],\n",
            "       [-0.7720979 , -0.4081697 ]], dtype=float32)>]\n",
            "(7, 2)\n"
          ]
        }
      ]
    },
    {
      "cell_type": "code",
      "metadata": {
        "colab": {
          "base_uri": "https://localhost:8080/",
          "height": 483
        },
        "id": "pQPzJpPYh5OH",
        "outputId": "2e87b600-7804-4a28-b7d8-33d6cd6e5869"
      },
      "source": [
        "tsne = TSNE(n_components=2, random_state=1, learning_rate=10, n_iter=10000)\n",
        "Y = tsne.fit_transform(day_of_week_embedding)\n",
        "names = ['Mon', 'Tue', 'Wed', 'Thu', 'Fri', 'Sat','Sun']\n",
        "plt.figure(figsize=(8,8))\n",
        "plt.scatter(-Y[:, 0], -Y[:, 1])\n",
        "for i, txt in enumerate(names):\n",
        "    plt.annotate(txt, (-Y[i, 0],-Y[i, 1]), xytext = (-5, 8), textcoords = 'offset points')"
      ],
      "execution_count": null,
      "outputs": [
        {
          "output_type": "display_data",
          "data": {
            "image/png": "[encoded data removed]",
            "text/plain": [
              "<Figure size 576x576 with 1 Axes>"
            ]
          },
          "metadata": {
            "needs_background": "light"
          }
        }
      ]
    },
    {
      "cell_type": "code",
      "metadata": {
        "colab": {
          "base_uri": "https://localhost:8080/"
        },
        "id": "98nTgCZth5OH",
        "outputId": "b1404fd6-4efe-409b-a5e8-f6d052d4a1f9"
      },
      "source": [
        "cat_vars"
      ],
      "execution_count": null,
      "outputs": [
        {
          "output_type": "execute_result",
          "data": {
            "text/plain": [
              "['Store',\n",
              " 'DayOfWeek',\n",
              " 'Year',\n",
              " 'Month',\n",
              " 'Day',\n",
              " 'StateHoliday',\n",
              " 'CompetitionMonthsOpen',\n",
              " 'Promo2Weeks',\n",
              " 'StoreType',\n",
              " 'Assortment',\n",
              " 'PromoInterval',\n",
              " 'CompetitionOpenSinceYear',\n",
              " 'Promo2SinceYear',\n",
              " 'State',\n",
              " 'Week',\n",
              " 'Events',\n",
              " 'Promo_fw',\n",
              " 'Promo_bw',\n",
              " 'StateHoliday_bool_fw',\n",
              " 'StateHoliday_bool_bw',\n",
              " 'SchoolHoliday_fw',\n",
              " 'SchoolHoliday_bw']"
            ]
          },
          "metadata": {},
          "execution_count": 322
        }
      ]
    },
    {
      "cell_type": "code",
      "metadata": {
        "id": "MHSGcXpSh5OH"
      },
      "source": [
        "submodel = Model(cat_var_inputs + cont_vars_inputs, merged)"
      ],
      "execution_count": null,
      "outputs": []
    },
    {
      "cell_type": "code",
      "metadata": {
        "colab": {
          "base_uri": "https://localhost:8080/"
        },
        "id": "mA8AhYCCh5OI",
        "outputId": "b4b8d228-0441-4629-ee5c-5e5b4672faeb"
      },
      "source": [
        "submodel.summary()"
      ],
      "execution_count": null,
      "outputs": [
        {
          "output_type": "stream",
          "name": "stdout",
          "text": [
            "Model: \"model_1\"\n",
            "__________________________________________________________________________________________________\n",
            "Layer (type)                    Output Shape         Param #     Connected to                     \n",
            "==================================================================================================\n",
            "Store_input (InputLayer)        [(None, 1)]          0                                            \n",
            "__________________________________________________________________________________________________\n",
            "DayOfWeek_input (InputLayer)    [(None, 1)]          0                                            \n",
            "__________________________________________________________________________________________________\n",
            "Year_input (InputLayer)         [(None, 1)]          0                                            \n",
            "__________________________________________________________________________________________________\n",
            "Month_input (InputLayer)        [(None, 1)]          0                                            \n",
            "__________________________________________________________________________________________________\n",
            "Day_input (InputLayer)          [(None, 1)]          0                                            \n",
            "__________________________________________________________________________________________________\n",
            "StateHoliday_input (InputLayer) [(None, 1)]          0                                            \n",
            "__________________________________________________________________________________________________\n",
            "CompetitionMonthsOpen_input (In [(None, 1)]          0                                            \n",
            "__________________________________________________________________________________________________\n",
            "Promo2Weeks_input (InputLayer)  [(None, 1)]          0                                            \n",
            "__________________________________________________________________________________________________\n",
            "StoreType_input (InputLayer)    [(None, 1)]          0                                            \n",
            "__________________________________________________________________________________________________\n",
            "Assortment_input (InputLayer)   [(None, 1)]          0                                            \n",
            "__________________________________________________________________________________________________\n",
            "PromoInterval_input (InputLayer [(None, 1)]          0                                            \n",
            "__________________________________________________________________________________________________\n",
            "CompetitionOpenSinceYear_input  [(None, 1)]          0                                            \n",
            "__________________________________________________________________________________________________\n",
            "Promo2SinceYear_input (InputLay [(None, 1)]          0                                            \n",
            "__________________________________________________________________________________________________\n",
            "State_input (InputLayer)        [(None, 1)]          0                                            \n",
            "__________________________________________________________________________________________________\n",
            "Week_input (InputLayer)         [(None, 1)]          0                                            \n",
            "__________________________________________________________________________________________________\n",
            "Events_input (InputLayer)       [(None, 1)]          0                                            \n",
            "__________________________________________________________________________________________________\n",
            "Promo_fw_input (InputLayer)     [(None, 1)]          0                                            \n",
            "__________________________________________________________________________________________________\n",
            "Promo_bw_input (InputLayer)     [(None, 1)]          0                                            \n",
            "__________________________________________________________________________________________________\n",
            "StateHoliday_bool_fw_input (Inp [(None, 1)]          0                                            \n",
            "__________________________________________________________________________________________________\n",
            "StateHoliday_bool_bw_input (Inp [(None, 1)]          0                                            \n",
            "__________________________________________________________________________________________________\n",
            "SchoolHoliday_fw_input (InputLa [(None, 1)]          0                                            \n",
            "__________________________________________________________________________________________________\n",
            "SchoolHoliday_bw_input (InputLa [(None, 1)]          0                                            \n",
            "__________________________________________________________________________________________________\n",
            "Store_Embed (Embedding)         (None, 1, 50)        55750       Store_input[0][0]                \n",
            "__________________________________________________________________________________________________\n",
            "DayOfWeek_Embed (Embedding)     (None, 1, 2)         14          DayOfWeek_input[0][0]            \n",
            "__________________________________________________________________________________________________\n",
            "Year_Embed (Embedding)          (None, 1, 2)         6           Year_input[0][0]                 \n",
            "__________________________________________________________________________________________________\n",
            "Month_Embed (Embedding)         (None, 1, 2)         24          Month_input[0][0]                \n",
            "__________________________________________________________________________________________________\n",
            "Day_Embed (Embedding)           (None, 1, 10)        310         Day_input[0][0]                  \n",
            "__________________________________________________________________________________________________\n",
            "StateHoliday_Embed (Embedding)  (None, 1, 2)         8           StateHoliday_input[0][0]         \n",
            "__________________________________________________________________________________________________\n",
            "CompetitionMonthsOpen_Embed (Em (None, 1, 2)         50          CompetitionMonthsOpen_input[0][0]\n",
            "__________________________________________________________________________________________________\n",
            "Promo2Weeks_Embed (Embedding)   (None, 1, 1)         26          Promo2Weeks_input[0][0]          \n",
            "__________________________________________________________________________________________________\n",
            "StoreType_Embed (Embedding)     (None, 1, 2)         8           StoreType_input[0][0]            \n",
            "__________________________________________________________________________________________________\n",
            "Assortment_Embed (Embedding)    (None, 1, 3)         9           Assortment_input[0][0]           \n",
            "__________________________________________________________________________________________________\n",
            "PromoInterval_Embed (Embedding) (None, 1, 3)         12          PromoInterval_input[0][0]        \n",
            "__________________________________________________________________________________________________\n",
            "CompetitionOpenSinceYear_Embed  (None, 1, 4)         84          CompetitionOpenSinceYear_input[0]\n",
            "__________________________________________________________________________________________________\n",
            "Promo2SinceYear_Embed (Embeddin (None, 1, 4)         32          Promo2SinceYear_input[0][0]      \n",
            "__________________________________________________________________________________________________\n",
            "State_Embed (Embedding)         (None, 1, 6)         72          State_input[0][0]                \n",
            "__________________________________________________________________________________________________\n",
            "Week_Embed (Embedding)          (None, 1, 25)        1300        Week_input[0][0]                 \n",
            "__________________________________________________________________________________________________\n",
            "Events_Embed (Embedding)        (None, 1, 4)         88          Events_input[0][0]               \n",
            "__________________________________________________________________________________________________\n",
            "Promo_fw_Embed (Embedding)      (None, 1, 1)         6           Promo_fw_input[0][0]             \n",
            "__________________________________________________________________________________________________\n",
            "Promo_bw_Embed (Embedding)      (None, 1, 1)         6           Promo_bw_input[0][0]             \n",
            "__________________________________________________________________________________________________\n",
            "StateHoliday_bool_fw_Embed (Emb (None, 1, 1)         3           StateHoliday_bool_fw_input[0][0] \n",
            "__________________________________________________________________________________________________\n",
            "StateHoliday_bool_bw_Embed (Emb (None, 1, 1)         3           StateHoliday_bool_bw_input[0][0] \n",
            "__________________________________________________________________________________________________\n",
            "SchoolHoliday_fw_Embed (Embeddi (None, 1, 1)         8           SchoolHoliday_fw_input[0][0]     \n",
            "__________________________________________________________________________________________________\n",
            "SchoolHoliday_bw_Embed (Embeddi (None, 1, 1)         8           SchoolHoliday_bw_input[0][0]     \n",
            "__________________________________________________________________________________________________\n",
            "Store_flat (Flatten)            (None, 50)           0           Store_Embed[0][0]                \n",
            "__________________________________________________________________________________________________\n",
            "DayOfWeek_flat (Flatten)        (None, 2)            0           DayOfWeek_Embed[0][0]            \n",
            "__________________________________________________________________________________________________\n",
            "Year_flat (Flatten)             (None, 2)            0           Year_Embed[0][0]                 \n",
            "__________________________________________________________________________________________________\n",
            "Month_flat (Flatten)            (None, 2)            0           Month_Embed[0][0]                \n",
            "__________________________________________________________________________________________________\n",
            "Day_flat (Flatten)              (None, 10)           0           Day_Embed[0][0]                  \n",
            "__________________________________________________________________________________________________\n",
            "StateHoliday_flat (Flatten)     (None, 2)            0           StateHoliday_Embed[0][0]         \n",
            "__________________________________________________________________________________________________\n",
            "CompetitionMonthsOpen_flat (Fla (None, 2)            0           CompetitionMonthsOpen_Embed[0][0]\n",
            "__________________________________________________________________________________________________\n",
            "Promo2Weeks_flat (Flatten)      (None, 1)            0           Promo2Weeks_Embed[0][0]          \n",
            "__________________________________________________________________________________________________\n",
            "StoreType_flat (Flatten)        (None, 2)            0           StoreType_Embed[0][0]            \n",
            "__________________________________________________________________________________________________\n",
            "Assortment_flat (Flatten)       (None, 3)            0           Assortment_Embed[0][0]           \n",
            "__________________________________________________________________________________________________\n",
            "PromoInterval_flat (Flatten)    (None, 3)            0           PromoInterval_Embed[0][0]        \n",
            "__________________________________________________________________________________________________\n",
            "CompetitionOpenSinceYear_flat ( (None, 4)            0           CompetitionOpenSinceYear_Embed[0]\n",
            "__________________________________________________________________________________________________\n",
            "Promo2SinceYear_flat (Flatten)  (None, 4)            0           Promo2SinceYear_Embed[0][0]      \n",
            "__________________________________________________________________________________________________\n",
            "State_flat (Flatten)            (None, 6)            0           State_Embed[0][0]                \n",
            "__________________________________________________________________________________________________\n",
            "Week_flat (Flatten)             (None, 25)           0           Week_Embed[0][0]                 \n",
            "__________________________________________________________________________________________________\n",
            "Events_flat (Flatten)           (None, 4)            0           Events_Embed[0][0]               \n",
            "__________________________________________________________________________________________________\n",
            "Promo_fw_flat (Flatten)         (None, 1)            0           Promo_fw_Embed[0][0]             \n",
            "__________________________________________________________________________________________________\n",
            "Promo_bw_flat (Flatten)         (None, 1)            0           Promo_bw_Embed[0][0]             \n",
            "__________________________________________________________________________________________________\n",
            "StateHoliday_bool_fw_flat (Flat (None, 1)            0           StateHoliday_bool_fw_Embed[0][0] \n",
            "__________________________________________________________________________________________________\n",
            "StateHoliday_bool_bw_flat (Flat (None, 1)            0           StateHoliday_bool_bw_Embed[0][0] \n",
            "__________________________________________________________________________________________________\n",
            "SchoolHoliday_fw_flat (Flatten) (None, 1)            0           SchoolHoliday_fw_Embed[0][0]     \n",
            "__________________________________________________________________________________________________\n",
            "SchoolHoliday_bw_flat (Flatten) (None, 1)            0           SchoolHoliday_bw_Embed[0][0]     \n",
            "__________________________________________________________________________________________________\n",
            "CompetitionDistance_input (Inpu [(None, 1)]          0                                            \n",
            "__________________________________________________________________________________________________\n",
            "Max_TemperatureC_input (InputLa [(None, 1)]          0                                            \n",
            "__________________________________________________________________________________________________\n",
            "Mean_TemperatureC_input (InputL [(None, 1)]          0                                            \n",
            "__________________________________________________________________________________________________\n",
            "Min_TemperatureC_input (InputLa [(None, 1)]          0                                            \n",
            "__________________________________________________________________________________________________\n",
            "Precipitationmm_input (InputLay [(None, 1)]          0                                            \n",
            "__________________________________________________________________________________________________\n",
            "Max_Humidity_input (InputLayer) [(None, 1)]          0                                            \n",
            "__________________________________________________________________________________________________\n",
            "Mean_Humidity_input (InputLayer [(None, 1)]          0                                            \n",
            "__________________________________________________________________________________________________\n",
            "Min_Humidity_input (InputLayer) [(None, 1)]          0                                            \n",
            "__________________________________________________________________________________________________\n",
            "Max_Wind_SpeedKm_h_input (Input [(None, 1)]          0                                            \n",
            "__________________________________________________________________________________________________\n",
            "Mean_Wind_SpeedKm_h_input (Inpu [(None, 1)]          0                                            \n",
            "__________________________________________________________________________________________________\n",
            "CloudCover_input (InputLayer)   [(None, 1)]          0                                            \n",
            "__________________________________________________________________________________________________\n",
            "trend_input (InputLayer)        [(None, 1)]          0                                            \n",
            "__________________________________________________________________________________________________\n",
            "trend_DE_input (InputLayer)     [(None, 1)]          0                                            \n",
            "__________________________________________________________________________________________________\n",
            "AfterStateHoliday_bool_input (I [(None, 1)]          0                                            \n",
            "__________________________________________________________________________________________________\n",
            "BeforeStateHoliday_bool_input ( [(None, 1)]          0                                            \n",
            "__________________________________________________________________________________________________\n",
            "Promo_input (InputLayer)        [(None, 1)]          0                                            \n",
            "__________________________________________________________________________________________________\n",
            "SchoolHoliday_input (InputLayer [(None, 1)]          0                                            \n",
            "__________________________________________________________________________________________________\n",
            "StateHoliday_bool_input (InputL [(None, 1)]          0                                            \n",
            "__________________________________________________________________________________________________\n",
            "All_Concatenate (Concatenate)   (None, 146)          0           Store_flat[0][0]                 \n",
            "                                                                 DayOfWeek_flat[0][0]             \n",
            "                                                                 Year_flat[0][0]                  \n",
            "                                                                 Month_flat[0][0]                 \n",
            "                                                                 Day_flat[0][0]                   \n",
            "                                                                 StateHoliday_flat[0][0]          \n",
            "                                                                 CompetitionMonthsOpen_flat[0][0] \n",
            "                                                                 Promo2Weeks_flat[0][0]           \n",
            "                                                                 StoreType_flat[0][0]             \n",
            "                                                                 Assortment_flat[0][0]            \n",
            "                                                                 PromoInterval_flat[0][0]         \n",
            "                                                                 CompetitionOpenSinceYear_flat[0][\n",
            "                                                                 Promo2SinceYear_flat[0][0]       \n",
            "                                                                 State_flat[0][0]                 \n",
            "                                                                 Week_flat[0][0]                  \n",
            "                                                                 Events_flat[0][0]                \n",
            "                                                                 Promo_fw_flat[0][0]              \n",
            "                                                                 Promo_bw_flat[0][0]              \n",
            "                                                                 StateHoliday_bool_fw_flat[0][0]  \n",
            "                                                                 StateHoliday_bool_bw_flat[0][0]  \n",
            "                                                                 SchoolHoliday_fw_flat[0][0]      \n",
            "                                                                 SchoolHoliday_bw_flat[0][0]      \n",
            "                                                                 CompetitionDistance_input[0][0]  \n",
            "                                                                 Max_TemperatureC_input[0][0]     \n",
            "                                                                 Mean_TemperatureC_input[0][0]    \n",
            "                                                                 Min_TemperatureC_input[0][0]     \n",
            "                                                                 Precipitationmm_input[0][0]      \n",
            "                                                                 Max_Humidity_input[0][0]         \n",
            "                                                                 Mean_Humidity_input[0][0]        \n",
            "                                                                 Min_Humidity_input[0][0]         \n",
            "                                                                 Max_Wind_SpeedKm_h_input[0][0]   \n",
            "                                                                 Mean_Wind_SpeedKm_h_input[0][0]  \n",
            "                                                                 CloudCover_input[0][0]           \n",
            "                                                                 trend_input[0][0]                \n",
            "                                                                 trend_DE_input[0][0]             \n",
            "                                                                 AfterStateHoliday_bool_input[0][0\n",
            "                                                                 BeforeStateHoliday_bool_input[0][\n",
            "                                                                 Promo_input[0][0]                \n",
            "                                                                 SchoolHoliday_input[0][0]        \n",
            "                                                                 StateHoliday_bool_input[0][0]    \n",
            "==================================================================================================\n",
            "Total params: 57,827\n",
            "Trainable params: 57,827\n",
            "Non-trainable params: 0\n",
            "__________________________________________________________________________________________________\n"
          ]
        }
      ]
    },
    {
      "cell_type": "code",
      "metadata": {
        "colab": {
          "base_uri": "https://localhost:8080/"
        },
        "id": "SGfeKdnah5OI",
        "outputId": "6cf6a625-a22e-4923-ded8-de54d85e8a2c"
      },
      "source": [
        "submodel.save('embeddings_model.hdf5')"
      ],
      "execution_count": null,
      "outputs": [
        {
          "output_type": "stream",
          "name": "stdout",
          "text": [
            "WARNING:tensorflow:Compiled the loaded model, but the compiled metrics have yet to be built. `model.compile_metrics` will be empty until you train or evaluate the model.\n"
          ]
        }
      ]
    },
    {
      "cell_type": "markdown",
      "metadata": {
        "id": "wY3OWqC_CMmT"
      },
      "source": [
        "## RESULTADO"
      ]
    },
    {
      "cell_type": "markdown",
      "metadata": {
        "id": "GrMIpT7uCO92"
      },
      "source": [
        "Se realizó el submit a la competencia de Kaggle y se obtuvo el siguiente resultado: \n",
        "\n",
        "![Submit de kaggle.jpg](data:image/jpeg;base64,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)"
      ]
    },
    {
      "cell_type": "markdown",
      "metadata": {
        "id": "NeYZtFfVfdLx"
      },
      "source": [
        "## CONCLUSIONES"
      ]
    },
    {
      "cell_type": "markdown",
      "metadata": {
        "id": "UFuR67STfe88"
      },
      "source": [
        "Como conclusión se puede decir que los procedimientos para realizar predicciones sobre bases de datos son muy amplios. En este caso se procedió a comentar el modelo otorgado por la cátedra. Sin embargo, la performance del submit no dio un valor tan bueno como el esperado. Esto se puede modificar de varias formas:    \n",
        "\n",
        "Por un lado no se optó por utilizar ninguno de los datos externos para el entrenamiento de la red neuronal. Esto podría haber mejorado en forma significativa los resultados ya que agrega más variables de estudio para el algoritmo.\n",
        "\n",
        "Por otro lado, se cuenta con variables opcionales: customers y la salida en escala logarítmica. Jugando con estos valores es probable que se obtengan resultados diferentes. \n",
        "\n",
        "Además se podría haber jugado también con los hiperparámetros: cantidad de neuronas de la red, el valor de regularización L2, la cantidad de epochs, de batch_size, entre otros. \n",
        "\n",
        "También se podría haber agregado un dropout.\n",
        "\n",
        "Por último, en un análisis más profundo, se podría haber evaluado alguna métrica como el índice de Jaccard, entre los datos de los clusters que quedaron.\n",
        "\n",
        "Sin embargo se aprendió que la técnica de embedding resulta muy eficiente a la hora de trabajar con bases de datos, y que combinarla con otro modelo resulta beneficioso.\n",
        "\n",
        "\n"
      ]
    }
  ]
}